{
 "cells": [
  {
   "cell_type": "code",
   "execution_count": 1,
   "id": "226fba3b-0d17-4e96-9571-15aab8d878f4",
   "metadata": {
    "editable": true,
    "slideshow": {
     "slide_type": ""
    },
    "tags": []
   },
   "outputs": [
    {
     "name": "stdout",
     "output_type": "stream",
     "text": [
      "Automatic calling is: Full\n"
     ]
    }
   ],
   "source": [
    "%autocall 2"
   ]
  },
  {
   "cell_type": "code",
   "execution_count": 3,
   "id": "2af8e559-2404-4ca4-94e4-4f92b68cbd4d",
   "metadata": {},
   "outputs": [],
   "source": [
    "import pymeshlab as pml\n",
    "import os\n",
    "\n",
    "import numpy as np\n",
    "\n",
    "from sklearn import manifold\n",
    "\n",
    "import matplotlib.pyplot as plt\n",
    "import matplotlib as mpl\n",
    "\n",
    "import gc"
   ]
  },
  {
   "cell_type": "code",
   "execution_count": 17,
   "id": "fe236e3f-07d6-4376-945c-1ed30eb0ab15",
   "metadata": {},
   "outputs": [],
   "source": [
    "import ipython_memory_usage"
   ]
  },
  {
   "cell_type": "code",
   "execution_count": 18,
   "id": "813657fc-8f6e-4c45-8fbc-60ecdf314a1a",
   "metadata": {},
   "outputs": [
    {
     "data": {
      "text/plain": [
       "'memory profile enabled'"
      ]
     },
     "execution_count": 18,
     "metadata": {},
     "output_type": "execute_result"
    },
    {
     "name": "stdout",
     "output_type": "stream",
     "text": [
      "In [18] used 10.4414 MiB RAM in 9.35s, peaked 0.00 MiB above current, total RAM usage 186.22 MiB\n"
     ]
    }
   ],
   "source": [
    "%ipython_memory_usage_start"
   ]
  },
  {
   "cell_type": "code",
   "execution_count": 4,
   "id": "aba23c85-acd1-495d-a259-c54c973c9f34",
   "metadata": {},
   "outputs": [
    {
     "name": "stdout",
     "output_type": "stream",
     "text": [
      "Available matplotlib backends: ['tk', 'gtk', 'gtk3', 'gtk4', 'wx', 'qt4', 'qt5', 'qt6', 'qt', 'osx', 'nbagg', 'webagg', 'notebook', 'agg', 'svg', 'pdf', 'ps', 'inline', 'ipympl', 'widget']\n"
     ]
    }
   ],
   "source": [
    "%matplotlib -l"
   ]
  },
  {
   "cell_type": "code",
   "execution_count": 5,
   "id": "d9d8324c-2d04-4b34-82da-940cf256c445",
   "metadata": {},
   "outputs": [],
   "source": [
    "%matplotlib ipympl"
   ]
  },
  {
   "cell_type": "code",
   "execution_count": 6,
   "id": "7b2c7111-24ae-42fc-8a89-e0e62afa5343",
   "metadata": {},
   "outputs": [],
   "source": [
    "mpl.interactive(False)\n",
    "plt.interactive(False)"
   ]
  },
  {
   "cell_type": "code",
   "execution_count": 7,
   "id": "0bd228a4-3ada-4372-9174-4107ae8b1794",
   "metadata": {},
   "outputs": [
    {
     "data": {
      "text/plain": [
       "'C:\\\\Users\\\\m142519\\\\Desktop\\\\Jupyter Notebooks'"
      ]
     },
     "execution_count": 7,
     "metadata": {},
     "output_type": "execute_result"
    }
   ],
   "source": [
    "pwd"
   ]
  },
  {
   "cell_type": "code",
   "execution_count": 12,
   "id": "7411b934-36ff-47ec-9437-25c7b55db6d1",
   "metadata": {},
   "outputs": [
    {
     "name": "stdout",
     "output_type": "stream",
     "text": [
      "c:\\Users\\m142519\\Documents\\Artec Studio Projects\\CPI nose scans\n"
     ]
    }
   ],
   "source": [
    "cd \"c://Users/m142519/Documents/Artec Studio Projects/CPI nose scans\""
   ]
  },
  {
   "cell_type": "code",
   "execution_count": 14,
   "id": "941e11a5-7617-4e95-b0d6-c233813888ee",
   "metadata": {},
   "outputs": [
    {
     "name": "stdout",
     "output_type": "stream",
     "text": [
      "c:\\Users\\m142519\\Documents\\Artec Studio Projects\\CPI nose scans\\UCI-22-057-WC-UN\\UCI-22-057-WC-UN-subunits\n"
     ]
    }
   ],
   "source": [
    "cd \"./UCI-22-057-WC-UN/UCI-22-057-WC-UN-subunits/\""
   ]
  },
  {
   "cell_type": "code",
   "execution_count": 15,
   "id": "ddc1767f-f1fe-485d-8596-50b4d5cf819e",
   "metadata": {},
   "outputs": [
    {
     "name": "stdout",
     "output_type": "stream",
     "text": [
      "[WinError 2] The system cannot find the file specified: './IsotropicRemesh1.2TrimmedIsotropicRemesh0.15mm'\n",
      "c:\\Users\\m142519\\Documents\\Artec Studio Projects\\CPI nose scans\\UCI-22-057-WC-UN\\UCI-22-057-WC-UN-subunits\n"
     ]
    }
   ],
   "source": [
    "cd \"./IsotropicRemesh1.2TrimmedIsotropicRemesh0.15mm\""
   ]
  },
  {
   "cell_type": "code",
   "execution_count": 19,
   "id": "d467be8a-06fd-434c-99fd-0a66e788aa3c",
   "metadata": {},
   "outputs": [
    {
     "data": {
      "text/plain": [
       "503"
      ]
     },
     "execution_count": 19,
     "metadata": {},
     "output_type": "execute_result"
    },
    {
     "name": "stdout",
     "output_type": "stream",
     "text": [
      "In [19] used 0.0195 MiB RAM in 0.17s, peaked 0.00 MiB above current, total RAM usage 186.24 MiB\n"
     ]
    }
   ],
   "source": [
    "gc.collect()"
   ]
  },
  {
   "cell_type": "code",
   "execution_count": 20,
   "id": "b33a3311-b625-4b5a-a8a3-cf3abf4df741",
   "metadata": {},
   "outputs": [
    {
     "name": "stdout",
     "output_type": "stream",
     "text": [
      "In [20] used 0.0156 MiB RAM in 0.10s, peaked 0.00 MiB above current, total RAM usage 186.25 MiB\n"
     ]
    }
   ],
   "source": [
    "meshset = pml.MeshSet(verbose = True)"
   ]
  },
  {
   "cell_type": "code",
   "execution_count": 21,
   "id": "099e4b43-4310-42ff-8f36-4a99288b6050",
   "metadata": {},
   "outputs": [
    {
     "name": "stdout",
     "output_type": "stream",
     "text": [
      "In [21] used 0.0039 MiB RAM in 0.10s, peaked 0.00 MiB above current, total RAM usage 186.26 MiB\n"
     ]
    }
   ],
   "source": [
    "meshset.clear()"
   ]
  },
  {
   "cell_type": "raw",
   "id": "0e15237f-5d7f-4d19-baf6-184f97a66b2b",
   "metadata": {},
   "source": [
    "meshset.load_new_mesh(\"BFF10conesIsotropicRemesh1.2TrimmedIsotropicRemesh0.15mm.obj\")"
   ]
  },
  {
   "cell_type": "raw",
   "id": "ef99c415-d66b-4307-8c37-6603ffa6a740",
   "metadata": {},
   "source": [
    "cd \"output/IsotropicRemesh1.2TrimmedIsotropicRemesh0.15mm_input_0.999_1_OptCuts_bd4.01/\""
   ]
  },
  {
   "cell_type": "raw",
   "id": "6808077c-7a2a-4bc4-a487-aa006533308b",
   "metadata": {},
   "source": [
    "meshset.load_new_mesh(\"finalResult_mesh.obj\")"
   ]
  },
  {
   "cell_type": "code",
   "execution_count": 22,
   "id": "f80c152a-7ad2-4560-96e2-f359feb78ce1",
   "metadata": {},
   "outputs": [
    {
     "name": "stdout",
     "output_type": "stream",
     "text": [
      "{}\n",
      "In [22] used 1026.1641 MiB RAM in 1.94s, peaked 0.00 MiB above current, total RAM usage 1212.42 MiB\n"
     ]
    }
   ],
   "source": [
    "meshset.load_new_mesh(\"IsotropicRemesh1.2TrimmedIsotropicRemesh0.15mm.obj\")"
   ]
  },
  {
   "cell_type": "code",
   "execution_count": 23,
   "id": "08beec2c-5973-4274-86b4-998e3ff299f7",
   "metadata": {},
   "outputs": [
    {
     "name": "stdout",
     "output_type": "stream",
     "text": [
      "In [23] used 0.0000 MiB RAM in 0.10s, peaked 0.00 MiB above current, total RAM usage 1212.42 MiB\n"
     ]
    }
   ],
   "source": [
    "mesh = meshset.current_mesh()"
   ]
  },
  {
   "cell_type": "raw",
   "id": "112c6f44-d664-4ada-a9df-c9e552f5a966",
   "metadata": {},
   "source": [
    "meshset.compute_matrix_by_principal_axis()"
   ]
  },
  {
   "cell_type": "code",
   "execution_count": 24,
   "id": "08a551d9-4453-4748-9b79-7df2d4d8a9d7",
   "metadata": {},
   "outputs": [
    {
     "data": {
      "text/plain": [
       "True"
      ]
     },
     "execution_count": 24,
     "metadata": {},
     "output_type": "execute_result"
    },
    {
     "name": "stdout",
     "output_type": "stream",
     "text": [
      "In [24] used 0.0039 MiB RAM in 0.10s, peaked 0.00 MiB above current, total RAM usage 1212.43 MiB\n"
     ]
    }
   ],
   "source": [
    "mesh.has_vertex_tex_coord()"
   ]
  },
  {
   "cell_type": "code",
   "execution_count": 25,
   "id": "c46ef732-cb54-41bc-95da-e72f652401e9",
   "metadata": {},
   "outputs": [
    {
     "data": {
      "text/plain": [
       "False"
      ]
     },
     "execution_count": 25,
     "metadata": {},
     "output_type": "execute_result"
    },
    {
     "name": "stdout",
     "output_type": "stream",
     "text": [
      "In [25] used 0.0000 MiB RAM in 0.10s, peaked 0.00 MiB above current, total RAM usage 1212.43 MiB\n"
     ]
    }
   ],
   "source": [
    "mesh.has_vertex_color()"
   ]
  },
  {
   "cell_type": "raw",
   "id": "3ccbae39-9feb-4ff6-8f0c-44a0dd866aa0",
   "metadata": {},
   "source": [
    "meshset.compute_color_from_texture_per_vertex()"
   ]
  },
  {
   "cell_type": "raw",
   "id": "fe88e288-3e52-4ce1-b256-36625e6b7c43",
   "metadata": {},
   "source": [
    "mesh.vertex_color_matrix()"
   ]
  },
  {
   "cell_type": "code",
   "execution_count": 26,
   "id": "5a1c6e1b-f5cf-444e-bd5f-22e232b9d116",
   "metadata": {},
   "outputs": [
    {
     "name": "stdout",
     "output_type": "stream",
     "text": [
      "{'metric': 3}\n"
     ]
    },
    {
     "data": {
      "text/plain": [
       "array([0.72892308, 0.70381927, 0.73936794, ..., 0.66391531, 0.63246319,\n",
       "       0.6621119 ])"
      ]
     },
     "execution_count": 26,
     "metadata": {},
     "output_type": "execute_result"
    },
    {
     "name": "stdout",
     "output_type": "stream",
     "text": [
      "In [26] used 0.1055 MiB RAM in 0.11s, peaked 0.00 MiB above current, total RAM usage 1212.53 MiB\n"
     ]
    }
   ],
   "source": [
    "meshset.compute_scalar_by_aspect_ratio_per_face(metric = 'Area')\n",
    "\n",
    "faceareas3D = mesh.face_scalar_array()\n",
    "faceareas3D"
   ]
  },
  {
   "cell_type": "code",
   "execution_count": 27,
   "id": "c419208e-ef41-49ff-8647-efc678ed73db",
   "metadata": {},
   "outputs": [
    {
     "name": "stdout",
     "output_type": "stream",
     "text": [
      "{'allfaces': True, 'allverts': True}\n",
      "{}\n",
      "In [27] used 0.0234 MiB RAM in 0.11s, peaked 0.00 MiB above current, total RAM usage 1212.55 MiB\n"
     ]
    }
   ],
   "source": [
    "meshset.set_selection_none()\n",
    "meshset.compute_selection_from_mesh_border()"
   ]
  },
  {
   "cell_type": "code",
   "execution_count": 79,
   "id": "5b69c173-0cba-4a6b-b4e3-06f1680ceac2",
   "metadata": {
    "tags": []
   },
   "outputs": [
    {
     "data": {
      "text/plain": [
       "(array([ 90,  91,  92,  94,  97,  99, 102, 132, 134, 142, 144, 148, 150,\n",
       "        152, 198, 199, 201, 203, 205, 207, 209, 212, 214, 216, 231, 397,\n",
       "        398, 404, 406, 408, 410, 412, 415, 417, 422, 424, 431, 433, 435,\n",
       "        437, 440, 442, 444, 446, 448, 450, 452, 456, 458, 459, 461, 463,\n",
       "        466, 468, 470, 472, 474, 547, 549, 551, 553, 555, 557, 580, 582,\n",
       "        584, 586, 623, 626, 628, 630, 632, 634, 636, 638, 640, 642, 645,\n",
       "        647, 650, 652, 654, 801, 803, 808, 810, 812, 814, 818, 820, 823,\n",
       "        825, 827, 829, 832, 834, 836, 838, 840, 842, 844, 846, 848, 866,\n",
       "        868, 870, 872, 874, 876, 878, 880, 882, 884], dtype=int64),)"
      ]
     },
     "execution_count": 79,
     "metadata": {},
     "output_type": "execute_result"
    }
   ],
   "source": [
    "border3DvertIDs = mesh.vertex_selection_array().nonzero()\n",
    "border3DvertIDs"
   ]
  },
  {
   "cell_type": "code",
   "execution_count": 67,
   "id": "b15e3463-c730-4d41-9dd1-e4e04c09008f",
   "metadata": {
    "scrolled": true,
    "tags": []
   },
   "outputs": [
    {
     "data": {
      "text/plain": [
       "(113, 3)"
      ]
     },
     "execution_count": 67,
     "metadata": {},
     "output_type": "execute_result"
    }
   ],
   "source": [
    "borderpoints3D = mesh.vertex_matrix()[border3DvertIDs]\n",
    "borderpoints3D.shape"
   ]
  },
  {
   "cell_type": "raw",
   "id": "44b66afe-ab36-48c0-8bad-4faed5c9ec6b",
   "metadata": {},
   "source": [
    "meshset.compute_texcoord_transfer_wedge_to_vertex()"
   ]
  },
  {
   "cell_type": "code",
   "execution_count": null,
   "id": "1d7c6620-12b1-42f3-bca1-12c8850ed0de",
   "metadata": {},
   "outputs": [],
   "source": []
  },
  {
   "cell_type": "code",
   "execution_count": 20,
   "id": "7adb7fa0-a0ff-4580-a65e-beee72b7ae7a",
   "metadata": {},
   "outputs": [
    {
     "data": {
      "text/plain": [
       "{'startpoint': array([10.929976,  4.496085, -8.044939]),\n",
       " 'maxdistance': 59.97921371459961}"
      ]
     },
     "execution_count": 20,
     "metadata": {},
     "output_type": "execute_result"
    }
   ],
   "source": [
    "meshset.filter_parameter_values(\"compute_scalar_by_geodesic_distance_from_given_point_per_vertex\")"
   ]
  },
  {
   "cell_type": "code",
   "execution_count": 88,
   "id": "d8f6a072-fbb0-45cc-a223-b90b4d902240",
   "metadata": {
    "scrolled": true,
    "tags": []
   },
   "outputs": [
    {
     "name": "stdout",
     "output_type": "stream",
     "text": [
      "{'startpoint': array([31.73070908, 12.97861385, 25.28949738]), 'maxdistance': 119.95842742919922}\n",
      "{'startpoint': array([30.32723045, 13.36981773, 25.61695099]), 'maxdistance': 119.95842742919922}\n",
      "{'startpoint': array([28.81245995, 13.70762825, 25.79471779]), 'maxdistance': 119.95842742919922}\n",
      "{'startpoint': array([27.28621674, 13.87953854, 25.75605011]), 'maxdistance': 119.95842742919922}\n",
      "{'startpoint': array([25.74134827, 13.79522991, 25.66729355]), 'maxdistance': 119.95842742919922}\n",
      "{'startpoint': array([24.32102394, 13.70910454, 25.35242653]), 'maxdistance': 119.95842742919922}\n",
      "{'startpoint': array([23.22390938, 13.06125546, 24.55189133]), 'maxdistance': 119.95842742919922}\n",
      "{'startpoint': array([22.3387413 , 12.22089386, 23.68919373]), 'maxdistance': 119.95842742919922}\n",
      "{'startpoint': array([21.67407227, 11.55352974, 22.62851334]), 'maxdistance': 119.95842742919922}\n",
      "{'startpoint': array([21.25239754, 10.90902901, 21.80085373]), 'maxdistance': 119.95842742919922}\n",
      "{'startpoint': array([20.77672958,  9.88066673, 20.70219421]), 'maxdistance': 119.95842742919922}\n",
      "{'startpoint': array([20.1255703 ,  9.02821732, 19.52222061]), 'maxdistance': 119.95842742919922}\n",
      "{'startpoint': array([19.60316277,  8.18538857, 18.36159325]), 'maxdistance': 119.95842742919922}\n",
      "{'startpoint': array([19.81031227,  6.76948309, 17.71500587]), 'maxdistance': 119.95842742919922}\n",
      "{'startpoint': array([33.04872894, 12.41540909, 24.72418785]), 'maxdistance': 119.95842742919922}\n",
      "{'startpoint': array([34.04628754, 11.76499462, 23.85230446]), 'maxdistance': 119.95842742919922}\n",
      "{'startpoint': array([34.46892929, 10.96170807, 22.66979218]), 'maxdistance': 119.95842742919922}\n",
      "{'startpoint': array([34.79772186, 10.19142723, 21.33934212]), 'maxdistance': 119.95842742919922}\n",
      "{'startpoint': array([36.08996582,  9.60401344, 20.6166687 ]), 'maxdistance': 119.95842742919922}\n",
      "{'startpoint': array([37.54402161,  9.54728222, 19.95880127]), 'maxdistance': 119.95842742919922}\n",
      "{'startpoint': array([38.84772491,  9.8969326 , 19.2677002 ]), 'maxdistance': 119.95842742919922}\n",
      "{'startpoint': array([39.96264267, 10.45878983, 18.49772835]), 'maxdistance': 119.95842742919922}\n",
      "{'startpoint': array([40.63159943, 11.87779522, 18.61986542]), 'maxdistance': 119.95842742919922}\n",
      "{'startpoint': array([41.22976685, 13.27665615, 19.09567261]), 'maxdistance': 119.95842742919922}\n",
      "{'startpoint': array([41.72738266, 14.72881126, 19.05976105]), 'maxdistance': 119.95842742919922}\n",
      "{'startpoint': array([41.77894592, 15.6074276 , 18.58854103]), 'maxdistance': 119.95842742919922}\n",
      "{'startpoint': array([41.86932755, 16.06499863, 18.16259956]), 'maxdistance': 119.95842742919922}\n",
      "{'startpoint': array([42.10758972, 16.97443581, 16.95753479]), 'maxdistance': 119.95842742919922}\n",
      "{'startpoint': array([42.21265411, 17.59022141, 15.98674774]), 'maxdistance': 119.95842742919922}\n",
      "{'startpoint': array([42.17428207, 18.11259842, 14.55302238]), 'maxdistance': 119.95842742919922}\n",
      "{'startpoint': array([42.09444046, 18.64291954, 13.16353512]), 'maxdistance': 119.95842742919922}\n",
      "{'startpoint': array([42.01748276, 19.09881973, 11.6763134 ]), 'maxdistance': 119.95842742919922}\n",
      "{'startpoint': array([41.81827545, 19.25478935, 10.19512558]), 'maxdistance': 119.95842742919922}\n",
      "{'startpoint': array([41.56256485, 19.25862885,  8.88340282]), 'maxdistance': 119.95842742919922}\n",
      "{'startpoint': array([41.37612915, 18.88336563,  7.35043812]), 'maxdistance': 119.95842742919922}\n",
      "{'startpoint': array([41.20439148, 18.42202759,  5.93111897]), 'maxdistance': 119.95842742919922}\n",
      "{'startpoint': array([40.81761551, 17.7572403 ,  4.54308891]), 'maxdistance': 119.95842742919922}\n",
      "{'startpoint': array([40.50310516, 17.05615234,  3.21728611]), 'maxdistance': 119.95842742919922}\n",
      "{'startpoint': array([40.24808121, 16.25029182,  1.90849197]), 'maxdistance': 119.95842742919922}\n",
      "{'startpoint': array([39.7674942 , 15.58938313,  0.57831502]), 'maxdistance': 119.95842742919922}\n",
      "{'startpoint': array([39.31342697, 14.77588654, -0.682266  ]), 'maxdistance': 119.95842742919922}\n",
      "{'startpoint': array([39.0579567 , 13.87688255, -1.93285   ]), 'maxdistance': 119.95842742919922}\n",
      "{'startpoint': array([38.68272781, 13.60980034, -3.407372  ]), 'maxdistance': 119.95842742919922}\n",
      "{'startpoint': array([38.29861832, 13.91150856, -4.84977722]), 'maxdistance': 119.95842742919922}\n",
      "{'startpoint': array([37.94523621, 14.75225067, -6.07499695]), 'maxdistance': 119.95842742919922}\n",
      "{'startpoint': array([37.70197296, 16.01042938, -6.92886591]), 'maxdistance': 119.95842742919922}\n",
      "{'startpoint': array([37.12029266, 17.3187294 , -7.52463722]), 'maxdistance': 119.95842742919922}\n",
      "{'startpoint': array([36.60877228, 18.10772133, -7.91068697]), 'maxdistance': 119.95842742919922}\n",
      "{'startpoint': array([35.99459839, 19.22945404, -8.04493904]), 'maxdistance': 119.95842742919922}\n",
      "{'startpoint': array([35.5309906 , 20.3277607 , -8.01246071]), 'maxdistance': 119.95842742919922}\n",
      "{'startpoint': array([35.25407791, 21.79151154, -7.6630249 ]), 'maxdistance': 119.95842742919922}\n",
      "{'startpoint': array([35.09806824, 23.1653595 , -7.01761723]), 'maxdistance': 119.95842742919922}\n",
      "{'startpoint': array([35.06451416, 24.42762756, -6.30242586]), 'maxdistance': 119.95842742919922}\n",
      "{'startpoint': array([35.02647018, 25.81317139, -5.59290123]), 'maxdistance': 119.95842742919922}\n",
      "{'startpoint': array([35.01551819, 27.09647369, -4.70990515]), 'maxdistance': 119.95842742919922}\n",
      "{'startpoint': array([35.16835403, 28.26831436, -3.74440193]), 'maxdistance': 119.95842742919922}\n",
      "{'startpoint': array([35.14836121, 29.31193161, -2.84380889]), 'maxdistance': 119.95842742919922}\n",
      "{'startpoint': array([35.13734055, 30.37222672, -1.65793097]), 'maxdistance': 119.95842742919922}\n",
      "{'startpoint': array([35.26199722, 31.20103073, -0.305098  ]), 'maxdistance': 119.95842742919922}\n",
      "{'startpoint': array([35.59524918, 31.80708313,  1.11410201]), 'maxdistance': 119.95842742919922}\n",
      "{'startpoint': array([36.10897064, 32.03839111,  2.52736712]), 'maxdistance': 119.95842742919922}\n",
      "{'startpoint': array([36.65111923, 32.23008728,  4.02038193]), 'maxdistance': 119.95842742919922}\n",
      "{'startpoint': array([37.33798981, 32.4412384 ,  5.27022314]), 'maxdistance': 119.95842742919922}\n",
      "{'startpoint': array([38.11646271, 32.43091202,  6.59214211]), 'maxdistance': 119.95842742919922}\n",
      "{'startpoint': array([39.01755524, 32.14487076,  7.83211613]), 'maxdistance': 119.95842742919922}\n",
      "{'startpoint': array([39.83266449, 31.58753204,  9.0568018 ]), 'maxdistance': 119.95842742919922}\n",
      "{'startpoint': array([40.47601318, 31.356287  , 10.43796253]), 'maxdistance': 119.95842742919922}\n",
      "{'startpoint': array([40.12767792, 32.57988739, 11.15680599]), 'maxdistance': 119.95842742919922}\n",
      "{'startpoint': array([39.39863586, 33.81972122, 11.60515118]), 'maxdistance': 119.95842742919922}\n",
      "{'startpoint': array([38.40729904, 34.93812561, 12.15632725]), 'maxdistance': 119.95842742919922}\n",
      "{'startpoint': array([37.39983749, 35.83021927, 12.83747864]), 'maxdistance': 119.95842742919922}\n",
      "{'startpoint': array([36.46136475, 36.58308029, 13.7630806 ]), 'maxdistance': 119.95842742919922}\n",
      "{'startpoint': array([35.6117363 , 37.18714905, 14.96330166]), 'maxdistance': 119.95842742919922}\n",
      "{'startpoint': array([35.1084938 , 37.72897339, 16.35514259]), 'maxdistance': 119.95842742919922}\n",
      "{'startpoint': array([34.52724075, 38.02711105, 17.73029709]), 'maxdistance': 119.95842742919922}\n",
      "{'startpoint': array([33.93210602, 38.02088165, 19.08668327]), 'maxdistance': 119.95842742919922}\n",
      "{'startpoint': array([33.18587875, 37.95900726, 20.18799591]), 'maxdistance': 119.95842742919922}\n",
      "{'startpoint': array([32.11551666, 37.8727951 , 21.23882675]), 'maxdistance': 119.95842742919922}\n",
      "{'startpoint': array([30.79561615, 37.66033936, 21.96909523]), 'maxdistance': 119.95842742919922}\n",
      "{'startpoint': array([29.51029396, 37.24350357, 22.63021278]), 'maxdistance': 119.95842742919922}\n",
      "{'startpoint': array([28.22539139, 36.53638458, 23.14171982]), 'maxdistance': 119.95842742919922}\n",
      "{'startpoint': array([26.94948769, 35.62877274, 23.44885445]), 'maxdistance': 119.95842742919922}\n",
      "{'startpoint': array([25.70124245, 34.72268295, 23.86420441]), 'maxdistance': 119.95842742919922}\n",
      "{'startpoint': array([24.54294777, 33.72210312, 24.1153698 ]), 'maxdistance': 119.95842742919922}\n",
      "{'startpoint': array([23.24041367, 32.81972122, 24.27409744]), 'maxdistance': 119.95842742919922}\n",
      "{'startpoint': array([22.16537094, 31.76946259, 24.65199852]), 'maxdistance': 119.95842742919922}\n",
      "{'startpoint': array([21.67409134, 30.39797211, 25.2196331 ]), 'maxdistance': 119.95842742919922}\n",
      "{'startpoint': array([21.54512596, 28.91586304, 25.75710678]), 'maxdistance': 119.95842742919922}\n",
      "{'startpoint': array([21.49177742, 27.48456001, 26.16191673]), 'maxdistance': 119.95842742919922}\n",
      "{'startpoint': array([21.10860634, 25.93890572, 26.14821053]), 'maxdistance': 119.95842742919922}\n",
      "{'startpoint': array([20.15153503, 24.76596069, 25.87213135]), 'maxdistance': 119.95842742919922}\n",
      "{'startpoint': array([19.09191132, 25.00960541, 24.7468338 ]), 'maxdistance': 119.95842742919922}\n",
      "{'startpoint': array([17.95905685, 24.96044159, 23.63691711]), 'maxdistance': 119.95842742919922}\n",
      "{'startpoint': array([16.81165314, 24.56295967, 22.733078  ]), 'maxdistance': 119.95842742919922}\n",
      "{'startpoint': array([15.85643387, 23.86684036, 21.7067585 ]), 'maxdistance': 119.95842742919922}\n",
      "{'startpoint': array([14.72731209, 23.06739426, 21.18663788]), 'maxdistance': 119.95842742919922}\n",
      "{'startpoint': array([13.7422533 , 21.9303112 , 20.77630806]), 'maxdistance': 119.95842742919922}\n",
      "{'startpoint': array([12.93116188, 20.69598961, 20.4576664 ]), 'maxdistance': 119.95842742919922}\n",
      "{'startpoint': array([12.24374294, 19.50310898, 19.97660446]), 'maxdistance': 119.95842742919922}\n",
      "{'startpoint': array([11.68657207, 18.14492416, 19.46436501]), 'maxdistance': 119.95842742919922}\n",
      "{'startpoint': array([11.28205967, 16.74098587, 19.15924835]), 'maxdistance': 119.95842742919922}\n",
      "{'startpoint': array([11.05569458, 15.30473804, 18.98529816]), 'maxdistance': 119.95842742919922}\n",
      "{'startpoint': array([10.98417091, 13.75460243, 19.06244087]), 'maxdistance': 119.95842742919922}\n",
      "{'startpoint': array([10.94088745, 12.28543568, 18.71092796]), 'maxdistance': 119.95842742919922}\n",
      "{'startpoint': array([10.92997646, 10.84561729, 18.22468758]), 'maxdistance': 119.95842742919922}\n",
      "{'startpoint': array([11.11835957,  9.29869366, 18.21256638]), 'maxdistance': 119.95842742919922}\n",
      "{'startpoint': array([11.51974964,  7.77196789, 18.43483162]), 'maxdistance': 119.95842742919922}\n",
      "{'startpoint': array([12.20321083,  6.42611217, 18.30153275]), 'maxdistance': 119.95842742919922}\n",
      "{'startpoint': array([13.23665237,  5.3740778 , 17.9683094 ]), 'maxdistance': 119.95842742919922}\n",
      "{'startpoint': array([14.6173687 ,  4.74473   , 18.00519943]), 'maxdistance': 119.95842742919922}\n",
      "{'startpoint': array([16.11275291,  4.49608517, 17.76357079]), 'maxdistance': 119.95842742919922}\n",
      "{'startpoint': array([17.67289925,  4.699821  , 17.62692642]), 'maxdistance': 119.95842742919922}\n",
      "{'startpoint': array([19.10839272,  5.36709595, 17.63070107]), 'maxdistance': 119.95842742919922}\n"
     ]
    }
   ],
   "source": [
    "bordermutualdistances = []\n",
    "\n",
    "for v in borderpoints3D:\n",
    "    meshset.compute_scalar_by_geodesic_distance_from_given_point_per_vertex(startpoint = v,\n",
    "                                                                            maxdistance = pml.Percentage(100.0))\n",
    "    bordermutualdistances.append(mesh.vertex_scalar_array())\n",
    "\n",
    "bordermutualdistances = np.array(bordermutualdistances)\n",
    "bordermutualdistances = bordermutualdistances[:, border3DvertIDs[0]]\n",
    "\n",
    "sym_bordermutualdistances = 0.5 * (bordermutualdistances + bordermutualdistances.T)"
   ]
  },
  {
   "cell_type": "code",
   "execution_count": 69,
   "id": "4d46eeaa-028f-4168-ab5e-1a67599ab781",
   "metadata": {},
   "outputs": [
    {
     "name": "stdout",
     "output_type": "stream",
     "text": [
      "0 {'newname': 'IsotropicRemesh1.2TrimmedIsotropicRemesh0.15mm.obj'}\n"
     ]
    }
   ],
   "source": [
    "for meshid in range(meshset.number_meshes()):\n",
    "    meshset.set_current_mesh(meshid)\n",
    "    print(meshset.current_mesh_id(), meshset.filter_parameter_values(\"set_mesh_name\"))"
   ]
  },
  {
   "cell_type": "code",
   "execution_count": 88,
   "id": "a56a64d4",
   "metadata": {
    "scrolled": true,
    "tags": []
   },
   "outputs": [
    {
     "name": "stdout",
     "output_type": "stream",
     "text": [
      "{'startpoint': array([31.73070908, 12.97861385, 25.28949738]), 'maxdistance': 119.95842742919922}\n",
      "{'startpoint': array([30.32723045, 13.36981773, 25.61695099]), 'maxdistance': 119.95842742919922}\n",
      "{'startpoint': array([28.81245995, 13.70762825, 25.79471779]), 'maxdistance': 119.95842742919922}\n",
      "{'startpoint': array([27.28621674, 13.87953854, 25.75605011]), 'maxdistance': 119.95842742919922}\n",
      "{'startpoint': array([25.74134827, 13.79522991, 25.66729355]), 'maxdistance': 119.95842742919922}\n",
      "{'startpoint': array([24.32102394, 13.70910454, 25.35242653]), 'maxdistance': 119.95842742919922}\n",
      "{'startpoint': array([23.22390938, 13.06125546, 24.55189133]), 'maxdistance': 119.95842742919922}\n",
      "{'startpoint': array([22.3387413 , 12.22089386, 23.68919373]), 'maxdistance': 119.95842742919922}\n",
      "{'startpoint': array([21.67407227, 11.55352974, 22.62851334]), 'maxdistance': 119.95842742919922}\n",
      "{'startpoint': array([21.25239754, 10.90902901, 21.80085373]), 'maxdistance': 119.95842742919922}\n",
      "{'startpoint': array([20.77672958,  9.88066673, 20.70219421]), 'maxdistance': 119.95842742919922}\n",
      "{'startpoint': array([20.1255703 ,  9.02821732, 19.52222061]), 'maxdistance': 119.95842742919922}\n",
      "{'startpoint': array([19.60316277,  8.18538857, 18.36159325]), 'maxdistance': 119.95842742919922}\n",
      "{'startpoint': array([19.81031227,  6.76948309, 17.71500587]), 'maxdistance': 119.95842742919922}\n",
      "{'startpoint': array([33.04872894, 12.41540909, 24.72418785]), 'maxdistance': 119.95842742919922}\n",
      "{'startpoint': array([34.04628754, 11.76499462, 23.85230446]), 'maxdistance': 119.95842742919922}\n",
      "{'startpoint': array([34.46892929, 10.96170807, 22.66979218]), 'maxdistance': 119.95842742919922}\n",
      "{'startpoint': array([34.79772186, 10.19142723, 21.33934212]), 'maxdistance': 119.95842742919922}\n",
      "{'startpoint': array([36.08996582,  9.60401344, 20.6166687 ]), 'maxdistance': 119.95842742919922}\n",
      "{'startpoint': array([37.54402161,  9.54728222, 19.95880127]), 'maxdistance': 119.95842742919922}\n",
      "{'startpoint': array([38.84772491,  9.8969326 , 19.2677002 ]), 'maxdistance': 119.95842742919922}\n",
      "{'startpoint': array([39.96264267, 10.45878983, 18.49772835]), 'maxdistance': 119.95842742919922}\n",
      "{'startpoint': array([40.63159943, 11.87779522, 18.61986542]), 'maxdistance': 119.95842742919922}\n",
      "{'startpoint': array([41.22976685, 13.27665615, 19.09567261]), 'maxdistance': 119.95842742919922}\n",
      "{'startpoint': array([41.72738266, 14.72881126, 19.05976105]), 'maxdistance': 119.95842742919922}\n",
      "{'startpoint': array([41.77894592, 15.6074276 , 18.58854103]), 'maxdistance': 119.95842742919922}\n",
      "{'startpoint': array([41.86932755, 16.06499863, 18.16259956]), 'maxdistance': 119.95842742919922}\n",
      "{'startpoint': array([42.10758972, 16.97443581, 16.95753479]), 'maxdistance': 119.95842742919922}\n",
      "{'startpoint': array([42.21265411, 17.59022141, 15.98674774]), 'maxdistance': 119.95842742919922}\n",
      "{'startpoint': array([42.17428207, 18.11259842, 14.55302238]), 'maxdistance': 119.95842742919922}\n",
      "{'startpoint': array([42.09444046, 18.64291954, 13.16353512]), 'maxdistance': 119.95842742919922}\n",
      "{'startpoint': array([42.01748276, 19.09881973, 11.6763134 ]), 'maxdistance': 119.95842742919922}\n",
      "{'startpoint': array([41.81827545, 19.25478935, 10.19512558]), 'maxdistance': 119.95842742919922}\n",
      "{'startpoint': array([41.56256485, 19.25862885,  8.88340282]), 'maxdistance': 119.95842742919922}\n",
      "{'startpoint': array([41.37612915, 18.88336563,  7.35043812]), 'maxdistance': 119.95842742919922}\n",
      "{'startpoint': array([41.20439148, 18.42202759,  5.93111897]), 'maxdistance': 119.95842742919922}\n",
      "{'startpoint': array([40.81761551, 17.7572403 ,  4.54308891]), 'maxdistance': 119.95842742919922}\n",
      "{'startpoint': array([40.50310516, 17.05615234,  3.21728611]), 'maxdistance': 119.95842742919922}\n",
      "{'startpoint': array([40.24808121, 16.25029182,  1.90849197]), 'maxdistance': 119.95842742919922}\n",
      "{'startpoint': array([39.7674942 , 15.58938313,  0.57831502]), 'maxdistance': 119.95842742919922}\n",
      "{'startpoint': array([39.31342697, 14.77588654, -0.682266  ]), 'maxdistance': 119.95842742919922}\n",
      "{'startpoint': array([39.0579567 , 13.87688255, -1.93285   ]), 'maxdistance': 119.95842742919922}\n",
      "{'startpoint': array([38.68272781, 13.60980034, -3.407372  ]), 'maxdistance': 119.95842742919922}\n",
      "{'startpoint': array([38.29861832, 13.91150856, -4.84977722]), 'maxdistance': 119.95842742919922}\n",
      "{'startpoint': array([37.94523621, 14.75225067, -6.07499695]), 'maxdistance': 119.95842742919922}\n",
      "{'startpoint': array([37.70197296, 16.01042938, -6.92886591]), 'maxdistance': 119.95842742919922}\n",
      "{'startpoint': array([37.12029266, 17.3187294 , -7.52463722]), 'maxdistance': 119.95842742919922}\n",
      "{'startpoint': array([36.60877228, 18.10772133, -7.91068697]), 'maxdistance': 119.95842742919922}\n",
      "{'startpoint': array([35.99459839, 19.22945404, -8.04493904]), 'maxdistance': 119.95842742919922}\n",
      "{'startpoint': array([35.5309906 , 20.3277607 , -8.01246071]), 'maxdistance': 119.95842742919922}\n",
      "{'startpoint': array([35.25407791, 21.79151154, -7.6630249 ]), 'maxdistance': 119.95842742919922}\n",
      "{'startpoint': array([35.09806824, 23.1653595 , -7.01761723]), 'maxdistance': 119.95842742919922}\n",
      "{'startpoint': array([35.06451416, 24.42762756, -6.30242586]), 'maxdistance': 119.95842742919922}\n",
      "{'startpoint': array([35.02647018, 25.81317139, -5.59290123]), 'maxdistance': 119.95842742919922}\n",
      "{'startpoint': array([35.01551819, 27.09647369, -4.70990515]), 'maxdistance': 119.95842742919922}\n",
      "{'startpoint': array([35.16835403, 28.26831436, -3.74440193]), 'maxdistance': 119.95842742919922}\n",
      "{'startpoint': array([35.14836121, 29.31193161, -2.84380889]), 'maxdistance': 119.95842742919922}\n",
      "{'startpoint': array([35.13734055, 30.37222672, -1.65793097]), 'maxdistance': 119.95842742919922}\n",
      "{'startpoint': array([35.26199722, 31.20103073, -0.305098  ]), 'maxdistance': 119.95842742919922}\n",
      "{'startpoint': array([35.59524918, 31.80708313,  1.11410201]), 'maxdistance': 119.95842742919922}\n",
      "{'startpoint': array([36.10897064, 32.03839111,  2.52736712]), 'maxdistance': 119.95842742919922}\n",
      "{'startpoint': array([36.65111923, 32.23008728,  4.02038193]), 'maxdistance': 119.95842742919922}\n",
      "{'startpoint': array([37.33798981, 32.4412384 ,  5.27022314]), 'maxdistance': 119.95842742919922}\n",
      "{'startpoint': array([38.11646271, 32.43091202,  6.59214211]), 'maxdistance': 119.95842742919922}\n",
      "{'startpoint': array([39.01755524, 32.14487076,  7.83211613]), 'maxdistance': 119.95842742919922}\n",
      "{'startpoint': array([39.83266449, 31.58753204,  9.0568018 ]), 'maxdistance': 119.95842742919922}\n",
      "{'startpoint': array([40.47601318, 31.356287  , 10.43796253]), 'maxdistance': 119.95842742919922}\n",
      "{'startpoint': array([40.12767792, 32.57988739, 11.15680599]), 'maxdistance': 119.95842742919922}\n",
      "{'startpoint': array([39.39863586, 33.81972122, 11.60515118]), 'maxdistance': 119.95842742919922}\n",
      "{'startpoint': array([38.40729904, 34.93812561, 12.15632725]), 'maxdistance': 119.95842742919922}\n",
      "{'startpoint': array([37.39983749, 35.83021927, 12.83747864]), 'maxdistance': 119.95842742919922}\n",
      "{'startpoint': array([36.46136475, 36.58308029, 13.7630806 ]), 'maxdistance': 119.95842742919922}\n",
      "{'startpoint': array([35.6117363 , 37.18714905, 14.96330166]), 'maxdistance': 119.95842742919922}\n",
      "{'startpoint': array([35.1084938 , 37.72897339, 16.35514259]), 'maxdistance': 119.95842742919922}\n",
      "{'startpoint': array([34.52724075, 38.02711105, 17.73029709]), 'maxdistance': 119.95842742919922}\n",
      "{'startpoint': array([33.93210602, 38.02088165, 19.08668327]), 'maxdistance': 119.95842742919922}\n",
      "{'startpoint': array([33.18587875, 37.95900726, 20.18799591]), 'maxdistance': 119.95842742919922}\n",
      "{'startpoint': array([32.11551666, 37.8727951 , 21.23882675]), 'maxdistance': 119.95842742919922}\n",
      "{'startpoint': array([30.79561615, 37.66033936, 21.96909523]), 'maxdistance': 119.95842742919922}\n",
      "{'startpoint': array([29.51029396, 37.24350357, 22.63021278]), 'maxdistance': 119.95842742919922}\n",
      "{'startpoint': array([28.22539139, 36.53638458, 23.14171982]), 'maxdistance': 119.95842742919922}\n",
      "{'startpoint': array([26.94948769, 35.62877274, 23.44885445]), 'maxdistance': 119.95842742919922}\n",
      "{'startpoint': array([25.70124245, 34.72268295, 23.86420441]), 'maxdistance': 119.95842742919922}\n",
      "{'startpoint': array([24.54294777, 33.72210312, 24.1153698 ]), 'maxdistance': 119.95842742919922}\n",
      "{'startpoint': array([23.24041367, 32.81972122, 24.27409744]), 'maxdistance': 119.95842742919922}\n",
      "{'startpoint': array([22.16537094, 31.76946259, 24.65199852]), 'maxdistance': 119.95842742919922}\n",
      "{'startpoint': array([21.67409134, 30.39797211, 25.2196331 ]), 'maxdistance': 119.95842742919922}\n",
      "{'startpoint': array([21.54512596, 28.91586304, 25.75710678]), 'maxdistance': 119.95842742919922}\n",
      "{'startpoint': array([21.49177742, 27.48456001, 26.16191673]), 'maxdistance': 119.95842742919922}\n",
      "{'startpoint': array([21.10860634, 25.93890572, 26.14821053]), 'maxdistance': 119.95842742919922}\n",
      "{'startpoint': array([20.15153503, 24.76596069, 25.87213135]), 'maxdistance': 119.95842742919922}\n",
      "{'startpoint': array([19.09191132, 25.00960541, 24.7468338 ]), 'maxdistance': 119.95842742919922}\n",
      "{'startpoint': array([17.95905685, 24.96044159, 23.63691711]), 'maxdistance': 119.95842742919922}\n",
      "{'startpoint': array([16.81165314, 24.56295967, 22.733078  ]), 'maxdistance': 119.95842742919922}\n",
      "{'startpoint': array([15.85643387, 23.86684036, 21.7067585 ]), 'maxdistance': 119.95842742919922}\n",
      "{'startpoint': array([14.72731209, 23.06739426, 21.18663788]), 'maxdistance': 119.95842742919922}\n",
      "{'startpoint': array([13.7422533 , 21.9303112 , 20.77630806]), 'maxdistance': 119.95842742919922}\n",
      "{'startpoint': array([12.93116188, 20.69598961, 20.4576664 ]), 'maxdistance': 119.95842742919922}\n",
      "{'startpoint': array([12.24374294, 19.50310898, 19.97660446]), 'maxdistance': 119.95842742919922}\n",
      "{'startpoint': array([11.68657207, 18.14492416, 19.46436501]), 'maxdistance': 119.95842742919922}\n",
      "{'startpoint': array([11.28205967, 16.74098587, 19.15924835]), 'maxdistance': 119.95842742919922}\n",
      "{'startpoint': array([11.05569458, 15.30473804, 18.98529816]), 'maxdistance': 119.95842742919922}\n",
      "{'startpoint': array([10.98417091, 13.75460243, 19.06244087]), 'maxdistance': 119.95842742919922}\n",
      "{'startpoint': array([10.94088745, 12.28543568, 18.71092796]), 'maxdistance': 119.95842742919922}\n",
      "{'startpoint': array([10.92997646, 10.84561729, 18.22468758]), 'maxdistance': 119.95842742919922}\n",
      "{'startpoint': array([11.11835957,  9.29869366, 18.21256638]), 'maxdistance': 119.95842742919922}\n",
      "{'startpoint': array([11.51974964,  7.77196789, 18.43483162]), 'maxdistance': 119.95842742919922}\n",
      "{'startpoint': array([12.20321083,  6.42611217, 18.30153275]), 'maxdistance': 119.95842742919922}\n",
      "{'startpoint': array([13.23665237,  5.3740778 , 17.9683094 ]), 'maxdistance': 119.95842742919922}\n",
      "{'startpoint': array([14.6173687 ,  4.74473   , 18.00519943]), 'maxdistance': 119.95842742919922}\n",
      "{'startpoint': array([16.11275291,  4.49608517, 17.76357079]), 'maxdistance': 119.95842742919922}\n",
      "{'startpoint': array([17.67289925,  4.699821  , 17.62692642]), 'maxdistance': 119.95842742919922}\n",
      "{'startpoint': array([19.10839272,  5.36709595, 17.63070107]), 'maxdistance': 119.95842742919922}\n"
     ]
    }
   ],
   "source": [
    "bordermutualdistances = []\n",
    "\n",
    "for v in borderpoints3D:\n",
    "    meshset.compute_scalar_by_geodesic_distance_from_given_point_per_vertex(startpoint = v,\n",
    "                                                                            maxdistance = pml.Percentage(100.0))\n",
    "    bordermutualdistances.append(mesh.vertex_scalar_array())\n",
    "\n",
    "bordermutualdistances = np.array(bordermutualdistances)\n",
    "bordermutualdistances = bordermutualdistances[:, border3DvertIDs[0]]\n",
    "\n",
    "sym_bordermutualdistances = 0.5 * (bordermutualdistances + bordermutualdistances.T)"
   ]
  },
  {
   "cell_type": "code",
   "execution_count": 89,
   "id": "741ca97f-33b9-41e3-92c4-ccf076ed4920",
   "metadata": {},
   "outputs": [
    {
     "data": {
      "text/plain": [
       "(113, 113)"
      ]
     },
     "execution_count": 89,
     "metadata": {},
     "output_type": "execute_result"
    }
   ],
   "source": [
    "bordermutualdistances.shape"
   ]
  },
  {
   "cell_type": "code",
   "execution_count": 108,
   "id": "db09aea4-14f2-4656-bded-2a4c67496f41",
   "metadata": {},
   "outputs": [],
   "source": [
    "# metric = 'minkowski'\n",
    "metric = 'precomputed'\n",
    "\n",
    "isomap = manifold.Isomap(n_components = 2, \n",
    "                         metric = metric,\n",
    "                         n_neighbors = 20, \n",
    "                         p = 1)"
   ]
  },
  {
   "cell_type": "code",
   "execution_count": 109,
   "id": "e44ede00-906e-4a28-972c-6ab815aa106f",
   "metadata": {},
   "outputs": [],
   "source": [
    "if metric == 'minkowski':\n",
    "    x_isomink = isomap.fit_transform(mesh.vertex_matrix())\n",
    "elif metric == 'precomputed':\n",
    "    x_iso = isomap.fit_transform(mutualdistances)\n",
    "    # x_iso_border = isomap.fit_transform(bordermutualdistances)"
   ]
  },
  {
   "cell_type": "code",
   "execution_count": 110,
   "id": "3f396b8e-840f-4bff-b17d-ac9b39b2c66e",
   "metadata": {},
   "outputs": [
    {
     "data": {
      "text/plain": [
       "22.47024559967189"
      ]
     },
     "execution_count": 110,
     "metadata": {},
     "output_type": "execute_result"
    }
   ],
   "source": [
    "isomap.reconstruction_error()"
   ]
  },
  {
   "cell_type": "code",
   "execution_count": 111,
   "id": "f7750272-dc1d-450d-a513-b2aea864cc46",
   "metadata": {
    "scrolled": true,
    "tags": []
   },
   "outputs": [
    {
     "data": {
      "text/plain": [
       "{'n_neighbors': 20,\n",
       " 'radius': None,\n",
       " 'n_components': 2,\n",
       " 'eigen_solver': 'auto',\n",
       " 'tol': 0,\n",
       " 'max_iter': None,\n",
       " 'path_method': 'auto',\n",
       " 'neighbors_algorithm': 'auto',\n",
       " 'n_jobs': None,\n",
       " 'metric': 'precomputed',\n",
       " 'p': 1,\n",
       " 'metric_params': None,\n",
       " 'nbrs_': NearestNeighbors(metric='precomputed', n_neighbors=20, p=1, radius=None),\n",
       " 'n_features_in_': 1139,\n",
       " 'kernel_pca_': KernelPCA(kernel='precomputed', n_components=2),\n",
       " 'dist_matrix_': array([[ 0.        ,  1.29813767,  1.27699727, ..., 13.91664458,\n",
       "         13.53879515, 13.18220513],\n",
       "        [ 1.29813767,  0.        ,  1.31819509, ..., 14.72402407,\n",
       "         14.34636188, 14.14486945],\n",
       "        [ 1.27699727,  1.31819509,  0.        , ..., 13.44821838,\n",
       "         13.07055619, 12.86906376],\n",
       "        ...,\n",
       "        [13.91664458, 14.72402407, 13.44821838, ...,  0.        ,\n",
       "          1.11523829,  2.26069167],\n",
       "        [13.53879515, 14.34636188, 13.07055619, ...,  1.11523829,\n",
       "          0.        ,  1.1455948 ],\n",
       "        [13.18220513, 14.14486945, 12.86906376, ...,  2.26069167,\n",
       "          1.1455948 ,  0.        ]]),\n",
       " 'embedding_': array([[-9.80308886,  1.01104796],\n",
       "        [-9.36558873, -0.45342252],\n",
       "        [-8.52105268,  0.7467693 ],\n",
       "        ...,\n",
       "        [-0.20697972, 10.99614468],\n",
       "        [-1.31419127, 11.32073853],\n",
       "        [-2.4629143 , 11.65095458]]),\n",
       " '_n_features_out': 2}"
      ]
     },
     "execution_count": 111,
     "metadata": {},
     "output_type": "execute_result"
    }
   ],
   "source": [
    "isomap.__dict__"
   ]
  },
  {
   "cell_type": "code",
   "execution_count": 24,
   "id": "125d894e-c42e-4f7f-a0d1-32e871a16da3",
   "metadata": {},
   "outputs": [],
   "source": [
    "md_scaling = manifold.MDS(n_components = 2, n_init = 10, verbose = 1, dissimilarity = 'precomputed')"
   ]
  },
  {
   "cell_type": "code",
   "execution_count": 25,
   "id": "0b8e76c6-7f8c-4827-ac0f-3e9c346e0f4a",
   "metadata": {
    "scrolled": true,
    "tags": []
   },
   "outputs": [
    {
     "name": "stdout",
     "output_type": "stream",
     "text": [
      "breaking at iteration 94 with stress 378843.4588397852\n",
      "breaking at iteration 92 with stress 378843.11229028244\n",
      "breaking at iteration 91 with stress 378840.448543346\n",
      "breaking at iteration 90 with stress 378840.5981549414\n",
      "breaking at iteration 120 with stress 378843.7450124189\n",
      "breaking at iteration 88 with stress 378838.3083034053\n",
      "breaking at iteration 84 with stress 378842.40010712494\n",
      "breaking at iteration 90 with stress 378832.8035206345\n",
      "breaking at iteration 79 with stress 378822.03703320835\n",
      "breaking at iteration 96 with stress 378840.5439435158\n"
     ]
    }
   ],
   "source": [
    "x_mds = md_scaling.fit_transform(sym_mutualdistances)"
   ]
  },
  {
   "cell_type": "code",
   "execution_count": 26,
   "id": "fa201889-fe3b-4c32-aca7-9c643f271b96",
   "metadata": {},
   "outputs": [
    {
     "data": {
      "text/plain": [
       "0.7642032692974666"
      ]
     },
     "execution_count": 26,
     "metadata": {},
     "output_type": "execute_result"
    }
   ],
   "source": [
    "# Compute stress\n",
    "# stress = ((dis.ravel() - disparities.ravel()) ** 2).sum() / 2\n",
    "\n",
    "np.sqrt(2 * md_scaling.stress_) / len(sym_mutualdistances)"
   ]
  },
  {
   "cell_type": "code",
   "execution_count": 311,
   "id": "0a298b17-5a94-441b-8a86-9e242f92d52a",
   "metadata": {},
   "outputs": [
    {
     "data": {
      "text/plain": [
       "{'n_components': 2,\n",
       " 'dissimilarity': 'precomputed',\n",
       " 'metric': True,\n",
       " 'n_init': 10,\n",
       " 'max_iter': 300,\n",
       " 'eps': 0.001,\n",
       " 'verbose': 1,\n",
       " 'n_jobs': None,\n",
       " 'random_state': None,\n",
       " 'n_features_in_': 1139,\n",
       " 'dissimilarity_matrix_': array([[ 0.        ,  1.29813768,  1.27699723, ..., 13.77552907,\n",
       "         13.39665254, 13.09426194],\n",
       "        [ 1.29813768,  0.        ,  1.31819509, ..., 14.58741071,\n",
       "         14.28805992, 14.06458421],\n",
       "        [ 1.27699723,  1.31819509,  0.        , ..., 13.28775546,\n",
       "         13.01072969, 12.82102837],\n",
       "        ...,\n",
       "        [13.77552907, 14.58741071, 13.28775546, ...,  0.        ,\n",
       "          1.11523827,  2.26069162],\n",
       "        [13.39665254, 14.28805992, 13.01072969, ...,  1.11523827,\n",
       "          0.        ,  1.14559476],\n",
       "        [13.09426194, 14.06458421, 12.82102837, ...,  2.26069162,\n",
       "          1.14559476,  0.        ]]),\n",
       " 'embedding_': array([[  8.34972138,  -4.35198242],\n",
       "        [  8.55731093,  -2.93378199],\n",
       "        [  7.34364097,  -3.61691559],\n",
       "        ...,\n",
       "        [ -4.38374619,  -9.95219238],\n",
       "        [ -3.51933287, -10.72875358],\n",
       "        [ -2.61920928, -11.5068357 ]]),\n",
       " 'stress_': 378822.03703320835,\n",
       " 'n_iter_': 80}"
      ]
     },
     "execution_count": 311,
     "metadata": {},
     "output_type": "execute_result"
    }
   ],
   "source": [
    "md_scaling.__dict__"
   ]
  },
  {
   "cell_type": "code",
   "execution_count": 27,
   "id": "c17eb3d4-5575-4a92-b820-23a92c305019",
   "metadata": {},
   "outputs": [
    {
     "name": "stdout",
     "output_type": "stream",
     "text": [
      "{'allfaces': True, 'allverts': True}\n",
      "{}\n",
      "{'allfaces': True, 'allverts': True}\n",
      "perimeter:  169.91773731083248\n",
      "surface area:  1426.290127401824\n"
     ]
    }
   ],
   "source": [
    "meshset.set_selection_all(allverts = True, allfaces = True)\n",
    "\n",
    "r = meshset.get_area_and_perimeter_of_selection()\n",
    "\n",
    "meshset.set_selection_none(allverts = True, allfaces = True)\n",
    "\n",
    "perimeter = r['perimeter']\n",
    "surface_area = r['selected_surface_area']\n",
    "\n",
    "print(\"perimeter: \", perimeter)\n",
    "print(\"surface area: \", surface_area)"
   ]
  },
  {
   "cell_type": "code",
   "execution_count": null,
   "id": "fb322aa8-a216-44fe-8f29-ade2d709012e",
   "metadata": {},
   "outputs": [],
   "source": [
    "newx, newy = x_mds.T"
   ]
  },
  {
   "cell_type": "code",
   "execution_count": 101,
   "id": "7f7b48bb-8a2e-4fb0-9bd9-9aeca06528b1",
   "metadata": {},
   "outputs": [],
   "source": [
    "newx, newy = x_iso_border.T"
   ]
  },
  {
   "cell_type": "code",
   "execution_count": 101,
   "id": "3c88743f",
   "metadata": {},
   "outputs": [],
   "source": [
    "newx, newy = x_iso_border.T"
   ]
  },
  {
   "cell_type": "code",
   "execution_count": 100,
   "id": "480d93cd-2018-4f48-a71f-6daf412e65cf",
   "metadata": {},
   "outputs": [
    {
     "data": {
      "text/plain": [
       "{'x': 'x', 'y': 'y', 'z': 'sin(x+y)', 'onselected': False}"
      ]
     },
     "execution_count": 100,
     "metadata": {},
     "output_type": "execute_result"
    }
   ],
   "source": [
    "meshset.filter_parameter_values(\"compute_coord_by_function\")"
   ]
  },
  {
   "cell_type": "code",
   "execution_count": 28,
   "id": "e3e577a2-0066-463e-b2cc-f4eb3c11029b",
   "metadata": {},
   "outputs": [],
   "source": [
    "meshset.set_current_mesh(0)\n",
    "\n",
    "newx, newy = x_mds.T\n",
    "xname = \"uMDS\"\n",
    "yname = \"vMDS\"\n",
    "\n",
    "mesh.add_vertex_custom_scalar_attribute(newx, xname)\n",
    "mesh.add_vertex_custom_scalar_attribute(newy, yname)"
   ]
  },
  {
   "cell_type": "code",
   "execution_count": 102,
   "id": "ec1eb974-c02b-4825-bf53-9abf5a26da6f",
   "metadata": {},
   "outputs": [
    {
     "ename": "PyMeshLabException",
     "evalue": "The given vector has different number of elements than the number of vertices of the mesh.",
     "output_type": "error",
     "traceback": [
      "\u001b[1;31m---------------------------------------------------------------------------\u001b[0m",
      "\u001b[1;31mPyMeshLabException\u001b[0m                        Traceback (most recent call last)",
      "Input \u001b[1;32mIn [102]\u001b[0m, in \u001b[0;36m<cell line: 7>\u001b[1;34m()\u001b[0m\n\u001b[0;32m      4\u001b[0m xname \u001b[38;5;241m=\u001b[39m \u001b[38;5;124m\"\u001b[39m\u001b[38;5;124muISO\u001b[39m\u001b[38;5;124m\"\u001b[39m\n\u001b[0;32m      5\u001b[0m yname \u001b[38;5;241m=\u001b[39m \u001b[38;5;124m\"\u001b[39m\u001b[38;5;124mvISO\u001b[39m\u001b[38;5;124m\"\u001b[39m\n\u001b[1;32m----> 7\u001b[0m \u001b[43mmesh\u001b[49m\u001b[38;5;241;43m.\u001b[39;49m\u001b[43madd_vertex_custom_scalar_attribute\u001b[49m\u001b[43m(\u001b[49m\u001b[43mnewx\u001b[49m\u001b[43m,\u001b[49m\u001b[43m \u001b[49m\u001b[43mxname\u001b[49m\u001b[43m)\u001b[49m\n\u001b[0;32m      8\u001b[0m mesh\u001b[38;5;241m.\u001b[39madd_vertex_custom_scalar_attribute(newy, yname)\n",
      "\u001b[1;31mPyMeshLabException\u001b[0m: The given vector has different number of elements than the number of vertices of the mesh."
     ]
    }
   ],
   "source": [
    "meshset.set_current_mesh(0)\n",
    "\n",
    "newx, newy = x_iso_border.T # x_iso.T\n",
    "xname = \"uISO\"\n",
    "yname = \"vISO\"\n",
    "\n",
    "mesh.add_vertex_custom_scalar_attribute(newx, xname)\n",
    "mesh.add_vertex_custom_scalar_attribute(newy, yname)"
   ]
  },
  {
   "cell_type": "code",
   "execution_count": 138,
   "id": "54ff3f54-5f64-49cb-a37c-ba988934c09f",
   "metadata": {},
   "outputs": [],
   "source": [
    "meshset.set_current_mesh(0)\n",
    "\n",
    "newx, newy = x_isomink.T\n",
    "xname = \"uISOmink\"\n",
    "yname = \"vISOmink\"\n",
    "\n",
    "mesh.add_vertex_custom_scalar_attribute(newx, xname)\n",
    "mesh.add_vertex_custom_scalar_attribute(newy, yname)"
   ]
  },
  {
   "cell_type": "code",
   "execution_count": 104,
   "id": "14149ef6-9a52-4182-9656-440025a64419",
   "metadata": {},
   "outputs": [
    {
     "name": "stdout",
     "output_type": "stream",
     "text": [
      "0 {'newname': 'IsotropicRemesh1.2TrimmedIsotropicRemesh0.15mm.obj'}\n"
     ]
    }
   ],
   "source": [
    "for meshnumber in range(meshset.number_meshes()):\n",
    "    meshset.set_current_mesh(meshnumber)\n",
    "    \n",
    "    print(meshset.current_mesh_id(),\n",
    "          meshset.filter_parameter_values(\"set_mesh_name\"))"
   ]
  },
  {
   "cell_type": "code",
   "execution_count": 492,
   "id": "042fd985-77fd-4d46-b3fa-2535e93a4f07",
   "metadata": {},
   "outputs": [
    {
     "name": "stdout",
     "output_type": "stream",
     "text": [
      "{}\n",
      "{'x': 'vtu', 'y': 'vtv', 'z': '0.0', 'onselected': False}\n"
     ]
    }
   ],
   "source": [
    "meshdict = {1: mBFF0, 2: mOC}\n",
    "\n",
    "meshnumber = 2\n",
    "\n",
    "meshset.set_current_mesh(meshnumber)\n",
    "\n",
    "meshset.compute_texcoord_transfer_wedge_to_vertex()\n",
    "meshset.compute_coord_by_function(x = 'vtu', y = 'vtv', z = '0.0', onselected = False)\n",
    "\n",
    "meshdict[meshnumber] = meshset.current_mesh()\n",
    "\n",
    "mesh = meshdict[meshnumber]"
   ]
  },
  {
   "cell_type": "code",
   "execution_count": 488,
   "id": "60c2d780-d682-442d-8586-631b0be8fbbc",
   "metadata": {},
   "outputs": [],
   "source": []
  },
  {
   "cell_type": "code",
   "execution_count": 524,
   "id": "3ae93480-10d7-4cb9-9611-bba3f0841f79",
   "metadata": {},
   "outputs": [],
   "source": [
    "meshset.set_current_mesh(0)\n",
    "\n",
    "xname = \"uISO\"\n",
    "yname = \"vISO\"\n",
    "\n",
    "newx, newy = x_iso.T"
   ]
  },
  {
   "cell_type": "code",
   "execution_count": 527,
   "id": "1f4470a7-8f55-48aa-a567-8c198996bf28",
   "metadata": {},
   "outputs": [
    {
     "name": "stdout",
     "output_type": "stream",
     "text": [
      "{'x': 'uISO', 'y': 'vISO', 'z': '0.0', 'onselected': False}\n"
     ]
    }
   ],
   "source": [
    "meshset.compute_coord_by_function(x = xname, y = yname, z = '0.0', onselected = False)\n",
    "\n",
    "mesh = meshset.current_mesh()"
   ]
  },
  {
   "cell_type": "raw",
   "id": "145714fe-6aae-40a7-9fa4-0b272a2953d6",
   "metadata": {},
   "source": [
    "meshset.compute_matrix_by_principal_axis()"
   ]
  },
  {
   "cell_type": "code",
   "execution_count": 528,
   "id": "1c59b35e-d15d-4150-9039-4114bf372f16",
   "metadata": {},
   "outputs": [
    {
     "data": {
      "text/plain": [
       "array([[-9.80308909,  1.01104811,  0.        ],\n",
       "       [-9.36558898, -0.45342239,  0.        ],\n",
       "       [-8.52105295,  0.74676944,  0.        ],\n",
       "       ...,\n",
       "       [-0.20698001, 10.99614494,  0.        ],\n",
       "       [-1.31419154, 11.32073878,  0.        ],\n",
       "       [-2.46291454, 11.65095482,  0.        ]])"
      ]
     },
     "execution_count": 528,
     "metadata": {},
     "output_type": "execute_result"
    }
   ],
   "source": [
    "mesh.vertex_matrix()"
   ]
  },
  {
   "cell_type": "code",
   "execution_count": 529,
   "id": "c1c5f02f-a209-47fe-b7f0-30ce8024c861",
   "metadata": {},
   "outputs": [
    {
     "name": "stdout",
     "output_type": "stream",
     "text": [
      "{'metric': 3}\n"
     ]
    },
    {
     "data": {
      "text/plain": [
       "array([0.88094108, 0.85546287, 0.91731798, ..., 0.60703733, 0.56202845,\n",
       "       0.60912505])"
      ]
     },
     "execution_count": 529,
     "metadata": {},
     "output_type": "execute_result"
    }
   ],
   "source": [
    "meshset.compute_scalar_by_aspect_ratio_per_face(metric = 'Area')\n",
    "\n",
    "faceareasUV = mesh.face_scalar_array()\n",
    "faceareasUV"
   ]
  },
  {
   "cell_type": "code",
   "execution_count": 530,
   "id": "38ce2c26-75cb-4665-965f-632809ca63b7",
   "metadata": {},
   "outputs": [
    {
     "name": "stdout",
     "output_type": "stream",
     "text": [
      "0.10882162405448731\n",
      "1.0523420919367135\n",
      "1.5930156492192409\n",
      "0.2512779134568536\n"
     ]
    }
   ],
   "source": [
    "print((faceareasUV / faceareas3D).min())\n",
    "print((faceareasUV / faceareas3D).mean())\n",
    "print((faceareasUV / faceareas3D).max())\n",
    "print((faceareasUV / faceareas3D).std())"
   ]
  },
  {
   "cell_type": "raw",
   "id": "f9269d7f-0471-47b6-b15c-1c0a0b7f6173",
   "metadata": {},
   "source": [
    "BFF0:\n",
    "\n",
    "0.5111832504812049\n",
    "0.8103049644081836\n",
    "1.1038573271217966\n",
    "0.1339959064086548\n",
    "\n",
    "OptCuts 4.1:\n",
    "\n",
    "0.8612236558211315\n",
    "1.0000499435470591\n",
    "1.458887620127266\n",
    "0.06476805498161976\n",
    "\n",
    "MDS:\n",
    "\n",
    "0.6185476470678658\n",
    "0.9852710240273859\n",
    "1.2219690212851015\n",
    "0.07603279922239428\n",
    "\n",
    "ISOmap:\n",
    "\n",
    "0.10882162405448731\n",
    "1.0523420919367135\n",
    "1.5930156492192409\n",
    "0.2512779134568536\n",
    "\n",
    "ISOmap Minkowski:\n",
    "\n",
    "0.0006608067645415529\n",
    "1.5917239906875387\n",
    "3.5181041041614947\n",
    "0.7405235518527712"
   ]
  },
  {
   "cell_type": "code",
   "execution_count": 531,
   "id": "22e68c5e-0389-457a-a6f7-8bc8e6b7ff70",
   "metadata": {},
   "outputs": [
    {
     "name": "stdout",
     "output_type": "stream",
     "text": [
      "{'allfaces': True, 'allverts': True}\n",
      "{}\n",
      "{'allfaces': True, 'allverts': True}\n",
      "flat perimeter:  179.7446127886341\n",
      "flat surface area:  1493.782946484572\n"
     ]
    }
   ],
   "source": [
    "meshset.set_selection_all()\n",
    "\n",
    "r = meshset.get_area_and_perimeter_of_selection()\n",
    "\n",
    "meshset.set_selection_none()\n",
    "\n",
    "flatperimeter = r['perimeter']\n",
    "flatsurface_area = r['selected_surface_area']\n",
    "\n",
    "print(\"flat perimeter: \", flatperimeter)\n",
    "print(\"flat surface area: \", flatsurface_area)"
   ]
  },
  {
   "cell_type": "code",
   "execution_count": 532,
   "id": "41fc67e1-f669-4d33-bd23-fd6d92d81739",
   "metadata": {},
   "outputs": [
    {
     "data": {
      "text/plain": [
       "1.0578331352178096"
      ]
     },
     "execution_count": 532,
     "metadata": {},
     "output_type": "execute_result"
    }
   ],
   "source": [
    "flatperimeter / perimeter"
   ]
  },
  {
   "cell_type": "raw",
   "id": "c9331efb-6e24-410e-9bed-6ac32688bfc6",
   "metadata": {},
   "source": [
    "BFF0: 0.9999123790856965\n",
    "\n",
    "OptCuts 4.1: 1.088596567466893\n",
    "\n",
    "MDS: 1.0712298612892028\n",
    "\n",
    "ISOmap: 1.0578331352178096\n",
    "\n",
    "ISOmap Minkowski: 1.3873225199981452"
   ]
  },
  {
   "cell_type": "code",
   "execution_count": 533,
   "id": "36f52319-a570-42cd-ae1e-8efd8fd07f91",
   "metadata": {},
   "outputs": [
    {
     "data": {
      "text/plain": [
       "1.0473205400402616"
      ]
     },
     "execution_count": 533,
     "metadata": {},
     "output_type": "execute_result"
    }
   ],
   "source": [
    "flatsurface_area / surface_area"
   ]
  },
  {
   "cell_type": "raw",
   "id": "21bf271d-eb59-4802-a688-7e260c1fea16",
   "metadata": {},
   "source": [
    "BFF0: 0.8125865967074336\n",
    "\n",
    "OptCuts 4.1: 1.0015458320796933\n",
    "\n",
    "MDS: 0.9852616644172932\n",
    "\n",
    "ISOmap: 1.0712298612892028 ??? 1.0473205400402616 ???\n",
    "\n",
    "ISOmap Minkowski: 1.588351654234774"
   ]
  },
  {
   "cell_type": "code",
   "execution_count": null,
   "id": "f8863a51-7128-42b1-b6a1-cad5952cc24c",
   "metadata": {},
   "outputs": [],
   "source": [
    "meshset.compute_selection_from_mesh_border()"
   ]
  },
  {
   "cell_type": "code",
   "execution_count": null,
   "id": "0eb5671d-1f3f-4c18-ad79-e6902c8e5bdb",
   "metadata": {},
   "outputs": [],
   "source": [
    "mesh.vertex_selection_array().nonzero()"
   ]
  },
  {
   "cell_type": "code",
   "execution_count": 323,
   "id": "42771250-0e2c-4064-8c77-5d7b407fbb3e",
   "metadata": {},
   "outputs": [],
   "source": [
    "mesh = meshset.current_mesh()"
   ]
  },
  {
   "cell_type": "code",
   "execution_count": 534,
   "id": "1f5888ad-00db-454b-8d1f-f54ae2e67d0b",
   "metadata": {
    "scrolled": true,
    "tags": []
   },
   "outputs": [
    {
     "name": "stdout",
     "output_type": "stream",
     "text": [
      "{'startpoint': array([-9.80308914,  1.01104808,  0.        ]), 'maxdistance': 151.18145751953125}\n",
      "{'startpoint': array([-9.36558914, -0.4534224 ,  0.        ]), 'maxdistance': 151.18145751953125}\n",
      "{'startpoint': array([-8.52105331,  0.74676943,  0.        ]), 'maxdistance': 151.18145751953125}\n",
      "{'startpoint': array([-10.62788868,  -0.13873689,   0.        ]), 'maxdistance': 151.18145751953125}\n",
      "{'startpoint': array([-10.29350376,  -1.67550516,   0.        ]), 'maxdistance': 151.18145751953125}\n",
      "{'startpoint': array([-11.3725853 ,  -1.34710956,   0.        ]), 'maxdistance': 151.18145751953125}\n",
      "{'startpoint': array([-8.92024612, -1.94513488,  0.        ]), 'maxdistance': 151.18145751953125}\n",
      "{'startpoint': array([-8.12285709, -0.90681368,  0.        ]), 'maxdistance': 151.18145751953125}\n",
      "{'startpoint': array([-7.29229927,  0.15692686,  0.        ]), 'maxdistance': 151.18145751953125}\n",
      "{'startpoint': array([-7.41861534,  1.33493996,  0.        ]), 'maxdistance': 151.18145751953125}\n",
      "{'startpoint': array([-6.8734231 , -1.25377285,  0.        ]), 'maxdistance': 151.18145751953125}\n",
      "{'startpoint': array([-7.47462893, -2.46500278,  0.        ]), 'maxdistance': 151.18145751953125}\n",
      "{'startpoint': array([-8.57522678, -3.19166946,  0.        ]), 'maxdistance': 151.18145751953125}\n",
      "{'startpoint': array([-9.96015263, -2.97626162,  0.        ]), 'maxdistance': 151.18145751953125}\n",
      "{'startpoint': array([-11.3868103 ,  -2.86692572,   0.        ]), 'maxdistance': 151.18145751953125}\n",
      "{'startpoint': array([-12.46239853,  -1.59072626,   0.        ]), 'maxdistance': 151.18145751953125}\n",
      "{'startpoint': array([-11.97465897,   0.01650698,   0.        ]), 'maxdistance': 151.18145751953125}\n",
      "{'startpoint': array([-11.09088039,   1.24241364,   0.        ]), 'maxdistance': 151.18145751953125}\n",
      "{'startpoint': array([-10.25476074,   2.39197683,   0.        ]), 'maxdistance': 151.18145751953125}\n",
      "{'startpoint': array([-9.11096382,  2.10577083,  0.        ]), 'maxdistance': 151.18145751953125}\n",
      "{'startpoint': array([-7.97477531,  2.2130096 ,  0.        ]), 'maxdistance': 151.18145751953125}\n",
      "{'startpoint': array([-8.44480324,  3.32053375,  0.        ]), 'maxdistance': 151.18145751953125}\n",
      "{'startpoint': array([-9.40041542,  3.61492515,  0.        ]), 'maxdistance': 151.18145751953125}\n",
      "{'startpoint': array([-10.56359673,   3.77681065,   0.        ]), 'maxdistance': 151.18145751953125}\n",
      "{'startpoint': array([-11.40202045,   2.62223935,   0.        ]), 'maxdistance': 151.18145751953125}\n",
      "{'startpoint': array([-12.33720875,   1.33574009,   0.        ]), 'maxdistance': 151.18145751953125}\n",
      "{'startpoint': array([-1.32534008e+01, -6.26486819e-03,  0.00000000e+00]), 'maxdistance': 151.18145751953125}\n",
      "{'startpoint': array([-13.41264248,   1.6211344 ,   0.        ]), 'maxdistance': 151.18145751953125}\n",
      "{'startpoint': array([-12.50213337,   2.78551459,   0.        ]), 'maxdistance': 151.18145751953125}\n",
      "{'startpoint': array([-11.73101616,   3.96607518,   0.        ]), 'maxdistance': 151.18145751953125}\n",
      "{'startpoint': array([-10.95976162,   5.08552694,   0.        ]), 'maxdistance': 151.18145751953125}\n",
      "{'startpoint': array([-9.65845776,  4.91137743,  0.        ]), 'maxdistance': 151.18145751953125}\n",
      "{'startpoint': array([-8.30731869,  4.65800476,  0.        ]), 'maxdistance': 151.18145751953125}\n",
      "{'startpoint': array([-7.38689518,  3.59521246,  0.        ]), 'maxdistance': 151.18145751953125}\n",
      "{'startpoint': array([-6.71505356,  2.4648428 ,  0.        ]), 'maxdistance': 151.18145751953125}\n",
      "{'startpoint': array([-6.2909255 ,  1.22196043,  0.        ]), 'maxdistance': 151.18145751953125}\n",
      "{'startpoint': array([-6.03923512, -0.08822796,  0.        ]), 'maxdistance': 151.18145751953125}\n",
      "{'startpoint': array([-5.63504553, -1.32299817,  0.        ]), 'maxdistance': 151.18145751953125}\n",
      "{'startpoint': array([-6.03707981, -2.44321823,  0.        ]), 'maxdistance': 151.18145751953125}\n",
      "{'startpoint': array([-6.34143448, -3.67287111,  0.        ]), 'maxdistance': 151.18145751953125}\n",
      "{'startpoint': array([-7.41085291, -3.92148995,  0.        ]), 'maxdistance': 151.18145751953125}\n",
      "{'startpoint': array([-8.26632977, -4.49405193,  0.        ]), 'maxdistance': 151.18145751953125}\n",
      "{'startpoint': array([-9.35577583, -4.26157093,  0.        ]), 'maxdistance': 151.18145751953125}\n",
      "{'startpoint': array([-10.58900738,  -4.2012682 ,   0.        ]), 'maxdistance': 151.18145751953125}\n",
      "{'startpoint': array([-11.69605637,  -4.53149939,   0.        ]), 'maxdistance': 151.18145751953125}\n",
      "{'startpoint': array([-12.74604034,  -3.26055861,   0.        ]), 'maxdistance': 151.18145751953125}\n",
      "{'startpoint': array([-13.56064701,  -1.70430791,   0.        ]), 'maxdistance': 151.18145751953125}\n",
      "{'startpoint': array([-14.52707767,  -0.42210945,   0.        ]), 'maxdistance': 151.18145751953125}\n",
      "{'startpoint': array([-14.43880558,   0.93689919,   0.        ]), 'maxdistance': 151.18145751953125}\n",
      "{'startpoint': array([-14.41536903,   2.50111365,   0.        ]), 'maxdistance': 151.18145751953125}\n",
      "{'startpoint': array([-13.47520542,   3.02891088,   0.        ]), 'maxdistance': 151.18145751953125}\n",
      "{'startpoint': array([-12.88537407,   4.10887337,   0.        ]), 'maxdistance': 151.18145751953125}\n",
      "{'startpoint': array([-12.24032402,   5.2064867 ,   0.        ]), 'maxdistance': 151.18145751953125}\n",
      "{'startpoint': array([-11.51522064,   6.2550621 ,   0.        ]), 'maxdistance': 151.18145751953125}\n",
      "{'startpoint': array([-10.11433983,   6.10752439,   0.        ]), 'maxdistance': 151.18145751953125}\n",
      "{'startpoint': array([-8.83247566,  5.96981001,  0.        ]), 'maxdistance': 151.18145751953125}\n",
      "{'startpoint': array([-7.50410223,  5.76289177,  0.        ]), 'maxdistance': 151.18145751953125}\n",
      "{'startpoint': array([-6.83738136,  4.69296026,  0.        ]), 'maxdistance': 151.18145751953125}\n",
      "{'startpoint': array([-6.04583025,  3.56518793,  0.        ]), 'maxdistance': 151.18145751953125}\n",
      "{'startpoint': array([-5.49816179,  2.34682178,  0.        ]), 'maxdistance': 151.18145751953125}\n",
      "{'startpoint': array([-5.14228535,  0.96224123,  0.        ]), 'maxdistance': 151.18145751953125}\n",
      "{'startpoint': array([-4.81997347, -0.49341744,  0.        ]), 'maxdistance': 151.18145751953125}\n",
      "{'startpoint': array([-4.58791685, -2.08477092,  0.        ]), 'maxdistance': 151.18145751953125}\n",
      "{'startpoint': array([-5.05952597, -3.47460532,  0.        ]), 'maxdistance': 151.18145751953125}\n",
      "{'startpoint': array([-5.35518694, -4.89303541,  0.        ]), 'maxdistance': 151.18145751953125}\n",
      "{'startpoint': array([-6.39308023, -5.11053848,  0.        ]), 'maxdistance': 151.18145751953125}\n",
      "{'startpoint': array([-7.46757364, -5.43966818,  0.        ]), 'maxdistance': 151.18145751953125}\n",
      "{'startpoint': array([-8.51516247, -5.61876822,  0.        ]), 'maxdistance': 151.18145751953125}\n",
      "{'startpoint': array([-9.69699669, -5.45559025,  0.        ]), 'maxdistance': 151.18145751953125}\n",
      "{'startpoint': array([-10.83980942,  -5.68316507,   0.        ]), 'maxdistance': 151.18145751953125}\n",
      "{'startpoint': array([-9.90652275, -6.50688219,  0.        ]), 'maxdistance': 151.18145751953125}\n",
      "{'startpoint': array([-8.77646065, -6.71172428,  0.        ]), 'maxdistance': 151.18145751953125}\n",
      "{'startpoint': array([-7.60520601, -6.91839695,  0.        ]), 'maxdistance': 151.18145751953125}\n",
      "{'startpoint': array([-6.6581912 , -6.29528999,  0.        ]), 'maxdistance': 151.18145751953125}\n",
      "{'startpoint': array([-5.55759001, -6.41277027,  0.        ]), 'maxdistance': 151.18145751953125}\n",
      "{'startpoint': array([-6.40748024, -7.43291283,  0.        ]), 'maxdistance': 151.18145751953125}\n",
      "{'startpoint': array([-7.09372902, -8.41079998,  0.        ]), 'maxdistance': 151.18145751953125}\n",
      "{'startpoint': array([-8.14187717, -7.93922567,  0.        ]), 'maxdistance': 151.18145751953125}\n",
      "{'startpoint': array([-9.36239052, -7.64728498,  0.        ]), 'maxdistance': 151.18145751953125}\n",
      "{'startpoint': array([-10.61048317,  -7.18717051,   0.        ]), 'maxdistance': 151.18145751953125}\n",
      "{'startpoint': array([-11.78545666,  -6.41456223,   0.        ]), 'maxdistance': 151.18145751953125}\n",
      "{'startpoint': array([-12.57241821,  -4.98364735,   0.        ]), 'maxdistance': 151.18145751953125}\n",
      "{'startpoint': array([-13.62286854,  -4.52449226,   0.        ]), 'maxdistance': 151.18145751953125}\n",
      "{'startpoint': array([-13.09056568,  -6.17671347,   0.        ]), 'maxdistance': 151.18145751953125}\n",
      "{'startpoint': array([-12.46342754,  -7.34880018,   0.        ]), 'maxdistance': 151.18145751953125}\n",
      "{'startpoint': array([-11.17140865,  -7.9325304 ,   0.        ]), 'maxdistance': 151.18145751953125}\n",
      "{'startpoint': array([-9.89896965, -8.48709202,  0.        ]), 'maxdistance': 151.18145751953125}\n",
      "{'startpoint': array([-8.81086922, -8.62358189,  0.        ]), 'maxdistance': 151.18145751953125}\n",
      "{'startpoint': array([-7.68453312, -9.25023174,  0.        ]), 'maxdistance': 151.18145751953125}\n",
      "{'startpoint': array([-8.64330387, -9.6391058 ,  0.        ]), 'maxdistance': 151.18145751953125}\n",
      "{'startpoint': array([-9.92356491, -9.8808012 ,  0.        ]), 'maxdistance': 151.18145751953125}\n",
      "{'startpoint': array([-11.46478367,  -9.17885971,   0.        ]), 'maxdistance': 151.18145751953125}\n",
      "{'startpoint': array([-13.07488918,  -8.55137539,   0.        ]), 'maxdistance': 151.18145751953125}\n",
      "{'startpoint': array([-13.93370438,  -6.92432642,   0.        ]), 'maxdistance': 151.18145751953125}\n",
      "{'startpoint': array([-14.64984989,  -8.09605694,   0.        ]), 'maxdistance': 151.18145751953125}\n",
      "{'startpoint': array([-14.39216805,  -5.73245811,   0.        ]), 'maxdistance': 151.18145751953125}\n",
      "{'startpoint': array([-15.44498825,  -6.42463398,   0.        ]), 'maxdistance': 151.18145751953125}\n",
      "{'startpoint': array([-16.2291069 ,  -7.86007643,   0.        ]), 'maxdistance': 151.18145751953125}\n",
      "{'startpoint': array([-16.76922226,  -6.41144562,   0.        ]), 'maxdistance': 151.18145751953125}\n",
      "{'startpoint': array([-17.69154167,  -7.73519516,   0.        ]), 'maxdistance': 151.18145751953125}\n",
      "{'startpoint': array([-17.91530609,  -6.27227116,   0.        ]), 'maxdistance': 151.18145751953125}\n",
      "{'startpoint': array([-18.80021667,  -6.80812979,   0.        ]), 'maxdistance': 151.18145751953125}\n",
      "{'startpoint': array([-19.11825943,  -8.16013527,   0.        ]), 'maxdistance': 151.18145751953125}\n",
      "{'startpoint': array([-18.7873764,  -5.2659812,   0.       ]), 'maxdistance': 151.18145751953125}\n",
      "{'startpoint': array([-17.75961494,  -4.95895386,   0.        ]), 'maxdistance': 151.18145751953125}\n",
      "{'startpoint': array([-16.53030014,  -5.17126369,   0.        ]), 'maxdistance': 151.18145751953125}\n",
      "{'startpoint': array([-15.47023296,  -5.2048192 ,   0.        ]), 'maxdistance': 151.18145751953125}\n",
      "{'startpoint': array([-14.8659687,  -4.1351428,   0.       ]), 'maxdistance': 151.18145751953125}\n",
      "{'startpoint': array([-14.06719017,  -3.12999177,   0.        ]), 'maxdistance': 151.18145751953125}\n",
      "{'startpoint': array([-14.71899605,  -1.81886995,   0.        ]), 'maxdistance': 151.18145751953125}\n",
      "{'startpoint': array([-15.51027966,  -2.70941997,   0.        ]), 'maxdistance': 151.18145751953125}\n",
      "{'startpoint': array([-16.20964622,  -3.70480895,   0.        ]), 'maxdistance': 151.18145751953125}\n",
      "{'startpoint': array([-17.33507729,  -3.67238951,   0.        ]), 'maxdistance': 151.18145751953125}\n",
      "{'startpoint': array([-16.7949791 ,  -2.04993224,   0.        ]), 'maxdistance': 151.18145751953125}\n",
      "{'startpoint': array([-15.79305077,  -1.12842047,   0.        ]), 'maxdistance': 151.18145751953125}\n",
      "{'startpoint': array([-15.66162014,   0.4586291 ,   0.        ]), 'maxdistance': 151.18145751953125}\n",
      "{'startpoint': array([-15.48216438,   1.97595191,   0.        ]), 'maxdistance': 151.18145751953125}\n",
      "{'startpoint': array([-15.18544197,   3.48941302,   0.        ]), 'maxdistance': 151.18145751953125}\n",
      "{'startpoint': array([-14.0856266 ,   3.96174026,   0.        ]), 'maxdistance': 151.18145751953125}\n",
      "{'startpoint': array([-13.50161362,   5.18452883,   0.        ]), 'maxdistance': 151.18145751953125}\n",
      "{'startpoint': array([-14.75768375,   4.90625763,   0.        ]), 'maxdistance': 151.18145751953125}\n",
      "{'startpoint': array([-15.80458927,   4.43180084,   0.        ]), 'maxdistance': 151.18145751953125}\n",
      "{'startpoint': array([-16.32650566,   3.04424405,   0.        ]), 'maxdistance': 151.18145751953125}\n",
      "{'startpoint': array([-16.64441872,   1.50971293,   0.        ]), 'maxdistance': 151.18145751953125}\n",
      "{'startpoint': array([-16.81228065,  -0.22538581,   0.        ]), 'maxdistance': 151.18145751953125}\n",
      "{'startpoint': array([-17.8583622 ,  -0.79458743,   0.        ]), 'maxdistance': 151.18145751953125}\n",
      "{'startpoint': array([-17.97366142,  -2.32014775,   0.        ]), 'maxdistance': 151.18145751953125}\n",
      "{'startpoint': array([-18.70194626,  -3.46554112,   0.        ]), 'maxdistance': 151.18145751953125}\n",
      "{'startpoint': array([-19.7046566 ,  -4.20463991,   0.        ]), 'maxdistance': 151.18145751953125}\n",
      "{'startpoint': array([-19.74873161,  -5.85695076,   0.        ]), 'maxdistance': 151.18145751953125}\n",
      "{'startpoint': array([-19.7819767 ,  -7.14928818,   0.        ]), 'maxdistance': 151.18145751953125}\n",
      "{'startpoint': array([-20.33223534,  -8.07096481,   0.        ]), 'maxdistance': 151.18145751953125}\n",
      "{'startpoint': array([-20.49838638,  -8.69723034,   0.        ]), 'maxdistance': 151.18145751953125}\n",
      "{'startpoint': array([-21.2826767 ,  -8.63825035,   0.        ]), 'maxdistance': 151.18145751953125}\n",
      "{'startpoint': array([-21.76599503,  -9.24984837,   0.        ]), 'maxdistance': 151.18145751953125}\n",
      "{'startpoint': array([-21.49765205,  -8.17824554,   0.        ]), 'maxdistance': 151.18145751953125}\n",
      "{'startpoint': array([-20.72469521,  -7.46078205,   0.        ]), 'maxdistance': 151.18145751953125}\n",
      "{'startpoint': array([-20.78712273,  -6.43849182,   0.        ]), 'maxdistance': 151.18145751953125}\n",
      "{'startpoint': array([-21.72774696,  -7.35134125,   0.        ]), 'maxdistance': 151.18145751953125}\n",
      "{'startpoint': array([-22.60515785,  -8.12505531,   0.        ]), 'maxdistance': 151.18145751953125}\n",
      "{'startpoint': array([-22.30531311,  -8.81040382,   0.        ]), 'maxdistance': 151.18145751953125}\n",
      "{'startpoint': array([-23.08631897,  -9.29447079,   0.        ]), 'maxdistance': 151.18145751953125}\n",
      "{'startpoint': array([-22.77404022,  -9.68279839,   0.        ]), 'maxdistance': 151.18145751953125}\n",
      "{'startpoint': array([-23.67212868,  -9.85044193,   0.        ]), 'maxdistance': 151.18145751953125}\n",
      "{'startpoint': array([-24.17773438, -10.30162144,   0.        ]), 'maxdistance': 151.18145751953125}\n",
      "{'startpoint': array([-24.06775284,  -9.65828991,   0.        ]), 'maxdistance': 151.18145751953125}\n",
      "{'startpoint': array([-24.69470024, -10.20803356,   0.        ]), 'maxdistance': 151.18145751953125}\n",
      "{'startpoint': array([-25.50341797, -10.63401318,   0.        ]), 'maxdistance': 151.18145751953125}\n",
      "{'startpoint': array([-25.58695602, -10.92960644,   0.        ]), 'maxdistance': 151.18145751953125}\n",
      "{'startpoint': array([-26.53302574, -11.09481049,   0.        ]), 'maxdistance': 151.18145751953125}\n",
      "{'startpoint': array([-26.93788528, -11.52394867,   0.        ]), 'maxdistance': 151.18145751953125}\n",
      "{'startpoint': array([-27.48423767, -11.46514988,   0.        ]), 'maxdistance': 151.18145751953125}\n",
      "{'startpoint': array([-28.34524536, -12.09766769,   0.        ]), 'maxdistance': 151.18145751953125}\n",
      "{'startpoint': array([-26.54890442, -10.98489475,   0.        ]), 'maxdistance': 151.18145751953125}\n",
      "{'startpoint': array([-25.73759842, -10.39020157,   0.        ]), 'maxdistance': 151.18145751953125}\n",
      "{'startpoint': array([-25.02429199,  -9.85028744,   0.        ]), 'maxdistance': 151.18145751953125}\n",
      "{'startpoint': array([-24.18069077,  -9.25609875,   0.        ]), 'maxdistance': 151.18145751953125}\n",
      "{'startpoint': array([-23.42278671,  -8.77456665,   0.        ]), 'maxdistance': 151.18145751953125}\n",
      "{'startpoint': array([-23.82824516,  -7.94956112,   0.        ]), 'maxdistance': 151.18145751953125}\n",
      "{'startpoint': array([-22.88584518,  -7.28556061,   0.        ]), 'maxdistance': 151.18145751953125}\n",
      "{'startpoint': array([-22.04598045,  -6.4453702 ,   0.        ]), 'maxdistance': 151.18145751953125}\n",
      "{'startpoint': array([-21.49340439,  -5.44061136,   0.        ]), 'maxdistance': 151.18145751953125}\n",
      "{'startpoint': array([-20.68465805,  -4.91238022,   0.        ]), 'maxdistance': 151.18145751953125}\n",
      "{'startpoint': array([-20.77396393,  -3.35452747,   0.        ]), 'maxdistance': 151.18145751953125}\n",
      "{'startpoint': array([-19.8098793 ,  -2.42933941,   0.        ]), 'maxdistance': 151.18145751953125}\n",
      "{'startpoint': array([-18.97828674,  -1.51421905,   0.        ]), 'maxdistance': 151.18145751953125}\n",
      "{'startpoint': array([-18.858778  ,   0.33804402,   0.        ]), 'maxdistance': 151.18145751953125}\n",
      "{'startpoint': array([-17.7785759 ,   1.02760565,   0.        ]), 'maxdistance': 151.18145751953125}\n",
      "{'startpoint': array([-17.47215462,   2.76281023,   0.        ]), 'maxdistance': 151.18145751953125}\n",
      "{'startpoint': array([-16.80378532,   4.41353559,   0.        ]), 'maxdistance': 151.18145751953125}\n",
      "{'startpoint': array([-15.67049885,   5.7212162 ,   0.        ]), 'maxdistance': 151.18145751953125}\n",
      "{'startpoint': array([-14.17868233,   6.13241863,   0.        ]), 'maxdistance': 151.18145751953125}\n",
      "{'startpoint': array([-12.76148605,   6.37427187,   0.        ]), 'maxdistance': 151.18145751953125}\n",
      "{'startpoint': array([-11.93992043,   7.42747545,   0.        ]), 'maxdistance': 151.18145751953125}\n",
      "{'startpoint': array([-10.64476299,   7.04774952,   0.        ]), 'maxdistance': 151.18145751953125}\n",
      "{'startpoint': array([-9.28808212,  7.25688267,  0.        ]), 'maxdistance': 151.18145751953125}\n",
      "{'startpoint': array([-8.03328991,  6.89748335,  0.        ]), 'maxdistance': 151.18145751953125}\n",
      "{'startpoint': array([-6.63715267,  6.7792573 ,  0.        ]), 'maxdistance': 151.18145751953125}\n",
      "{'startpoint': array([-6.09098482,  5.76121998,  0.        ]), 'maxdistance': 151.18145751953125}\n",
      "{'startpoint': array([-5.40109873,  4.63786745,  0.        ]), 'maxdistance': 151.18145751953125}\n",
      "{'startpoint': array([-4.66524267,  3.46444774,  0.        ]), 'maxdistance': 151.18145751953125}\n",
      "{'startpoint': array([-4.321661  ,  2.02863812,  0.        ]), 'maxdistance': 151.18145751953125}\n",
      "{'startpoint': array([-4.00540257,  0.56214648,  0.        ]), 'maxdistance': 151.18145751953125}\n",
      "{'startpoint': array([-3.6973145 , -0.88465983,  0.        ]), 'maxdistance': 151.18145751953125}\n",
      "{'startpoint': array([-3.19941354, -2.10663104,  0.        ]), 'maxdistance': 151.18145751953125}\n",
      "{'startpoint': array([-3.8537879 , -3.28597689,  0.        ]), 'maxdistance': 151.18145751953125}\n",
      "{'startpoint': array([-4.19900894, -4.64205599,  0.        ]), 'maxdistance': 151.18145751953125}\n",
      "{'startpoint': array([-4.43628645, -6.01427412,  0.        ]), 'maxdistance': 151.18145751953125}\n",
      "{'startpoint': array([-4.51277447, -7.37601566,  0.        ]), 'maxdistance': 151.18145751953125}\n",
      "{'startpoint': array([-5.35601187, -7.98377562,  0.        ]), 'maxdistance': 151.18145751953125}\n",
      "{'startpoint': array([-6.13788462, -8.71325684,  0.        ]), 'maxdistance': 151.18145751953125}\n",
      "{'startpoint': array([-6.46854258, -9.79795933,  0.        ]), 'maxdistance': 151.18145751953125}\n",
      "{'startpoint': array([-5.32635117, -9.37296867,  0.        ]), 'maxdistance': 151.18145751953125}\n",
      "{'startpoint': array([-4.3934226 , -8.75695992,  0.        ]), 'maxdistance': 151.18145751953125}\n",
      "{'startpoint': array([-4.26961899, -9.97515965,  0.        ]), 'maxdistance': 151.18145751953125}\n",
      "{'startpoint': array([ -5.2470789 , -10.53373718,   0.        ]), 'maxdistance': 151.18145751953125}\n",
      "{'startpoint': array([ -6.12811136, -11.07392216,   0.        ]), 'maxdistance': 151.18145751953125}\n",
      "{'startpoint': array([ -7.29287529, -10.43916893,   0.        ]), 'maxdistance': 151.18145751953125}\n",
      "{'startpoint': array([ -8.35050011, -10.81312561,   0.        ]), 'maxdistance': 151.18145751953125}\n",
      "{'startpoint': array([ -6.97901917, -11.82005024,   0.        ]), 'maxdistance': 151.18145751953125}\n",
      "{'startpoint': array([ -5.52864075, -12.17945385,   0.        ]), 'maxdistance': 151.18145751953125}\n",
      "{'startpoint': array([ -5.98597002, -12.87043476,   0.        ]), 'maxdistance': 151.18145751953125}\n",
      "{'startpoint': array([ -4.88030481, -13.04992104,   0.        ]), 'maxdistance': 151.18145751953125}\n",
      "{'startpoint': array([ -5.01310587, -13.86889172,   0.        ]), 'maxdistance': 151.18145751953125}\n",
      "{'startpoint': array([ -3.85438061, -13.52832603,   0.        ]), 'maxdistance': 151.18145751953125}\n",
      "{'startpoint': array([ -3.49896169, -14.43000507,   0.        ]), 'maxdistance': 151.18145751953125}\n",
      "{'startpoint': array([ -2.7256794 , -13.83101559,   0.        ]), 'maxdistance': 151.18145751953125}\n",
      "{'startpoint': array([ -1.96104836, -14.61284351,   0.        ]), 'maxdistance': 151.18145751953125}\n",
      "{'startpoint': array([ -1.55209923, -13.93394947,   0.        ]), 'maxdistance': 151.18145751953125}\n",
      "{'startpoint': array([ -0.49198812, -14.482234  ,   0.        ]), 'maxdistance': 151.18145751953125}\n",
      "{'startpoint': array([ -0.56802601, -13.77842712,   0.        ]), 'maxdistance': 151.18145751953125}\n",
      "{'startpoint': array([  0.26589558, -13.70003414,   0.        ]), 'maxdistance': 151.18145751953125}\n",
      "{'startpoint': array([  0.87687474, -14.17768288,   0.        ]), 'maxdistance': 151.18145751953125}\n",
      "{'startpoint': array([  1.14142799, -13.35839748,   0.        ]), 'maxdistance': 151.18145751953125}\n",
      "{'startpoint': array([  2.03143048, -13.26024151,   0.        ]), 'maxdistance': 151.18145751953125}\n",
      "{'startpoint': array([  1.66220999, -12.57808971,   0.        ]), 'maxdistance': 151.18145751953125}\n",
      "{'startpoint': array([  3.05362797, -12.11161804,   0.        ]), 'maxdistance': 151.18145751953125}\n",
      "{'startpoint': array([  0.79047424, -12.98102951,   0.        ]), 'maxdistance': 151.18145751953125}\n",
      "{'startpoint': array([ -0.09086367, -13.05745029,   0.        ]), 'maxdistance': 151.18145751953125}\n",
      "{'startpoint': array([ -1.05522645, -13.32715702,   0.        ]), 'maxdistance': 151.18145751953125}\n",
      "{'startpoint': array([ -1.98084855, -13.23565674,   0.        ]), 'maxdistance': 151.18145751953125}\n",
      "{'startpoint': array([ -3.12481618, -13.07744312,   0.        ]), 'maxdistance': 151.18145751953125}\n",
      "{'startpoint': array([ -4.3151741 , -12.68242836,   0.        ]), 'maxdistance': 151.18145751953125}\n",
      "{'startpoint': array([ -4.83984518, -11.64797592,   0.        ]), 'maxdistance': 151.18145751953125}\n",
      "{'startpoint': array([ -4.00080919, -11.12147617,   0.        ]), 'maxdistance': 151.18145751953125}\n",
      "{'startpoint': array([ -3.54100251, -12.11356735,   0.        ]), 'maxdistance': 151.18145751953125}\n",
      "{'startpoint': array([ -2.20725369, -12.42271805,   0.        ]), 'maxdistance': 151.18145751953125}\n",
      "{'startpoint': array([ -0.83672762, -12.51346302,   0.        ]), 'maxdistance': 151.18145751953125}\n",
      "{'startpoint': array([  0.62546849, -12.28234863,   0.        ]), 'maxdistance': 151.18145751953125}\n",
      "{'startpoint': array([  1.93121862, -11.77746582,   0.        ]), 'maxdistance': 151.18145751953125}\n",
      "{'startpoint': array([  2.96610355, -11.20801735,   0.        ]), 'maxdistance': 151.18145751953125}\n",
      "{'startpoint': array([  4.24001455, -10.96557903,   0.        ]), 'maxdistance': 151.18145751953125}\n",
      "{'startpoint': array([  3.40991879, -10.16217136,   0.        ]), 'maxdistance': 151.18145751953125}\n",
      "{'startpoint': array([  2.28835106, -10.70375919,   0.        ]), 'maxdistance': 151.18145751953125}\n",
      "{'startpoint': array([  1.06322956, -11.28123093,   0.        ]), 'maxdistance': 151.18145751953125}\n",
      "{'startpoint': array([ -0.18104132, -11.60976124,   0.        ]), 'maxdistance': 151.18145751953125}\n",
      "{'startpoint': array([ -1.39659727, -11.71195698,   0.        ]), 'maxdistance': 151.18145751953125}\n",
      "{'startpoint': array([ -2.72032166, -11.57400227,   0.        ]), 'maxdistance': 151.18145751953125}\n",
      "{'startpoint': array([ -3.13079524, -10.51945305,   0.        ]), 'maxdistance': 151.18145751953125}\n",
      "{'startpoint': array([ -2.04515719, -10.93255711,   0.        ]), 'maxdistance': 151.18145751953125}\n",
      "{'startpoint': array([ -0.96331662, -10.67591763,   0.        ]), 'maxdistance': 151.18145751953125}\n",
      "{'startpoint': array([-2.13559914, -9.97300148,  0.        ]), 'maxdistance': 151.18145751953125}\n",
      "{'startpoint': array([-3.28849435, -9.42586899,  0.        ]), 'maxdistance': 151.18145751953125}\n",
      "{'startpoint': array([-3.48939753, -8.23547268,  0.        ]), 'maxdistance': 151.18145751953125}\n",
      "{'startpoint': array([-3.49345207, -6.94865751,  0.        ]), 'maxdistance': 151.18145751953125}\n",
      "{'startpoint': array([-3.24440908, -5.7162714 ,  0.        ]), 'maxdistance': 151.18145751953125}\n",
      "{'startpoint': array([-3.02506757, -4.51673651,  0.        ]), 'maxdistance': 151.18145751953125}\n",
      "{'startpoint': array([-2.56028199, -3.25947928,  0.        ]), 'maxdistance': 151.18145751953125}\n",
      "{'startpoint': array([-2.03693342, -4.30481911,  0.        ]), 'maxdistance': 151.18145751953125}\n",
      "{'startpoint': array([-1.98601639, -5.54854918,  0.        ]), 'maxdistance': 151.18145751953125}\n",
      "{'startpoint': array([-2.26930261, -6.79190969,  0.        ]), 'maxdistance': 151.18145751953125}\n",
      "{'startpoint': array([-2.53275204, -7.8082428 ,  0.        ]), 'maxdistance': 151.18145751953125}\n",
      "{'startpoint': array([-2.29232955, -8.85417366,  0.        ]), 'maxdistance': 151.18145751953125}\n",
      "{'startpoint': array([-1.25195575, -9.35477829,  0.        ]), 'maxdistance': 151.18145751953125}\n",
      "{'startpoint': array([-1.39242804, -8.00371933,  0.        ]), 'maxdistance': 151.18145751953125}\n",
      "{'startpoint': array([-1.19253337, -6.69511175,  0.        ]), 'maxdistance': 151.18145751953125}\n",
      "{'startpoint': array([-0.21829414, -7.60444403,  0.        ]), 'maxdistance': 151.18145751953125}\n",
      "{'startpoint': array([-0.28668252, -8.69716454,  0.        ]), 'maxdistance': 151.18145751953125}\n",
      "{'startpoint': array([-0.31410921, -9.84879589,  0.        ]), 'maxdistance': 151.18145751953125}\n",
      "{'startpoint': array([  0.30834171, -10.6155014 ,   0.        ]), 'maxdistance': 151.18145751953125}\n",
      "{'startpoint': array([  1.50687957, -10.11307907,   0.        ]), 'maxdistance': 151.18145751953125}\n",
      "{'startpoint': array([ 2.67226672, -9.50489712,  0.        ]), 'maxdistance': 151.18145751953125}\n",
      "{'startpoint': array([ 1.8555721 , -8.80872536,  0.        ]), 'maxdistance': 151.18145751953125}\n",
      "{'startpoint': array([ 0.71779627, -9.41268539,  0.        ]), 'maxdistance': 151.18145751953125}\n",
      "{'startpoint': array([ 0.88706774, -8.17698193,  0.        ]), 'maxdistance': 151.18145751953125}\n",
      "{'startpoint': array([ 0.97472245, -6.91562605,  0.        ]), 'maxdistance': 151.18145751953125}\n",
      "{'startpoint': array([-0.0865565, -6.5199666,  0.       ]), 'maxdistance': 151.18145751953125}\n",
      "{'startpoint': array([-0.62526107, -5.5131793 ,  0.        ]), 'maxdistance': 151.18145751953125}\n",
      "{'startpoint': array([-1.11165357, -4.63695669,  0.        ]), 'maxdistance': 151.18145751953125}\n",
      "{'startpoint': array([-1.19982457, -3.41419744,  0.        ]), 'maxdistance': 151.18145751953125}\n",
      "{'startpoint': array([-1.73530769, -2.25004768,  0.        ]), 'maxdistance': 151.18145751953125}\n",
      "{'startpoint': array([-2.39337969, -1.03387249,  0.        ]), 'maxdistance': 151.18145751953125}\n",
      "{'startpoint': array([-2.85692692,  0.18370864,  0.        ]), 'maxdistance': 151.18145751953125}\n",
      "{'startpoint': array([-3.102422  ,  1.61220264,  0.        ]), 'maxdistance': 151.18145751953125}\n",
      "{'startpoint': array([-3.37823963,  2.79019976,  0.        ]), 'maxdistance': 151.18145751953125}\n",
      "{'startpoint': array([-3.47086406,  3.92282724,  0.        ]), 'maxdistance': 151.18145751953125}\n",
      "{'startpoint': array([-4.06001568,  4.75283432,  0.        ]), 'maxdistance': 151.18145751953125}\n",
      "{'startpoint': array([-4.7322278,  5.7936368,  0.       ]), 'maxdistance': 151.18145751953125}\n",
      "{'startpoint': array([-5.30967808,  6.84425354,  0.        ]), 'maxdistance': 151.18145751953125}\n",
      "{'startpoint': array([-5.89538622,  7.8543644 ,  0.        ]), 'maxdistance': 151.18145751953125}\n",
      "{'startpoint': array([-7.10029697,  7.67159605,  0.        ]), 'maxdistance': 151.18145751953125}\n",
      "{'startpoint': array([-8.14308167,  8.10435295,  0.        ]), 'maxdistance': 151.18145751953125}\n",
      "{'startpoint': array([-6.78983212,  8.68492413,  0.        ]), 'maxdistance': 151.18145751953125}\n",
      "{'startpoint': array([-5.31920099,  8.87319946,  0.        ]), 'maxdistance': 151.18145751953125}\n",
      "{'startpoint': array([-4.55714321,  7.96776247,  0.        ]), 'maxdistance': 151.18145751953125}\n",
      "{'startpoint': array([-4.05473804,  6.85805035,  0.        ]), 'maxdistance': 151.18145751953125}\n",
      "{'startpoint': array([-3.35870004,  5.77563047,  0.        ]), 'maxdistance': 151.18145751953125}\n",
      "{'startpoint': array([-2.48227453,  4.82926321,  0.        ]), 'maxdistance': 151.18145751953125}\n",
      "{'startpoint': array([-2.44357753,  3.57077813,  0.        ]), 'maxdistance': 151.18145751953125}\n",
      "{'startpoint': array([-1.92286396,  2.52548718,  0.        ]), 'maxdistance': 151.18145751953125}\n",
      "{'startpoint': array([-2.08941293,  1.2094121 ,  0.        ]), 'maxdistance': 151.18145751953125}\n",
      "{'startpoint': array([-1.59040046,  0.07833683,  0.        ]), 'maxdistance': 151.18145751953125}\n",
      "{'startpoint': array([-1.05202329, -1.13396621,  0.        ]), 'maxdistance': 151.18145751953125}\n",
      "{'startpoint': array([-0.35818836, -2.55790877,  0.        ]), 'maxdistance': 151.18145751953125}\n",
      "{'startpoint': array([-0.06219133, -4.21283484,  0.        ]), 'maxdistance': 151.18145751953125}\n",
      "{'startpoint': array([ 0.63413763, -5.62412643,  0.        ]), 'maxdistance': 151.18145751953125}\n",
      "{'startpoint': array([ 1.94889998, -6.11008787,  0.        ]), 'maxdistance': 151.18145751953125}\n",
      "{'startpoint': array([ 1.1784544 , -4.79592228,  0.        ]), 'maxdistance': 151.18145751953125}\n",
      "{'startpoint': array([ 0.77551132, -3.42768717,  0.        ]), 'maxdistance': 151.18145751953125}\n",
      "{'startpoint': array([ 1.94653964, -3.93546319,  0.        ]), 'maxdistance': 151.18145751953125}\n",
      "{'startpoint': array([ 2.35565495, -4.9100256 ,  0.        ]), 'maxdistance': 151.18145751953125}\n",
      "{'startpoint': array([ 3.20826674, -5.45912743,  0.        ]), 'maxdistance': 151.18145751953125}\n",
      "{'startpoint': array([ 3.16116023, -3.83101463,  0.        ]), 'maxdistance': 151.18145751953125}\n",
      "{'startpoint': array([ 2.02472281, -2.90266728,  0.        ]), 'maxdistance': 151.18145751953125}\n",
      "{'startpoint': array([ 0.83962667, -2.18586206,  0.        ]), 'maxdistance': 151.18145751953125}\n",
      "{'startpoint': array([ 0.09340129, -1.0662328 ,  0.        ]), 'maxdistance': 151.18145751953125}\n",
      "{'startpoint': array([-0.37520373,  0.18878874,  0.        ]), 'maxdistance': 151.18145751953125}\n",
      "{'startpoint': array([-1.02621377,  1.4368813 ,  0.        ]), 'maxdistance': 151.18145751953125}\n",
      "{'startpoint': array([-0.56975061,  2.76158094,  0.        ]), 'maxdistance': 151.18145751953125}\n",
      "{'startpoint': array([-1.37388551,  3.82973337,  0.        ]), 'maxdistance': 151.18145751953125}\n",
      "{'startpoint': array([-1.10347152,  5.07085896,  0.        ]), 'maxdistance': 151.18145751953125}\n",
      "{'startpoint': array([-2.02551341,  5.99706173,  0.        ]), 'maxdistance': 151.18145751953125}\n",
      "{'startpoint': array([-2.86316609,  6.81415939,  0.        ]), 'maxdistance': 151.18145751953125}\n",
      "{'startpoint': array([-3.23815036,  7.86780787,  0.        ]), 'maxdistance': 151.18145751953125}\n",
      "{'startpoint': array([-1.82498717,  7.33059072,  0.        ]), 'maxdistance': 151.18145751953125}\n",
      "{'startpoint': array([-0.82606626,  6.38361311,  0.        ]), 'maxdistance': 151.18145751953125}\n",
      "{'startpoint': array([0.10860824, 5.50682878, 0.        ]), 'maxdistance': 151.18145751953125}\n",
      "{'startpoint': array([-0.07974497,  4.06420183,  0.        ]), 'maxdistance': 151.18145751953125}\n",
      "{'startpoint': array([0.73552507, 2.7901094 , 0.        ]), 'maxdistance': 151.18145751953125}\n",
      "{'startpoint': array([0.19593629, 1.48531413, 0.        ]), 'maxdistance': 151.18145751953125}\n",
      "{'startpoint': array([0.87906343, 0.3128885 , 0.        ]), 'maxdistance': 151.18145751953125}\n",
      "{'startpoint': array([ 1.06658721, -0.99389124,  0.        ]), 'maxdistance': 151.18145751953125}\n",
      "{'startpoint': array([ 2.0487175 , -1.72192061,  0.        ]), 'maxdistance': 151.18145751953125}\n",
      "{'startpoint': array([ 1.84660637, -0.47585088,  0.        ]), 'maxdistance': 151.18145751953125}\n",
      "{'startpoint': array([2.27250361, 0.46636748, 0.        ]), 'maxdistance': 151.18145751953125}\n",
      "{'startpoint': array([1.48275781, 1.57972181, 0.        ]), 'maxdistance': 151.18145751953125}\n",
      "{'startpoint': array([2.19668102, 2.79139066, 0.        ]), 'maxdistance': 151.18145751953125}\n",
      "{'startpoint': array([1.24004912, 3.73609281, 0.        ]), 'maxdistance': 151.18145751953125}\n",
      "{'startpoint': array([0.94855672, 4.88094044, 0.        ]), 'maxdistance': 151.18145751953125}\n",
      "{'startpoint': array([1.74006402, 4.48387814, 0.        ]), 'maxdistance': 151.18145751953125}\n",
      "{'startpoint': array([2.48144579, 4.07403374, 0.        ]), 'maxdistance': 151.18145751953125}\n",
      "{'startpoint': array([2.29803109, 5.28638554, 0.        ]), 'maxdistance': 151.18145751953125}\n",
      "{'startpoint': array([1.5136168 , 6.03745031, 0.        ]), 'maxdistance': 151.18145751953125}\n",
      "{'startpoint': array([0.51101005, 6.70003414, 0.        ]), 'maxdistance': 151.18145751953125}\n",
      "{'startpoint': array([-0.43883947,  7.47520304,  0.        ]), 'maxdistance': 151.18145751953125}\n",
      "{'startpoint': array([-1.20258617,  8.26123333,  0.        ]), 'maxdistance': 151.18145751953125}\n",
      "{'startpoint': array([-2.35448551,  8.61037636,  0.        ]), 'maxdistance': 151.18145751953125}\n",
      "{'startpoint': array([-3.80331898,  8.97750664,  0.        ]), 'maxdistance': 151.18145751953125}\n",
      "{'startpoint': array([-4.90556526,  9.8216095 ,  0.        ]), 'maxdistance': 151.18145751953125}\n",
      "{'startpoint': array([-6.35034275,  9.67897987,  0.        ]), 'maxdistance': 151.18145751953125}\n",
      "{'startpoint': array([-7.85759115,  9.32366276,  0.        ]), 'maxdistance': 151.18145751953125}\n",
      "{'startpoint': array([-9.1385231 ,  8.50559521,  0.        ]), 'maxdistance': 151.18145751953125}\n",
      "{'startpoint': array([-10.5017004 ,   7.94741392,   0.        ]), 'maxdistance': 151.18145751953125}\n",
      "{'startpoint': array([-11.47452927,   8.67201424,   0.        ]), 'maxdistance': 151.18145751953125}\n",
      "{'startpoint': array([-10.25927734,   8.97197437,   0.        ]), 'maxdistance': 151.18145751953125}\n",
      "{'startpoint': array([-9.27754211,  9.59422112,  0.        ]), 'maxdistance': 151.18145751953125}\n",
      "{'startpoint': array([-10.73757648,   9.85533619,   0.        ]), 'maxdistance': 151.18145751953125}\n",
      "{'startpoint': array([-9.4679966 , 10.59737396,  0.        ]), 'maxdistance': 151.18145751953125}\n",
      "{'startpoint': array([-8.32983494, 10.2352047 ,  0.        ]), 'maxdistance': 151.18145751953125}\n",
      "{'startpoint': array([-7.11704922, 10.51698399,  0.        ]), 'maxdistance': 151.18145751953125}\n",
      "{'startpoint': array([-5.83132839, 10.74580574,  0.        ]), 'maxdistance': 151.18145751953125}\n",
      "{'startpoint': array([-4.54269648, 10.86035252,  0.        ]), 'maxdistance': 151.18145751953125}\n",
      "{'startpoint': array([-3.62366986, 10.04388237,  0.        ]), 'maxdistance': 151.18145751953125}\n",
      "{'startpoint': array([-2.48857498,  9.57734203,  0.        ]), 'maxdistance': 151.18145751953125}\n",
      "{'startpoint': array([-1.1053462 ,  9.30240154,  0.        ]), 'maxdistance': 151.18145751953125}\n",
      "{'startpoint': array([-0.04481472,  8.5651083 ,  0.        ]), 'maxdistance': 151.18145751953125}\n",
      "{'startpoint': array([0.88311934, 7.80263138, 0.        ]), 'maxdistance': 151.18145751953125}\n",
      "{'startpoint': array([1.91233444, 7.05083895, 0.        ]), 'maxdistance': 151.18145751953125}\n",
      "{'startpoint': array([3.00603724, 6.29381704, 0.        ]), 'maxdistance': 151.18145751953125}\n",
      "{'startpoint': array([3.38819075, 5.02904797, 0.        ]), 'maxdistance': 151.18145751953125}\n",
      "{'startpoint': array([3.42333794, 3.71394539, 0.        ]), 'maxdistance': 151.18145751953125}\n",
      "{'startpoint': array([3.46681118, 2.55961919, 0.        ]), 'maxdistance': 151.18145751953125}\n",
      "{'startpoint': array([2.75981903, 1.55175221, 0.        ]), 'maxdistance': 151.18145751953125}\n",
      "{'startpoint': array([3.61831927, 0.21684986, 0.        ]), 'maxdistance': 151.18145751953125}\n",
      "{'startpoint': array([3.85332298, 1.43583584, 0.        ]), 'maxdistance': 151.18145751953125}\n",
      "{'startpoint': array([4.80105782, 0.89689285, 0.        ]), 'maxdistance': 151.18145751953125}\n",
      "{'startpoint': array([4.66540956, 2.17648125, 0.        ]), 'maxdistance': 151.18145751953125}\n",
      "{'startpoint': array([4.57481956, 3.3769176 , 0.        ]), 'maxdistance': 151.18145751953125}\n",
      "{'startpoint': array([4.56649113, 4.54643631, 0.        ]), 'maxdistance': 151.18145751953125}\n",
      "{'startpoint': array([4.30663824, 5.79116583, 0.        ]), 'maxdistance': 151.18145751953125}\n",
      "{'startpoint': array([5.54241228, 5.24156666, 0.        ]), 'maxdistance': 151.18145751953125}\n",
      "{'startpoint': array([5.83168316, 3.93672442, 0.        ]), 'maxdistance': 151.18145751953125}\n",
      "{'startpoint': array([5.53048849, 2.86967492, 0.        ]), 'maxdistance': 151.18145751953125}\n",
      "{'startpoint': array([5.8421917 , 1.78076792, 0.        ]), 'maxdistance': 151.18145751953125}\n",
      "{'startpoint': array([6.609303  , 2.75579882, 0.        ]), 'maxdistance': 151.18145751953125}\n",
      "{'startpoint': array([7.25689745, 3.63165188, 0.        ]), 'maxdistance': 151.18145751953125}\n",
      "{'startpoint': array([6.72920942, 4.79404116, 0.        ]), 'maxdistance': 151.18145751953125}\n",
      "{'startpoint': array([7.9084692, 4.4338994, 0.       ]), 'maxdistance': 151.18145751953125}\n",
      "{'startpoint': array([6.58516216, 5.96480942, 0.        ]), 'maxdistance': 151.18145751953125}\n",
      "{'startpoint': array([7.78027582, 5.55577564, 0.        ]), 'maxdistance': 151.18145751953125}\n",
      "{'startpoint': array([8.92834473, 4.8637538 , 0.        ]), 'maxdistance': 151.18145751953125}\n",
      "{'startpoint': array([8.71992111, 3.56349301, 0.        ]), 'maxdistance': 151.18145751953125}\n",
      "{'startpoint': array([7.87841225, 2.48357725, 0.        ]), 'maxdistance': 151.18145751953125}\n",
      "{'startpoint': array([7.07854128, 1.48057151, 0.        ]), 'maxdistance': 151.18145751953125}\n",
      "{'startpoint': array([6.00843811, 0.58510494, 0.        ]), 'maxdistance': 151.18145751953125}\n",
      "{'startpoint': array([ 4.86360645, -0.26151031,  0.        ]), 'maxdistance': 151.18145751953125}\n",
      "{'startpoint': array([ 3.95405102, -1.27553034,  0.        ]), 'maxdistance': 151.18145751953125}\n",
      "{'startpoint': array([ 2.91932821, -0.81645662,  0.        ]), 'maxdistance': 151.18145751953125}\n",
      "{'startpoint': array([ 3.12763119, -2.34264779,  0.        ]), 'maxdistance': 151.18145751953125}\n",
      "{'startpoint': array([ 4.19633102, -2.93164372,  0.        ]), 'maxdistance': 151.18145751953125}\n",
      "{'startpoint': array([ 4.21645737, -4.57637358,  0.        ]), 'maxdistance': 151.18145751953125}\n",
      "{'startpoint': array([ 4.31315231, -6.10096455,  0.        ]), 'maxdistance': 151.18145751953125}\n",
      "{'startpoint': array([ 3.17274022, -6.81842852,  0.        ]), 'maxdistance': 151.18145751953125}\n",
      "{'startpoint': array([ 2.02736664, -7.48307037,  0.        ]), 'maxdistance': 151.18145751953125}\n",
      "{'startpoint': array([ 3.07324386, -8.14192104,  0.        ]), 'maxdistance': 151.18145751953125}\n",
      "{'startpoint': array([ 3.8971889 , -8.91005421,  0.        ]), 'maxdistance': 151.18145751953125}\n",
      "{'startpoint': array([ 4.53841305, -9.72937679,  0.        ]), 'maxdistance': 151.18145751953125}\n",
      "{'startpoint': array([  5.19595194, -10.39357853,   0.        ]), 'maxdistance': 151.18145751953125}\n",
      "{'startpoint': array([  5.82521582, -10.08342648,   0.        ]), 'maxdistance': 151.18145751953125}\n",
      "{'startpoint': array([ 5.12859058, -8.70150661,  0.        ]), 'maxdistance': 151.18145751953125}\n",
      "{'startpoint': array([ 4.35879326, -7.5537324 ,  0.        ]), 'maxdistance': 151.18145751953125}\n",
      "{'startpoint': array([ 5.4955678 , -6.55670547,  0.        ]), 'maxdistance': 151.18145751953125}\n",
      "{'startpoint': array([ 5.66687155, -7.67058659,  0.        ]), 'maxdistance': 151.18145751953125}\n",
      "{'startpoint': array([ 6.50893497, -8.42797661,  0.        ]), 'maxdistance': 151.18145751953125}\n",
      "{'startpoint': array([ 7.37977982, -9.51456165,  0.        ]), 'maxdistance': 151.18145751953125}\n",
      "{'startpoint': array([ 7.80732632, -7.98125076,  0.        ]), 'maxdistance': 151.18145751953125}\n",
      "{'startpoint': array([ 8.56217861, -9.14509106,  0.        ]), 'maxdistance': 151.18145751953125}\n",
      "{'startpoint': array([ 9.4535675 , -7.85967779,  0.        ]), 'maxdistance': 151.18145751953125}\n",
      "{'startpoint': array([10.12712574, -8.94822502,  0.        ]), 'maxdistance': 151.18145751953125}\n",
      "{'startpoint': array([10.95571899, -7.47579861,  0.        ]), 'maxdistance': 151.18145751953125}\n",
      "{'startpoint': array([11.6420269 , -8.70624256,  0.        ]), 'maxdistance': 151.18145751953125}\n",
      "{'startpoint': array([12.32371235, -7.30996752,  0.        ]), 'maxdistance': 151.18145751953125}\n",
      "{'startpoint': array([13.22106266, -8.52701855,  0.        ]), 'maxdistance': 151.18145751953125}\n",
      "{'startpoint': array([13.5953989, -6.9220686,  0.       ]), 'maxdistance': 151.18145751953125}\n",
      "{'startpoint': array([14.42111778, -7.46224451,  0.        ]), 'maxdistance': 151.18145751953125}\n",
      "{'startpoint': array([14.72542286, -8.59111118,  0.        ]), 'maxdistance': 151.18145751953125}\n",
      "{'startpoint': array([15.58621693, -7.36019087,  0.        ]), 'maxdistance': 151.18145751953125}\n",
      "{'startpoint': array([16.04342651, -8.75207043,  0.        ]), 'maxdistance': 151.18145751953125}\n",
      "{'startpoint': array([14.85539341, -6.32868528,  0.        ]), 'maxdistance': 151.18145751953125}\n",
      "{'startpoint': array([16.2728138, -6.1931057,  0.       ]), 'maxdistance': 151.18145751953125}\n",
      "{'startpoint': array([16.80119514, -7.19065475,  0.        ]), 'maxdistance': 151.18145751953125}\n",
      "{'startpoint': array([17.41979027, -8.04454041,  0.        ]), 'maxdistance': 151.18145751953125}\n",
      "{'startpoint': array([17.57768822, -9.09538269,  0.        ]), 'maxdistance': 151.18145751953125}\n",
      "{'startpoint': array([18.62610054, -8.24470329,  0.        ]), 'maxdistance': 151.18145751953125}\n",
      "{'startpoint': array([19.01600266, -9.4843483 ,  0.        ]), 'maxdistance': 151.18145751953125}\n",
      "{'startpoint': array([18.05862236, -7.15721226,  0.        ]), 'maxdistance': 151.18145751953125}\n",
      "{'startpoint': array([17.56177139, -5.68905306,  0.        ]), 'maxdistance': 151.18145751953125}\n",
      "{'startpoint': array([18.76512146, -6.18811178,  0.        ]), 'maxdistance': 151.18145751953125}\n",
      "{'startpoint': array([19.39996147, -7.34979534,  0.        ]), 'maxdistance': 151.18145751953125}\n",
      "{'startpoint': array([19.84505081, -8.39623547,  0.        ]), 'maxdistance': 151.18145751953125}\n",
      "{'startpoint': array([20.51273346, -9.21948624,  0.        ]), 'maxdistance': 151.18145751953125}\n",
      "{'startpoint': array([ 20.48741531, -10.02761745,   0.        ]), 'maxdistance': 151.18145751953125}\n",
      "{'startpoint': array([21.71154594, -9.85263634,  0.        ]), 'maxdistance': 151.18145751953125}\n",
      "{'startpoint': array([ 21.91113472, -10.57039833,   0.        ]), 'maxdistance': 151.18145751953125}\n",
      "{'startpoint': array([ 23.01701355, -10.28617191,   0.        ]), 'maxdistance': 151.18145751953125}\n",
      "{'startpoint': array([ 23.35914803, -11.1069231 ,   0.        ]), 'maxdistance': 151.18145751953125}\n",
      "{'startpoint': array([ 24.21843719, -10.7633009 ,   0.        ]), 'maxdistance': 151.18145751953125}\n",
      "{'startpoint': array([ 24.80983162, -11.6724205 ,   0.        ]), 'maxdistance': 151.18145751953125}\n",
      "{'startpoint': array([ 25.37062073, -11.05622005,   0.        ]), 'maxdistance': 151.18145751953125}\n",
      "{'startpoint': array([ 26.03312111, -11.63844109,   0.        ]), 'maxdistance': 151.18145751953125}\n",
      "{'startpoint': array([ 26.25281525, -12.2711134 ,   0.        ]), 'maxdistance': 151.18145751953125}\n",
      "{'startpoint': array([ 27.16867256, -12.01634312,   0.        ]), 'maxdistance': 151.18145751953125}\n",
      "{'startpoint': array([ 27.71105385, -12.8188715 ,   0.        ]), 'maxdistance': 151.18145751953125}\n",
      "{'startpoint': array([ 28.32447243, -12.37479591,   0.        ]), 'maxdistance': 151.18145751953125}\n",
      "{'startpoint': array([ 29.19936752, -13.15402508,   0.        ]), 'maxdistance': 151.18145751953125}\n",
      "{'startpoint': array([ 29.55362701, -12.45643806,   0.        ]), 'maxdistance': 151.18145751953125}\n",
      "{'startpoint': array([ 30.65678215, -13.13771343,   0.        ]), 'maxdistance': 151.18145751953125}\n",
      "{'startpoint': array([ 30.56514549, -12.08846188,   0.        ]), 'maxdistance': 151.18145751953125}\n",
      "{'startpoint': array([ 31.90603256, -12.62772846,   0.        ]), 'maxdistance': 151.18145751953125}\n",
      "{'startpoint': array([ 31.49585342, -11.40144062,   0.        ]), 'maxdistance': 151.18145751953125}\n",
      "{'startpoint': array([ 32.86388397, -11.48008728,   0.        ]), 'maxdistance': 151.18145751953125}\n",
      "{'startpoint': array([ 32.34827042, -10.43052387,   0.        ]), 'maxdistance': 151.18145751953125}\n",
      "{'startpoint': array([ 33.82797241, -10.0196104 ,   0.        ]), 'maxdistance': 151.18145751953125}\n",
      "{'startpoint': array([ 31.48370171, -10.15569401,   0.        ]), 'maxdistance': 151.18145751953125}\n",
      "{'startpoint': array([32.46460342, -9.12652779,  0.        ]), 'maxdistance': 151.18145751953125}\n",
      "{'startpoint': array([33.22265244, -8.2991972 ,  0.        ]), 'maxdistance': 151.18145751953125}\n",
      "{'startpoint': array([34.54202652, -8.98620224,  0.        ]), 'maxdistance': 151.18145751953125}\n",
      "{'startpoint': array([33.94679642, -7.13823032,  0.        ]), 'maxdistance': 151.18145751953125}\n",
      "{'startpoint': array([35.00979996, -7.55645752,  0.        ]), 'maxdistance': 151.18145751953125}\n",
      "{'startpoint': array([35.2884407 , -5.85451221,  0.        ]), 'maxdistance': 151.18145751953125}\n",
      "{'startpoint': array([33.9535141, -5.5558877,  0.       ]), 'maxdistance': 151.18145751953125}\n",
      "{'startpoint': array([35.22089386, -3.74240398,  0.        ]), 'maxdistance': 151.18145751953125}\n",
      "{'startpoint': array([33.95083618, -3.8404572 ,  0.        ]), 'maxdistance': 151.18145751953125}\n",
      "{'startpoint': array([34.82421112, -1.60234582,  0.        ]), 'maxdistance': 151.18145751953125}\n",
      "{'startpoint': array([33.65006256, -2.36345243,  0.        ]), 'maxdistance': 151.18145751953125}\n",
      "{'startpoint': array([33.34542847, -0.91717529,  0.        ]), 'maxdistance': 151.18145751953125}\n",
      "{'startpoint': array([34.22873688,  0.20697674,  0.        ]), 'maxdistance': 151.18145751953125}\n",
      "{'startpoint': array([32.78042603,  0.76663876,  0.        ]), 'maxdistance': 151.18145751953125}\n",
      "{'startpoint': array([33.57863235,  2.16753006,  0.        ]), 'maxdistance': 151.18145751953125}\n",
      "{'startpoint': array([32.2662735 ,  2.22489405,  0.        ]), 'maxdistance': 151.18145751953125}\n",
      "{'startpoint': array([32.79720306,  4.06581402,  0.        ]), 'maxdistance': 151.18145751953125}\n",
      "{'startpoint': array([31.74440956,  3.74497557,  0.        ]), 'maxdistance': 151.18145751953125}\n",
      "{'startpoint': array([31.7545929 ,  5.67483139,  0.        ]), 'maxdistance': 151.18145751953125}\n",
      "{'startpoint': array([30.88228226,  4.75417137,  0.        ]), 'maxdistance': 151.18145751953125}\n",
      "{'startpoint': array([30.89045715,  6.93981791,  0.        ]), 'maxdistance': 151.18145751953125}\n",
      "{'startpoint': array([31.27827263,  2.89049315,  0.        ]), 'maxdistance': 151.18145751953125}\n",
      "{'startpoint': array([31.66114426,  0.97436368,  0.        ]), 'maxdistance': 151.18145751953125}\n",
      "{'startpoint': array([32.28424072, -0.65613085,  0.        ]), 'maxdistance': 151.18145751953125}\n",
      "{'startpoint': array([32.70811844, -2.13493848,  0.        ]), 'maxdistance': 151.18145751953125}\n",
      "{'startpoint': array([33.14123535, -3.44934392,  0.        ]), 'maxdistance': 151.18145751953125}\n",
      "{'startpoint': array([33.00286865, -5.08404207,  0.        ]), 'maxdistance': 151.18145751953125}\n",
      "{'startpoint': array([32.19848633, -3.78918624,  0.        ]), 'maxdistance': 151.18145751953125}\n",
      "{'startpoint': array([31.69589806, -2.32323503,  0.        ]), 'maxdistance': 151.18145751953125}\n",
      "{'startpoint': array([31.31591415, -0.90131152,  0.        ]), 'maxdistance': 151.18145751953125}\n",
      "{'startpoint': array([30.64995193, -2.67652988,  0.        ]), 'maxdistance': 151.18145751953125}\n",
      "{'startpoint': array([31.02309036, -3.96546054,  0.        ]), 'maxdistance': 151.18145751953125}\n",
      "{'startpoint': array([31.67103767, -5.19067335,  0.        ]), 'maxdistance': 151.18145751953125}\n",
      "{'startpoint': array([32.21698761, -6.45393133,  0.        ]), 'maxdistance': 151.18145751953125}\n",
      "{'startpoint': array([33.14073563, -6.75464773,  0.        ]), 'maxdistance': 151.18145751953125}\n",
      "{'startpoint': array([32.09012222, -7.92889023,  0.        ]), 'maxdistance': 151.18145751953125}\n",
      "{'startpoint': array([31.32645607, -8.92909527,  0.        ]), 'maxdistance': 151.18145751953125}\n",
      "{'startpoint': array([30.37221527, -9.96789265,  0.        ]), 'maxdistance': 151.18145751953125}\n",
      "{'startpoint': array([ 30.54563904, -11.09644794,   0.        ]), 'maxdistance': 151.18145751953125}\n",
      "{'startpoint': array([ 29.67776489, -11.60405922,   0.        ]), 'maxdistance': 151.18145751953125}\n",
      "{'startpoint': array([ 28.74652863, -12.01347446,   0.        ]), 'maxdistance': 151.18145751953125}\n",
      "{'startpoint': array([ 27.70589638, -11.73833466,   0.        ]), 'maxdistance': 151.18145751953125}\n",
      "{'startpoint': array([ 28.50241089, -11.19695091,   0.        ]), 'maxdistance': 151.18145751953125}\n",
      "{'startpoint': array([ 29.42679977, -10.66094494,   0.        ]), 'maxdistance': 151.18145751953125}\n",
      "{'startpoint': array([29.21502113, -9.65066528,  0.        ]), 'maxdistance': 151.18145751953125}\n",
      "{'startpoint': array([ 28.24498367, -10.29227352,   0.        ]), 'maxdistance': 151.18145751953125}\n",
      "{'startpoint': array([ 27.32822418, -10.92280006,   0.        ]), 'maxdistance': 151.18145751953125}\n",
      "{'startpoint': array([ 26.57854843, -11.39381599,   0.        ]), 'maxdistance': 151.18145751953125}\n",
      "{'startpoint': array([ 26.13196945, -10.61640167,   0.        ]), 'maxdistance': 151.18145751953125}\n",
      "{'startpoint': array([27.06788063, -9.91905308,  0.        ]), 'maxdistance': 151.18145751953125}\n",
      "{'startpoint': array([27.99817467, -9.28716564,  0.        ]), 'maxdistance': 151.18145751953125}\n",
      "{'startpoint': array([26.79145241, -8.86427975,  0.        ]), 'maxdistance': 151.18145751953125}\n",
      "{'startpoint': array([25.87036705, -9.5783596 ,  0.        ]), 'maxdistance': 151.18145751953125}\n",
      "{'startpoint': array([ 24.97003365, -10.33790588,   0.        ]), 'maxdistance': 151.18145751953125}\n",
      "{'startpoint': array([23.8520813 , -9.95945549,  0.        ]), 'maxdistance': 151.18145751953125}\n",
      "{'startpoint': array([24.72168159, -9.3317461 ,  0.        ]), 'maxdistance': 151.18145751953125}\n",
      "{'startpoint': array([25.53403091, -8.42285919,  0.        ]), 'maxdistance': 151.18145751953125}\n",
      "{'startpoint': array([24.30612755, -8.36465645,  0.        ]), 'maxdistance': 151.18145751953125}\n",
      "{'startpoint': array([23.54977608, -8.9118948 ,  0.        ]), 'maxdistance': 151.18145751953125}\n",
      "{'startpoint': array([22.70714188, -9.59353161,  0.        ]), 'maxdistance': 151.18145751953125}\n",
      "{'startpoint': array([21.62227631, -9.16445827,  0.        ]), 'maxdistance': 151.18145751953125}\n",
      "{'startpoint': array([22.4253788 , -8.61348724,  0.        ]), 'maxdistance': 151.18145751953125}\n",
      "{'startpoint': array([23.27822113, -7.6739316 ,  0.        ]), 'maxdistance': 151.18145751953125}\n",
      "{'startpoint': array([24.52983475, -7.2914052 ,  0.        ]), 'maxdistance': 151.18145751953125}\n",
      "{'startpoint': array([25.66750336, -7.15560007,  0.        ]), 'maxdistance': 151.18145751953125}\n",
      "{'startpoint': array([26.7392807 , -7.82694006,  0.        ]), 'maxdistance': 151.18145751953125}\n",
      "{'startpoint': array([27.85883904, -8.25665092,  0.        ]), 'maxdistance': 151.18145751953125}\n",
      "{'startpoint': array([28.94239044, -8.65199375,  0.        ]), 'maxdistance': 151.18145751953125}\n",
      "{'startpoint': array([30.13454437, -8.89776802,  0.        ]), 'maxdistance': 151.18145751953125}\n",
      "{'startpoint': array([30.8625145 , -7.96334028,  0.        ]), 'maxdistance': 151.18145751953125}\n",
      "{'startpoint': array([29.77550697, -7.92385864,  0.        ]), 'maxdistance': 151.18145751953125}\n",
      "{'startpoint': array([28.93997383, -7.32199049,  0.        ]), 'maxdistance': 151.18145751953125}\n",
      "{'startpoint': array([30.07333565, -6.76588392,  0.        ]), 'maxdistance': 151.18145751953125}\n",
      "{'startpoint': array([31.21053314, -6.69659805,  0.        ]), 'maxdistance': 151.18145751953125}\n",
      "{'startpoint': array([30.40768814, -5.37119436,  0.        ]), 'maxdistance': 151.18145751953125}\n",
      "{'startpoint': array([29.17828178, -5.81185007,  0.        ]), 'maxdistance': 151.18145751953125}\n",
      "{'startpoint': array([28.02103996, -6.95300579,  0.        ]), 'maxdistance': 151.18145751953125}\n",
      "{'startpoint': array([26.92195892, -6.72292089,  0.        ]), 'maxdistance': 151.18145751953125}\n",
      "{'startpoint': array([27.99141502, -5.74079323,  0.        ]), 'maxdistance': 151.18145751953125}\n",
      "{'startpoint': array([26.90557671, -5.66912699,  0.        ]), 'maxdistance': 151.18145751953125}\n",
      "{'startpoint': array([25.93386269, -6.16725779,  0.        ]), 'maxdistance': 151.18145751953125}\n",
      "{'startpoint': array([24.82170868, -5.89046383,  0.        ]), 'maxdistance': 151.18145751953125}\n",
      "{'startpoint': array([26.01225662, -5.04452991,  0.        ]), 'maxdistance': 151.18145751953125}\n",
      "{'startpoint': array([27.33802414, -4.60220861,  0.        ]), 'maxdistance': 151.18145751953125}\n",
      "{'startpoint': array([28.57043076, -4.43345785,  0.        ]), 'maxdistance': 151.18145751953125}\n",
      "{'startpoint': array([29.73168945, -4.02493191,  0.        ]), 'maxdistance': 151.18145751953125}\n",
      "{'startpoint': array([29.64686394, -2.44733882,  0.        ]), 'maxdistance': 151.18145751953125}\n",
      "{'startpoint': array([30.45999908, -1.18772924,  0.        ]), 'maxdistance': 151.18145751953125}\n",
      "{'startpoint': array([30.71042061,  0.35656139,  0.        ]), 'maxdistance': 151.18145751953125}\n",
      "{'startpoint': array([30.60773468,  2.04953337,  0.        ]), 'maxdistance': 151.18145751953125}\n",
      "{'startpoint': array([30.24995995,  3.77484226,  0.        ]), 'maxdistance': 151.18145751953125}\n",
      "{'startpoint': array([29.9476223,  5.357584 ,  0.       ]), 'maxdistance': 151.18145751953125}\n",
      "{'startpoint': array([29.38896751,  6.78254557,  0.        ]), 'maxdistance': 151.18145751953125}\n",
      "{'startpoint': array([29.79917336,  8.26203823,  0.        ]), 'maxdistance': 151.18145751953125}\n",
      "{'startpoint': array([28.40284157,  7.79842758,  0.        ]), 'maxdistance': 151.18145751953125}\n",
      "{'startpoint': array([28.53339767,  9.1934967 ,  0.        ]), 'maxdistance': 151.18145751953125}\n",
      "{'startpoint': array([27.10325623,  8.30570221,  0.        ]), 'maxdistance': 151.18145751953125}\n",
      "{'startpoint': array([27.13861847,  9.57157326,  0.        ]), 'maxdistance': 151.18145751953125}\n",
      "{'startpoint': array([25.93193436,  8.79345417,  0.        ]), 'maxdistance': 151.18145751953125}\n",
      "{'startpoint': array([25.61708832,  9.59329319,  0.        ]), 'maxdistance': 151.18145751953125}\n",
      "{'startpoint': array([24.63303947,  9.03914738,  0.        ]), 'maxdistance': 151.18145751953125}\n",
      "{'startpoint': array([23.96493149,  9.59919453,  0.        ]), 'maxdistance': 151.18145751953125}\n",
      "{'startpoint': array([23.36932373,  8.81159687,  0.        ]), 'maxdistance': 151.18145751953125}\n",
      "{'startpoint': array([22.47634315,  9.51046658,  0.        ]), 'maxdistance': 151.18145751953125}\n",
      "{'startpoint': array([24.72623062,  8.37795353,  0.        ]), 'maxdistance': 151.18145751953125}\n",
      "{'startpoint': array([25.92683029,  7.76905441,  0.        ]), 'maxdistance': 151.18145751953125}\n",
      "{'startpoint': array([26.79195976,  6.83542967,  0.        ]), 'maxdistance': 151.18145751953125}\n",
      "{'startpoint': array([27.59117317,  7.35062933,  0.        ]), 'maxdistance': 151.18145751953125}\n",
      "{'startpoint': array([28.46321297,  6.70308733,  0.        ]), 'maxdistance': 151.18145751953125}\n",
      "{'startpoint': array([27.69244003,  5.78275061,  0.        ]), 'maxdistance': 151.18145751953125}\n",
      "{'startpoint': array([28.82366562,  5.44854975,  0.        ]), 'maxdistance': 151.18145751953125}\n",
      "{'startpoint': array([29.16292953,  4.2194891 ,  0.        ]), 'maxdistance': 151.18145751953125}\n",
      "{'startpoint': array([29.53840065,  2.69628549,  0.        ]), 'maxdistance': 151.18145751953125}\n",
      "{'startpoint': array([29.83877563,  1.13534367,  0.        ]), 'maxdistance': 151.18145751953125}\n",
      "{'startpoint': array([29.76698303, -0.58093971,  0.        ]), 'maxdistance': 151.18145751953125}\n",
      "{'startpoint': array([28.85021019, -1.4028585 ,  0.        ]), 'maxdistance': 151.18145751953125}\n",
      "{'startpoint': array([29.15847778,  0.25550577,  0.        ]), 'maxdistance': 151.18145751953125}\n",
      "{'startpoint': array([28.866745  ,  1.57459617,  0.        ]), 'maxdistance': 151.18145751953125}\n",
      "{'startpoint': array([28.43490791,  3.04506993,  0.        ]), 'maxdistance': 151.18145751953125}\n",
      "{'startpoint': array([27.93075943,  4.36204433,  0.        ]), 'maxdistance': 151.18145751953125}\n",
      "{'startpoint': array([26.77721596,  5.19066286,  0.        ]), 'maxdistance': 151.18145751953125}\n",
      "{'startpoint': array([25.81239891,  6.11632442,  0.        ]), 'maxdistance': 151.18145751953125}\n",
      "{'startpoint': array([24.86071396,  7.05188513,  0.        ]), 'maxdistance': 151.18145751953125}\n",
      "{'startpoint': array([23.72627831,  7.89027977,  0.        ]), 'maxdistance': 151.18145751953125}\n",
      "{'startpoint': array([22.68008995,  8.27970695,  0.        ]), 'maxdistance': 151.18145751953125}\n",
      "{'startpoint': array([21.85722351,  8.73658371,  0.        ]), 'maxdistance': 151.18145751953125}\n",
      "{'startpoint': array([20.93878365,  9.30660248,  0.        ]), 'maxdistance': 151.18145751953125}\n",
      "{'startpoint': array([20.55005455,  8.34776878,  0.        ]), 'maxdistance': 151.18145751953125}\n",
      "{'startpoint': array([19.43673325,  8.9346714 ,  0.        ]), 'maxdistance': 151.18145751953125}\n",
      "{'startpoint': array([19.08952713,  8.12044048,  0.        ]), 'maxdistance': 151.18145751953125}\n",
      "{'startpoint': array([17.95104027,  8.50603676,  0.        ]), 'maxdistance': 151.18145751953125}\n",
      "{'startpoint': array([17.78109741,  7.52668285,  0.        ]), 'maxdistance': 151.18145751953125}\n",
      "{'startpoint': array([16.41692162,  8.26002789,  0.        ]), 'maxdistance': 151.18145751953125}\n",
      "{'startpoint': array([18.81163979,  7.02362442,  0.        ]), 'maxdistance': 151.18145751953125}\n",
      "{'startpoint': array([19.84140778,  7.66872025,  0.        ]), 'maxdistance': 151.18145751953125}\n",
      "{'startpoint': array([20.76126099,  7.27067852,  0.        ]), 'maxdistance': 151.18145751953125}\n",
      "{'startpoint': array([21.60259438,  7.9515624 ,  0.        ]), 'maxdistance': 151.18145751953125}\n",
      "{'startpoint': array([22.74164772,  7.19041061,  0.        ]), 'maxdistance': 151.18145751953125}\n",
      "{'startpoint': array([23.81326103,  6.46453142,  0.        ]), 'maxdistance': 151.18145751953125}\n",
      "{'startpoint': array([24.83890915,  5.50597239,  0.        ]), 'maxdistance': 151.18145751953125}\n",
      "{'startpoint': array([25.78805923,  4.30689812,  0.        ]), 'maxdistance': 151.18145751953125}\n",
      "{'startpoint': array([26.80122375,  3.96071219,  0.        ]), 'maxdistance': 151.18145751953125}\n",
      "{'startpoint': array([27.40590477,  2.88655996,  0.        ]), 'maxdistance': 151.18145751953125}\n",
      "{'startpoint': array([27.87595177,  1.61047316,  0.        ]), 'maxdistance': 151.18145751953125}\n",
      "{'startpoint': array([2.83121147e+01, 1.08101033e-02, 0.00000000e+00]), 'maxdistance': 151.18145751953125}\n",
      "{'startpoint': array([27.76296043, -1.55074918,  0.        ]), 'maxdistance': 151.18145751953125}\n",
      "{'startpoint': array([2.74962139e+01, 2.09983289e-02, 0.00000000e+00]), 'maxdistance': 151.18145751953125}\n",
      "{'startpoint': array([26.79254913,  1.16860783,  0.        ]), 'maxdistance': 151.18145751953125}\n",
      "{'startpoint': array([26.23884964,  2.54578114,  0.        ]), 'maxdistance': 151.18145751953125}\n",
      "{'startpoint': array([25.37145233,  2.3704102 ,  0.        ]), 'maxdistance': 151.18145751953125}\n",
      "{'startpoint': array([24.71183586,  3.91628838,  0.        ]), 'maxdistance': 151.18145751953125}\n",
      "{'startpoint': array([23.7708168 ,  4.89127111,  0.        ]), 'maxdistance': 151.18145751953125}\n",
      "{'startpoint': array([22.79269028,  5.7008152 ,  0.        ]), 'maxdistance': 151.18145751953125}\n",
      "{'startpoint': array([21.78393745,  6.48277473,  0.        ]), 'maxdistance': 151.18145751953125}\n",
      "{'startpoint': array([20.89502335,  5.57173634,  0.        ]), 'maxdistance': 151.18145751953125}\n",
      "{'startpoint': array([21.8558445 ,  4.65057802,  0.        ]), 'maxdistance': 151.18145751953125}\n",
      "{'startpoint': array([22.75809288,  3.93195772,  0.        ]), 'maxdistance': 151.18145751953125}\n",
      "{'startpoint': array([23.7084446 ,  3.18523097,  0.        ]), 'maxdistance': 151.18145751953125}\n",
      "{'startpoint': array([24.45465279,  2.32131004,  0.        ]), 'maxdistance': 151.18145751953125}\n",
      "{'startpoint': array([23.66587639,  1.25873494,  0.        ]), 'maxdistance': 151.18145751953125}\n",
      "{'startpoint': array([22.86667633,  2.32532907,  0.        ]), 'maxdistance': 151.18145751953125}\n",
      "{'startpoint': array([21.88832855,  2.4887135 ,  0.        ]), 'maxdistance': 151.18145751953125}\n",
      "{'startpoint': array([20.94211388,  3.68374681,  0.        ]), 'maxdistance': 151.18145751953125}\n",
      "{'startpoint': array([19.8806839 ,  4.69028234,  0.        ]), 'maxdistance': 151.18145751953125}\n",
      "{'startpoint': array([19.84619141,  6.25093508,  0.        ]), 'maxdistance': 151.18145751953125}\n",
      "{'startpoint': array([18.73818398,  5.44738483,  0.        ]), 'maxdistance': 151.18145751953125}\n",
      "{'startpoint': array([17.7085247 ,  6.30640602,  0.        ]), 'maxdistance': 151.18145751953125}\n",
      "{'startpoint': array([16.52547455,  7.05722046,  0.        ]), 'maxdistance': 151.18145751953125}\n",
      "{'startpoint': array([15.35357094,  7.90130758,  0.        ]), 'maxdistance': 151.18145751953125}\n",
      "{'startpoint': array([15.30360126,  9.47560024,  0.        ]), 'maxdistance': 151.18145751953125}\n",
      "{'startpoint': array([14.21674728,  8.73463726,  0.        ]), 'maxdistance': 151.18145751953125}\n",
      "{'startpoint': array([13.510005  ,  9.91497326,  0.        ]), 'maxdistance': 151.18145751953125}\n",
      "{'startpoint': array([14.35312176, 10.80443573,  0.        ]), 'maxdistance': 151.18145751953125}\n",
      "{'startpoint': array([12.75313568, 10.94104004,  0.        ]), 'maxdistance': 151.18145751953125}\n",
      "{'startpoint': array([13.27150631, 12.13501072,  0.        ]), 'maxdistance': 151.18145751953125}\n",
      "{'startpoint': array([11.83274364, 12.01850414,  0.        ]), 'maxdistance': 151.18145751953125}\n",
      "{'startpoint': array([12.01843452, 13.1535387 ,  0.        ]), 'maxdistance': 151.18145751953125}\n",
      "{'startpoint': array([10.66979504, 12.7828598 ,  0.        ]), 'maxdistance': 151.18145751953125}\n",
      "{'startpoint': array([10.5880928 , 13.90242863,  0.        ]), 'maxdistance': 151.18145751953125}\n",
      "{'startpoint': array([ 9.26851177, 13.28071213,  0.        ]), 'maxdistance': 151.18145751953125}\n",
      "{'startpoint': array([ 8.93517208, 14.46817684,  0.        ]), 'maxdistance': 151.18145751953125}\n",
      "{'startpoint': array([ 7.90655327, 13.49234486,  0.        ]), 'maxdistance': 151.18145751953125}\n",
      "{'startpoint': array([ 7.23459768, 14.72698402,  0.        ]), 'maxdistance': 151.18145751953125}\n",
      "{'startpoint': array([ 6.53709698, 13.65543938,  0.        ]), 'maxdistance': 151.18145751953125}\n",
      "{'startpoint': array([ 5.59195662, 14.90362167,  0.        ]), 'maxdistance': 151.18145751953125}\n",
      "{'startpoint': array([ 5.18664408, 13.82384109,  0.        ]), 'maxdistance': 151.18145751953125}\n",
      "{'startpoint': array([ 4.01815414, 14.84768105,  0.        ]), 'maxdistance': 151.18145751953125}\n",
      "{'startpoint': array([ 3.6875453 , 13.97206211,  0.        ]), 'maxdistance': 151.18145751953125}\n",
      "{'startpoint': array([ 2.57990336, 14.85128975,  0.        ]), 'maxdistance': 151.18145751953125}\n",
      "{'startpoint': array([ 2.27454424, 13.76101971,  0.        ]), 'maxdistance': 151.18145751953125}\n",
      "{'startpoint': array([ 1.17764211, 14.0693531 ,  0.        ]), 'maxdistance': 151.18145751953125}\n",
      "{'startpoint': array([ 0.93862712, 15.00547791,  0.        ]), 'maxdistance': 151.18145751953125}\n",
      "{'startpoint': array([-0.02589162, 14.30840683,  0.        ]), 'maxdistance': 151.18145751953125}\n",
      "{'startpoint': array([-0.69701558, 15.23221397,  0.        ]), 'maxdistance': 151.18145751953125}\n",
      "{'startpoint': array([-1.24503922, 14.35141277,  0.        ]), 'maxdistance': 151.18145751953125}\n",
      "{'startpoint': array([-2.28972936, 14.4709444 ,  0.        ]), 'maxdistance': 151.18145751953125}\n",
      "{'startpoint': array([-2.33489513, 15.28744507,  0.        ]), 'maxdistance': 151.18145751953125}\n",
      "{'startpoint': array([-3.5519228 , 14.49830437,  0.        ]), 'maxdistance': 151.18145751953125}\n",
      "{'startpoint': array([-4.02100992, 15.20289612,  0.        ]), 'maxdistance': 151.18145751953125}\n",
      "{'startpoint': array([-4.8648715, 14.1738596,  0.       ]), 'maxdistance': 151.18145751953125}\n",
      "{'startpoint': array([-5.75899792, 15.06543064,  0.        ]), 'maxdistance': 151.18145751953125}\n",
      "{'startpoint': array([-3.53010035, 13.92195988,  0.        ]), 'maxdistance': 151.18145751953125}\n",
      "{'startpoint': array([-2.1643703 , 13.76655006,  0.        ]), 'maxdistance': 151.18145751953125}\n",
      "{'startpoint': array([-0.96151167, 13.7752943 ,  0.        ]), 'maxdistance': 151.18145751953125}\n",
      "{'startpoint': array([-0.019015  , 13.51036167,  0.        ]), 'maxdistance': 151.18145751953125}\n",
      "{'startpoint': array([ 1.11882818, 13.23988914,  0.        ]), 'maxdistance': 151.18145751953125}\n",
      "{'startpoint': array([ 2.20149088, 12.80919266,  0.        ]), 'maxdistance': 151.18145751953125}\n",
      "{'startpoint': array([ 3.16194892, 13.3398037 ,  0.        ]), 'maxdistance': 151.18145751953125}\n",
      "{'startpoint': array([ 4.46085405, 13.27470684,  0.        ]), 'maxdistance': 151.18145751953125}\n",
      "{'startpoint': array([ 3.37287951, 12.56258583,  0.        ]), 'maxdistance': 151.18145751953125}\n",
      "{'startpoint': array([ 4.6918931 , 12.51031685,  0.        ]), 'maxdistance': 151.18145751953125}\n",
      "{'startpoint': array([ 5.84395075, 12.87630558,  0.        ]), 'maxdistance': 151.18145751953125}\n",
      "{'startpoint': array([ 7.23428249, 12.70431995,  0.        ]), 'maxdistance': 151.18145751953125}\n",
      "{'startpoint': array([ 8.51789284, 12.5637188 ,  0.        ]), 'maxdistance': 151.18145751953125}\n",
      "{'startpoint': array([ 9.72973251, 12.49733067,  0.        ]), 'maxdistance': 151.18145751953125}\n",
      "{'startpoint': array([10.72252274, 11.87906837,  0.        ]), 'maxdistance': 151.18145751953125}\n",
      "{'startpoint': array([11.66954041, 11.1367979 ,  0.        ]), 'maxdistance': 151.18145751953125}\n",
      "{'startpoint': array([12.01233196, 10.15368271,  0.        ]), 'maxdistance': 151.18145751953125}\n",
      "{'startpoint': array([10.59506702, 10.86035347,  0.        ]), 'maxdistance': 151.18145751953125}\n",
      "{'startpoint': array([ 9.3884449 , 11.67081928,  0.        ]), 'maxdistance': 151.18145751953125}\n",
      "{'startpoint': array([ 8.03961086, 11.6076231 ,  0.        ]), 'maxdistance': 151.18145751953125}\n",
      "{'startpoint': array([ 9.33575916, 10.66582489,  0.        ]), 'maxdistance': 151.18145751953125}\n",
      "{'startpoint': array([10.51796246,  9.88968658,  0.        ]), 'maxdistance': 151.18145751953125}\n",
      "{'startpoint': array([11.62108517,  9.19855213,  0.        ]), 'maxdistance': 151.18145751953125}\n",
      "{'startpoint': array([12.90698814,  9.20032215,  0.        ]), 'maxdistance': 151.18145751953125}\n",
      "{'startpoint': array([13.4720192 ,  8.12780476,  0.        ]), 'maxdistance': 151.18145751953125}\n",
      "{'startpoint': array([12.42069817,  8.17615414,  0.        ]), 'maxdistance': 151.18145751953125}\n",
      "{'startpoint': array([11.38110161,  8.19495869,  0.        ]), 'maxdistance': 151.18145751953125}\n",
      "{'startpoint': array([10.39554405,  8.83297348,  0.        ]), 'maxdistance': 151.18145751953125}\n",
      "{'startpoint': array([9.22526646, 9.48889732, 0.        ]), 'maxdistance': 151.18145751953125}\n",
      "{'startpoint': array([ 8.33633423, 10.50279045,  0.        ]), 'maxdistance': 151.18145751953125}\n",
      "{'startpoint': array([ 7.11462069, 10.79395008,  0.        ]), 'maxdistance': 151.18145751953125}\n",
      "{'startpoint': array([7.79288578, 9.68757343, 0.        ]), 'maxdistance': 151.18145751953125}\n",
      "{'startpoint': array([8.35051537, 8.61972332, 0.        ]), 'maxdistance': 151.18145751953125}\n",
      "{'startpoint': array([9.5120182 , 8.21038723, 0.        ]), 'maxdistance': 151.18145751953125}\n",
      "{'startpoint': array([10.66653919,  7.51924133,  0.        ]), 'maxdistance': 151.18145751953125}\n",
      "{'startpoint': array([11.91179943,  7.16568422,  0.        ]), 'maxdistance': 151.18145751953125}\n",
      "{'startpoint': array([13.21008301,  7.04172134,  0.        ]), 'maxdistance': 151.18145751953125}\n",
      "{'startpoint': array([14.35536957,  7.33942795,  0.        ]), 'maxdistance': 151.18145751953125}\n",
      "{'startpoint': array([15.33651161,  6.56047964,  0.        ]), 'maxdistance': 151.18145751953125}\n",
      "{'startpoint': array([16.57408524,  5.81213903,  0.        ]), 'maxdistance': 151.18145751953125}\n",
      "{'startpoint': array([17.59287643,  4.62973976,  0.        ]), 'maxdistance': 151.18145751953125}\n",
      "{'startpoint': array([18.76709938,  3.92722487,  0.        ]), 'maxdistance': 151.18145751953125}\n",
      "{'startpoint': array([19.92348289,  3.00690532,  0.        ]), 'maxdistance': 151.18145751953125}\n",
      "{'startpoint': array([20.83278847,  1.6954658 ,  0.        ]), 'maxdistance': 151.18145751953125}\n",
      "{'startpoint': array([21.55911827,  0.34630468,  0.        ]), 'maxdistance': 151.18145751953125}\n",
      "{'startpoint': array([22.66711044,  0.76136529,  0.        ]), 'maxdistance': 151.18145751953125}\n",
      "{'startpoint': array([23.65359497, -0.51901889,  0.        ]), 'maxdistance': 151.18145751953125}\n",
      "{'startpoint': array([22.38494492, -0.93314254,  0.        ]), 'maxdistance': 151.18145751953125}\n",
      "{'startpoint': array([23.02719879, -2.13956904,  0.        ]), 'maxdistance': 151.18145751953125}\n",
      "{'startpoint': array([21.28257179, -1.51175272,  0.        ]), 'maxdistance': 151.18145751953125}\n",
      "{'startpoint': array([22.05061722, -2.75302219,  0.        ]), 'maxdistance': 151.18145751953125}\n",
      "{'startpoint': array([22.97940636, -3.84141469,  0.        ]), 'maxdistance': 151.18145751953125}\n",
      "{'startpoint': array([23.92860985, -2.5628581 ,  0.        ]), 'maxdistance': 151.18145751953125}\n",
      "{'startpoint': array([24.72619629, -1.01144826,  0.        ]), 'maxdistance': 151.18145751953125}\n",
      "{'startpoint': array([24.63321114,  0.65779781,  0.        ]), 'maxdistance': 151.18145751953125}\n",
      "{'startpoint': array([25.75558281,  0.6098513 ,  0.        ]), 'maxdistance': 151.18145751953125}\n",
      "{'startpoint': array([26.66719055, -0.49236244,  0.        ]), 'maxdistance': 151.18145751953125}\n",
      "{'startpoint': array([26.75857925, -2.22717118,  0.        ]), 'maxdistance': 151.18145751953125}\n",
      "{'startpoint': array([25.74821854, -1.36059928,  0.        ]), 'maxdistance': 151.18145751953125}\n",
      "{'startpoint': array([24.78824615, -2.97479486,  0.        ]), 'maxdistance': 151.18145751953125}\n",
      "{'startpoint': array([25.79923248, -2.94993353,  0.        ]), 'maxdistance': 151.18145751953125}\n",
      "{'startpoint': array([25.17102814, -4.40916967,  0.        ]), 'maxdistance': 151.18145751953125}\n",
      "{'startpoint': array([26.47482109, -3.78906703,  0.        ]), 'maxdistance': 151.18145751953125}\n",
      "{'startpoint': array([27.63349915, -3.26946592,  0.        ]), 'maxdistance': 151.18145751953125}\n",
      "{'startpoint': array([28.70262909, -2.9199295 ,  0.        ]), 'maxdistance': 151.18145751953125}\n",
      "{'startpoint': array([24.00289154, -4.59574652,  0.        ]), 'maxdistance': 151.18145751953125}\n",
      "{'startpoint': array([22.76201439, -5.37415457,  0.        ]), 'maxdistance': 151.18145751953125}\n",
      "{'startpoint': array([21.8399868 , -4.45306921,  0.        ]), 'maxdistance': 151.18145751953125}\n",
      "{'startpoint': array([21.01558113, -3.32780743,  0.        ]), 'maxdistance': 151.18145751953125}\n",
      "{'startpoint': array([20.70599937, -4.92785406,  0.        ]), 'maxdistance': 151.18145751953125}\n",
      "{'startpoint': array([21.4370327 , -5.95090914,  0.        ]), 'maxdistance': 151.18145751953125}\n",
      "{'startpoint': array([22.3112545, -6.7696166,  0.       ]), 'maxdistance': 151.18145751953125}\n",
      "{'startpoint': array([23.62712288, -6.30348539,  0.        ]), 'maxdistance': 151.18145751953125}\n",
      "{'startpoint': array([21.99032974, -7.69377518,  0.        ]), 'maxdistance': 151.18145751953125}\n",
      "{'startpoint': array([21.03253174, -8.42930603,  0.        ]), 'maxdistance': 151.18145751953125}\n",
      "{'startpoint': array([20.81963158, -7.286098  ,  0.        ]), 'maxdistance': 151.18145751953125}\n",
      "{'startpoint': array([20.16523743, -6.31190014,  0.        ]), 'maxdistance': 151.18145751953125}\n",
      "{'startpoint': array([19.61504745, -5.24854088,  0.        ]), 'maxdistance': 151.18145751953125}\n",
      "{'startpoint': array([18.58828735, -4.71805811,  0.        ]), 'maxdistance': 151.18145751953125}\n",
      "{'startpoint': array([19.85666847, -3.95769596,  0.        ]), 'maxdistance': 151.18145751953125}\n",
      "{'startpoint': array([20.25341225, -2.28840947,  0.        ]), 'maxdistance': 151.18145751953125}\n",
      "{'startpoint': array([18.96957207, -3.19488645,  0.        ]), 'maxdistance': 151.18145751953125}\n",
      "{'startpoint': array([17.6988678 , -3.69188643,  0.        ]), 'maxdistance': 151.18145751953125}\n",
      "{'startpoint': array([16.77935982, -4.60147953,  0.        ]), 'maxdistance': 151.18145751953125}\n",
      "{'startpoint': array([15.70254898, -5.32098818,  0.        ]), 'maxdistance': 151.18145751953125}\n",
      "{'startpoint': array([15.83684158, -4.03468752,  0.        ]), 'maxdistance': 151.18145751953125}\n",
      "{'startpoint': array([14.7898016, -4.7950263,  0.       ]), 'maxdistance': 151.18145751953125}\n",
      "{'startpoint': array([13.80718136, -5.46904993,  0.        ]), 'maxdistance': 151.18145751953125}\n",
      "{'startpoint': array([12.87431812, -6.15447617,  0.        ]), 'maxdistance': 151.18145751953125}\n",
      "{'startpoint': array([11.91084099, -6.21811867,  0.        ]), 'maxdistance': 151.18145751953125}\n",
      "{'startpoint': array([12.74278164, -4.66396523,  0.        ]), 'maxdistance': 151.18145751953125}\n",
      "{'startpoint': array([13.94271278, -3.93662858,  0.        ]), 'maxdistance': 151.18145751953125}\n",
      "{'startpoint': array([15.17134953, -3.15545416,  0.        ]), 'maxdistance': 151.18145751953125}\n",
      "{'startpoint': array([16.49898148, -2.79281855,  0.        ]), 'maxdistance': 151.18145751953125}\n",
      "{'startpoint': array([17.39873695, -1.9087199 ,  0.        ]), 'maxdistance': 151.18145751953125}\n",
      "{'startpoint': array([18.40354347, -2.11475515,  0.        ]), 'maxdistance': 151.18145751953125}\n",
      "{'startpoint': array([19.55070877, -1.63025689,  0.        ]), 'maxdistance': 151.18145751953125}\n",
      "{'startpoint': array([20.44308853, -0.35754532,  0.        ]), 'maxdistance': 151.18145751953125}\n",
      "{'startpoint': array([19.81648254,  1.18244696,  0.        ]), 'maxdistance': 151.18145751953125}\n",
      "{'startpoint': array([19.30236626, -0.45036861,  0.        ]), 'maxdistance': 151.18145751953125}\n",
      "{'startpoint': array([18.20213318, -0.49539751,  0.        ]), 'maxdistance': 151.18145751953125}\n",
      "{'startpoint': array([18.85172844,  0.83682948,  0.        ]), 'maxdistance': 151.18145751953125}\n",
      "{'startpoint': array([18.84760857,  2.34390616,  0.        ]), 'maxdistance': 151.18145751953125}\n",
      "{'startpoint': array([17.73145103,  2.89420509,  0.        ]), 'maxdistance': 151.18145751953125}\n",
      "{'startpoint': array([17.89412689,  1.31185806,  0.        ]), 'maxdistance': 151.18145751953125}\n",
      "{'startpoint': array([17.29157829, -0.04919743,  0.        ]), 'maxdistance': 151.18145751953125}\n",
      "{'startpoint': array([16.48268509, -0.72740245,  0.        ]), 'maxdistance': 151.18145751953125}\n",
      "{'startpoint': array([15.50061607, -1.48886895,  0.        ]), 'maxdistance': 151.18145751953125}\n",
      "{'startpoint': array([14.32126236, -2.2027638 ,  0.        ]), 'maxdistance': 151.18145751953125}\n",
      "{'startpoint': array([13.12861538, -2.97895265,  0.        ]), 'maxdistance': 151.18145751953125}\n",
      "{'startpoint': array([13.46666431, -1.26976037,  0.        ]), 'maxdistance': 151.18145751953125}\n",
      "{'startpoint': array([14.5392313 , -0.44601032,  0.        ]), 'maxdistance': 151.18145751953125}\n",
      "{'startpoint': array([15.6261034 ,  0.42241398,  0.        ]), 'maxdistance': 151.18145751953125}\n",
      "{'startpoint': array([16.73545647,  1.39499104,  0.        ]), 'maxdistance': 151.18145751953125}\n",
      "{'startpoint': array([16.65567589,  3.17105341,  0.        ]), 'maxdistance': 151.18145751953125}\n",
      "{'startpoint': array([16.40380096,  4.60209036,  0.        ]), 'maxdistance': 151.18145751953125}\n",
      "{'startpoint': array([15.30057144,  5.33733988,  0.        ]), 'maxdistance': 151.18145751953125}\n",
      "{'startpoint': array([14.09780407,  5.95556211,  0.        ]), 'maxdistance': 151.18145751953125}\n",
      "{'startpoint': array([12.63722324,  6.1264472 ,  0.        ]), 'maxdistance': 151.18145751953125}\n",
      "{'startpoint': array([11.13305092,  6.22128963,  0.        ]), 'maxdistance': 151.18145751953125}\n",
      "{'startpoint': array([9.86997604, 6.84676027, 0.        ]), 'maxdistance': 151.18145751953125}\n",
      "{'startpoint': array([8.67442417, 7.40163851, 0.        ]), 'maxdistance': 151.18145751953125}\n",
      "{'startpoint': array([7.5267663 , 7.79984474, 0.        ]), 'maxdistance': 151.18145751953125}\n",
      "{'startpoint': array([7.06272697, 8.86973667, 0.        ]), 'maxdistance': 151.18145751953125}\n",
      "{'startpoint': array([6.4151845 , 9.83677387, 0.        ]), 'maxdistance': 151.18145751953125}\n",
      "{'startpoint': array([5.69578409, 8.78717232, 0.        ]), 'maxdistance': 151.18145751953125}\n",
      "{'startpoint': array([6.4115901 , 8.03562927, 0.        ]), 'maxdistance': 151.18145751953125}\n",
      "{'startpoint': array([6.47260332, 7.06312561, 0.        ]), 'maxdistance': 151.18145751953125}\n",
      "{'startpoint': array([5.31564283, 7.64507198, 0.        ]), 'maxdistance': 151.18145751953125}\n",
      "{'startpoint': array([4.42095661, 8.36374855, 0.        ]), 'maxdistance': 151.18145751953125}\n",
      "{'startpoint': array([5.1076827 , 9.62840176, 0.        ]), 'maxdistance': 151.18145751953125}\n",
      "{'startpoint': array([ 5.74475384, 10.80191231,  0.        ]), 'maxdistance': 151.18145751953125}\n",
      "{'startpoint': array([ 6.60187435, 11.80012131,  0.        ]), 'maxdistance': 151.18145751953125}\n",
      "{'startpoint': array([ 5.36128235, 11.86200428,  0.        ]), 'maxdistance': 151.18145751953125}\n",
      "{'startpoint': array([ 3.80839252, 11.88548183,  0.        ]), 'maxdistance': 151.18145751953125}\n",
      "{'startpoint': array([ 4.60139751, 11.18435669,  0.        ]), 'maxdistance': 151.18145751953125}\n",
      "{'startpoint': array([ 4.32898951, 10.37411213,  0.        ]), 'maxdistance': 151.18145751953125}\n",
      "{'startpoint': array([ 3.26188374, 11.10088444,  0.        ]), 'maxdistance': 151.18145751953125}\n",
      "{'startpoint': array([ 2.36047006, 11.87258625,  0.        ]), 'maxdistance': 151.18145751953125}\n",
      "{'startpoint': array([ 1.09730041, 12.33860874,  0.        ]), 'maxdistance': 151.18145751953125}\n",
      "{'startpoint': array([-0.16302106, 12.73320198,  0.        ]), 'maxdistance': 151.18145751953125}\n",
      "{'startpoint': array([-1.53565586, 13.06775284,  0.        ]), 'maxdistance': 151.18145751953125}\n",
      "{'startpoint': array([-3.08616304, 13.17207241,  0.        ]), 'maxdistance': 151.18145751953125}\n",
      "{'startpoint': array([-4.52544165, 13.35601711,  0.        ]), 'maxdistance': 151.18145751953125}\n",
      "{'startpoint': array([-5.76897335, 13.45161057,  0.        ]), 'maxdistance': 151.18145751953125}\n",
      "{'startpoint': array([-6.27963352, 14.15310097,  0.        ]), 'maxdistance': 151.18145751953125}\n",
      "{'startpoint': array([-7.5158534 , 14.88293457,  0.        ]), 'maxdistance': 151.18145751953125}\n",
      "{'startpoint': array([-7.72876453, 14.11254597,  0.        ]), 'maxdistance': 151.18145751953125}\n",
      "{'startpoint': array([-9.2344532 , 14.66219139,  0.        ]), 'maxdistance': 151.18145751953125}\n",
      "{'startpoint': array([-7.01255941, 13.50009251,  0.        ]), 'maxdistance': 151.18145751953125}\n",
      "{'startpoint': array([-8.17521763, 13.52046967,  0.        ]), 'maxdistance': 151.18145751953125}\n",
      "{'startpoint': array([-9.02753067, 13.86206913,  0.        ]), 'maxdistance': 151.18145751953125}\n",
      "{'startpoint': array([-10.26682377,  13.68642998,   0.        ]), 'maxdistance': 151.18145751953125}\n",
      "{'startpoint': array([-10.94335079,  14.53755474,   0.        ]), 'maxdistance': 151.18145751953125}\n",
      "{'startpoint': array([-11.53063679,  13.31827354,   0.        ]), 'maxdistance': 151.18145751953125}\n",
      "{'startpoint': array([-12.6394701 ,  14.11882114,   0.        ]), 'maxdistance': 151.18145751953125}\n",
      "{'startpoint': array([-12.72807503,  13.17220497,   0.        ]), 'maxdistance': 151.18145751953125}\n",
      "{'startpoint': array([-14.06333733,  13.29560661,   0.        ]), 'maxdistance': 151.18145751953125}\n",
      "{'startpoint': array([-13.81724739,  12.49242687,   0.        ]), 'maxdistance': 151.18145751953125}\n",
      "{'startpoint': array([-15.31941891,  12.18850136,   0.        ]), 'maxdistance': 151.18145751953125}\n",
      "{'startpoint': array([-12.69394016,  12.52205086,   0.        ]), 'maxdistance': 151.18145751953125}\n",
      "{'startpoint': array([-14.06072617,  11.69061852,   0.        ]), 'maxdistance': 151.18145751953125}\n",
      "{'startpoint': array([-15.1170969 ,  10.79220104,   0.        ]), 'maxdistance': 151.18145751953125}\n",
      "{'startpoint': array([-16.40785217,  11.03137207,   0.        ]), 'maxdistance': 151.18145751953125}\n",
      "{'startpoint': array([-16.50449944,   9.90659428,   0.        ]), 'maxdistance': 151.18145751953125}\n",
      "{'startpoint': array([-17.83507919,   9.98224449,   0.        ]), 'maxdistance': 151.18145751953125}\n",
      "{'startpoint': array([-17.82659721,   8.90854645,   0.        ]), 'maxdistance': 151.18145751953125}\n",
      "{'startpoint': array([-19.29845619,   8.73976707,   0.        ]), 'maxdistance': 151.18145751953125}\n",
      "{'startpoint': array([-19.45573997,   9.37825871,   0.        ]), 'maxdistance': 151.18145751953125}\n",
      "{'startpoint': array([-20.59854698,   8.9941206 ,   0.        ]), 'maxdistance': 151.18145751953125}\n",
      "{'startpoint': array([-20.91243362,   9.87301922,   0.        ]), 'maxdistance': 151.18145751953125}\n",
      "{'startpoint': array([-21.81375504,   9.42184544,   0.        ]), 'maxdistance': 151.18145751953125}\n",
      "{'startpoint': array([-22.43544197,  10.24756718,   0.        ]), 'maxdistance': 151.18145751953125}\n",
      "{'startpoint': array([-23.03779984,   9.55744076,   0.        ]), 'maxdistance': 151.18145751953125}\n",
      "{'startpoint': array([-23.97215462,  10.39068031,   0.        ]), 'maxdistance': 151.18145751953125}\n",
      "{'startpoint': array([-24.17778397,   9.15779591,   0.        ]), 'maxdistance': 151.18145751953125}\n",
      "{'startpoint': array([-25.06650734,   9.40118504,   0.        ]), 'maxdistance': 151.18145751953125}\n",
      "{'startpoint': array([-25.61275291,  10.34811878,   0.        ]), 'maxdistance': 151.18145751953125}\n",
      "{'startpoint': array([-26.09740257,   9.34129333,   0.        ]), 'maxdistance': 151.18145751953125}\n",
      "{'startpoint': array([-26.92530251,  10.0583992 ,   0.        ]), 'maxdistance': 151.18145751953125}\n",
      "{'startpoint': array([-27.15574646,   8.66505909,   0.        ]), 'maxdistance': 151.18145751953125}\n",
      "{'startpoint': array([-28.21345139,   9.3447113 ,   0.        ]), 'maxdistance': 151.18145751953125}\n",
      "{'startpoint': array([-28.24412155,   7.7209754 ,   0.        ]), 'maxdistance': 151.18145751953125}\n",
      "{'startpoint': array([-29.39811707,   8.21512985,   0.        ]), 'maxdistance': 151.18145751953125}\n",
      "{'startpoint': array([-29.29409599,   6.38680124,   0.        ]), 'maxdistance': 151.18145751953125}\n",
      "{'startpoint': array([-30.52663612,   6.88593197,   0.        ]), 'maxdistance': 151.18145751953125}\n",
      "{'startpoint': array([-30.13345146,   4.83388233,   0.        ]), 'maxdistance': 151.18145751953125}\n",
      "{'startpoint': array([-31.63080025,   5.3649559 ,   0.        ]), 'maxdistance': 151.18145751953125}\n",
      "{'startpoint': array([-30.84206009,   3.1946125 ,   0.        ]), 'maxdistance': 151.18145751953125}\n",
      "{'startpoint': array([-32.39701462,   3.34578466,   0.        ]), 'maxdistance': 151.18145751953125}\n",
      "{'startpoint': array([-31.43149376,   1.33346772,   0.        ]), 'maxdistance': 151.18145751953125}\n",
      "{'startpoint': array([-32.92301941,   1.25713527,   0.        ]), 'maxdistance': 151.18145751953125}\n",
      "{'startpoint': array([-31.88376808,  -0.39007321,   0.        ]), 'maxdistance': 151.18145751953125}\n",
      "{'startpoint': array([-33.22094345,  -1.11324131,   0.        ]), 'maxdistance': 151.18145751953125}\n",
      "{'startpoint': array([-30.77845573,  -0.35242155,   0.        ]), 'maxdistance': 151.18145751953125}\n",
      "{'startpoint': array([-30.35920525,   1.40798867,   0.        ]), 'maxdistance': 151.18145751953125}\n",
      "{'startpoint': array([-29.77594757,   3.25052571,   0.        ]), 'maxdistance': 151.18145751953125}\n",
      "{'startpoint': array([-28.9527607 ,   4.82032204,   0.        ]), 'maxdistance': 151.18145751953125}\n",
      "{'startpoint': array([-28.30913353,   6.25909567,   0.        ]), 'maxdistance': 151.18145751953125}\n",
      "{'startpoint': array([-27.31366539,   7.23945236,   0.        ]), 'maxdistance': 151.18145751953125}\n",
      "{'startpoint': array([-26.19789886,   8.32384872,   0.        ]), 'maxdistance': 151.18145751953125}\n",
      "{'startpoint': array([-25.23365402,   8.07526875,   0.        ]), 'maxdistance': 151.18145751953125}\n",
      "{'startpoint': array([-26.41449356,   6.81612921,   0.        ]), 'maxdistance': 151.18145751953125}\n",
      "{'startpoint': array([-27.65390396,   5.24322414,   0.        ]), 'maxdistance': 151.18145751953125}\n",
      "{'startpoint': array([-28.49905586,   3.27728844,   0.        ]), 'maxdistance': 151.18145751953125}\n",
      "{'startpoint': array([-29.28749657,   1.21335614,   0.        ]), 'maxdistance': 151.18145751953125}\n",
      "{'startpoint': array([-29.60444832,  -0.82383651,   0.        ]), 'maxdistance': 151.18145751953125}\n",
      "{'startpoint': array([-29.98662949,  -2.32712626,   0.        ]), 'maxdistance': 151.18145751953125}\n",
      "{'startpoint': array([-31.10261536,  -1.77583218,   0.        ]), 'maxdistance': 151.18145751953125}\n",
      "{'startpoint': array([-31.89975929,  -2.37687016,   0.        ]), 'maxdistance': 151.18145751953125}\n",
      "{'startpoint': array([-32.5501709 ,  -3.43386054,   0.        ]), 'maxdistance': 151.18145751953125}\n",
      "{'startpoint': array([-33.66699982,  -3.2506268 ,   0.        ]), 'maxdistance': 151.18145751953125}\n",
      "{'startpoint': array([-32.88805771,  -5.1821847 ,   0.        ]), 'maxdistance': 151.18145751953125}\n",
      "{'startpoint': array([-34.12244415,  -5.2168026 ,   0.        ]), 'maxdistance': 151.18145751953125}\n",
      "{'startpoint': array([-32.89019012,  -6.7069397 ,   0.        ]), 'maxdistance': 151.18145751953125}\n",
      "{'startpoint': array([-34.13728333,  -7.18493748,   0.        ]), 'maxdistance': 151.18145751953125}\n",
      "{'startpoint': array([-32.61208725,  -8.09280872,   0.        ]), 'maxdistance': 151.18145751953125}\n",
      "{'startpoint': array([-33.76321793,  -8.9590435 ,   0.        ]), 'maxdistance': 151.18145751953125}\n",
      "{'startpoint': array([-32.39862442,  -9.46291161,   0.        ]), 'maxdistance': 151.18145751953125}\n",
      "{'startpoint': array([-33.5723877 , -10.30811501,   0.        ]), 'maxdistance': 151.18145751953125}\n",
      "{'startpoint': array([-32.17780304, -10.4738903 ,   0.        ]), 'maxdistance': 151.18145751953125}\n",
      "{'startpoint': array([-33.2699852 , -11.44124031,   0.        ]), 'maxdistance': 151.18145751953125}\n",
      "{'startpoint': array([-31.65058327, -11.28989601,   0.        ]), 'maxdistance': 151.18145751953125}\n",
      "{'startpoint': array([-32.31548309, -12.17099857,   0.        ]), 'maxdistance': 151.18145751953125}\n",
      "{'startpoint': array([-30.72415352, -11.72983265,   0.        ]), 'maxdistance': 151.18145751953125}\n",
      "{'startpoint': array([-31.41977692, -12.53092861,   0.        ]), 'maxdistance': 151.18145751953125}\n",
      "{'startpoint': array([-30.13127327, -12.06932068,   0.        ]), 'maxdistance': 151.18145751953125}\n",
      "{'startpoint': array([-30.47101784, -12.59410572,   0.        ]), 'maxdistance': 151.18145751953125}\n",
      "{'startpoint': array([-29.4346962 , -12.16230583,   0.        ]), 'maxdistance': 151.18145751953125}\n",
      "{'startpoint': array([-29.57353401, -12.37991714,   0.        ]), 'maxdistance': 151.18145751953125}\n",
      "{'startpoint': array([-28.45028305, -11.85507965,   0.        ]), 'maxdistance': 151.18145751953125}\n",
      "{'startpoint': array([-28.28045464, -11.53624821,   0.        ]), 'maxdistance': 151.18145751953125}\n",
      "{'startpoint': array([-29.12291718, -11.86786747,   0.        ]), 'maxdistance': 151.18145751953125}\n",
      "{'startpoint': array([-29.56413841, -11.58075714,   0.        ]), 'maxdistance': 151.18145751953125}\n",
      "{'startpoint': array([-28.5839119 , -11.11489201,   0.        ]), 'maxdistance': 151.18145751953125}\n",
      "{'startpoint': array([-27.50546265, -11.15973568,   0.        ]), 'maxdistance': 151.18145751953125}\n",
      "{'startpoint': array([-26.77259827, -10.59568405,   0.        ]), 'maxdistance': 151.18145751953125}\n",
      "{'startpoint': array([-27.76703835, -10.75575161,   0.        ]), 'maxdistance': 151.18145751953125}\n",
      "{'startpoint': array([-27.31448555, -10.25411129,   0.        ]), 'maxdistance': 151.18145751953125}\n",
      "{'startpoint': array([-26.09088135, -10.03684425,   0.        ]), 'maxdistance': 151.18145751953125}\n",
      "{'startpoint': array([-25.32325172,  -9.4168272 ,   0.        ]), 'maxdistance': 151.18145751953125}\n",
      "{'startpoint': array([-26.49223328,  -9.70619869,   0.        ]), 'maxdistance': 151.18145751953125}\n",
      "{'startpoint': array([-25.91991425,  -8.9163065 ,   0.        ]), 'maxdistance': 151.18145751953125}\n",
      "{'startpoint': array([-24.75935364,  -8.58828926,   0.        ]), 'maxdistance': 151.18145751953125}\n",
      "{'startpoint': array([-24.97808647,  -7.48490381,   0.        ]), 'maxdistance': 151.18145751953125}\n",
      "{'startpoint': array([-25.90706635,  -7.9893651 ,   0.        ]), 'maxdistance': 151.18145751953125}\n",
      "{'startpoint': array([-27.02927399,  -8.39938068,   0.        ]), 'maxdistance': 151.18145751953125}\n",
      "{'startpoint': array([-27.04536438,  -9.21536446,   0.        ]), 'maxdistance': 151.18145751953125}\n",
      "{'startpoint': array([-27.79242516,  -9.89125061,   0.        ]), 'maxdistance': 151.18145751953125}\n",
      "{'startpoint': array([-28.60166931, -10.48426914,   0.        ]), 'maxdistance': 151.18145751953125}\n",
      "{'startpoint': array([-29.60147095, -11.17559528,   0.        ]), 'maxdistance': 151.18145751953125}\n",
      "{'startpoint': array([-30.62482071, -11.15808773,   0.        ]), 'maxdistance': 151.18145751953125}\n",
      "{'startpoint': array([-29.72455788, -10.53062153,   0.        ]), 'maxdistance': 151.18145751953125}\n",
      "{'startpoint': array([-28.94723129,  -9.76794243,   0.        ]), 'maxdistance': 151.18145751953125}\n",
      "{'startpoint': array([-28.01522446,  -9.09750557,   0.        ]), 'maxdistance': 151.18145751953125}\n",
      "{'startpoint': array([-28.09963226,  -7.99885082,   0.        ]), 'maxdistance': 151.18145751953125}\n",
      "{'startpoint': array([-27.10046768,  -7.33753157,   0.        ]), 'maxdistance': 151.18145751953125}\n",
      "{'startpoint': array([-26.11217117,  -6.78983784,   0.        ]), 'maxdistance': 151.18145751953125}\n",
      "{'startpoint': array([-25.25832939,  -6.15914583,   0.        ]), 'maxdistance': 151.18145751953125}\n",
      "{'startpoint': array([-24.0592823 ,  -6.89729738,   0.        ]), 'maxdistance': 151.18145751953125}\n",
      "{'startpoint': array([-23.18672371,  -6.20145369,   0.        ]), 'maxdistance': 151.18145751953125}\n",
      "{'startpoint': array([-24.33469391,  -5.63806105,   0.        ]), 'maxdistance': 151.18145751953125}\n",
      "{'startpoint': array([-23.47824478,  -5.10598183,   0.        ]), 'maxdistance': 151.18145751953125}\n",
      "{'startpoint': array([-22.4642849 ,  -5.18954945,   0.        ]), 'maxdistance': 151.18145751953125}\n",
      "{'startpoint': array([-21.85100746,  -3.97360682,   0.        ]), 'maxdistance': 151.18145751953125}\n",
      "{'startpoint': array([-21.79594231,  -2.47576857,   0.        ]), 'maxdistance': 151.18145751953125}\n",
      "{'startpoint': array([-20.8155098 ,  -1.59500086,   0.        ]), 'maxdistance': 151.18145751953125}\n",
      "{'startpoint': array([-20.01308823,  -0.37502518,   0.        ]), 'maxdistance': 151.18145751953125}\n",
      "{'startpoint': array([-19.66836548,   1.33585596,   0.        ]), 'maxdistance': 151.18145751953125}\n",
      "{'startpoint': array([-18.61259842,   2.37529588,   0.        ]), 'maxdistance': 151.18145751953125}\n",
      "{'startpoint': array([-17.94311142,   4.201653  ,   0.        ]), 'maxdistance': 151.18145751953125}\n",
      "{'startpoint': array([-17.06438446,   5.64997149,   0.        ]), 'maxdistance': 151.18145751953125}\n",
      "{'startpoint': array([-16.18985367,   6.76000786,   0.        ]), 'maxdistance': 151.18145751953125}\n",
      "{'startpoint': array([-14.83340073,   6.91578913,   0.        ]), 'maxdistance': 151.18145751953125}\n",
      "{'startpoint': array([-13.38541126,   7.25036573,   0.        ]), 'maxdistance': 151.18145751953125}\n",
      "{'startpoint': array([-12.79673767,   8.34855843,   0.        ]), 'maxdistance': 151.18145751953125}\n",
      "{'startpoint': array([-12.19621563,   9.43461895,   0.        ]), 'maxdistance': 151.18145751953125}\n",
      "{'startpoint': array([-11.7108593 ,  10.42273617,   0.        ]), 'maxdistance': 151.18145751953125}\n",
      "{'startpoint': array([-10.54733181,  10.9602232 ,   0.        ]), 'maxdistance': 151.18145751953125}\n",
      "{'startpoint': array([-9.28595066, 11.54854774,  0.        ]), 'maxdistance': 151.18145751953125}\n",
      "{'startpoint': array([-8.05552006, 11.16748524,  0.        ]), 'maxdistance': 151.18145751953125}\n",
      "{'startpoint': array([-6.64083195, 11.66359234,  0.        ]), 'maxdistance': 151.18145751953125}\n",
      "{'startpoint': array([-5.19961882, 11.72347736,  0.        ]), 'maxdistance': 151.18145751953125}\n",
      "{'startpoint': array([-3.80745816, 11.76169491,  0.        ]), 'maxdistance': 151.18145751953125}\n",
      "{'startpoint': array([-3.37975574, 10.98046112,  0.        ]), 'maxdistance': 151.18145751953125}\n",
      "{'startpoint': array([-2.41672015, 10.62329578,  0.        ]), 'maxdistance': 151.18145751953125}\n",
      "{'startpoint': array([-1.37106216, 10.28803539,  0.        ]), 'maxdistance': 151.18145751953125}\n",
      "{'startpoint': array([-0.34351733, 10.09375191,  0.        ]), 'maxdistance': 151.18145751953125}\n",
      "{'startpoint': array([0.35838515, 9.53559208, 0.        ]), 'maxdistance': 151.18145751953125}\n",
      "{'startpoint': array([1.25104845, 8.84778214, 0.        ]), 'maxdistance': 151.18145751953125}\n",
      "{'startpoint': array([2.1174252, 8.1298542, 0.       ]), 'maxdistance': 151.18145751953125}\n",
      "{'startpoint': array([3.20970035, 7.50492811, 0.        ]), 'maxdistance': 151.18145751953125}\n",
      "{'startpoint': array([4.22582102, 7.02808332, 0.        ]), 'maxdistance': 151.18145751953125}\n",
      "{'startpoint': array([5.36938906, 6.4495554 , 0.        ]), 'maxdistance': 151.18145751953125}\n",
      "{'startpoint': array([3.29546046, 8.50761318, 0.        ]), 'maxdistance': 151.18145751953125}\n",
      "{'startpoint': array([3.85401726, 9.37761593, 0.        ]), 'maxdistance': 151.18145751953125}\n",
      "{'startpoint': array([ 2.94761467, 10.17561626,  0.        ]), 'maxdistance': 151.18145751953125}\n",
      "{'startpoint': array([ 2.03760362, 10.88815594,  0.        ]), 'maxdistance': 151.18145751953125}\n",
      "{'startpoint': array([ 1.05529439, 11.47660828,  0.        ]), 'maxdistance': 151.18145751953125}\n",
      "{'startpoint': array([-0.15847383, 11.90383911,  0.        ]), 'maxdistance': 151.18145751953125}\n",
      "{'startpoint': array([-1.39137781, 12.27565002,  0.        ]), 'maxdistance': 151.18145751953125}\n",
      "{'startpoint': array([-2.73233318, 12.47045612,  0.        ]), 'maxdistance': 151.18145751953125}\n",
      "{'startpoint': array([-4.20118856, 12.55922699,  0.        ]), 'maxdistance': 151.18145751953125}\n",
      "{'startpoint': array([-5.59077406, 12.54956532,  0.        ]), 'maxdistance': 151.18145751953125}\n",
      "{'startpoint': array([-6.8109746 , 12.64457893,  0.        ]), 'maxdistance': 151.18145751953125}\n",
      "{'startpoint': array([-8.09079552, 12.84839344,  0.        ]), 'maxdistance': 151.18145751953125}\n",
      "{'startpoint': array([-9.35301495, 13.20201397,  0.        ]), 'maxdistance': 151.18145751953125}\n",
      "{'startpoint': array([-10.52658367,  12.90998936,   0.        ]), 'maxdistance': 151.18145751953125}\n",
      "{'startpoint': array([-11.57489967,  12.40450478,   0.        ]), 'maxdistance': 151.18145751953125}\n",
      "{'startpoint': array([-12.78754997,  11.66712761,   0.        ]), 'maxdistance': 151.18145751953125}\n",
      "{'startpoint': array([-13.85194969,  10.87071037,   0.        ]), 'maxdistance': 151.18145751953125}\n",
      "{'startpoint': array([-12.60803795,  10.91643715,   0.        ]), 'maxdistance': 151.18145751953125}\n",
      "{'startpoint': array([-11.56253338,  11.4433279 ,   0.        ]), 'maxdistance': 151.18145751953125}\n",
      "{'startpoint': array([-10.47449875,  11.9537468 ,   0.        ]), 'maxdistance': 151.18145751953125}\n",
      "{'startpoint': array([-9.28299904, 12.41326046,  0.        ]), 'maxdistance': 151.18145751953125}\n",
      "{'startpoint': array([-7.96192884, 12.04147911,  0.        ]), 'maxdistance': 151.18145751953125}\n",
      "{'startpoint': array([-13.10777569,  10.08542347,   0.        ]), 'maxdistance': 151.18145751953125}\n",
      "{'startpoint': array([-13.66615868,   9.14444256,   0.        ]), 'maxdistance': 151.18145751953125}\n",
      "{'startpoint': array([-14.43628597,   9.93314171,   0.        ]), 'maxdistance': 151.18145751953125}\n",
      "{'startpoint': array([-15.53877068,   9.75545025,   0.        ]), 'maxdistance': 151.18145751953125}\n",
      "{'startpoint': array([-16.54747581,   8.88369942,   0.        ]), 'maxdistance': 151.18145751953125}\n",
      "{'startpoint': array([-15.13379574,   8.84049606,   0.        ]), 'maxdistance': 151.18145751953125}\n",
      "{'startpoint': array([-14.15780735,   8.11002159,   0.        ]), 'maxdistance': 151.18145751953125}\n",
      "{'startpoint': array([-15.34735107,   7.78308964,   0.        ]), 'maxdistance': 151.18145751953125}\n",
      "{'startpoint': array([-16.43479919,   7.92199516,   0.        ]), 'maxdistance': 151.18145751953125}\n",
      "{'startpoint': array([-17.72159767,   7.94192743,   0.        ]), 'maxdistance': 151.18145751953125}\n",
      "{'startpoint': array([-19.10552788,   7.88097095,   0.        ]), 'maxdistance': 151.18145751953125}\n",
      "{'startpoint': array([-20.5875473 ,   7.88416529,   0.        ]), 'maxdistance': 151.18145751953125}\n",
      "{'startpoint': array([-21.4871521 ,   8.58960152,   0.        ]), 'maxdistance': 151.18145751953125}\n",
      "{'startpoint': array([-22.52997971,   8.67203712,   0.        ]), 'maxdistance': 151.18145751953125}\n",
      "{'startpoint': array([-23.50831032,   8.59059048,   0.        ]), 'maxdistance': 151.18145751953125}\n",
      "{'startpoint': array([-24.33903122,   7.5337739 ,   0.        ]), 'maxdistance': 151.18145751953125}\n",
      "{'startpoint': array([-25.32745743,   6.39037275,   0.        ]), 'maxdistance': 151.18145751953125}\n",
      "{'startpoint': array([-26.46144295,   5.29575872,   0.        ]), 'maxdistance': 151.18145751953125}\n",
      "{'startpoint': array([-27.37340164,   3.70175743,   0.        ]), 'maxdistance': 151.18145751953125}\n",
      "{'startpoint': array([-26.23132706,   3.6412034 ,   0.        ]), 'maxdistance': 151.18145751953125}\n",
      "{'startpoint': array([-25.31964493,   4.64514542,   0.        ]), 'maxdistance': 151.18145751953125}\n",
      "{'startpoint': array([-24.20114899,   5.76107264,   0.        ]), 'maxdistance': 151.18145751953125}\n",
      "{'startpoint': array([-23.33435822,   7.24260378,   0.        ]), 'maxdistance': 151.18145751953125}\n",
      "{'startpoint': array([-22.05695724,   7.44808674,   0.        ]), 'maxdistance': 151.18145751953125}\n",
      "{'startpoint': array([-21.46292496,   6.46497107,   0.        ]), 'maxdistance': 151.18145751953125}\n",
      "{'startpoint': array([-22.84175301,   6.04539156,   0.        ]), 'maxdistance': 151.18145751953125}\n",
      "{'startpoint': array([-23.38873482,   4.51391315,   0.        ]), 'maxdistance': 151.18145751953125}\n",
      "{'startpoint': array([-22.09028244,   4.87759209,   0.        ]), 'maxdistance': 151.18145751953125}\n",
      "{'startpoint': array([-20.88816452,   5.25863695,   0.        ]), 'maxdistance': 151.18145751953125}\n",
      "{'startpoint': array([-20.13043404,   6.7886343 ,   0.        ]), 'maxdistance': 151.18145751953125}\n",
      "{'startpoint': array([-18.76922798,   6.8375535 ,   0.        ]), 'maxdistance': 151.18145751953125}\n",
      "{'startpoint': array([-17.45604515,   6.8109684 ,   0.        ]), 'maxdistance': 151.18145751953125}\n",
      "{'startpoint': array([-18.34299088,   5.60353708,   0.        ]), 'maxdistance': 151.18145751953125}\n",
      "{'startpoint': array([-19.60230637,   5.59498835,   0.        ]), 'maxdistance': 151.18145751953125}\n",
      "{'startpoint': array([-20.22987938,   4.16857862,   0.        ]), 'maxdistance': 151.18145751953125}\n",
      "{'startpoint': array([-19.01097679,   4.2161274 ,   0.        ]), 'maxdistance': 151.18145751953125}\n",
      "{'startpoint': array([-19.4949131 ,   2.95098758,   0.        ]), 'maxdistance': 151.18145751953125}\n",
      "{'startpoint': array([-20.4242363 ,   2.71901441,   0.        ]), 'maxdistance': 151.18145751953125}\n",
      "{'startpoint': array([-20.7947464 ,   1.45563543,   0.        ]), 'maxdistance': 151.18145751953125}\n",
      "{'startpoint': array([-21.20683861,   0.12051024,   0.        ]), 'maxdistance': 151.18145751953125}\n",
      "{'startpoint': array([-21.80528831,  -0.97577363,   0.        ]), 'maxdistance': 151.18145751953125}\n",
      "{'startpoint': array([-22.39163208,   0.41825241,   0.        ]), 'maxdistance': 151.18145751953125}\n",
      "{'startpoint': array([-21.82307053,   1.86169219,   0.        ]), 'maxdistance': 151.18145751953125}\n",
      "{'startpoint': array([-21.34335136,   3.44429064,   0.        ]), 'maxdistance': 151.18145751953125}\n",
      "{'startpoint': array([-22.52994347,   3.34103847,   0.        ]), 'maxdistance': 151.18145751953125}\n",
      "{'startpoint': array([-22.8489418 ,   1.76990664,   0.        ]), 'maxdistance': 151.18145751953125}\n",
      "{'startpoint': array([-23.65046501,   2.67792988,   0.        ]), 'maxdistance': 151.18145751953125}\n",
      "{'startpoint': array([-24.50905037,   3.75409651,   0.        ]), 'maxdistance': 151.18145751953125}\n",
      "{'startpoint': array([-25.5288372,   2.4014504,   0.       ]), 'maxdistance': 151.18145751953125}\n",
      "{'startpoint': array([-24.54433823,   1.706514  ,   0.        ]), 'maxdistance': 151.18145751953125}\n",
      "{'startpoint': array([-23.50915909,   0.60531652,   0.        ]), 'maxdistance': 151.18145751953125}\n",
      "{'startpoint': array([-22.7781105 ,  -1.10586882,   0.        ]), 'maxdistance': 151.18145751953125}\n",
      "{'startpoint': array([-22.88144493,  -2.68030453,   0.        ]), 'maxdistance': 151.18145751953125}\n",
      "{'startpoint': array([-23.7090683 ,  -1.32237554,   0.        ]), 'maxdistance': 151.18145751953125}\n",
      "{'startpoint': array([-2.43802166e+01,  2.98883021e-03,  0.00000000e+00]), 'maxdistance': 151.18145751953125}\n",
      "{'startpoint': array([-25.29945374,   0.24114498,   0.        ]), 'maxdistance': 151.18145751953125}\n",
      "{'startpoint': array([-24.8212204 ,  -1.51602578,   0.        ]), 'maxdistance': 151.18145751953125}\n",
      "{'startpoint': array([-24.02536774,  -2.91679788,   0.        ]), 'maxdistance': 151.18145751953125}\n",
      "{'startpoint': array([-23.11181641,  -3.9765799 ,   0.        ]), 'maxdistance': 151.18145751953125}\n",
      "{'startpoint': array([-24.32390594,  -4.2678194 ,   0.        ]), 'maxdistance': 151.18145751953125}\n",
      "{'startpoint': array([-25.23672485,  -3.09570384,   0.        ]), 'maxdistance': 151.18145751953125}\n",
      "{'startpoint': array([-25.81699753,  -1.62663949,   0.        ]), 'maxdistance': 151.18145751953125}\n",
      "{'startpoint': array([-26.17515373,   0.40349084,   0.        ]), 'maxdistance': 151.18145751953125}\n",
      "{'startpoint': array([-26.64327621,   2.12592554,   0.        ]), 'maxdistance': 151.18145751953125}\n",
      "{'startpoint': array([-27.69812965,   1.92870152,   0.        ]), 'maxdistance': 151.18145751953125}\n",
      "{'startpoint': array([-28.49500275,   1.24670792,   0.        ]), 'maxdistance': 151.18145751953125}\n",
      "{'startpoint': array([-28.68255043,  -0.93111926,   0.        ]), 'maxdistance': 151.18145751953125}\n",
      "{'startpoint': array([-28.82963562,  -2.84184408,   0.        ]), 'maxdistance': 151.18145751953125}\n",
      "{'startpoint': array([-27.66344261,  -2.39539361,   0.        ]), 'maxdistance': 151.18145751953125}\n",
      "{'startpoint': array([-27.74922562,  -0.40132713,   0.        ]), 'maxdistance': 151.18145751953125}\n",
      "{'startpoint': array([-27.04852104,   0.49801847,   0.        ]), 'maxdistance': 151.18145751953125}\n",
      "{'startpoint': array([-26.82676315,  -1.42497206,   0.        ]), 'maxdistance': 151.18145751953125}\n",
      "{'startpoint': array([-26.43005371,  -3.35169625,   0.        ]), 'maxdistance': 151.18145751953125}\n",
      "{'startpoint': array([-25.41825867,  -4.66919184,   0.        ]), 'maxdistance': 151.18145751953125}\n",
      "{'startpoint': array([-26.35708046,  -5.17973375,   0.        ]), 'maxdistance': 151.18145751953125}\n",
      "{'startpoint': array([-27.54068375,  -4.07338572,   0.        ]), 'maxdistance': 151.18145751953125}\n",
      "{'startpoint': array([-28.47517204,  -4.8815856 ,   0.        ]), 'maxdistance': 151.18145751953125}\n",
      "{'startpoint': array([-29.57612991,  -4.08660078,   0.        ]), 'maxdistance': 151.18145751953125}\n",
      "{'startpoint': array([-30.71849251,  -3.41971517,   0.        ]), 'maxdistance': 151.18145751953125}\n",
      "{'startpoint': array([-31.49662399,  -4.16895962,   0.        ]), 'maxdistance': 151.18145751953125}\n",
      "{'startpoint': array([-32.11138916,  -4.93369913,   0.        ]), 'maxdistance': 151.18145751953125}\n",
      "{'startpoint': array([-32.20356369,  -6.2104249 ,   0.        ]), 'maxdistance': 151.18145751953125}\n",
      "{'startpoint': array([-31.20189285,  -6.01871634,   0.        ]), 'maxdistance': 151.18145751953125}\n",
      "{'startpoint': array([-30.41069794,  -5.14539099,   0.        ]), 'maxdistance': 151.18145751953125}\n",
      "{'startpoint': array([-29.37231445,  -5.86761427,   0.        ]), 'maxdistance': 151.18145751953125}\n",
      "{'startpoint': array([-30.3984108 ,  -6.72256947,   0.        ]), 'maxdistance': 151.18145751953125}\n",
      "{'startpoint': array([-31.61366463,  -7.32974529,   0.        ]), 'maxdistance': 151.18145751953125}\n",
      "{'startpoint': array([-31.60761833,  -8.62950516,   0.        ]), 'maxdistance': 151.18145751953125}\n",
      "{'startpoint': array([-31.45761108,  -9.83054543,   0.        ]), 'maxdistance': 151.18145751953125}\n",
      "{'startpoint': array([-31.07217979, -10.60177231,   0.        ]), 'maxdistance': 151.18145751953125}\n",
      "{'startpoint': array([-30.16763878,  -9.97947311,   0.        ]), 'maxdistance': 151.18145751953125}\n",
      "{'startpoint': array([-30.64419174,  -9.21397877,   0.        ]), 'maxdistance': 151.18145751953125}\n",
      "{'startpoint': array([-29.72009087,  -9.2520256 ,   0.        ]), 'maxdistance': 151.18145751953125}\n",
      "{'startpoint': array([-29.09161568,  -8.64642334,   0.        ]), 'maxdistance': 151.18145751953125}\n",
      "{'startpoint': array([-29.28028107,  -7.39685297,   0.        ]), 'maxdistance': 151.18145751953125}\n",
      "{'startpoint': array([-28.23891258,  -6.66010618,   0.        ]), 'maxdistance': 151.18145751953125}\n",
      "{'startpoint': array([-27.33052254,  -5.84157085,   0.        ]), 'maxdistance': 151.18145751953125}\n",
      "{'startpoint': array([-30.34225464,  -8.12251377,   0.        ]), 'maxdistance': 151.18145751953125}\n",
      "{'startpoint': array([7.66522932, 6.67804766, 0.        ]), 'maxdistance': 151.18145751953125}\n",
      "{'startpoint': array([8.86535931, 6.19751024, 0.        ]), 'maxdistance': 151.18145751953125}\n",
      "{'startpoint': array([9.98623657, 5.55799055, 0.        ]), 'maxdistance': 151.18145751953125}\n",
      "{'startpoint': array([11.00273895,  4.82181644,  0.        ]), 'maxdistance': 151.18145751953125}\n",
      "{'startpoint': array([11.98801041,  5.2601757 ,  0.        ]), 'maxdistance': 151.18145751953125}\n",
      "{'startpoint': array([13.20606232,  4.96675634,  0.        ]), 'maxdistance': 151.18145751953125}\n",
      "{'startpoint': array([12.15758514,  4.0907464 ,  0.        ]), 'maxdistance': 151.18145751953125}\n",
      "{'startpoint': array([11.0582037 ,  3.46492982,  0.        ]), 'maxdistance': 151.18145751953125}\n",
      "{'startpoint': array([9.91561127, 4.19326735, 0.        ]), 'maxdistance': 151.18145751953125}\n",
      "{'startpoint': array([9.961339 , 2.9066298, 0.       ]), 'maxdistance': 151.18145751953125}\n",
      "{'startpoint': array([8.93431568, 2.28570652, 0.        ]), 'maxdistance': 151.18145751953125}\n",
      "{'startpoint': array([8.41630077, 1.10712516, 0.        ]), 'maxdistance': 151.18145751953125}\n",
      "{'startpoint': array([7.27249146, 0.29060277, 0.        ]), 'maxdistance': 151.18145751953125}\n",
      "{'startpoint': array([ 6.07413054, -0.58332586,  0.        ]), 'maxdistance': 151.18145751953125}\n",
      "{'startpoint': array([ 4.99664545, -1.60274446,  0.        ]), 'maxdistance': 151.18145751953125}\n",
      "{'startpoint': array([ 5.26682901, -2.72614169,  0.        ]), 'maxdistance': 151.18145751953125}\n",
      "{'startpoint': array([ 5.22180653, -3.93455434,  0.        ]), 'maxdistance': 151.18145751953125}\n",
      "{'startpoint': array([ 5.35848284, -5.24788618,  0.        ]), 'maxdistance': 151.18145751953125}\n",
      "{'startpoint': array([ 6.57108688, -5.63388014,  0.        ]), 'maxdistance': 151.18145751953125}\n",
      "{'startpoint': array([ 6.48507309, -4.3661747 ,  0.        ]), 'maxdistance': 151.18145751953125}\n",
      "{'startpoint': array([ 6.26294136, -3.17751217,  0.        ]), 'maxdistance': 151.18145751953125}\n",
      "{'startpoint': array([ 6.13491106, -1.80929434,  0.        ]), 'maxdistance': 151.18145751953125}\n",
      "{'startpoint': array([ 7.19225407, -0.98718619,  0.        ]), 'maxdistance': 151.18145751953125}\n",
      "{'startpoint': array([ 7.05624199, -2.22909236,  0.        ]), 'maxdistance': 151.18145751953125}\n",
      "{'startpoint': array([ 7.43244791, -3.31759477,  0.        ]), 'maxdistance': 151.18145751953125}\n",
      "{'startpoint': array([ 7.76902103, -4.45586252,  0.        ]), 'maxdistance': 151.18145751953125}\n",
      "{'startpoint': array([ 7.51187134, -5.84021425,  0.        ]), 'maxdistance': 151.18145751953125}\n",
      "{'startpoint': array([ 6.82553244, -7.11742735,  0.        ]), 'maxdistance': 151.18145751953125}\n",
      "{'startpoint': array([ 8.05059528, -6.73487949,  0.        ]), 'maxdistance': 151.18145751953125}\n",
      "{'startpoint': array([ 8.85581684, -7.26680946,  0.        ]), 'maxdistance': 151.18145751953125}\n",
      "{'startpoint': array([10.04860592, -6.87394381,  0.        ]), 'maxdistance': 151.18145751953125}\n",
      "{'startpoint': array([10.99045181, -6.28628159,  0.        ]), 'maxdistance': 151.18145751953125}\n",
      "{'startpoint': array([11.5242033 , -4.82918167,  0.        ]), 'maxdistance': 151.18145751953125}\n",
      "{'startpoint': array([10.42709255, -5.35608578,  0.        ]), 'maxdistance': 151.18145751953125}\n",
      "{'startpoint': array([ 9.27905655, -6.06185389,  0.        ]), 'maxdistance': 151.18145751953125}\n",
      "{'startpoint': array([ 8.55485058, -5.24887085,  0.        ]), 'maxdistance': 151.18145751953125}\n",
      "{'startpoint': array([ 9.1946106 , -3.92684388,  0.        ]), 'maxdistance': 151.18145751953125}\n",
      "{'startpoint': array([ 9.6887455 , -4.80346632,  0.        ]), 'maxdistance': 151.18145751953125}\n",
      "{'startpoint': array([10.60768414, -3.79931808,  0.        ]), 'maxdistance': 151.18145751953125}\n",
      "{'startpoint': array([11.90544319, -3.46042132,  0.        ]), 'maxdistance': 151.18145751953125}\n",
      "{'startpoint': array([12.29683304, -1.92075825,  0.        ]), 'maxdistance': 151.18145751953125}\n",
      "{'startpoint': array([11.10120678, -2.29429293,  0.        ]), 'maxdistance': 151.18145751953125}\n",
      "{'startpoint': array([ 9.89914322, -2.58435535,  0.        ]), 'maxdistance': 151.18145751953125}\n",
      "{'startpoint': array([ 8.60868454, -2.97978425,  0.        ]), 'maxdistance': 151.18145751953125}\n",
      "{'startpoint': array([ 8.05957603, -1.86009777,  0.        ]), 'maxdistance': 151.18145751953125}\n",
      "{'startpoint': array([ 8.33788872, -0.37786293,  0.        ]), 'maxdistance': 151.18145751953125}\n",
      "{'startpoint': array([9.49009037, 0.09811177, 0.        ]), 'maxdistance': 151.18145751953125}\n",
      "{'startpoint': array([9.81099701, 1.458987  , 0.        ]), 'maxdistance': 151.18145751953125}\n",
      "{'startpoint': array([11.06881142,  2.02056575,  0.        ]), 'maxdistance': 151.18145751953125}\n",
      "{'startpoint': array([12.21927261,  2.68277359,  0.        ]), 'maxdistance': 151.18145751953125}\n",
      "{'startpoint': array([13.32852077,  3.55833793,  0.        ]), 'maxdistance': 151.18145751953125}\n",
      "{'startpoint': array([14.33217525,  4.51040792,  0.        ]), 'maxdistance': 151.18145751953125}\n",
      "{'startpoint': array([15.46824741,  3.77399063,  0.        ]), 'maxdistance': 151.18145751953125}\n",
      "{'startpoint': array([15.62235546,  2.11363888,  0.        ]), 'maxdistance': 151.18145751953125}\n",
      "{'startpoint': array([14.53299904,  1.24993479,  0.        ]), 'maxdistance': 151.18145751953125}\n",
      "{'startpoint': array([13.44762802,  0.43847129,  0.        ]), 'maxdistance': 151.18145751953125}\n",
      "{'startpoint': array([12.56485271, -0.38654405,  0.        ]), 'maxdistance': 151.18145751953125}\n",
      "{'startpoint': array([11.54581547, -0.59987086,  0.        ]), 'maxdistance': 151.18145751953125}\n",
      "{'startpoint': array([10.36633301, -1.04265678,  0.        ]), 'maxdistance': 151.18145751953125}\n",
      "{'startpoint': array([ 9.18051338, -1.45086575,  0.        ]), 'maxdistance': 151.18145751953125}\n",
      "{'startpoint': array([10.80507565,  0.53738856,  0.        ]), 'maxdistance': 151.18145751953125}\n",
      "{'startpoint': array([12.15245438,  1.0652051 ,  0.        ]), 'maxdistance': 151.18145751953125}\n",
      "{'startpoint': array([13.33895588,  1.99290681,  0.        ]), 'maxdistance': 151.18145751953125}\n",
      "{'startpoint': array([14.47354984,  2.90430331,  0.        ]), 'maxdistance': 151.18145751953125}\n",
      "{'startpoint': array([2.48784566, 9.22904587, 0.        ]), 'maxdistance': 151.18145751953125}\n",
      "{'startpoint': array([1.66931081, 9.88556385, 0.        ]), 'maxdistance': 151.18145751953125}\n",
      "{'startpoint': array([ 0.81282246, 10.51444817,  0.        ]), 'maxdistance': 151.18145751953125}\n",
      "{'startpoint': array([-0.20698   , 10.99614525,  0.        ]), 'maxdistance': 151.18145751953125}\n",
      "{'startpoint': array([-1.31419158, 11.32073879,  0.        ]), 'maxdistance': 151.18145751953125}\n",
      "{'startpoint': array([-2.46291447, 11.6509552 ,  0.        ]), 'maxdistance': 151.18145751953125}\n"
     ]
    }
   ],
   "source": [
    "flatmutualdistances = []\n",
    "\n",
    "for v in mesh.vertex_matrix():\n",
    "    meshset.compute_scalar_by_geodesic_distance_from_given_point_per_vertex(startpoint = v,\n",
    "                                                                            maxdistance = pml.Percentage(100.0))\n",
    "    flatmutualdistances.append(mesh.vertex_scalar_array())\n",
    "\n",
    "flatmutualdistances = np.array(flatmutualdistances)\n",
    "\n",
    "sym_flatmutualdistances = 0.5 * (flatmutualdistances + flatmutualdistances.T)"
   ]
  },
  {
   "cell_type": "code",
   "execution_count": 535,
   "id": "c4b740cb-6f24-432a-9936-336daa7eebb4",
   "metadata": {},
   "outputs": [
    {
     "name": "stdout",
     "output_type": "stream",
     "text": [
      "0.13220247580518393 \n",
      " 1.0301349258089534 \n",
      " 1.6932121976644257 \n",
      " 0.0805427067935734\n"
     ]
    },
    {
     "name": "stderr",
     "output_type": "stream",
     "text": [
      "<ipython-input-535-5d0b2d1cb870>:1: RuntimeWarning: invalid value encountered in true_divide\n",
      "  print(np.nanmin(flatmutualdistances/mutualdistances), '\\n',\n",
      "<ipython-input-535-5d0b2d1cb870>:2: RuntimeWarning: invalid value encountered in true_divide\n",
      "  np.nanmean(flatmutualdistances/mutualdistances), '\\n',\n",
      "<ipython-input-535-5d0b2d1cb870>:3: RuntimeWarning: invalid value encountered in true_divide\n",
      "  np.nanmax(flatmutualdistances/mutualdistances), '\\n',\n",
      "<ipython-input-535-5d0b2d1cb870>:4: RuntimeWarning: invalid value encountered in true_divide\n",
      "  np.nanstd(flatmutualdistances/mutualdistances))\n"
     ]
    }
   ],
   "source": [
    "print(np.nanmin(flatmutualdistances/mutualdistances), '\\n', \n",
    "      np.nanmean(flatmutualdistances/mutualdistances), '\\n', \n",
    "      np.nanmax(flatmutualdistances/mutualdistances), '\\n',\n",
    "     np.nanstd(flatmutualdistances/mutualdistances))"
   ]
  },
  {
   "cell_type": "raw",
   "id": "32693192-7389-4523-b9ed-7e071e6d6861",
   "metadata": {},
   "source": [
    "BFF0:\n",
    "\n",
    "0.7142922397954115 \n",
    "0.8782396712904325 \n",
    "1.0601101185493278 \n",
    "0.058687785648452555\n",
    "\n",
    "OptCuts 4.1:\n",
    "\n",
    "0.9161854197439219 \n",
    "0.9988325719290996 \n",
    "1.4778364968981301 \n",
    "0.04149020269859392\n",
    "\n",
    "ISOmap:\n",
    "\n",
    "0.13220247580518393 \n",
    "1.0301349258089534 \n",
    "1.6932121976644257 \n",
    "0.0805427067935734"
   ]
  },
  {
   "cell_type": "code",
   "execution_count": 536,
   "id": "1b8de2ad-e327-47a9-a0c4-f62be4efbb9c",
   "metadata": {},
   "outputs": [],
   "source": [
    "plt.close(f)\n",
    "\n",
    "f = plt.figure()\n",
    "a = f.add_subplot()"
   ]
  },
  {
   "cell_type": "code",
   "execution_count": 537,
   "id": "0c82ba8e-703b-400d-91cf-06d623c1fca2",
   "metadata": {},
   "outputs": [],
   "source": [
    "h, xedges, yedges = np.histogram2d(mutualdistances.flatten(), flatmutualdistances.flatten(), bins = 1000)"
   ]
  },
  {
   "cell_type": "code",
   "execution_count": 538,
   "id": "02864e70-9fc5-4d63-97a8-5b1431043a37",
   "metadata": {},
   "outputs": [],
   "source": [
    "hma = np.ma.masked_values(h, 0.0)"
   ]
  },
  {
   "cell_type": "code",
   "execution_count": 539,
   "id": "f61115ab-18bd-4cf4-a56d-d4721bb0ad5b",
   "metadata": {},
   "outputs": [],
   "source": [
    "hma.fill_value = np.nan"
   ]
  },
  {
   "cell_type": "code",
   "execution_count": 540,
   "id": "a1cbd6f5-47ce-4460-8310-9516c733410e",
   "metadata": {},
   "outputs": [
    {
     "data": {
      "text/plain": [
       "array([ 1.  , 95.83])"
      ]
     },
     "execution_count": 540,
     "metadata": {},
     "output_type": "execute_result"
    }
   ],
   "source": [
    "np.percentile(hma.compressed(), [1, 99])"
   ]
  },
  {
   "cell_type": "code",
   "execution_count": 541,
   "id": "cd16a3be-9031-4c97-84b4-e004b35464ea",
   "metadata": {},
   "outputs": [
    {
     "ename": "IndexError",
     "evalue": "list index out of range",
     "output_type": "error",
     "traceback": [
      "\u001b[1;31m---------------------------------------------------------------------------\u001b[0m",
      "\u001b[1;31mIndexError\u001b[0m                                Traceback (most recent call last)",
      "Input \u001b[1;32mIn [541]\u001b[0m, in \u001b[0;36m<cell line: 1>\u001b[1;34m()\u001b[0m\n\u001b[1;32m----> 1\u001b[0m \u001b[43ma\u001b[49m\u001b[38;5;241;43m.\u001b[39;49m\u001b[43mcollections\u001b[49m\u001b[38;5;241;43m.\u001b[39;49m\u001b[43mpop\u001b[49m\u001b[43m(\u001b[49m\u001b[43m)\u001b[49m\n",
      "File \u001b[1;32mc:\\users\\m142519\\appdata\\local\\programs\\python\\python38\\lib\\_collections_abc.py:989\u001b[0m, in \u001b[0;36mMutableSequence.pop\u001b[1;34m(self, index)\u001b[0m\n\u001b[0;32m    985\u001b[0m \u001b[38;5;28;01mdef\u001b[39;00m \u001b[38;5;21mpop\u001b[39m(\u001b[38;5;28mself\u001b[39m, index\u001b[38;5;241m=\u001b[39m\u001b[38;5;241m-\u001b[39m\u001b[38;5;241m1\u001b[39m):\n\u001b[0;32m    986\u001b[0m     \u001b[38;5;124;03m'''S.pop([index]) -> item -- remove and return item at index (default last).\u001b[39;00m\n\u001b[0;32m    987\u001b[0m \u001b[38;5;124;03m       Raise IndexError if list is empty or index is out of range.\u001b[39;00m\n\u001b[0;32m    988\u001b[0m \u001b[38;5;124;03m    '''\u001b[39;00m\n\u001b[1;32m--> 989\u001b[0m     v \u001b[38;5;241m=\u001b[39m \u001b[38;5;28;43mself\u001b[39;49m\u001b[43m[\u001b[49m\u001b[43mindex\u001b[49m\u001b[43m]\u001b[49m\n\u001b[0;32m    990\u001b[0m     \u001b[38;5;28;01mdel\u001b[39;00m \u001b[38;5;28mself\u001b[39m[index]\n\u001b[0;32m    991\u001b[0m     \u001b[38;5;28;01mreturn\u001b[39;00m v\n",
      "File \u001b[1;32mc:\\users\\m142519\\appdata\\local\\programs\\python\\python38\\lib\\site-packages\\matplotlib\\axes\\_base.py:1373\u001b[0m, in \u001b[0;36m_AxesBase.ArtistList.__getitem__\u001b[1;34m(self, key)\u001b[0m\n\u001b[0;32m   1372\u001b[0m \u001b[38;5;28;01mdef\u001b[39;00m \u001b[38;5;21m__getitem__\u001b[39m(\u001b[38;5;28mself\u001b[39m, key):\n\u001b[1;32m-> 1373\u001b[0m     \u001b[38;5;28;01mreturn\u001b[39;00m \u001b[43m[\u001b[49m\u001b[43martist\u001b[49m\n\u001b[0;32m   1374\u001b[0m \u001b[43m            \u001b[49m\u001b[38;5;28;43;01mfor\u001b[39;49;00m\u001b[43m \u001b[49m\u001b[43martist\u001b[49m\u001b[43m \u001b[49m\u001b[38;5;129;43;01min\u001b[39;49;00m\u001b[43m \u001b[49m\u001b[38;5;28;43mself\u001b[39;49m\u001b[38;5;241;43m.\u001b[39;49m\u001b[43m_axes\u001b[49m\u001b[38;5;241;43m.\u001b[39;49m\u001b[43m_children\u001b[49m\n\u001b[0;32m   1375\u001b[0m \u001b[43m            \u001b[49m\u001b[38;5;28;43;01mif\u001b[39;49;00m\u001b[43m \u001b[49m\u001b[38;5;28;43mself\u001b[39;49m\u001b[38;5;241;43m.\u001b[39;49m\u001b[43m_type_check\u001b[49m\u001b[43m(\u001b[49m\u001b[43martist\u001b[49m\u001b[43m)\u001b[49m\u001b[43m]\u001b[49m\u001b[43m[\u001b[49m\u001b[43mkey\u001b[49m\u001b[43m]\u001b[49m\n",
      "\u001b[1;31mIndexError\u001b[0m: list index out of range"
     ]
    }
   ],
   "source": [
    "a.collections.pop()"
   ]
  },
  {
   "cell_type": "code",
   "execution_count": 542,
   "id": "f764ded1-5284-4efa-acdc-bd134eceb2ba",
   "metadata": {},
   "outputs": [
    {
     "data": {
      "text/plain": [
       "<matplotlib.collections.QuadMesh at 0x1849689ea00>"
      ]
     },
     "execution_count": 542,
     "metadata": {},
     "output_type": "execute_result"
    }
   ],
   "source": [
    "a.pcolormesh(xedges, yedges, hma.T, \n",
    "             # cmap = cmap,\n",
    "             vmin = np.percentile(hma.compressed(), 1),\n",
    "             vmax = np.percentile(hma.compressed(), 99), \n",
    "             rasterized = True)"
   ]
  },
  {
   "cell_type": "code",
   "execution_count": 543,
   "id": "3276d5dd-684f-4e19-b9ee-e3a839d7b5f0",
   "metadata": {},
   "outputs": [
    {
     "data": {
      "text/plain": [
       "(1.0, 95.83000000000175)"
      ]
     },
     "execution_count": 543,
     "metadata": {},
     "output_type": "execute_result"
    }
   ],
   "source": [
    "a.collections[0].get_clim()"
   ]
  },
  {
   "cell_type": "raw",
   "id": "6c44366d-b750-4c03-be3a-5babd461da0f",
   "metadata": {},
   "source": [
    "a.plot(mutualdistances.flatten(), flatmutualdistances.flatten(), 'r.')"
   ]
  },
  {
   "cell_type": "code",
   "execution_count": 544,
   "id": "592bd941-d4ec-40ee-bebc-dcb3e69a11aa",
   "metadata": {},
   "outputs": [
    {
     "data": {
      "text/plain": [
       "Text(42.722222222222214, 0.5, 'Euclidian from flattened shape')"
      ]
     },
     "execution_count": 544,
     "metadata": {},
     "output_type": "execute_result"
    }
   ],
   "source": [
    "a.set_xlabel('geodesic from 3D shape')\n",
    "a.set_ylabel('Euclidian from flattened shape')"
   ]
  },
  {
   "cell_type": "code",
   "execution_count": 545,
   "id": "b4c58e4d-1b30-4310-8ac9-4c94fe349eaa",
   "metadata": {},
   "outputs": [
    {
     "ename": "IndexError",
     "evalue": "list index out of range",
     "output_type": "error",
     "traceback": [
      "\u001b[1;31m---------------------------------------------------------------------------\u001b[0m",
      "\u001b[1;31mIndexError\u001b[0m                                Traceback (most recent call last)",
      "Input \u001b[1;32mIn [545]\u001b[0m, in \u001b[0;36m<cell line: 1>\u001b[1;34m()\u001b[0m\n\u001b[1;32m----> 1\u001b[0m \u001b[43ma\u001b[49m\u001b[38;5;241;43m.\u001b[39;49m\u001b[43mlines\u001b[49m\u001b[38;5;241;43m.\u001b[39;49m\u001b[43mpop\u001b[49m\u001b[43m(\u001b[49m\u001b[43m)\u001b[49m\n",
      "File \u001b[1;32mc:\\users\\m142519\\appdata\\local\\programs\\python\\python38\\lib\\_collections_abc.py:989\u001b[0m, in \u001b[0;36mMutableSequence.pop\u001b[1;34m(self, index)\u001b[0m\n\u001b[0;32m    985\u001b[0m \u001b[38;5;28;01mdef\u001b[39;00m \u001b[38;5;21mpop\u001b[39m(\u001b[38;5;28mself\u001b[39m, index\u001b[38;5;241m=\u001b[39m\u001b[38;5;241m-\u001b[39m\u001b[38;5;241m1\u001b[39m):\n\u001b[0;32m    986\u001b[0m     \u001b[38;5;124;03m'''S.pop([index]) -> item -- remove and return item at index (default last).\u001b[39;00m\n\u001b[0;32m    987\u001b[0m \u001b[38;5;124;03m       Raise IndexError if list is empty or index is out of range.\u001b[39;00m\n\u001b[0;32m    988\u001b[0m \u001b[38;5;124;03m    '''\u001b[39;00m\n\u001b[1;32m--> 989\u001b[0m     v \u001b[38;5;241m=\u001b[39m \u001b[38;5;28;43mself\u001b[39;49m\u001b[43m[\u001b[49m\u001b[43mindex\u001b[49m\u001b[43m]\u001b[49m\n\u001b[0;32m    990\u001b[0m     \u001b[38;5;28;01mdel\u001b[39;00m \u001b[38;5;28mself\u001b[39m[index]\n\u001b[0;32m    991\u001b[0m     \u001b[38;5;28;01mreturn\u001b[39;00m v\n",
      "File \u001b[1;32mc:\\users\\m142519\\appdata\\local\\programs\\python\\python38\\lib\\site-packages\\matplotlib\\axes\\_base.py:1373\u001b[0m, in \u001b[0;36m_AxesBase.ArtistList.__getitem__\u001b[1;34m(self, key)\u001b[0m\n\u001b[0;32m   1372\u001b[0m \u001b[38;5;28;01mdef\u001b[39;00m \u001b[38;5;21m__getitem__\u001b[39m(\u001b[38;5;28mself\u001b[39m, key):\n\u001b[1;32m-> 1373\u001b[0m     \u001b[38;5;28;01mreturn\u001b[39;00m \u001b[43m[\u001b[49m\u001b[43martist\u001b[49m\n\u001b[0;32m   1374\u001b[0m \u001b[43m            \u001b[49m\u001b[38;5;28;43;01mfor\u001b[39;49;00m\u001b[43m \u001b[49m\u001b[43martist\u001b[49m\u001b[43m \u001b[49m\u001b[38;5;129;43;01min\u001b[39;49;00m\u001b[43m \u001b[49m\u001b[38;5;28;43mself\u001b[39;49m\u001b[38;5;241;43m.\u001b[39;49m\u001b[43m_axes\u001b[49m\u001b[38;5;241;43m.\u001b[39;49m\u001b[43m_children\u001b[49m\n\u001b[0;32m   1375\u001b[0m \u001b[43m            \u001b[49m\u001b[38;5;28;43;01mif\u001b[39;49;00m\u001b[43m \u001b[49m\u001b[38;5;28;43mself\u001b[39;49m\u001b[38;5;241;43m.\u001b[39;49m\u001b[43m_type_check\u001b[49m\u001b[43m(\u001b[49m\u001b[43martist\u001b[49m\u001b[43m)\u001b[49m\u001b[43m]\u001b[49m\u001b[43m[\u001b[49m\u001b[43mkey\u001b[49m\u001b[43m]\u001b[49m\n",
      "\u001b[1;31mIndexError\u001b[0m: list index out of range"
     ]
    }
   ],
   "source": [
    "a.lines.pop()"
   ]
  },
  {
   "cell_type": "code",
   "execution_count": 546,
   "id": "87ffec39-4f43-4f5d-89cc-30b35775f24f",
   "metadata": {},
   "outputs": [
    {
     "data": {
      "text/plain": [
       "[<matplotlib.lines.Line2D at 0x184968a0df0>]"
      ]
     },
     "execution_count": 546,
     "metadata": {},
     "output_type": "execute_result"
    }
   ],
   "source": [
    "a.plot([0, np.max([xedges.max(), yedges.max()])], [0, np.max([xedges.max(), yedges.max()])], 'r-', zorder = -1, alpha = 0.5)"
   ]
  },
  {
   "cell_type": "code",
   "execution_count": 547,
   "id": "3b8dd973-de8e-4740-91e9-bfea92cad775",
   "metadata": {},
   "outputs": [],
   "source": [
    "a.set_aspect('equal')\n",
    "a.grid(True)"
   ]
  },
  {
   "cell_type": "code",
   "execution_count": 548,
   "id": "4d1c09dd-1378-461b-b42a-c7d473a34b0b",
   "metadata": {},
   "outputs": [],
   "source": [
    "f.canvas.draw_idle()"
   ]
  },
  {
   "cell_type": "code",
   "execution_count": 549,
   "id": "baf96f6f-bb18-435b-928c-2327670dd8f3",
   "metadata": {},
   "outputs": [
    {
     "data": {
      "application/vnd.jupyter.widget-view+json": {
       "model_id": "ca9043143f904d3e8ada05e05117987e",
       "version_major": 2,
       "version_minor": 0
      },
      "text/html": [
       "\n",
       "            <div style=\"display: inline-block;\">\n",
       "                <div class=\"jupyter-widgets widget-label\" style=\"text-align: center;\">\n",
       "                    Figure 2\n",
       "                </div>\n",
       "                <img src='data:image/png;base64,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' width=640.0/>\n",
       "            </div>\n",
       "        "
      ],
      "text/plain": [
       "Canvas(toolbar=Toolbar(toolitems=[('Home', 'Reset original view', 'home', 'home'), ('Back', 'Back to previous …"
      ]
     },
     "metadata": {},
     "output_type": "display_data"
    }
   ],
   "source": [
    "display(f.canvas)"
   ]
  },
  {
   "cell_type": "code",
   "execution_count": 105,
   "id": "ee9f97e2-b3b4-430e-af0b-8b807ea7e4cd",
   "metadata": {},
   "outputs": [
    {
     "name": "stdout",
     "output_type": "stream",
     "text": [
      "72.54040723483598 35.94535521215562\n"
     ]
    }
   ],
   "source": [
    "xrange = newx.max() - newx.min()\n",
    "yrange = newy.max() - newy.min()\n",
    "print(xrange, yrange)"
   ]
  },
  {
   "cell_type": "code",
   "execution_count": 45,
   "id": "51e7c015-c531-4fbc-94b6-665b966f4f63",
   "metadata": {},
   "outputs": [],
   "source": [
    "from mpl_toolkits.axes_grid1 import Divider, Size"
   ]
  },
  {
   "cell_type": "code",
   "execution_count": 107,
   "id": "4a19c170-6df9-4a3f-a73d-35234b410d89",
   "metadata": {},
   "outputs": [
    {
     "ename": "ValueError",
     "evalue": "triangles max element is out of bounds",
     "output_type": "error",
     "traceback": [
      "\u001b[1;31m---------------------------------------------------------------------------\u001b[0m",
      "\u001b[1;31mValueError\u001b[0m                                Traceback (most recent call last)",
      "Input \u001b[1;32mIn [107]\u001b[0m, in \u001b[0;36m<cell line: 1>\u001b[1;34m()\u001b[0m\n\u001b[1;32m----> 1\u001b[0m UVtriangulation \u001b[38;5;241m=\u001b[39m \u001b[43mmpl\u001b[49m\u001b[38;5;241;43m.\u001b[39;49m\u001b[43mtri\u001b[49m\u001b[38;5;241;43m.\u001b[39;49m\u001b[43mtriangulation\u001b[49m\u001b[38;5;241;43m.\u001b[39;49m\u001b[43mTriangulation\u001b[49m\u001b[43m(\u001b[49m\u001b[43mnewx\u001b[49m\u001b[43m,\u001b[49m\u001b[43m \u001b[49m\u001b[43mnewy\u001b[49m\u001b[43m,\u001b[49m\u001b[43m \u001b[49m\u001b[43mtriangles\u001b[49m\u001b[43m \u001b[49m\u001b[38;5;241;43m=\u001b[39;49m\u001b[43m \u001b[49m\u001b[43mmesh\u001b[49m\u001b[38;5;241;43m.\u001b[39;49m\u001b[43mface_matrix\u001b[49m\u001b[43m(\u001b[49m\u001b[43m)\u001b[49m\u001b[43m[\u001b[49m\u001b[43mborder3DvertIDs\u001b[49m\u001b[43m]\u001b[49m\u001b[43m)\u001b[49m\n",
      "File \u001b[1;32mc:\\users\\m142519\\appdata\\local\\programs\\python\\python38\\lib\\site-packages\\matplotlib\\tri\\triangulation.py:63\u001b[0m, in \u001b[0;36mTriangulation.__init__\u001b[1;34m(self, x, y, triangles, mask)\u001b[0m\n\u001b[0;32m     61\u001b[0m     \u001b[38;5;28;01mraise\u001b[39;00m \u001b[38;5;167;01mValueError\u001b[39;00m(\u001b[38;5;124m'\u001b[39m\u001b[38;5;124mtriangles must be a (?, 3) array\u001b[39m\u001b[38;5;124m'\u001b[39m)\n\u001b[0;32m     62\u001b[0m \u001b[38;5;28;01mif\u001b[39;00m \u001b[38;5;28mself\u001b[39m\u001b[38;5;241m.\u001b[39mtriangles\u001b[38;5;241m.\u001b[39mmax() \u001b[38;5;241m>\u001b[39m\u001b[38;5;241m=\u001b[39m \u001b[38;5;28mlen\u001b[39m(\u001b[38;5;28mself\u001b[39m\u001b[38;5;241m.\u001b[39mx):\n\u001b[1;32m---> 63\u001b[0m     \u001b[38;5;28;01mraise\u001b[39;00m \u001b[38;5;167;01mValueError\u001b[39;00m(\u001b[38;5;124m'\u001b[39m\u001b[38;5;124mtriangles max element is out of bounds\u001b[39m\u001b[38;5;124m'\u001b[39m)\n\u001b[0;32m     64\u001b[0m \u001b[38;5;28;01mif\u001b[39;00m \u001b[38;5;28mself\u001b[39m\u001b[38;5;241m.\u001b[39mtriangles\u001b[38;5;241m.\u001b[39mmin() \u001b[38;5;241m<\u001b[39m \u001b[38;5;241m0\u001b[39m:\n\u001b[0;32m     65\u001b[0m     \u001b[38;5;28;01mraise\u001b[39;00m \u001b[38;5;167;01mValueError\u001b[39;00m(\u001b[38;5;124m'\u001b[39m\u001b[38;5;124mtriangles min element is out of bounds\u001b[39m\u001b[38;5;124m'\u001b[39m)\n",
      "\u001b[1;31mValueError\u001b[0m: triangles max element is out of bounds"
     ]
    }
   ],
   "source": [
    "UVtriangulation = mpl.tri.triangulation.Triangulation(newx, newy, triangles = mesh.face_matrix()[border3DvertIDs])"
   ]
  },
  {
   "cell_type": "code",
   "execution_count": 87,
   "id": "4719fc10-127c-4c1f-bc25-ed8eea4e0a26",
   "metadata": {},
   "outputs": [],
   "source": [
    "from matplotlib.colors import ListedColormap"
   ]
  },
  {
   "cell_type": "code",
   "execution_count": 88,
   "id": "587ccc7e-7085-40d8-8729-e20a5567acc4",
   "metadata": {},
   "outputs": [
    {
     "name": "stdout",
     "output_type": "stream",
     "text": [
      "{}\n"
     ]
    }
   ],
   "source": [
    "meshset.compute_color_from_texture_per_vertex()"
   ]
  },
  {
   "cell_type": "code",
   "execution_count": 89,
   "id": "9a23cf9b-89f7-4f4d-8801-fe0fd6d2c81c",
   "metadata": {},
   "outputs": [],
   "source": [
    "texturecolor = ListedColormap(mesh.vertex_color_matrix(), name = 'texture')\n",
    "\n",
    "textureindex = np.arange(texturecolor.N)"
   ]
  },
  {
   "cell_type": "code",
   "execution_count": 90,
   "id": "086a124b-ca6b-45ec-abe6-f8ecbbe11aae",
   "metadata": {},
   "outputs": [],
   "source": [
    "plt.close('all')\n",
    "\n",
    "mm = 1/25.4\n",
    "\n",
    "scale = 1.0\n",
    "\n",
    "hpad = 25 # in mm\n",
    "vpad = 25 # in mm\n",
    "\n",
    "fig = plt.figure(figsize = (scale * (xrange + hpad) * mm, scale * (yrange + vpad) * mm))"
   ]
  },
  {
   "cell_type": "code",
   "execution_count": 91,
   "id": "2cefc8ec-405c-4d20-9ef4-a2fb91b39554",
   "metadata": {},
   "outputs": [],
   "source": [
    "ax = fig.add_subplot()"
   ]
  },
  {
   "cell_type": "code",
   "execution_count": null,
   "id": "c196fbbd-3d31-405c-a2ba-339b12c4e3ee",
   "metadata": {},
   "outputs": [],
   "source": [
    "# The first items are for padding and the second items are for the axes.\n",
    "# sizes are in inch.\n",
    "h = [Size.Fixed(hpad*mm), Size.Fixed(scale * xrange * mm)]\n",
    "v = [Size.Fixed(vpad*mm), Size.Fixed(scale * yrange * mm)]\n",
    "\n",
    "# The width and height of the rectangle are ignored.\n",
    "divider = Divider(fig, (0, 0, 1, 1), h, v, aspect = False)\n",
    "\n",
    "ax = fig.add_axes(divider.get_position(), axes_locator = divider.new_locator(nx = 1, ny = 1))"
   ]
  },
  {
   "cell_type": "code",
   "execution_count": 55,
   "id": "94b7b769-8be6-4019-9921-1c397d962c50",
   "metadata": {},
   "outputs": [
    {
     "data": {
      "text/plain": [
       "<matplotlib.collections.TriMesh at 0x1848b8238b0>"
      ]
     },
     "execution_count": 55,
     "metadata": {},
     "output_type": "execute_result"
    }
   ],
   "source": [
    "ax.collections.pop()"
   ]
  },
  {
   "cell_type": "code",
   "execution_count": null,
   "id": "7ef8aa4a-97d3-48f4-b7b0-9ad91bdd1603",
   "metadata": {},
   "outputs": [],
   "source": [
    "ax.tripcolor(UVtriangulation, facecolors = faceareasUV / faceareas3D - 1.0, shading = 'flat')"
   ]
  },
  {
   "cell_type": "code",
   "execution_count": null,
   "id": "a9c87335-5c57-4a37-9296-3cb8253ccaae",
   "metadata": {},
   "outputs": [],
   "source": [
    "ax.tripcolor(UVtriangulation, np.nanmax(flatmutualdistances/mutualdistances, axis = 1), shading = 'gouraud')"
   ]
  },
  {
   "cell_type": "code",
   "execution_count": 52,
   "id": "0cf5a078-3e87-4f00-9b78-2f70d6b43a77",
   "metadata": {},
   "outputs": [
    {
     "data": {
      "text/plain": [
       "<matplotlib.collections.TriMesh at 0x1848b8238b0>"
      ]
     },
     "execution_count": 52,
     "metadata": {},
     "output_type": "execute_result"
    }
   ],
   "source": [
    "ax.tripcolor(UVtriangulation, textureindex, shading = 'gouraud', cmap = texturecolor)"
   ]
  },
  {
   "cell_type": "code",
   "execution_count": null,
   "id": "9f2cb0d8-72e8-4821-8c2a-95feef7bddfb",
   "metadata": {},
   "outputs": [],
   "source": [
    "cbar = fig.colorbar(ax.collections[0], location = 'bottom', label = 'area ratio', pad = 0.9, shrink = 0.75)"
   ]
  },
  {
   "cell_type": "code",
   "execution_count": 153,
   "id": "cd5223d3-8340-4853-8048-c74d7a8f261e",
   "metadata": {
    "tags": []
   },
   "outputs": [
    {
     "data": {
      "text/plain": [
       "('uISOmink', 'vISOmink')"
      ]
     },
     "execution_count": 153,
     "metadata": {},
     "output_type": "execute_result"
    }
   ],
   "source": [
    "xname, yname"
   ]
  },
  {
   "cell_type": "code",
   "execution_count": 238,
   "id": "44c20d6a-83e0-4df3-b2b8-9e440fcaeebe",
   "metadata": {},
   "outputs": [],
   "source": [
    "meshset.load_new_mesh('output/IsotropicRemesh1.2TrimmedIsotropicRemesh0.15mm_input_0.999_1_OptCuts_bd4.1/finalResult_mesh.obj')"
   ]
  },
  {
   "cell_type": "code",
   "execution_count": 423,
   "id": "897a6d63-407e-42a5-bdd7-43044fd8e820",
   "metadata": {},
   "outputs": [
    {
     "name": "stdout",
     "output_type": "stream",
     "text": [
      "0 {'newname': 'IsotropicRemesh1.2TrimmedIsotropicRemesh0.15mm.obj'}\n",
      "1 {'newname': 'BFF00conesIsotropicRemesh1.2TrimmedIsotropicRemesh0.15mm.obj'}\n",
      "2 {'newname': 'finalResult_mesh.obj'}\n"
     ]
    }
   ],
   "source": [
    "for meshnumber in range(meshset.number_meshes()):\n",
    "    meshset.set_current_mesh(meshnumber)\n",
    "    \n",
    "    print(meshset.current_mesh_id(),\n",
    "          meshset.filter_parameter_values(\"set_mesh_name\"))"
   ]
  },
  {
   "cell_type": "code",
   "execution_count": 238,
   "id": "4d1f6e10",
   "metadata": {},
   "outputs": [],
   "source": [
    "meshset.load_new_mesh('output/IsotropicRemesh1.2TrimmedIsotropicRemesh0.15mm_input_0.999_1_OptCuts_bd4.1/finalResult_mesh.obj')"
   ]
  },
  {
   "cell_type": "code",
   "execution_count": 431,
   "id": "e50f9a0b-6302-4468-9b0a-f030729a814b",
   "metadata": {},
   "outputs": [
    {
     "name": "stdout",
     "output_type": "stream",
     "text": [
      "1\n"
     ]
    }
   ],
   "source": [
    "meshset.set_current_mesh(1)\n",
    "print(meshset.current_mesh_id())\n",
    "mBFF0 = meshset.current_mesh()"
   ]
  },
  {
   "cell_type": "code",
   "execution_count": 432,
   "id": "0a07b659-3fd1-432e-8164-220aacf3d90d",
   "metadata": {},
   "outputs": [
    {
     "name": "stdout",
     "output_type": "stream",
     "text": [
      "2\n"
     ]
    }
   ],
   "source": [
    "meshset.set_current_mesh(2)\n",
    "print(meshset.current_mesh_id())\n",
    "mOC = meshset.current_mesh()"
   ]
  },
  {
   "cell_type": "code",
   "execution_count": 241,
   "id": "3a0cad6f-cb8d-4492-9edb-6164f39c0f92",
   "metadata": {},
   "outputs": [
    {
     "name": "stdout",
     "output_type": "stream",
     "text": [
      "{}\n",
      "[[ 0.316708    0.47005701]\n",
      " [ 1.428514   -0.1345049 ]\n",
      " [ 1.29648101  1.13383496]\n",
      " ...\n",
      " [-1.12414801 13.81324005]\n",
      " [-2.14837098 13.34346962]\n",
      " [-3.19665194 12.84183979]]\n",
      "{'x': 'vtu', 'y': 'vtv', 'z': '0.0', 'onselected': False}\n",
      "[[ 0.316708    0.47005701  0.        ]\n",
      " [ 1.428514   -0.1345049   0.        ]\n",
      " [ 1.29648101  1.13383496  0.        ]\n",
      " ...\n",
      " [-1.12414801 13.81324005  0.        ]\n",
      " [-2.14837098 13.34346962  0.        ]\n",
      " [-3.19665194 12.84183979  0.        ]]\n"
     ]
    }
   ],
   "source": [
    "meshset.compute_texcoord_transfer_wedge_to_vertex()\n",
    "print(mOC.vertex_tex_coord_matrix())\n",
    "meshset.compute_coord_by_function(x = 'vtu', y = 'vtv', z = '0.0', onselected = False)\n",
    "print(mOC.vertex_matrix())"
   ]
  },
  {
   "cell_type": "code",
   "execution_count": 242,
   "id": "96a3ceeb-d75b-46a5-bd94-9625bad2dc6a",
   "metadata": {},
   "outputs": [],
   "source": [
    "mesh = mOC"
   ]
  },
  {
   "cell_type": "code",
   "execution_count": 243,
   "id": "151d5e58-410a-4441-a81d-f5ad5efee818",
   "metadata": {},
   "outputs": [
    {
     "name": "stdout",
     "output_type": "stream",
     "text": [
      "{'pointsflag': True, 'freeze': True, 'alllayers': False}\n"
     ]
    }
   ],
   "source": [
    "meshset.compute_matrix_by_principal_axis()"
   ]
  },
  {
   "cell_type": "code",
   "execution_count": 244,
   "id": "0c818cab-32c8-449b-80b7-349d9dbbc559",
   "metadata": {},
   "outputs": [
    {
     "name": "stdout",
     "output_type": "stream",
     "text": [
      "{}\n"
     ]
    }
   ],
   "source": [
    "meshset.compute_selection_from_mesh_border()\n",
    "\n",
    "borderUVvertIDs = mesh.vertex_selection_array().nonzero()"
   ]
  },
  {
   "cell_type": "code",
   "execution_count": 245,
   "id": "584b5c2c-1ef5-4a27-b4d0-dc17b657b3f0",
   "metadata": {},
   "outputs": [
    {
     "data": {
      "text/plain": [
       "array([[ 0.        ,  0.10326833, -0.55730888],\n",
       "       [ 0.        , -1.11366231, -0.90470992],\n",
       "       [ 0.        , -0.1309459 , -1.71735198],\n",
       "       ...,\n",
       "       [ 0.        , 10.47863403, -9.07014511],\n",
       "       [ 0.        , 10.88047481, -8.0174149 ],\n",
       "       [ 0.        , 11.27716621, -6.92509565]])"
      ]
     },
     "execution_count": 245,
     "metadata": {},
     "output_type": "execute_result"
    }
   ],
   "source": [
    "mesh.vertex_matrix()"
   ]
  },
  {
   "cell_type": "code",
   "execution_count": 225,
   "id": "9b7bfc79-6cce-4046-acbd-0a03a519f1e7",
   "metadata": {},
   "outputs": [],
   "source": [
    "l = ax.lines.pop()"
   ]
  },
  {
   "cell_type": "code",
   "execution_count": 231,
   "id": "bd7e0ac8-3734-4ca9-8d28-b3d7a4a947e0",
   "metadata": {},
   "outputs": [],
   "source": [
    "m0 = l.get_data()[0].mean()\n",
    "m1 = l.get_data()[1].mean()"
   ]
  },
  {
   "cell_type": "code",
   "execution_count": 246,
   "id": "74899736-2261-47f8-8130-251411c3a43d",
   "metadata": {},
   "outputs": [
    {
     "data": {
      "text/plain": [
       "[<matplotlib.lines.Line2D at 0x184939d3190>]"
      ]
     },
     "execution_count": 246,
     "metadata": {},
     "output_type": "execute_result"
    }
   ],
   "source": [
    "ax.plot(mesh.vertex_matrix()[borderUVvertIDs][:, 2], mesh.vertex_matrix()[borderUVvertIDs][:, 1], 'y.-', label = 'OptCuts')"
   ]
  },
  {
   "cell_type": "code",
   "execution_count": 291,
   "id": "ce24e891-d57f-403f-b211-254285aa35d5",
   "metadata": {},
   "outputs": [
    {
     "data": {
      "text/plain": [
       "<matplotlib.legend.Legend at 0x18494801730>"
      ]
     },
     "execution_count": 291,
     "metadata": {},
     "output_type": "execute_result"
    }
   ],
   "source": [
    "ax.legend()"
   ]
  },
  {
   "cell_type": "code",
   "execution_count": 248,
   "id": "33946620-acd4-4d5a-be69-3d6f1c94869c",
   "metadata": {},
   "outputs": [],
   "source": [
    "ax.grid(True)"
   ]
  },
  {
   "cell_type": "code",
   "execution_count": 249,
   "id": "0c799781-d53f-41dd-bb00-b61f811c9035",
   "metadata": {},
   "outputs": [],
   "source": [
    "ax.set_aspect('equal')"
   ]
  },
  {
   "cell_type": "code",
   "execution_count": 292,
   "id": "5d0554c9-78ef-4027-80a0-0eed9950beb7",
   "metadata": {},
   "outputs": [],
   "source": [
    "fig.canvas.draw_idle()"
   ]
  },
  {
   "cell_type": "code",
   "execution_count": 293,
   "id": "1c2ff3f1-60cf-4048-9b9a-58115644e0d1",
   "metadata": {},
   "outputs": [
    {
     "data": {
      "application/vnd.jupyter.widget-view+json": {
       "model_id": "b724b54aa93a4f1ab89a4262f52a9f23",
       "version_major": 2,
       "version_minor": 0
      },
      "text/html": [
       "\n",
       "            <div style=\"display: inline-block;\">\n",
       "                <div class=\"jupyter-widgets widget-label\" style=\"text-align: center;\">\n",
       "                    Figure 1\n",
       "                </div>\n",
       "                <img src='data:image/png;base64,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' width=915.0/>\n",
       "            </div>\n",
       "        "
      ],
      "text/plain": [
       "Canvas(toolbar=Toolbar(toolitems=[('Home', 'Reset original view', 'home', 'home'), ('Back', 'Back to previous …"
      ]
     },
     "metadata": {},
     "output_type": "display_data"
    }
   ],
   "source": [
    "display(fig.canvas)"
   ]
  },
  {
   "cell_type": "code",
   "execution_count": 309,
   "id": "97552a42-53cf-4b9a-b01d-2b3f58c4cfb2",
   "metadata": {},
   "outputs": [],
   "source": [
    "fig.savefig('compare_flattening.pdf', format = 'pdf', bbox_inches = 'tight', orientation = 'landscape')"
   ]
  },
  {
   "cell_type": "code",
   "execution_count": 304,
   "id": "4b8caf6e-9f74-413f-aad2-90c459f65201",
   "metadata": {},
   "outputs": [],
   "source": [
    "from sklearn.decomposition import PCA"
   ]
  },
  {
   "cell_type": "code",
   "execution_count": 308,
   "id": "f2dbab62-06db-4c93-b95d-cd2e0c87e96a",
   "metadata": {},
   "outputs": [],
   "source": [
    "pca = PCA(n_components = 2)\n",
    "\n",
    "ll = ax.lines.pop(index = 0)\n",
    "print(ll.get_label(), ll.get_color())\n",
    "\n",
    "newdata = pca.fit_transform(np.array(ll.get_data()).T)\n",
    "\n",
    "ax.plot(newdata[:, 0], newdata[:, 1], ll.get_color() + '.-', label = ll.get_label())\n",
    "\n",
    "ax.legend()"
   ]
  },
  {
   "cell_type": "code",
   "execution_count": 119,
   "id": "1b1eeb9b-7a58-481a-b069-d0cb3c1cbb99",
   "metadata": {},
   "outputs": [
    {
     "data": {
      "text/plain": [
       "array([[0.316708  , 0.47005701],\n",
       "       [0.33360001, 0.46243101],\n",
       "       [0.33116201, 0.48095101],\n",
       "       ...,\n",
       "       [0.28917101, 0.67035401],\n",
       "       [0.27323201, 0.662974  ],\n",
       "       [0.256749  , 0.65512103]])"
      ]
     },
     "execution_count": 119,
     "metadata": {},
     "output_type": "execute_result"
    }
   ],
   "source": [
    "mesh.vertex_tex_coord_matrix()"
   ]
  },
  {
   "cell_type": "code",
   "execution_count": 121,
   "id": "641efeec-5057-4c83-8d73-afda7e23b9a4",
   "metadata": {},
   "outputs": [],
   "source": [
    "# after texture transfer to vertices, the border includes the cone cuts (aka seam cuts)\n",
    "meshset.compute_selection_from_mesh_border()\n",
    "\n",
    "borderUVvertIDs = mesh.vertex_selection_array().nonzero()"
   ]
  },
  {
   "cell_type": "code",
   "execution_count": 122,
   "id": "47858e6c-1b3a-4ca2-8e04-02df7d3d6363",
   "metadata": {},
   "outputs": [
    {
     "data": {
      "text/plain": [
       "(array([ 90,  91,  92,  94,  97,  99, 102, 132, 134, 142, 144, 148, 150,\n",
       "        152, 198, 199, 201, 203, 205, 207, 209, 212, 214, 216, 231, 397,\n",
       "        398, 404, 406, 408, 410, 412, 415, 417, 422, 424, 431, 433, 435,\n",
       "        437, 440, 442, 444, 446, 448, 450, 452, 456, 458, 459, 461, 463,\n",
       "        466, 468, 470, 472, 474, 547, 549, 551, 553, 555, 557, 580, 582,\n",
       "        584, 586, 623, 626, 628, 630, 632, 634, 636, 638, 640, 642, 645,\n",
       "        647, 650, 652, 654, 801, 803, 808, 810, 812, 814, 818, 820, 823,\n",
       "        825, 827, 829, 832, 834, 836, 838, 840, 842, 844, 846, 848, 866,\n",
       "        868, 870, 872, 874, 876, 878, 880, 882, 884], dtype=int64),)"
      ]
     },
     "execution_count": 122,
     "metadata": {},
     "output_type": "execute_result"
    }
   ],
   "source": [
    "borderUVvertIDs"
   ]
  },
  {
   "cell_type": "code",
   "execution_count": 58,
   "id": "d9e5bde7-3ae9-4dde-823f-065502cd6cb7",
   "metadata": {
    "tags": []
   },
   "outputs": [
    {
     "ename": "NameError",
     "evalue": "name 'border3DvertIDs' is not defined",
     "output_type": "error",
     "traceback": [
      "\u001b[1;31m---------------------------------------------------------------------------\u001b[0m",
      "\u001b[1;31mNameError\u001b[0m                                 Traceback (most recent call last)",
      "Input \u001b[1;32mIn [58]\u001b[0m, in \u001b[0;36m<cell line: 1>\u001b[1;34m()\u001b[0m\n\u001b[1;32m----> 1\u001b[0m borderpointsUV \u001b[38;5;241m=\u001b[39m mesh\u001b[38;5;241m.\u001b[39mvertex_tex_coord_matrix()[\u001b[43mborder3DvertIDs\u001b[49m]\n\u001b[0;32m      2\u001b[0m borderpointsUV\u001b[38;5;241m.\u001b[39mshape\n",
      "\u001b[1;31mNameError\u001b[0m: name 'border3DvertIDs' is not defined"
     ]
    }
   ],
   "source": [
    "borderpointsUV = mesh.vertex_tex_coord_matrix()[border3DvertIDs]\n",
    "borderpointsUV.shape"
   ]
  },
  {
   "cell_type": "code",
   "execution_count": null,
   "id": "cf2b9070-a1de-457d-9310-cab350f7bc19",
   "metadata": {
    "tags": []
   },
   "outputs": [],
   "source": [
    "seampoints3D = mesh.vertex_matrix()[borderUVvertIDs]\n",
    "seampoints3D.shape"
   ]
  },
  {
   "cell_type": "code",
   "execution_count": null,
   "id": "463044d1-c3b4-4818-98f5-4358593b53b0",
   "metadata": {
    "scrolled": true,
    "tags": []
   },
   "outputs": [],
   "source": [
    "# duplicates so that split border can be introduced to the vertex list\n",
    "duplicatevertsmask = [(seampoints3D == v).nonzero()[0].shape[0] == 6 for v in seampoints3D]"
   ]
  },
  {
   "cell_type": "code",
   "execution_count": null,
   "id": "4babb163-cf14-4bab-9015-6a08c8fb1146",
   "metadata": {
    "tags": []
   },
   "outputs": [],
   "source": [
    "[np.unique(np.argwhere(seampoints3D == v)[:, 0]) for v in seampoints3D if (v == seampoints3D).sum() > 3]"
   ]
  },
  {
   "cell_type": "code",
   "execution_count": null,
   "id": "5f92ae99-854e-4fff-8355-c8ebef04939f",
   "metadata": {},
   "outputs": [],
   "source": [
    "seampoints3D[[0, 122]]"
   ]
  },
  {
   "cell_type": "code",
   "execution_count": null,
   "id": "b4acdd0b-a23d-42ac-a832-f1c13f9ed44b",
   "metadata": {},
   "outputs": [],
   "source": [
    "borderUVvertIDs[0][duplicatevertsmask]"
   ]
  },
  {
   "cell_type": "code",
   "execution_count": null,
   "id": "3aef41fa-37d4-4b83-aa0f-cc4c16962cab",
   "metadata": {},
   "outputs": [],
   "source": [
    "duplicateverts = seampoints3D[duplicatevertsmask]"
   ]
  },
  {
   "cell_type": "code",
   "execution_count": null,
   "id": "6ef2bbf7-2b4d-488f-995c-53eeda150852",
   "metadata": {},
   "outputs": [],
   "source": [
    "seampoints3D = mesh.vertex_matrix()[borderUVvertIDs]\n",
    "[(seampoints3D == v).nonzero()[0] for v in seampoints3D]\n",
    "[(v == borderpoints3D).any() for v in duplicateverts]"
   ]
  },
  {
   "cell_type": "code",
   "execution_count": null,
   "id": "f937d5a7-4657-4a6e-b78a-b162997a3672",
   "metadata": {
    "tags": []
   },
   "outputs": [],
   "source": [
    "jumpIDs = (np.diff([np.nonzero(borderUVvertIDs[0] == ID)[0][0] for ID in border3DvertIDs[0]]) > 1).nonzero()[0]\n",
    "jumpIDs"
   ]
  },
  {
   "cell_type": "code",
   "execution_count": null,
   "id": "5aa0699c-ff11-4f55-9b1e-3ac8abcd3b76",
   "metadata": {},
   "outputs": [],
   "source": [
    "border3DvertIDs[0].shape"
   ]
  },
  {
   "cell_type": "code",
   "execution_count": null,
   "id": "f2d99083-343c-4734-a64c-768ead4d499b",
   "metadata": {
    "scrolled": true,
    "tags": []
   },
   "outputs": [],
   "source": [
    "vertdists = np.sqrt(np.sum(np.diff(borderpoints3D, axis = 0)**2, axis = 1))\n",
    "vertdists.shape"
   ]
  },
  {
   "cell_type": "code",
   "execution_count": null,
   "id": "46bae42b-40ef-456d-ab01-fde24a659a82",
   "metadata": {
    "scrolled": true,
    "tags": []
   },
   "outputs": [],
   "source": [
    "jumpIDs = ((np.sqrt(np.sum(np.diff(borderpoints3D, axis = 0)**2, axis = 1))) > 2).nonzero()[0] + 1\n",
    "jumpIDs"
   ]
  },
  {
   "cell_type": "code",
   "execution_count": null,
   "id": "eb835b96-7ae2-4791-a70e-edef237781ef",
   "metadata": {},
   "outputs": [],
   "source": [
    "borderUVvertIDs"
   ]
  },
  {
   "cell_type": "code",
   "execution_count": null,
   "id": "96eaa8b8-efe5-48ea-923e-0a36118647eb",
   "metadata": {},
   "outputs": [],
   "source": [
    "# after transferring texture coordinates to vertices, the border is identical to the texture seam\n",
    "\n",
    "# meshset.compute_selection_by_texture_seams_per_vertex()"
   ]
  },
  {
   "cell_type": "code",
   "execution_count": null,
   "id": "79471f91-7ecb-40f6-b8ce-48a07e8cfe5b",
   "metadata": {},
   "outputs": [],
   "source": [
    "plt.close('all')"
   ]
  },
  {
   "cell_type": "code",
   "execution_count": null,
   "id": "ea7410ba-cdb5-4843-b120-4be00a3c1cd2",
   "metadata": {},
   "outputs": [],
   "source": [
    "import gc"
   ]
  },
  {
   "cell_type": "code",
   "execution_count": null,
   "id": "1e281d05-bb8a-4c6b-a55f-ba711bf35b82",
   "metadata": {},
   "outputs": [],
   "source": [
    "gc.collect()"
   ]
  },
  {
   "cell_type": "code",
   "execution_count": null,
   "id": "52bde747-52ce-4e46-baf4-62b2cad534d7",
   "metadata": {},
   "outputs": [],
   "source": [
    "fig3d = plt.figure()\n",
    "ax3d = fig3d.add_subplot(projection='3d')"
   ]
  },
  {
   "cell_type": "code",
   "execution_count": null,
   "id": "8ebfebf4-26f0-4669-9479-40a241d7dd12",
   "metadata": {},
   "outputs": [],
   "source": [
    "ax3d.set_proj_type('ortho')"
   ]
  },
  {
   "cell_type": "code",
   "execution_count": null,
   "id": "c380d714-b08b-4c0d-9148-85ff5daae47e",
   "metadata": {},
   "outputs": [],
   "source": [
    "xs, ys, zs = borderpoints3D.T\n",
    "xu, yu, zu = seampoints3D.T"
   ]
  },
  {
   "cell_type": "code",
   "execution_count": null,
   "id": "b2152b51-6dec-4a63-a23f-89cd834df9b4",
   "metadata": {},
   "outputs": [],
   "source": [
    "ax3d.plot3D(xs, ys, zs, 'ro-')"
   ]
  },
  {
   "cell_type": "code",
   "execution_count": null,
   "id": "af046093-1d53-4aa4-8bf8-cc360de90181",
   "metadata": {},
   "outputs": [],
   "source": [
    "xj, yj, zj = mesh.vertex_matrix()[border3DvertIDs[0][jumpIDs]].T\n",
    "xjm1, yjm1, zjm1 = mesh.vertex_matrix()[border3DvertIDs[0][jumpIDs-1]].T"
   ]
  },
  {
   "cell_type": "code",
   "execution_count": null,
   "id": "85e88732-f353-44bf-a961-81cd8b2d0864",
   "metadata": {},
   "outputs": [],
   "source": [
    "ax3d.plot3D(xj, yj,zj, 'gx')\n",
    "ax3d.plot3D(xjm1, yjm1, zjm1, 'b+')"
   ]
  },
  {
   "cell_type": "code",
   "execution_count": null,
   "id": "48e4f519-0bf2-43b9-8f2d-0af9a16edf88",
   "metadata": {},
   "outputs": [],
   "source": [
    "ax3d.plot3D(xs[0], ys[0], zs[0], 'c*', ms = 10)\n",
    "ax3d.plot3D(xs[-1], ys[-1], zs[-1], 'm+', ms = 20)"
   ]
  },
  {
   "cell_type": "code",
   "execution_count": null,
   "id": "edf86ee2-a6f5-4285-88c6-82d757fe02a7",
   "metadata": {},
   "outputs": [],
   "source": [
    "ax3d.plot(xs, 'r.-', ys, 'g.-', zs, 'b.-')"
   ]
  },
  {
   "cell_type": "code",
   "execution_count": null,
   "id": "ea5f479c-6e0f-4140-ac77-7e8d25f2cd9b",
   "metadata": {},
   "outputs": [],
   "source": [
    "ax3d.plot3D(xu, yu, zu, 'g.', zorder = 10)"
   ]
  },
  {
   "cell_type": "code",
   "execution_count": null,
   "id": "11378a81-1e2c-426c-9c54-0bb9e12664dc",
   "metadata": {},
   "outputs": [],
   "source": [
    "xd, yd, zd = duplicateverts.T"
   ]
  },
  {
   "cell_type": "code",
   "execution_count": null,
   "id": "bb55dc02-6677-430d-8bdc-528d0159a9cf",
   "metadata": {},
   "outputs": [],
   "source": [
    "ax3d.plot3D(xd, yd, zd, 'bo', zorder = 20)"
   ]
  },
  {
   "cell_type": "code",
   "execution_count": null,
   "id": "ae10bd0a-f513-4be6-af54-d9a418bab838",
   "metadata": {},
   "outputs": [],
   "source": [
    "display(fig3d.canvas)"
   ]
  },
  {
   "cell_type": "code",
   "execution_count": null,
   "id": "1340a8af-ffd2-483f-be02-24946616b176",
   "metadata": {},
   "outputs": [],
   "source": [
    "np.sort(np.sqrt((np.diff(mesh.vertex_matrix()[border3DvertIDs], axis = 0)**2).sum(axis = 1)))"
   ]
  },
  {
   "cell_type": "raw",
   "id": "bf47dc0e-4e5f-49a9-8593-d4857225fc48",
   "metadata": {},
   "source": [
    "meshset.compute_coord_by_function(x = 'vtu', y = 'vtv', z = '0')"
   ]
  },
  {
   "cell_type": "code",
   "execution_count": null,
   "id": "d2b8cc67-b4c6-4812-8f56-28ae1abb4df3",
   "metadata": {},
   "outputs": [],
   "source": [
    "meshset.transform_align_to_principal_axis()"
   ]
  },
  {
   "cell_type": "code",
   "execution_count": null,
   "id": "9062c487-83fa-4b12-94b2-793395ccdafb",
   "metadata": {},
   "outputs": [],
   "source": [
    "fig.clear()\n",
    "ax.clear()"
   ]
  },
  {
   "cell_type": "code",
   "execution_count": null,
   "id": "93422a36-f24b-442e-8526-7b3db929cb23",
   "metadata": {},
   "outputs": [],
   "source": [
    "fig = plt.figure()\n",
    "ax = fig.add_subplot()"
   ]
  },
  {
   "cell_type": "raw",
   "id": "baf0b3bf-32c2-4ac8-8015-d1e036b1725f",
   "metadata": {},
   "source": [
    "seampoints3D = mesh.vertex_matrix()[borderUVvertIDs]\n",
    "[(seampoints3D == v).nonzero()[0] for v in seampoints3D]\n",
    "[(v == borderpoints3D).any() for v in duplicateverts]"
   ]
  },
  {
   "cell_type": "code",
   "execution_count": null,
   "id": "95f0fa98-673a-411c-ae91-c406fac384b7",
   "metadata": {},
   "outputs": [],
   "source": [
    "seampointsUV = mesh.vertex_tex_coord_matrix()[borderUVvertIDs]\n",
    "seampointsUV.shape"
   ]
  },
  {
   "cell_type": "code",
   "execution_count": null,
   "id": "b4c1efe0-c163-41af-a651-45275561a77e",
   "metadata": {},
   "outputs": [],
   "source": [
    "mesh.vertex_matrix()"
   ]
  },
  {
   "cell_type": "code",
   "execution_count": null,
   "id": "366b5d4d-e7b8-41db-b3d4-027e6fa55c28",
   "metadata": {},
   "outputs": [],
   "source": [
    "xvert, yvert = mesh.vertex_tex_coord_matrix()[border3DvertIDs].T\n",
    "\n",
    "xvertu, yvertu = mesh.vertex_tex_coord_matrix()[borderUVvertIDs].T"
   ]
  },
  {
   "cell_type": "code",
   "execution_count": null,
   "id": "b80bde82-e18a-4d4f-bc8e-91b46336958b",
   "metadata": {},
   "outputs": [],
   "source": [
    "xvertd, yvertd = mesh.vertex_tex_coord_matrix()[borderUVvertIDs[0][duplicatevertsmask]].T"
   ]
  },
  {
   "cell_type": "code",
   "execution_count": null,
   "id": "fda9c8b7-206b-4692-8ae0-730a46cd6900",
   "metadata": {},
   "outputs": [],
   "source": [
    "[(ind, np.argwhere(border3DvertIDs[0] == vertID)) for ind, vertID in enumerate(borderUVvertIDs[0][duplicatevertsmask]) if (vertID == border3DvertIDs).any()]"
   ]
  },
  {
   "cell_type": "code",
   "execution_count": null,
   "id": "f49fc632-9c49-4fd7-a637-988c93059582",
   "metadata": {},
   "outputs": [],
   "source": [
    "mesh.vertex_tex_coord_matrix()[borderUVvertIDs[0][duplicatevertsmask][7:]]"
   ]
  },
  {
   "cell_type": "code",
   "execution_count": null,
   "id": "3780f79b-d96c-4e20-b1ac-f15d968e43bb",
   "metadata": {},
   "outputs": [],
   "source": [
    "border3DvertIDs[0]"
   ]
  },
  {
   "cell_type": "code",
   "execution_count": null,
   "id": "2193f60e-6bf7-46c5-95f7-bdd3a8ec57e7",
   "metadata": {},
   "outputs": [],
   "source": [
    "ax.plot(xvert, yvert, 'ro-')"
   ]
  },
  {
   "cell_type": "code",
   "execution_count": null,
   "id": "6535c952-b049-4b33-9640-89c5870657e0",
   "metadata": {},
   "outputs": [],
   "source": [
    "xvertu, yvertu = mesh.vertex_tex_coord_matrix()[sortedvertsIDs].T"
   ]
  },
  {
   "cell_type": "code",
   "execution_count": null,
   "id": "41c3e921-e87e-4f93-bb26-5d566f181d24",
   "metadata": {},
   "outputs": [],
   "source": [
    "ax.plot(xvertu, yvertu, 'g.-', zorder = 10)"
   ]
  },
  {
   "cell_type": "code",
   "execution_count": null,
   "id": "c98de131-fff1-4db5-be97-86191ea1fc05",
   "metadata": {},
   "outputs": [],
   "source": [
    "ax.plot(xvertd, yvertd, 'bo-', zorder = 5)"
   ]
  },
  {
   "cell_type": "code",
   "execution_count": null,
   "id": "295a9fd2-e628-4281-83d7-3271122d4e07",
   "metadata": {},
   "outputs": [],
   "source": [
    "fig.canvas.draw_idle()"
   ]
  },
  {
   "cell_type": "code",
   "execution_count": null,
   "id": "203853fa-bda2-4dcc-9775-0a4125b47cdc",
   "metadata": {},
   "outputs": [],
   "source": [
    "display(fig.canvas)"
   ]
  },
  {
   "cell_type": "code",
   "execution_count": null,
   "id": "d5390ad5-3ed5-41b2-9aec-f53f054371f5",
   "metadata": {
    "scrolled": true,
    "tags": []
   },
   "outputs": [],
   "source": [
    "np.sort(np.sqrt((np.diff(mesh.vertex_tex_coord_matrix()[vertselectid], axis = 0)**2).sum(axis = 1))).sum() - 17.24"
   ]
  },
  {
   "cell_type": "code",
   "execution_count": null,
   "id": "d5ed7e72-ac6d-49d2-bdb0-e1818bbff60e",
   "metadata": {},
   "outputs": [],
   "source": [
    "# MeshLab filter name: ‘Colorize by border distance’\n",
    "# Store in the quality field the geodesic distance from borders and color the mesh accordingly.\n",
    "\n",
    "meshset.compute_scalar_by_border_distance_per_vertex()"
   ]
  },
  {
   "cell_type": "code",
   "execution_count": null,
   "id": "6a666a77-6a70-429c-b26f-b4d9a9d4653f",
   "metadata": {},
   "outputs": [],
   "source": [
    "meshset.filter_parameter_values('compute_scalar_by_geodesic_distance_from_selection_per_vertex')"
   ]
  },
  {
   "cell_type": "code",
   "execution_count": null,
   "id": "7970ab05-013b-4a5d-9309-a9833f197255",
   "metadata": {},
   "outputs": [],
   "source": [
    "# MeshLab filter name: ‘Colorize by geodesic distance from the selected points’\n",
    "# Store in the quality field the geodesic distance from the selected points on the mesh surface and color the mesh accordingly.\n",
    "\n",
    "# meshset.apply_filter('compute_scalar_by_geodesic_distance_from_selection_per_vertex', maxdistance = pml.Percentage(100.0))\n",
    "meshset.compute_scalar_by_geodesic_distance_from_selection_per_vertex(maxdistance = pml.Percentage(100.0))"
   ]
  },
  {
   "cell_type": "code",
   "execution_count": null,
   "id": "2d4e19ff-87e2-4a2f-b0e7-cda575e8dca8",
   "metadata": {},
   "outputs": [],
   "source": [
    "# Distance is stored in vertex quality of the sampled mesh\n",
    "\n",
    "# meshset.get_hausdorff_distance(sampledmesh = 0, targetmesh = 0)"
   ]
  },
  {
   "cell_type": "code",
   "execution_count": null,
   "id": "41635880-8480-4be3-9de0-6529ee2b8639",
   "metadata": {},
   "outputs": [],
   "source": [
    "xuv, yuv = mesh.vertex_tex_coord_matrix().T"
   ]
  },
  {
   "cell_type": "code",
   "execution_count": null,
   "id": "dcb43460-fa9a-47cb-88b2-f9839d181928",
   "metadata": {},
   "outputs": [],
   "source": [
    "UVtriangulation = mpl.tri.triangulation.Triangulation(xuv, yuv)"
   ]
  },
  {
   "cell_type": "code",
   "execution_count": null,
   "id": "9615024f-e2dd-4914-9a41-0ec3228fdd96",
   "metadata": {},
   "outputs": [],
   "source": [
    "ax.triplot(UVtriangulation)"
   ]
  },
  {
   "cell_type": "code",
   "execution_count": null,
   "id": "b52c9e8d-2d39-4677-9e4b-3cfe7d572469",
   "metadata": {},
   "outputs": [],
   "source": [
    "UVtriangulation.triangles.shape"
   ]
  },
  {
   "cell_type": "code",
   "execution_count": null,
   "id": "85f903f9-fcf8-4dc2-b027-725d46d20677",
   "metadata": {},
   "outputs": [],
   "source": [
    "pml.Mesh()"
   ]
  },
  {
   "cell_type": "code",
   "execution_count": null,
   "id": "f1e486a1-f42f-4ff3-87a7-2bdc52308915",
   "metadata": {},
   "outputs": [],
   "source": [
    "import shapely"
   ]
  },
  {
   "cell_type": "code",
   "execution_count": null,
   "id": "24b6e762-4c6a-45db-b01d-8dc0a57d8724",
   "metadata": {},
   "outputs": [],
   "source": [
    "from shapely.geometry import Polygon, LinearRing, Point, MultiLineString, LineString\n",
    "\n",
    "from shapely.strtree import STRtree"
   ]
  },
  {
   "cell_type": "code",
   "execution_count": null,
   "id": "f261cc2c-3f63-4e09-abc0-006ac64fe6df",
   "metadata": {},
   "outputs": [],
   "source": [
    "p3d = LinearRing(mesh.vertex_matrix()[border3DvertIDs])"
   ]
  },
  {
   "cell_type": "code",
   "execution_count": null,
   "id": "f4a9d55a-8514-4f39-b839-b46ee9c9eb98",
   "metadata": {},
   "outputs": [],
   "source": [
    "pUV = LinearRing(mesh.vertex_tex_coord_matrix()[borderUVvertIDs])"
   ]
  },
  {
   "cell_type": "code",
   "execution_count": null,
   "id": "9f46731b-6ed2-4077-a4b5-6d5ef051ed8e",
   "metadata": {},
   "outputs": [],
   "source": [
    "pUV.intersects(pUV)"
   ]
  },
  {
   "cell_type": "code",
   "execution_count": null,
   "id": "33fc7ca6-3666-4894-8ea7-0b96103c2a90",
   "metadata": {},
   "outputs": [],
   "source": [
    "points = [Point(l) for l in list(pUV.coords)]\n",
    "len(points)"
   ]
  },
  {
   "cell_type": "code",
   "execution_count": null,
   "id": "67e79f11-fbcd-4c4e-ab6a-57a2114ca758",
   "metadata": {},
   "outputs": [],
   "source": [
    "MultiLineString(points)"
   ]
  },
  {
   "cell_type": "code",
   "execution_count": null,
   "id": "fe7905b0-4f65-4680-9a63-b65987d9904d",
   "metadata": {
    "scrolled": true,
    "tags": []
   },
   "outputs": [],
   "source": [
    "tree = STRtree(points)"
   ]
  },
  {
   "cell_type": "code",
   "execution_count": null,
   "id": "247e20b0-8c49-4b2e-9d27-f135a93a2113",
   "metadata": {},
   "outputs": [],
   "source": [
    "index_by_id = dict((id(pt), i) for i, pt in enumerate(points))"
   ]
  },
  {
   "cell_type": "code",
   "execution_count": null,
   "id": "21f13003-c1a8-4dc1-931f-7972d9878e58",
   "metadata": {},
   "outputs": [],
   "source": [
    "for p in points:\n",
    "    print([(index_by_id[id(o)], o.wkt) for o in tree.query(p.buffer(1.0)) if o.intersects(p.buffer(1.0))])"
   ]
  },
  {
   "cell_type": "code",
   "execution_count": null,
   "id": "31ce8af9-993b-4dd5-9b23-91b66ab0ec3d",
   "metadata": {},
   "outputs": [],
   "source": []
  },
  {
   "cell_type": "code",
   "execution_count": null,
   "id": "80ada14f-46af-4be4-9c98-e4d06b4e9ffb",
   "metadata": {},
   "outputs": [],
   "source": [
    "meshset.compute_texcoord_transfer_wedge_to_vertex()\n",
    "\n",
    "meshset.compute_coord_by_function(x = 'vtu', y = 'vtv', z = '0', onselected = False)\n",
    "\n",
    "meshset.compute_selection_from_mesh_border()\n",
    "\n",
    "bordervertsIDs = mesh.vertex_selection_array().nonzero()\n",
    "borderfaces = mesh.face_matrix()[mesh.face_selection_array()]\n",
    "\n",
    "setborderfaces = np.array([set(f) for f in borderfaces])"
   ]
  },
  {
   "cell_type": "code",
   "execution_count": null,
   "id": "6ff948d2-f4f1-4bb0-97d0-defb71cbb058",
   "metadata": {},
   "outputs": [],
   "source": [
    "sortmap = {indset: {ind: (r & set(bordervertsIDs[0])).pop() for ind, r in enumerate(setf & setborderfaces) \n",
    "                         if r and len(r) < 3 and (r & set(bordervertsIDs[0]))}\n",
    "           for indset, setf in enumerate(setborderfaces)}"
   ]
  },
  {
   "cell_type": "code",
   "execution_count": null,
   "id": "c561d0b6-a10e-4510-a3c6-5d631ad6df76",
   "metadata": {
    "scrolled": true,
    "tags": []
   },
   "outputs": [],
   "source": [
    "sortmap"
   ]
  },
  {
   "cell_type": "code",
   "execution_count": null,
   "id": "4578c872-6a1e-4585-80a0-ca5da2001520",
   "metadata": {},
   "outputs": [],
   "source": [
    "len(sortmap)"
   ]
  },
  {
   "cell_type": "code",
   "execution_count": null,
   "id": "499fe8c4-a9f8-4267-90e4-2fc2940636b1",
   "metadata": {},
   "outputs": [],
   "source": [
    "_, sortedvertsIDs = [item for item in sortmap[0].items()][1]\n",
    "\n",
    "sortedvertsIDs = [sortedvertsIDs]"
   ]
  },
  {
   "cell_type": "code",
   "execution_count": null,
   "id": "20f8d1c8-f7df-49fb-a9b4-10f55cc576b4",
   "metadata": {
    "scrolled": true,
    "tags": []
   },
   "outputs": [],
   "source": [
    "nextind = 0\n",
    "countind = 0\n",
    "\n",
    "while True:\n",
    "    pairs = [item for item in sortmap[nextind].items() if item[1] not in sortedvertsIDs]\n",
    "    print(pairs)\n",
    "    \n",
    "    if pairs:\n",
    "        nextind, nextvertsid = [p for p in pairs if p[1] not in sortedvertsIDs][0]\n",
    "    else:\n",
    "        break\n",
    "    \n",
    "    countind += 1\n",
    "    \n",
    "    print(countind, nextind, nextvertsid)\n",
    "\n",
    "    sortedvertsIDs.append(nextvertsid)\n",
    "    \n",
    "    if countind == len(sortmap):\n",
    "        break"
   ]
  },
  {
   "cell_type": "code",
   "execution_count": null,
   "id": "2a4050d7-1264-4b74-ac99-6432b0dd9e7d",
   "metadata": {},
   "outputs": [],
   "source": [
    "len(sortedvertsIDs)"
   ]
  },
  {
   "cell_type": "code",
   "execution_count": null,
   "id": "5a009204-e4ad-4f23-bc41-7d7c63dff177",
   "metadata": {},
   "outputs": [],
   "source": [
    "len(sortmap)"
   ]
  },
  {
   "cell_type": "code",
   "execution_count": null,
   "id": "dd6ee272-6cba-4cc3-a4ce-ce709dae319f",
   "metadata": {},
   "outputs": [],
   "source": [
    "borderfaces.shape"
   ]
  },
  {
   "cell_type": "code",
   "execution_count": null,
   "id": "4c5a6722-cd95-4a35-8039-31c7e18796ed",
   "metadata": {},
   "outputs": [],
   "source": [
    "bordervertsIDs[0].shape"
   ]
  },
  {
   "cell_type": "code",
   "execution_count": null,
   "id": "8af78846-9ebe-4055-8619-134bed4f013b",
   "metadata": {},
   "outputs": [],
   "source": []
  }
 ],
 "metadata": {
  "kernelspec": {
   "display_name": "Python 3 (ipykernel)",
   "language": "python",
   "name": "python3"
  },
  "language_info": {
   "codemirror_mode": {
    "name": "ipython",
    "version": 3
   },
   "file_extension": ".py",
   "mimetype": "text/x-python",
   "name": "python",
   "nbconvert_exporter": "python",
   "pygments_lexer": "ipython3",
   "version": "3.11.6"
  }
 },
 "nbformat": 4,
 "nbformat_minor": 5
}
