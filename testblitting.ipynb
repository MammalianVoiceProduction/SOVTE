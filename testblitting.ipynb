{
 "cells": [
  {
   "cell_type": "code",
   "execution_count": 1,
   "id": "4aa9d89c-a355-4cbc-9cc6-6313148a49f5",
   "metadata": {},
   "outputs": [
    {
     "name": "stdout",
     "output_type": "stream",
     "text": [
      "Automatic calling is: Full\n"
     ]
    }
   ],
   "source": [
    "%autocall 2"
   ]
  },
  {
   "cell_type": "code",
   "execution_count": 2,
   "id": "330994f4-a4a5-4ece-9b06-e9cdac563dd4",
   "metadata": {},
   "outputs": [
    {
     "name": "stdout",
     "output_type": "stream",
     "text": [
      "Available matplotlib backends: ['tk', 'gtk', 'gtk3', 'gtk4', 'wx', 'qt4', 'qt5', 'qt6', 'qt', 'osx', 'nbagg', 'webagg', 'notebook', 'agg', 'svg', 'pdf', 'ps', 'inline', 'ipympl', 'widget']\n"
     ]
    }
   ],
   "source": [
    "%matplotlib -l"
   ]
  },
  {
   "cell_type": "code",
   "execution_count": 3,
   "id": "beecd540-bef0-4469-8618-e46aa0a5b1bc",
   "metadata": {},
   "outputs": [],
   "source": [
    "%matplotlib tk"
   ]
  },
  {
   "cell_type": "code",
   "execution_count": 4,
   "id": "67bc540b-e926-4765-8ca8-8ad3393bc5d6",
   "metadata": {},
   "outputs": [],
   "source": [
    "from datetime import datetime\n",
    "\n",
    "import matplotlib as mpl\n",
    "\n",
    "# mpl.use('TkAgg')\n",
    "\n",
    "import matplotlib.pyplot as plt\n",
    "import numpy as np"
   ]
  },
  {
   "cell_type": "code",
   "execution_count": 5,
   "id": "c431813e-bf2a-4874-84c5-cad9ba1228f6",
   "metadata": {},
   "outputs": [],
   "source": [
    "import ipython_memory_usage"
   ]
  },
  {
   "cell_type": "code",
   "execution_count": 6,
   "id": "9347749d-3578-4f5c-a6cf-0c7b2b725d99",
   "metadata": {},
   "outputs": [
    {
     "data": {
      "text/plain": [
       "'memory profile enabled'"
      ]
     },
     "execution_count": 6,
     "metadata": {},
     "output_type": "execute_result"
    },
    {
     "name": "stdout",
     "output_type": "stream",
     "text": [
      "In [6] used 0.0195 MiB RAM in 0.35s, peaked 0.00 MiB above current, total RAM usage 106.17 MiB\n"
     ]
    }
   ],
   "source": [
    "%ipython_memory_usage_start"
   ]
  },
  {
   "cell_type": "code",
   "execution_count": 7,
   "id": "676f9289-dc9e-4c8d-82e9-a5aa0cc815c5",
   "metadata": {},
   "outputs": [
    {
     "name": "stdout",
     "output_type": "stream",
     "text": [
      "In [7] used 0.1211 MiB RAM in 0.10s, peaked 0.00 MiB above current, total RAM usage 106.29 MiB\n"
     ]
    }
   ],
   "source": [
    "t0 = 0\n",
    "\n",
    "dtmin = np.inf\n",
    "dtmax = -np.inf\n",
    "dtmean = 0\n",
    "ndt = 0\n",
    "\n",
    "def update_title(axes, title):\n",
    "    global t0, dtmin, dtmax, dtmean, ndt\n",
    "\n",
    "    if not t0:\n",
    "        t0 = datetime.now()\n",
    "        t1 = t0\n",
    "    else:\n",
    "        t1 = datetime.now()\n",
    "        dt = t1 - t0\n",
    "        dtmin = np.min([dt.microseconds, dtmin])\n",
    "        dtmax = np.max([dt.microseconds, dtmax])\n",
    "        dtmean += dt.microseconds\n",
    "        ndt += 1\n",
    "        t0 = t1\n",
    "    \n",
    "    axes.figure.canvas.restore_region(bg)\n",
    "    \n",
    "    title.set_text(t1)\n",
    "    axes.draw_artist(title)\n",
    "    \n",
    "    axes.figure.canvas.blit(fig.bbox)\n",
    "    axes.figure.canvas.flush_events()\n",
    "    # slow\n",
    "    # axes.figure.canvas.draw()"
   ]
  },
  {
   "cell_type": "code",
   "execution_count": 8,
   "id": "f80c81aa-27f7-4060-b329-7c469bd5492c",
   "metadata": {},
   "outputs": [
    {
     "name": "stdout",
     "output_type": "stream",
     "text": [
      "In [8] used 0.0078 MiB RAM in 0.10s, peaked 0.00 MiB above current, total RAM usage 106.30 MiB\n"
     ]
    }
   ],
   "source": [
    "def on_close(event):\n",
    "    global dtmin, dtmax, dtmean, ndt\n",
    "    \n",
    "    print(\"closed figure\")\n",
    "    \n",
    "    print(dtmean / ndt / 1000, dtmin / 1000, dtmax / 1000)"
   ]
  },
  {
   "cell_type": "code",
   "execution_count": 9,
   "id": "b9155b4a-9543-4ec0-bcf4-77f7ff3f1b92",
   "metadata": {},
   "outputs": [
    {
     "data": {
      "text/plain": [
       "False"
      ]
     },
     "execution_count": 9,
     "metadata": {},
     "output_type": "execute_result"
    },
    {
     "name": "stdout",
     "output_type": "stream",
     "text": [
      "In [9] used 0.0000 MiB RAM in 0.10s, peaked 0.00 MiB above current, total RAM usage 106.30 MiB\n"
     ]
    }
   ],
   "source": [
    "plt.ioff()\n",
    "plt.interactive(False)\n",
    "plt.isinteractive()"
   ]
  },
  {
   "cell_type": "code",
   "execution_count": 10,
   "id": "e8e49a35-48dc-4943-950e-4444d5fb190e",
   "metadata": {},
   "outputs": [
    {
     "name": "stdout",
     "output_type": "stream",
     "text": [
      "In [10] used 0.0078 MiB RAM in 0.10s, peaked 0.00 MiB above current, total RAM usage 106.31 MiB\n"
     ]
    }
   ],
   "source": [
    "plt.close('all')"
   ]
  },
  {
   "cell_type": "code",
   "execution_count": 11,
   "id": "5f932103-4979-413b-a947-cd8a9bcd4aa7",
   "metadata": {},
   "outputs": [
    {
     "name": "stdout",
     "output_type": "stream",
     "text": [
      "In [11] used 8.1133 MiB RAM in 0.27s, peaked 0.00 MiB above current, total RAM usage 114.42 MiB\n"
     ]
    }
   ],
   "source": [
    "try:\n",
    "    plt.close(fig = fig)\n",
    "    del fig, ax\n",
    "except:\n",
    "    pass\n",
    "    \n",
    "fig, ax = plt.subplots()\n",
    "\n",
    "x = np.linspace(-3, 3)\n",
    "ax.plot(x, x ** 2)\n",
    "\n",
    "title = ax.set_title(datetime.now(), animated = True)\n",
    "\n",
    "fig.canvas.mpl_connect('close_event', on_close)\n",
    "\n",
    "# pause causes a full draw\n",
    "# plt.pause(0.1)\n",
    "fig.canvas.draw()"
   ]
  },
  {
   "cell_type": "code",
   "execution_count": 12,
   "id": "92801520-ba3c-4f04-a01b-628791a30443",
   "metadata": {},
   "outputs": [
    {
     "name": "stdout",
     "output_type": "stream",
     "text": [
      "In [12] used 1.1875 MiB RAM in 0.11s, peaked 0.00 MiB above current, total RAM usage 115.61 MiB\n"
     ]
    }
   ],
   "source": [
    "bg = fig.canvas.copy_from_bbox(fig.bbox)\n",
    "\n",
    "ax.draw_artist(title)\n",
    "\n",
    "fig.canvas.blit(fig.bbox)"
   ]
  },
  {
   "cell_type": "code",
   "execution_count": 13,
   "id": "ff89a436-1509-47f2-8839-68473313684d",
   "metadata": {},
   "outputs": [
    {
     "name": "stdout",
     "output_type": "stream",
     "text": [
      "timer interval:  1\n",
      "In [13] used 0.0156 MiB RAM in 0.10s, peaked 0.00 MiB above current, total RAM usage 115.62 MiB\n"
     ]
    }
   ],
   "source": [
    "# Create a new timer object. Set the interval to 100 milliseconds\n",
    "timer = fig.canvas.new_timer(interval = 0) # 0: as fast as possible, here measured about 3000 microseconds!!! Wow! 333 frames per second\n",
    "# (1000 is default) and tell the timer what function should be called.\n",
    "\n",
    "print(\"timer interval: \", timer.interval)\n",
    "\n",
    "timer.add_callback(update_title, ax, title)\n",
    "\n",
    "# timer.start()\n",
    "\n",
    "# Or could start the timer on first figure draw:\n",
    "def start_timer(event):\n",
    "    timer.start()\n",
    "    fig.canvas.mpl_disconnect(drawid)\n",
    "drawid = fig.canvas.mpl_connect('draw_event', start_timer)"
   ]
  },
  {
   "cell_type": "code",
   "execution_count": 14,
   "id": "38263d4b-2ead-4792-9585-2205d3f3af7b",
   "metadata": {},
   "outputs": [
    {
     "name": "stdout",
     "output_type": "stream",
     "text": [
      "closed figure\n",
      "4.972470525187567 3.927 66.838\n",
      "In [14] used 1.5156 MiB RAM in 4.80s, peaked 1.14 MiB above current, total RAM usage 117.14 MiB\n"
     ]
    }
   ],
   "source": [
    "plt.show(block = True)"
   ]
  },
  {
   "cell_type": "code",
   "execution_count": 15,
   "id": "e7a93b92-b8bd-4440-9df6-51b02e6c67ae",
   "metadata": {},
   "outputs": [
    {
     "name": "stdout",
     "output_type": "stream",
     "text": [
      "In [15] used 0.3867 MiB RAM in 0.11s, peaked 0.00 MiB above current, total RAM usage 105.67 MiB\n"
     ]
    }
   ],
   "source": [
    "timer.stop()"
   ]
  },
  {
   "cell_type": "code",
   "execution_count": 18,
   "id": "0314c789-8eec-41d0-967a-1cdd334f4e4b",
   "metadata": {},
   "outputs": [
    {
     "name": "stdout",
     "output_type": "stream",
     "text": [
      "9.022122093023256 0.0 23.96\n",
      "In [18] used 0.0781 MiB RAM in 0.11s, peaked 0.00 MiB above current, total RAM usage 105.75 MiB\n"
     ]
    }
   ],
   "source": [
    "print(dtmean / ndt / 1000, dtmin / 1000, dtmax / 1000)"
   ]
  },
  {
   "cell_type": "code",
   "execution_count": 16,
   "id": "3faa360d-5d81-4ee9-9e09-30291e2ba573",
   "metadata": {},
   "outputs": [
    {
     "name": "stdout",
     "output_type": "stream",
     "text": [
      "In [16] used 0.0000 MiB RAM in 0.10s, peaked 0.00 MiB above current, total RAM usage 105.67 MiB\n"
     ]
    }
   ],
   "source": [
    "plt.close(fig = fig)"
   ]
  },
  {
   "cell_type": "code",
   "execution_count": 17,
   "id": "58a56f45-5ba0-441f-8da6-3666bcca5fd1",
   "metadata": {},
   "outputs": [
    {
     "name": "stdout",
     "output_type": "stream",
     "text": [
      "In [17] used 0.0000 MiB RAM in 0.10s, peaked 0.00 MiB above current, total RAM usage 105.67 MiB\n"
     ]
    }
   ],
   "source": [
    "plt.close('all')"
   ]
  },
  {
   "cell_type": "code",
   "execution_count": 1,
   "id": "013193ac-4c46-45ce-9a06-20a2f5bfe9a3",
   "metadata": {},
   "outputs": [],
   "source": [
    "class BlitManager:\n",
    "    def __init__(self, canvas, animated_artists=()):\n",
    "        \"\"\"\n",
    "        Parameters\n",
    "        ----------\n",
    "        canvas : FigureCanvasAgg\n",
    "            The canvas to work with, this only works for subclasses of the Agg\n",
    "            canvas which have the `~FigureCanvasAgg.copy_from_bbox` and\n",
    "            `~FigureCanvasAgg.restore_region` methods.\n",
    "\n",
    "        animated_artists : Iterable[Artist]\n",
    "            List of the artists to manage\n",
    "        \"\"\"\n",
    "        \n",
    "        self.canvas = canvas\n",
    "        self._bg = None\n",
    "        self._artists = []\n",
    "\n",
    "        for a in animated_artists:\n",
    "            self.add_artist(a)\n",
    "        \n",
    "        # grab the background on every draw\n",
    "        self.cid = canvas.mpl_connect(\"draw_event\", self.on_draw)\n",
    "\n",
    "    def on_draw(self, event):\n",
    "        \"\"\"Callback to register with 'draw_event'.\"\"\"\n",
    "        canvas = self.canvas\n",
    "        \n",
    "        if event is not None:\n",
    "            if event.canvas != canvas:\n",
    "                raise RuntimeError\n",
    "        \n",
    "        self._bg = canvas.copy_from_bbox(canvas.figure.bbox)\n",
    "        \n",
    "        self._draw_animated()\n",
    "\n",
    "    def add_artist(self, art):\n",
    "        \"\"\"\n",
    "        Add an artist to be managed.\n",
    "\n",
    "        Parameters\n",
    "        ----------\n",
    "        art : Artist\n",
    "\n",
    "            The artist to be added.  Will be set to 'animated' (just\n",
    "            to be safe).  *art* must be in the figure associated with\n",
    "            the canvas this class is managing.\n",
    "\n",
    "        \"\"\"\n",
    "        if art.figure != self.canvas.figure:\n",
    "            raise RuntimeError\n",
    "        \n",
    "        art.set_animated(True)\n",
    "        \n",
    "        self._artists.append(art)\n",
    "\n",
    "    def _draw_animated(self):\n",
    "        \"\"\"Draw all of the animated artists.\"\"\"\n",
    "        \n",
    "        fig = self.canvas.figure\n",
    "        \n",
    "        for a in self._artists:\n",
    "            fig.draw_artist(a)\n",
    "\n",
    "    def update(self):\n",
    "        \"\"\"Update the screen with animated artists.\"\"\"\n",
    "        \n",
    "        canvas = self.canvas\n",
    "        \n",
    "        fig = canvas.figure\n",
    "        \n",
    "        # paranoia in case we missed the draw event,\n",
    "        if self._bg is None:\n",
    "            self.on_draw(None)\n",
    "        else:\n",
    "            # restore the background\n",
    "            canvas.restore_region(self._bg)\n",
    "            \n",
    "            # draw all of the animated artists\n",
    "            self._draw_animated()\n",
    "            \n",
    "            # update the GUI state\n",
    "            canvas.blit(fig.bbox)\n",
    "        \n",
    "        # let the GUI event loop process anything it has to do\n",
    "        canvas.flush_events()"
   ]
  },
  {
   "cell_type": "code",
   "execution_count": null,
   "id": "537d5ae3-0fb4-49d2-92c2-9fc0e21b9e17",
   "metadata": {},
   "outputs": [],
   "source": [
    "# make a new figure\n",
    "fig, ax = plt.subplots()\n",
    "\n",
    "# add a line\n",
    "(ln,) = ax.plot(x, np.sin(x), animated = True)\n",
    "\n",
    "# add a frame number\n",
    "fr_number = ax.annotate(\"0\", (0, 1),\n",
    "                        xycoords = \"axes fraction\", xytext = (10, -10), textcoords = \"offset points\",\n",
    "                        ha = \"left\", va = \"top\",\n",
    "                        animated = True)\n",
    "\n",
    "blitmanager = BlitManager(fig.canvas, [ln, fr_number])\n",
    "\n",
    "# make sure our window is on the screen and drawn\n",
    "plt.show(block = False)\n",
    "\n",
    "# for a draw event with pause\n",
    "plt.pause(0.1)\n",
    "\n",
    "for j in range(100):\n",
    "    # update the artists\n",
    "    ln.set_ydata(np.sin(x + (j / 100) * np.pi))\n",
    "    \n",
    "    fr_number.set_text(f\"frame: {j}\")\n",
    "    \n",
    "    # tell the blitting manager to do its thing\n",
    "    blitmanager.update()"
   ]
  },
  {
   "cell_type": "code",
   "execution_count": null,
   "id": "2a3e830e-1fbf-4848-84b5-826c03005810",
   "metadata": {},
   "outputs": [],
   "source": [
    "import queue, threading"
   ]
  },
  {
   "cell_type": "code",
   "execution_count": null,
   "id": "3830174f-76b1-4b01-9e35-6f168bd93510",
   "metadata": {},
   "outputs": [],
   "source": [
    "q = queue.Queue(maxsize = 10)"
   ]
  },
  {
   "cell_type": "code",
   "execution_count": null,
   "id": "8bcee510-4fde-4ec3-acb4-f0f36549290b",
   "metadata": {},
   "outputs": [],
   "source": [
    "event = threading.Event"
   ]
  },
  {
   "cell_type": "code",
   "execution_count": null,
   "id": "45fe2ee4-c6a8-4541-b6e8-fa65ec12d5e7",
   "metadata": {},
   "outputs": [],
   "source": [
    "event.wait()"
   ]
  }
 ],
 "metadata": {
  "kernelspec": {
   "display_name": "Python 3 (ipykernel)",
   "language": "python",
   "name": "python3"
  },
  "language_info": {
   "codemirror_mode": {
    "name": "ipython",
    "version": 3
   },
   "file_extension": ".py",
   "mimetype": "text/x-python",
   "name": "python",
   "nbconvert_exporter": "python",
   "pygments_lexer": "ipython3",
   "version": "3.11.6"
  }
 },
 "nbformat": 4,
 "nbformat_minor": 5
}
