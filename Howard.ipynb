{
 "cells": [
  {
   "cell_type": "code",
   "execution_count": 1,
   "id": "5315aaea-573d-497b-a3d9-01d0d09d42b3",
   "metadata": {},
   "outputs": [
    {
     "name": "stdout",
     "output_type": "stream",
     "text": [
      "Automatic calling is: Full\n"
     ]
    }
   ],
   "source": [
    "%autocall 2"
   ]
  },
  {
   "cell_type": "code",
   "execution_count": 2,
   "id": "d0705d1f-5589-4929-a358-917da33d3e8c",
   "metadata": {},
   "outputs": [],
   "source": [
    "import numpy as np\n",
    "\n",
    "import skimage\n",
    "\n",
    "import os, glob, gc"
   ]
  },
  {
   "cell_type": "code",
   "execution_count": 3,
   "id": "9bb8e315-4d16-44c4-b7fc-e9bb9c83f13d",
   "metadata": {},
   "outputs": [
    {
     "data": {
      "text/plain": [
       "'C:\\\\Users\\\\m142519\\\\Desktop\\\\Jupyter Notebooks'"
      ]
     },
     "execution_count": 3,
     "metadata": {},
     "output_type": "execute_result"
    }
   ],
   "source": [
    "pwd"
   ]
  },
  {
   "cell_type": "code",
   "execution_count": 5,
   "id": "78f80c4c-c844-4f82-8d7c-ad6737a74676",
   "metadata": {},
   "outputs": [
    {
     "name": "stdout",
     "output_type": "stream",
     "text": [
      " Volume in drive D is Storage\n",
      " Volume Serial Number is C8B3-7E00\n",
      "\n",
      " Directory of D:\\Artec Studio Projects\\Nasal Patients\n",
      "\n",
      "06/20/24  12:05 PM    <DIR>          .\n",
      "06/20/24  12:05 PM    <DIR>          ..\n",
      "01/31/24  12:52 PM    <DIR>          {CD15A013-3692-4367-B200-0068E6BE8CDB}\n",
      "06/20/24  12:07 PM    <DIR>          Linda Williams 13374085 pre\n",
      "06/25/24  01:42 PM    <DIR>          linda williams pre paramedian\n",
      "06/20/24  12:05 PM    <DIR>          Martha Dickman 13976660\n",
      "02/01/24  09:30 AM    <DIR>          Martha Dickman 13976660 pre\n",
      "02/01/24  10:50 AM    <DIR>          Martha Dickman postop 0119 fisrt surg\n",
      "               0 File(s)              0 bytes\n",
      "               8 Dir(s)  1,116,454,531,072 bytes free\n"
     ]
    }
   ],
   "source": [
    "ls \"D:/Artec Studio Projects/Nasal Patients\""
   ]
  },
  {
   "cell_type": "code",
   "execution_count": 6,
   "id": "5040fa20-7cb3-4083-9690-7145133e13fe",
   "metadata": {},
   "outputs": [
    {
     "name": "stdout",
     "output_type": "stream",
     "text": [
      " Volume in drive D is Storage\n",
      " Volume Serial Number is C8B3-7E00\n",
      "\n",
      " Directory of D:\\Artec Studio Projects\\Nasal Patients\\linda williams pre paramedian\n",
      "\n",
      "06/25/24  01:42 PM    <DIR>          .\n",
      "06/25/24  01:42 PM    <DIR>          ..\n",
      "06/25/24  01:32 PM    <DIR>          data\n",
      "06/03/24  01:08 PM                44 linda williams pre paramedian.a3d\n",
      "06/20/24  12:08 PM         1,414,415 LindaWilliamsPreParamedian.png\n",
      "06/25/24  01:42 PM               252 LindaWilliamsPreParamedian20240625.png.mtl\n",
      "06/25/24  01:42 PM       155,610,455 LindaWilliamsPreParamedian20240625.png.obj\n",
      "06/25/24  01:42 PM        27,010,000 LindaWilliamsPreParamedian20240625.png_1.png\n",
      "06/25/24  01:34 PM           930,276 LindaWilliamsPreParamedianFace.png\n",
      "06/20/24  12:19 PM             8,207 project_preview.png\n",
      "               7 File(s)    184,973,649 bytes\n",
      "               3 Dir(s)  1,116,454,531,072 bytes free\n"
     ]
    }
   ],
   "source": [
    "ls \"D:/Artec Studio Projects/Nasal Patients/linda williams pre paramedian\""
   ]
  },
  {
   "cell_type": "code",
   "execution_count": 8,
   "id": "c9d8d505-9ab0-4015-a0d9-1cec9131b599",
   "metadata": {},
   "outputs": [],
   "source": [
    "# pngfilename = \"D:/Artec Studio Projects/Nasal Patients/Martha Dickman postop 0119 fisrt surg/MarthaDickmanPostOp20240119FirstSurgery_1.png\"\n",
    "\n",
    "pngfilename = \"D:/Artec Studio Projects/Nasal Patients/linda williams pre paramedian/LindaWilliamsPreParamedian20240625_1.png\"\n",
    "\n",
    "png = skimage.io.imread(pngfilename)"
   ]
  },
  {
   "cell_type": "code",
   "execution_count": 9,
   "id": "b917cd7f-9f45-48fa-b3be-bb64724e4e01",
   "metadata": {},
   "outputs": [],
   "source": [
    "from PIL import Image"
   ]
  },
  {
   "cell_type": "code",
   "execution_count": 10,
   "id": "5b7c25c0-fee9-478d-8b37-bb08783cfbed",
   "metadata": {},
   "outputs": [],
   "source": [
    "png = Image.open(pngfilename)"
   ]
  },
  {
   "cell_type": "code",
   "execution_count": 11,
   "id": "5b5fd525-7678-48cb-af78-5dc5557f6caf",
   "metadata": {},
   "outputs": [],
   "source": [
    "cmyk = png.convert(mode = \"CMYK\")"
   ]
  },
  {
   "cell_type": "code",
   "execution_count": 12,
   "id": "95bd1eb1-a2fe-4f37-b97c-1f35a52a3df3",
   "metadata": {},
   "outputs": [],
   "source": [
    "cmykfilename = pngfilename.replace('.png', '.cmyk.jpeg')"
   ]
  },
  {
   "cell_type": "code",
   "execution_count": 13,
   "id": "cd69b3d8-da6b-4795-9ab6-e42b7ec0d9b5",
   "metadata": {},
   "outputs": [],
   "source": [
    "cmyk.save(cmykfilename, quality = 95)"
   ]
  },
  {
   "cell_type": "code",
   "execution_count": 14,
   "id": "ce4a63cb-7f73-4c8e-8b2b-cb60b88ca39a",
   "metadata": {},
   "outputs": [],
   "source": [
    "c = Image.open(cmykfilename)"
   ]
  },
  {
   "cell_type": "code",
   "execution_count": 15,
   "id": "0704c290-545e-4ebf-800a-e575667c310b",
   "metadata": {},
   "outputs": [
    {
     "data": {
      "text/plain": [
       "'CMYK'"
      ]
     },
     "execution_count": 15,
     "metadata": {},
     "output_type": "execute_result"
    }
   ],
   "source": [
    "c.mode"
   ]
  },
  {
   "cell_type": "code",
   "execution_count": null,
   "id": "544358c9-39b1-49f2-83d8-d33baaff6488",
   "metadata": {},
   "outputs": [],
   "source": []
  }
 ],
 "metadata": {
  "kernelspec": {
   "display_name": "Python 3 (ipykernel)",
   "language": "python",
   "name": "python3"
  },
  "language_info": {
   "codemirror_mode": {
    "name": "ipython",
    "version": 3
   },
   "file_extension": ".py",
   "mimetype": "text/x-python",
   "name": "python",
   "nbconvert_exporter": "python",
   "pygments_lexer": "ipython3",
   "version": "3.11.6"
  }
 },
 "nbformat": 4,
 "nbformat_minor": 5
}
