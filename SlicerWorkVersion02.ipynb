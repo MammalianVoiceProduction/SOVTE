{
 "cells": [
  {
   "cell_type": "markdown",
   "id": "c62c8721-71b2-4188-8d01-2c3e7e97c71d",
   "metadata": {
    "jp-MarkdownHeadingCollapsed": true
   },
   "source": [
    "# Environment Setup"
   ]
  },
  {
   "cell_type": "code",
   "execution_count": 1,
   "id": "6aa03bf4-e65e-491b-b56f-f09e71375fb5",
   "metadata": {},
   "outputs": [
    {
     "name": "stdout",
     "output_type": "stream",
     "text": [
      "Automatic calling is: Full\n"
     ]
    }
   ],
   "source": [
    "%autocall 2"
   ]
  },
  {
   "cell_type": "code",
   "execution_count": 2,
   "id": "3ac1752c-b169-43a8-8a7b-da083a75e4fb",
   "metadata": {},
   "outputs": [
    {
     "name": "stdout",
     "output_type": "stream",
     "text": [
      "Enabling IPython Memory Usage, use %imu_start to begin, %imu_stop to end\n"
     ]
    }
   ],
   "source": [
    "%load_ext ipython_memory_usage"
   ]
  },
  {
   "cell_type": "code",
   "execution_count": 3,
   "id": "67929a5f-b831-41f4-89a7-2d0244491fd5",
   "metadata": {},
   "outputs": [
    {
     "data": {
      "text/plain": [
       "'IPython Memory Usage started'"
      ]
     },
     "execution_count": 3,
     "metadata": {},
     "output_type": "execute_result"
    },
    {
     "name": "stdout",
     "output_type": "stream",
     "text": [
      "In [3] used 0.3 MiB RAM in 0.34s (system mean cpu 0%, single max cpu 0%), peaked 0.0 MiB above final usage, current RAM usage now 839.3 MiB\n"
     ]
    }
   ],
   "source": [
    "%imu_start"
   ]
  },
  {
   "cell_type": "code",
   "execution_count": 4,
   "id": "dbbfb046-e2c4-4db4-a178-5680134e1293",
   "metadata": {},
   "outputs": [
    {
     "name": "stdout",
     "output_type": "stream",
     "text": [
      "In [4] used 0.1 MiB RAM in 0.10s (system mean cpu 0%, single max cpu 0%), peaked 0.0 MiB above final usage, current RAM usage now 839.3 MiB\n"
     ]
    }
   ],
   "source": [
    "import os, sys, time\n",
    "\n",
    "import numpy as np\n",
    "\n",
    "import slicer, vtk\n",
    "\n",
    "import pprint, glob, gc\n",
    "\n",
    "from IPython.display import IFrame, Image, HTML"
   ]
  },
  {
   "cell_type": "code",
   "execution_count": 5,
   "id": "2a7be58c-ca65-4720-9f3f-e25fc49a7ecf",
   "metadata": {},
   "outputs": [
    {
     "name": "stdout",
     "output_type": "stream",
     "text": [
      "In [5] used 2.1 MiB RAM in 0.17s (system mean cpu 0%, single max cpu 0%), peaked 0.0 MiB above final usage, current RAM usage now 841.4 MiB\n"
     ]
    }
   ],
   "source": [
    "import JupyterNotebooksLib as slicernb\n",
    "\n",
    "import slicer"
   ]
  },
  {
   "cell_type": "code",
   "execution_count": null,
   "id": "d0538b27-89e7-4650-b78c-4cdc3f942eaf",
   "metadata": {},
   "outputs": [],
   "source": [
    "# slicer.util.pip_install(\"--trusted-host pypi.org --trusted-host files.pythonhosted.org ipython-memory-usage\")"
   ]
  },
  {
   "attachments": {},
   "cell_type": "raw",
   "id": "88d01231-4d5e-4ce0-98aa-72579c67db44",
   "metadata": {
    "scrolled": true
   },
   "source": [
    "import pydicom\n",
    "\n",
    "dicomfile = pydicom.dcmread(\"C:/Users/m142519/Documents/R01 Projects/Excised Hemilarynx Design/02-19-22 Excised Canine Scan DICOM/22022115/43400001/10697891\", stop_before_pixels = True)\n",
    "\n",
    "[dicomfile[k] for k in dicomfile.keys()]"
   ]
  },
  {
   "cell_type": "code",
   "execution_count": 6,
   "id": "d4e7ce34-87ba-4e5e-b188-37e5ecc91e0e",
   "metadata": {},
   "outputs": [
    {
     "data": {
      "text/plain": [
       "'C:\\\\Users\\\\m142519\\\\Desktop\\\\Jupyter Notebooks'"
      ]
     },
     "execution_count": 6,
     "metadata": {},
     "output_type": "execute_result"
    },
    {
     "name": "stdout",
     "output_type": "stream",
     "text": [
      "In [6] used 0.0 MiB RAM in 0.10s (system mean cpu 0%, single max cpu 0%), peaked 0.0 MiB above final usage, current RAM usage now 841.4 MiB\n"
     ]
    }
   ],
   "source": [
    "pwd"
   ]
  },
  {
   "cell_type": "markdown",
   "id": "41a16495-f12d-4f17-b438-82084acaa3db",
   "metadata": {},
   "source": [
    "# Load CT data"
   ]
  },
  {
   "cell_type": "code",
   "execution_count": null,
   "id": "7094a030-0a8b-4c7f-adb0-bc987f75b5ea",
   "metadata": {},
   "outputs": [],
   "source": [
    "# ls \"C:/Users/m142519/Documents/R01 Projects/Excised Hemilarynx Design/02-19-22 Excised Canine Scan DICOM/22022115/43400001\""
   ]
  },
  {
   "cell_type": "code",
   "execution_count": 7,
   "id": "b9adef65-435c-4198-869f-31442019299b",
   "metadata": {},
   "outputs": [
    {
     "name": "stdout",
     "output_type": "stream",
     "text": [
      " Volume in drive D is Storage\n",
      " Volume Serial Number is C8B3-7E00\n",
      "\n",
      " Directory of D:\\R01 Projects\\Excised Hemilarynx Design\\Slicer Excised Canine 2022-02-19\n",
      "\n",
      "09/19/23  01:56 PM        45,312,129 21 Non contrast -D.nrrd\n",
      "05/03/24  01:14 PM         2,646,115 Cartilage segmentation.seg.nrrd\n",
      "10/31/23  09:17 AM         2,480,588 CT and TALCA posterior larynx.nrrd\n",
      "10/31/23  08:59 AM         1,656,405 CT posterior larynx.nrrd\n",
      "12/13/23  10:15 AM            81,039 Model_7-segmentation.seg.nrrd\n",
      "09/22/23  08:45 AM        47,319,643 PCA 37 Non contrast -D.nrrd\n",
      "09/22/23  08:45 AM        50,765,678 PCA 41 OBL Axial  model  0.6  Hr40  F_0.4.nrrd\n",
      "09/22/23  08:45 AM         1,687,008 PCA posterior larynx.nrrd\n",
      "09/19/23  01:56 PM         2,624,109 Posterior Larynx.nrrd\n",
      "12/13/23  10:15 AM         7,862,721 Registered TA-LCA Posterior Larynx.nrrd\n",
      "09/22/23  08:45 AM         5,663,592 Registration PCA posterior larynx.nrrd\n",
      "09/22/23  08:45 AM         7,862,721 Registration TA-LCA Posterior Larynx.nrrd\n",
      "09/22/23  08:45 AM         7,862,721 Registration TA-LCA Posterior Larynx_Label.nrrd\n",
      "09/22/23  08:45 AM        41,681,356 Relaxed 29 Non contrast -D.nrrd\n",
      "12/13/23  10:15 AM         2,801,592 Relaxed Posterior larynx.nrrd\n",
      "12/13/23  10:15 AM            35,714 Segmentation.seg.nrrd\n",
      "09/22/23  08:45 AM        45,312,129 TA-LCA 21 Non contrast -D.nrrd\n",
      "09/22/23  08:45 AM         2,624,252 TA-LCA Posterior Larynx.nrrd\n",
      "              18 File(s)    276,279,512 bytes\n",
      "               0 Dir(s)  1,116,433,948,672 bytes free\n",
      "In [7] used 0.1 MiB RAM in 0.14s (system mean cpu 0%, single max cpu 0%), peaked 0.0 MiB above final usage, current RAM usage now 841.5 MiB\n"
     ]
    }
   ],
   "source": [
    "ls \"D:\\R01 Projects\\Excised Hemilarynx Design\\Slicer Excised Canine 2022-02-19\\*.nrrd\""
   ]
  },
  {
   "cell_type": "code",
   "execution_count": 8,
   "id": "31e3996c-88cc-43fb-80a0-e826df985bd9",
   "metadata": {},
   "outputs": [
    {
     "name": "stdout",
     "output_type": "stream",
     "text": [
      "In [8] used 9.6 MiB RAM in 0.39s (system mean cpu 12%, single max cpu 71%), peaked 0.0 MiB above final usage, current RAM usage now 851.1 MiB\n"
     ]
    },
    {
     "ename": "<class 'TypeError'>",
     "evalue": "loadModel() missing 1 required positional argument: 'filename'",
     "output_type": "error",
     "traceback": [
      "\u001b[1;31m---------------------------------------------------------------------------\u001b[0m",
      "\u001b[1;31mTypeError\u001b[0m                                 Traceback (most recent call last)",
      "Cell \u001b[1;32mIn[8], line 1\u001b[0m\n\u001b[1;32m----> 1\u001b[0m \u001b[43mslicer\u001b[49m\u001b[38;5;241;43m.\u001b[39;49m\u001b[43mutil\u001b[49m\u001b[38;5;241;43m.\u001b[39;49m\u001b[43mloadModel\u001b[49m\u001b[43m(\u001b[49m\u001b[43m)\u001b[49m\n",
      "\u001b[1;31mTypeError\u001b[0m: loadModel() missing 1 required positional argument: 'filename'"
     ]
    }
   ],
   "source": [
    "# slicer.util.loadModel()"
   ]
  },
  {
   "cell_type": "code",
   "execution_count": null,
   "id": "de7d41d2-a3c8-4d4f-9e20-f20ee6aec5fa",
   "metadata": {},
   "outputs": [],
   "source": [
    "# slicer.util.exportNode(world = True)"
   ]
  },
  {
   "cell_type": "code",
   "execution_count": null,
   "id": "0c1e4c03-e800-4bb5-bd16-65281e6cedf8",
   "metadata": {},
   "outputs": [],
   "source": [
    "# slicer.util.saveNode()"
   ]
  },
  {
   "cell_type": "code",
   "execution_count": 9,
   "id": "ae7f2bda-28f7-4501-9224-3d3bf6ef14bd",
   "metadata": {
    "scrolled": true
   },
   "outputs": [
    {
     "name": "stdout",
     "output_type": "stream",
     "text": [
      "Relaxed Posterior larynx\n",
      "Registered TA-LCA Posterior Larynx\n",
      "vtkMRMLSliceNode (0000029656FCD680)\n",
      "  ID: vtkMRMLSliceNodeRed\n",
      "  ClassName: vtkMRMLSliceNode\n",
      "  Name: Red\n",
      "  Debug: false\n",
      "  MTime: 331639\n",
      "  Description: (none)\n",
      "  SingletonTag: Red\n",
      "  HideFromEditors: false\n",
      "  Selectable: true\n",
      "  Selected: false\n",
      "  UndoEnabled: false\n",
      "  Attributes:\n",
      "    MappedInLayout:1\n",
      "  Node references:\n",
      "    InteractionNodeRef: (none)\n",
      "    ParentLayoutNodeRef: (none)\n",
      "  LayoutLabel: R\n",
      "  ViewGroup: 0\n",
      "  Active: 0\n",
      "  Visibility: 1\n",
      "  BackgroundColor: (0, 0, 0)\n",
      "  BackgroundColor2: (0, 0, 0)\n",
      "  LayoutColor: (0.952941, 0.290196, 0.2)\n",
      "  OrientationMarkerType: axes\n",
      "  OrientationMarkerSize: medium\n",
      "  RulerType: thin\n",
      "  RulerColor: white\n",
      "   AxisLabels: L;R;P;A;I;S\n",
      "  FieldOfView: (97.2523, 61.875, 0.6)\n",
      "  Dimensions: (690, 439, 1)\n",
      "  XYZOrigin: (0, 0, 0)\n",
      "  UVWDimensions: (256, 256, 1)\n",
      "  UVWExtents: (97.2523, 61.875, 0.6)\n",
      "  UVWOrigin: (0, 0, 0)\n",
      "  SliceResolutionMode: 1\n",
      "  Layout grid: 1x1\n",
      "  ActiveSlice: 0\n",
      "  SliceVisible: false\n",
      "  WidgetVisible: false\n",
      "  WidgetOutlineVisible: true\n",
      "  UseLabelOutline: false\n",
      "  Jump mode:   Offset\n",
      "  SliceToRAS:\n",
      "    Debug: Off\n",
      "    Modified Time: 330651\n",
      "    Reference Count: 1\n",
      "    Registered Events: (none)\n",
      "    Elements:\n",
      "        1 0 0 -3.55271e-15 \n",
      "        0 1 0 0 \n",
      "        0 0 1 0.3 \n",
      "        0 0 0 1 \n",
      "  OrientationMatrixAxial: \n",
      "    Debug: Off\n",
      "    Modified Time: 184408\n",
      "    Reference Count: 4\n",
      "    Registered Events: (none)\n",
      "    Elements:\n",
      "    \t1\t0\t0\n",
      "    \t0\t1\t0\n",
      "    \t0\t0\t1\n",
      "  OrientationMatrixSagittal: \n",
      "    Debug: Off\n",
      "    Modified Time: 184409\n",
      "    Reference Count: 4\n",
      "    Registered Events: (none)\n",
      "    Elements:\n",
      "    \t0\t0\t1\n",
      "    \t-1\t0\t0\n",
      "    \t0\t1\t0\n",
      "  OrientationMatrixCoronal: \n",
      "    Debug: Off\n",
      "    Modified Time: 184410\n",
      "    Reference Count: 4\n",
      "    Registered Events: (none)\n",
      "    Elements:\n",
      "    \t1\t0\t0\n",
      "    \t0\t0\t1\n",
      "    \t0\t1\t0\n",
      "  XYToRAS: \n",
      "    Debug: Off\n",
      "    Modified Time: 307392\n",
      "    Reference Count: 1\n",
      "    Registered Events: (none)\n",
      "    Elements:\n",
      "        0.140945 0 0 -48.6261 \n",
      "        0 0.140945 0 -30.9375 \n",
      "        0 0 0.6 0.3 \n",
      "        0 0 0 1 \n",
      "  SliceSpacingMode: Automatic\n",
      "  PrescribedSliceSpacing: (1, 1, 1)\n",
      "  Interacting: off\n",
      "  DefaultOrientation: Axial\n",
      "  SlabReconstructionEnabled: false\n",
      "  SlabReconstructionType: Max\n",
      "  SlabReconstructionThickness: 1\n",
      "  SlabReconstructionOversamplingFactor: 2\n",
      "\n",
      "========================================\n",
      "\n",
      "ResetFieldOfViewFlag:  8\n",
      "FieldOfViewFlag:  2\n",
      "vtkMRMLSliceNode (0000029656FCCD20)\n",
      "  ID: vtkMRMLSliceNodeGreen\n",
      "  ClassName: vtkMRMLSliceNode\n",
      "  Name: Green\n",
      "  Debug: false\n",
      "  MTime: 333529\n",
      "  Description: (none)\n",
      "  SingletonTag: Green\n",
      "  HideFromEditors: false\n",
      "  Selectable: true\n",
      "  Selected: false\n",
      "  UndoEnabled: false\n",
      "  Attributes:\n",
      "    MappedInLayout:1\n",
      "  Node references:\n",
      "    InteractionNodeRef: (none)\n",
      "    ParentLayoutNodeRef: (none)\n",
      "  LayoutLabel: G\n",
      "  ViewGroup: 0\n",
      "  Active: 0\n",
      "  Visibility: 1\n",
      "  BackgroundColor: (0, 0, 0)\n",
      "  BackgroundColor2: (0, 0, 0)\n",
      "  LayoutColor: (0.431373, 0.690196, 0.294118)\n",
      "  OrientationMarkerType: axes\n",
      "  OrientationMarkerSize: medium\n",
      "  RulerType: thin\n",
      "  RulerColor: white\n",
      "   AxisLabels: L;R;P;A;I;S\n",
      "  FieldOfView: (124.483, 79.2, 0.429688)\n",
      "  Dimensions: (690, 439, 1)\n",
      "  XYZOrigin: (0, 0, 0)\n",
      "  UVWDimensions: (256, 256, 1)\n",
      "  UVWExtents: (124.483, 79.2, 0.429688)\n",
      "  UVWOrigin: (0, 0, 0)\n",
      "  SliceResolutionMode: 1\n",
      "  Layout grid: 1x1\n",
      "  ActiveSlice: 0\n",
      "  SliceVisible: false\n",
      "  WidgetVisible: false\n",
      "  WidgetOutlineVisible: true\n",
      "  UseLabelOutline: false\n",
      "  Jump mode:   Offset\n",
      "  SliceToRAS:\n",
      "    Debug: Off\n",
      "    Modified Time: 331022\n",
      "    Reference Count: 1\n",
      "    Registered Events: (none)\n",
      "    Elements:\n",
      "        1 0 0 -3.55271e-15 \n",
      "        0 0 1 0.214844 \n",
      "        0 1 0 -7.10543e-15 \n",
      "        0 0 0 1 \n",
      "  OrientationMatrixAxial: \n",
      "    Debug: Off\n",
      "    Modified Time: 184408\n",
      "    Reference Count: 4\n",
      "    Registered Events: (none)\n",
      "    Elements:\n",
      "    \t1\t0\t0\n",
      "    \t0\t1\t0\n",
      "    \t0\t0\t1\n",
      "  OrientationMatrixSagittal: \n",
      "    Debug: Off\n",
      "    Modified Time: 184409\n",
      "    Reference Count: 4\n",
      "    Registered Events: (none)\n",
      "    Elements:\n",
      "    \t0\t0\t1\n",
      "    \t-1\t0\t0\n",
      "    \t0\t1\t0\n",
      "  OrientationMatrixCoronal: \n",
      "    Debug: Off\n",
      "    Modified Time: 184410\n",
      "    Reference Count: 4\n",
      "    Registered Events: (none)\n",
      "    Elements:\n",
      "    \t1\t0\t0\n",
      "    \t0\t0\t1\n",
      "    \t0\t1\t0\n",
      "  XYToRAS: \n",
      "    Debug: Off\n",
      "    Modified Time: 310583\n",
      "    Reference Count: 1\n",
      "    Registered Events: (none)\n",
      "    Elements:\n",
      "        0.18041 0 0 -62.2415 \n",
      "        0 0 0.429688 0.214844 \n",
      "        0 0.18041 0 -39.6 \n",
      "        0 0 0 1 \n",
      "  SliceSpacingMode: Automatic\n",
      "  PrescribedSliceSpacing: (1, 1, 1)\n",
      "  Interacting: off\n",
      "  DefaultOrientation: Coronal\n",
      "  SlabReconstructionEnabled: false\n",
      "  SlabReconstructionType: Max\n",
      "  SlabReconstructionThickness: 1\n",
      "  SlabReconstructionOversamplingFactor: 2\n",
      "\n",
      "========================================\n",
      "\n",
      "ResetFieldOfViewFlag:  8\n",
      "FieldOfViewFlag:  2\n",
      "vtkMRMLSliceNode (0000029656FC9E40)\n",
      "  ID: vtkMRMLSliceNodeYellow\n",
      "  ClassName: vtkMRMLSliceNode\n",
      "  Name: Yellow\n",
      "  Debug: false\n",
      "  MTime: 348699\n",
      "  Description: (none)\n",
      "  SingletonTag: Yellow\n",
      "  HideFromEditors: false\n",
      "  Selectable: true\n",
      "  Selected: false\n",
      "  UndoEnabled: false\n",
      "  Attributes:\n",
      "    MappedInLayout:1\n",
      "  Node references:\n",
      "    InteractionNodeRef: (none)\n",
      "    ParentLayoutNodeRef: (none)\n",
      "  LayoutLabel: Y\n",
      "  ViewGroup: 0\n",
      "  Active: 0\n",
      "  Visibility: 1\n",
      "  BackgroundColor: (0, 0, 0)\n",
      "  BackgroundColor2: (0, 0, 0)\n",
      "  LayoutColor: (0.929412, 0.835294, 0.298039)\n",
      "  OrientationMarkerType: axes\n",
      "  OrientationMarkerSize: medium\n",
      "  RulerType: thin\n",
      "  RulerColor: white\n",
      "   AxisLabels: L;R;P;A;I;S\n",
      "  FieldOfView: (124.303, 79.2, 0.429688)\n",
      "  Dimensions: (689, 439, 1)\n",
      "  XYZOrigin: (0, 0, 0)\n",
      "  UVWDimensions: (256, 256, 1)\n",
      "  UVWExtents: (124.303, 79.2, 0.429688)\n",
      "  UVWOrigin: (0, 0, 0)\n",
      "  SliceResolutionMode: 1\n",
      "  Layout grid: 1x1\n",
      "  ActiveSlice: 0\n",
      "  SliceVisible: false\n",
      "  WidgetVisible: false\n",
      "  WidgetOutlineVisible: true\n",
      "  UseLabelOutline: false\n",
      "  Jump mode:   Offset\n",
      "  SliceToRAS:\n",
      "    Debug: Off\n",
      "    Modified Time: 331316\n",
      "    Reference Count: 1\n",
      "    Registered Events: (none)\n",
      "    Elements:\n",
      "        0 0 1 -3.55271e-15 \n",
      "        -1 0 0 0 \n",
      "        0 1 0 -7.10543e-15 \n",
      "        0 0 0 1 \n",
      "  OrientationMatrixAxial: \n",
      "    Debug: Off\n",
      "    Modified Time: 184408\n",
      "    Reference Count: 4\n",
      "    Registered Events: (none)\n",
      "    Elements:\n",
      "    \t1\t0\t0\n",
      "    \t0\t1\t0\n",
      "    \t0\t0\t1\n",
      "  OrientationMatrixSagittal: \n",
      "    Debug: Off\n",
      "    Modified Time: 184409\n",
      "    Reference Count: 4\n",
      "    Registered Events: (none)\n",
      "    Elements:\n",
      "    \t0\t0\t1\n",
      "    \t-1\t0\t0\n",
      "    \t0\t1\t0\n",
      "  OrientationMatrixCoronal: \n",
      "    Debug: Off\n",
      "    Modified Time: 184410\n",
      "    Reference Count: 4\n",
      "    Registered Events: (none)\n",
      "    Elements:\n",
      "    \t1\t0\t0\n",
      "    \t0\t0\t1\n",
      "    \t0\t1\t0\n",
      "  XYToRAS: \n",
      "    Debug: Off\n",
      "    Modified Time: 312822\n",
      "    Reference Count: 1\n",
      "    Registered Events: (none)\n",
      "    Elements:\n",
      "        0 0 0.429688 0 \n",
      "        -0.18041 0 0 62.1513 \n",
      "        0 0.18041 0 -39.6 \n",
      "        0 0 0 1 \n",
      "  SliceSpacingMode: Automatic\n",
      "  PrescribedSliceSpacing: (1, 1, 1)\n",
      "  Interacting: off\n",
      "  DefaultOrientation: Sagittal\n",
      "  SlabReconstructionEnabled: false\n",
      "  SlabReconstructionType: Max\n",
      "  SlabReconstructionThickness: 1\n",
      "  SlabReconstructionOversamplingFactor: 2\n",
      "\n",
      "========================================\n",
      "\n",
      "ResetFieldOfViewFlag:  8\n",
      "FieldOfViewFlag:  2\n",
      "In [9] used 32.3 MiB RAM in 0.47s (system mean cpu 8%, single max cpu 46%), peaked 0.0 MiB above final usage, current RAM usage now 883.5 MiB\n"
     ]
    }
   ],
   "source": [
    "relaxedvolumenode = slicer.util.loadVolume(\"D:\\R01 Projects\\Excised Hemilarynx Design\\Slicer Excised Canine 2022-02-19\\Relaxed Posterior larynx.nrrd\")\n",
    "\n",
    "registeredTALCAvolumenode = slicer.util.loadVolume(\"D:\\R01 Projects\\Excised Hemilarynx Design\\Slicer Excised Canine 2022-02-19\\Registered TA-LCA Posterior Larynx.nrrd\")\n",
    "\n",
    "if 0:\n",
    "    TALCAvolumenode = slicer.util.loadVolume(\"D:\\R01 Projects\\Excised Hemilarynx Design\\Slicer Excised Canine 2022-02-19\\TA-LCA Posterior Larynx.nrrd\")\n",
    "    CTvolumenode = slicer.util.loadVolume(\"D:\\R01 Projects\\Excised Hemilarynx Design\\Slicer Excised Canine 2022-02-19\\CT posterior larynx.nrrd\")\n",
    "    CTTALCAvolumenode = slicer.util.loadVolume(\"D:\\R01 Projects\\Excised Hemilarynx Design\\Slicer Excised Canine 2022-02-19\\CT and TALCA posterior larynx.nrrd\")\n",
    "    PCAvolumenode = slicer.util.loadVolume(\"D:\\R01 Projects\\Excised Hemilarynx Design\\Slicer Excised Canine 2022-02-19\\PCA posterior larynx.nrrd\")\n",
    "\n",
    "slicer.util.selectModule('Data')\n",
    "\n",
    "volumenodes = slicer.mrmlScene.GetNodesByClass('vtkMRMLScalarVolumeNode')\n",
    "\n",
    "for vn in volumenodes:\n",
    "    print(vn.GetName())\n",
    "\n",
    "    dn = vn.GetDisplayNode()\n",
    "    dn.AutoWindowLevelOff()\n",
    "    dn.AutoThresholdOff()\n",
    "    dn.ApplyThresholdOn()\n",
    "\n",
    "    if vn == relaxedvolumenode:\n",
    "        dn.SetWindowLevelMinMax(20, 144)\n",
    "        dn.SetThreshold(-34, 800)\n",
    "    if vn == registeredTALCAvolumenode:\n",
    "        dn.SetWindowLevelMinMax(20, 144)\n",
    "        dn.SetThreshold(1, 800)        \n",
    "\n",
    "magnificationfactor = 1\n",
    "\n",
    "for slice in slicer.mrmlScene.GetNodesByClass('vtkMRMLSliceNode'):\n",
    "    if slice.GetName() not in ['Red', 'Green', 'Yellow']:\n",
    "        continue\n",
    "    \n",
    "    print(slice, end = '=' * 40 + '\\n\\n')\n",
    "\n",
    "    xfov, yfov, zfov = slice.GetFieldOfView()\n",
    "\n",
    "    slice.SetFieldOfView(xfov / magnificationfactor, yfov / magnificationfactor, zfov)\n",
    "\n",
    "    print('ResetFieldOfViewFlag: ', slice.ResetFieldOfViewFlag)\n",
    "    print('FieldOfViewFlag: ', slice.FieldOfViewFlag)"
   ]
  },
  {
   "cell_type": "code",
   "execution_count": 10,
   "id": "73faf043-5537-4e7b-93a0-877287c4fde9",
   "metadata": {
    "scrolled": true
   },
   "outputs": [
    {
     "name": "stdout",
     "output_type": "stream",
     "text": [
      "vtkImageData (000002965CD3ACB0)\n",
      "  Debug: Off\n",
      "  Modified Time: 323971\n",
      "  Reference Count: 17\n",
      "  Registered Events: \n",
      "    Registered Observers:\n",
      "      vtkObserver (000002966EF81D50)\n",
      "        Event: 33\n",
      "        EventName: ModifiedEvent\n",
      "        Command: 000002966EB3C860\n",
      "        Priority: 0\n",
      "        Tag: 1\n",
      "  Information: 000002966F1294C0\n",
      "  Data Released: False\n",
      "  Global Release Data: Off\n",
      "  UpdateTime: 370015\n",
      "  Field Data:\n",
      "    Debug: Off\n",
      "    Modified Time: 323924\n",
      "    Reference Count: 1\n",
      "    Registered Events: (none)\n",
      "    Number Of Arrays: 0\n",
      "    Number Of Components: 0\n",
      "    Number Of Tuples: 0\n",
      "  Number Of Points: 2642112\n",
      "  Number Of Cells: 2585154\n",
      "  Cell Data:\n",
      "    Debug: Off\n",
      "    Modified Time: 323966\n",
      "    Reference Count: 1\n",
      "    Registered Events: \n",
      "      Registered Observers:\n",
      "        vtkObserver (000002966EF82710)\n",
      "          Event: 33\n",
      "          EventName: ModifiedEvent\n",
      "          Command: 000002966E8AC120\n",
      "          Priority: 0\n",
      "          Tag: 1\n",
      "    Number Of Arrays: 0\n",
      "    Number Of Components: 0\n",
      "    Number Of Tuples: 0\n",
      "    Copy Tuple Flags: ( 1 1 1 1 1 0 1 1 1 1 1 1 )\n",
      "    Interpolate Flags: ( 1 1 1 1 1 0 0 1 1 1 1 0 )\n",
      "    Pass Through Flags: ( 1 1 1 1 1 1 1 1 1 1 1 1 )\n",
      "    Scalars: (none)\n",
      "    Vectors: (none)\n",
      "    Normals: (none)\n",
      "    TCoords: (none)\n",
      "    Tensors: (none)\n",
      "    GlobalIds: (none)\n",
      "    PedigreeIds: (none)\n",
      "    EdgeFlag: (none)\n",
      "    Tangents: (none)\n",
      "    RationalWeights: (none)\n",
      "    HigherOrderDegrees: (none)\n",
      "    ProcessIds: (none)\n",
      "  Point Data:\n",
      "    Debug: Off\n",
      "    Modified Time: 323970\n",
      "    Reference Count: 1\n",
      "    Registered Events: \n",
      "      Registered Observers:\n",
      "        vtkObserver (000002966EF822C0)\n",
      "          Event: 33\n",
      "          EventName: ModifiedEvent\n",
      "          Command: 000002966E8AC120\n",
      "          Priority: 0\n",
      "          Tag: 1\n",
      "    Number Of Arrays: 1\n",
      "    Array 0 name = ImageScalars\n",
      "    Number Of Components: 1\n",
      "    Number Of Tuples: 2642112\n",
      "    Copy Tuple Flags: ( 1 1 1 1 1 0 1 1 1 1 1 1 )\n",
      "    Interpolate Flags: ( 1 1 1 1 1 0 0 1 1 1 1 0 )\n",
      "    Pass Through Flags: ( 1 1 1 1 1 1 1 1 1 1 1 1 )\n",
      "    Scalars: \n",
      "      Debug: Off\n",
      "      Modified Time: 323680\n",
      "      Reference Count: 1\n",
      "      Registered Events: (none)\n",
      "      Name: ImageScalars\n",
      "      Data type: float\n",
      "      Size: 2642112\n",
      "      MaxId: 2642111\n",
      "      NumberOfComponents: 1\n",
      "      Information: 000002966F12A5D0\n",
      "        Debug: Off\n",
      "        Modified Time: 324337\n",
      "        Reference Count: 1\n",
      "        Registered Events: (none)\n",
      "        PER_COMPONENT: vtkInformationVector(000002966F12B0C0)\n",
      "      Name: ImageScalars\n",
      "      Number Of Components: 1\n",
      "      Number Of Tuples: 2642112\n",
      "      Size: 2642112\n",
      "      MaxId: 2642111\n",
      "      LookupTable: (none)\n",
      "    Vectors: (none)\n",
      "    Normals: (none)\n",
      "    TCoords: (none)\n",
      "    Tensors: (none)\n",
      "    GlobalIds: (none)\n",
      "    PedigreeIds: (none)\n",
      "    EdgeFlag: (none)\n",
      "    Tangents: (none)\n",
      "    RationalWeights: (none)\n",
      "    HigherOrderDegrees: (none)\n",
      "    ProcessIds: (none)\n",
      "  Bounds: \n",
      "    Xmin,Xmax: (0, 143)\n",
      "    Ymin,Ymax: (0, 138)\n",
      "    Zmin,Zmax: (0, 131)\n",
      "  Compute Time: 2162589\n",
      "  Spacing: (1, 1, 1)\n",
      "  Origin: (0, 0, 0)\n",
      "  Direction: (1, 0, 0, 0, 1, 0, 0, 0, 1)\n",
      "  Dimensions: (144, 139, 132)\n",
      "  Increments: (0, 0, 0)\n",
      "  Extent: (0, 143, 0, 138, 0, 131)\n",
      "\n",
      "\n",
      "In [10] used 13.4 MiB RAM in 0.11s (system mean cpu 0%, single max cpu 0%), peaked 0.0 MiB above final usage, current RAM usage now 896.8 MiB\n"
     ]
    }
   ],
   "source": [
    "print(registeredTALCAvolumenode.GetImageData())"
   ]
  },
  {
   "cell_type": "code",
   "execution_count": 16,
   "id": "a2842ffe-5e1c-4e06-b3fb-30f679f1266a",
   "metadata": {},
   "outputs": [
    {
     "name": "stdout",
     "output_type": "stream",
     "text": [
      "In [16] used 0.0 MiB RAM in 0.10s (system mean cpu 0%, single max cpu 0%), peaked 0.0 MiB above final usage, current RAM usage now 905.6 MiB\n"
     ]
    }
   ],
   "source": [
    "vdn = registeredTALCAvolumenode.GetVolumeDisplayNode()"
   ]
  },
  {
   "cell_type": "code",
   "execution_count": null,
   "id": "35e802ae-a8e4-4acf-937c-c5b40ed90eb1",
   "metadata": {},
   "outputs": [],
   "source": [
    "# uncheck: Reset field of view on show\n",
    "# uncheck: Reset view orientation on show"
   ]
  },
  {
   "cell_type": "code",
   "execution_count": 11,
   "id": "34540b0c-57f5-4ba9-ae7f-3235f2a5c463",
   "metadata": {},
   "outputs": [
    {
     "name": "stdout",
     "output_type": "stream",
     "text": [
      "Relaxed Posterior larynx\n",
      "Registered TA-LCA Posterior Larynx\n",
      "In [11] used -5.7 MiB RAM in 0.10s (system mean cpu 0%, single max cpu 0%), peaked 0.0 MiB above final usage, current RAM usage now 891.1 MiB\n"
     ]
    }
   ],
   "source": [
    "for vn in volumenodes:\n",
    "    print(vn.GetName())"
   ]
  },
  {
   "cell_type": "code",
   "execution_count": 17,
   "id": "083cf143-5412-48e4-ab50-511fe9c6668b",
   "metadata": {},
   "outputs": [
    {
     "data": {
      "text/plain": [
       "14"
      ]
     },
     "execution_count": 17,
     "metadata": {},
     "output_type": "execute_result"
    },
    {
     "name": "stdout",
     "output_type": "stream",
     "text": [
      "In [17] used -0.0 MiB RAM in 0.10s (system mean cpu 0%, single max cpu 0%), peaked 0.0 MiB above final usage, current RAM usage now 905.6 MiB\n"
     ]
    }
   ],
   "source": [
    "# Create model nodes add to scene, and enable slice intersection display\n",
    "modelsLogic = slicer.modules.models.logic()\n",
    "\n",
    "shNode = slicer.mrmlScene.GetSubjectHierarchyNode()\n",
    "\n",
    "sceneItemID = shNode.GetSceneItemID()\n",
    "\n",
    "AnteriorFolder = shNode.CreateFolderItem(sceneItemID, 'Anterior')\n",
    "shNode.GetItemChildWithName(sceneItemID, 'Anterior')\n",
    "\n",
    "PosteriorFolder = shNode.CreateFolderItem(sceneItemID, 'Posterior')\n",
    "shNode.GetItemChildWithName(sceneItemID, 'Posterior')\n",
    "\n",
    "# Set item parent (reparent)\n",
    "# shNode.SetItemParent(itemID, newParentItemID)"
   ]
  },
  {
   "cell_type": "raw",
   "id": "a8aad48b-eee1-437c-b511-83d76fa4b917",
   "metadata": {
    "jupyter": {
     "source_hidden": true
    }
   },
   "source": [
    "\n",
    "# If it is for a data node, it is automatically created, but the create function can be used to set parent:\n",
    "shNode.CreateItem(parentItemID, dataNode)\n",
    "\n",
    "# If it is a hierarchy item without a data node, then the create function must be used:\n",
    "shNode.CreateSubjectItem(parentItemID, name)\n",
    "\n",
    "shNode.CreateFolderItem(parentItemID, name)\n",
    "\n",
    "shNode.CreateHierarchyItem(parentItemID, name, level) # Advanced method to set level attribute manually (usually subject, study, or folder, but it can be a virtual branch for example)\n",
    "\n",
    "\n",
    "# Get scene item ID first because it is the root item:\n",
    "sceneItemID = shNode.GetSceneItemID()\n",
    "\n",
    "# Get direct child by name\n",
    "subjectItemID = shNode.GetItemChildWithName(sceneItemID, \"Subject_1\")\n",
    "\n",
    "# Get item for data node\n",
    "itemID = shNode.GetItemByDataNode(dataNode)\n",
    "\n",
    "# Get item by UID (such as DICOM)\n",
    "itemID = shNode.GetItemByUID(slicer.vtkMRMLSubjectHierarchyConstants.GetDICOMUIDName(), seriesInstanceUid)\n",
    "\n",
    "itemID = shNode.GetItemByUIDList(slicer.vtkMRMLSubjectHierarchyConstants.GetDICOMInstanceUIDName(), instanceUID)\n",
    "\n",
    "# Invalid item ID for checking validity of a given ID (most functions return the invalid ID when item is not found)\n",
    "invalidItemID = slicer.vtkMRMLSubjectHierarchyNode.GetInvalidItemID()"
   ]
  },
  {
   "cell_type": "markdown",
   "id": "8bbaa300-3481-4a9c-b1b8-f947860cc5dd",
   "metadata": {},
   "source": [
    "# Load cartilage segmentation"
   ]
  },
  {
   "cell_type": "code",
   "execution_count": 18,
   "id": "76f1a07f-f593-4168-b673-fcbc07b390fd",
   "metadata": {},
   "outputs": [
    {
     "data": {
      "text/plain": [
       "<MRMLCorePython.vtkMRMLSegmentationNode(0x000002965CD259A0) at 0x000002967A561340>"
      ]
     },
     "execution_count": 18,
     "metadata": {},
     "output_type": "execute_result"
    },
    {
     "name": "stdout",
     "output_type": "stream",
     "text": [
      "In [18] used 43.1 MiB RAM in 0.49s (system mean cpu 0%, single max cpu 0%), peaked 0.0 MiB above final usage, current RAM usage now 948.6 MiB\n"
     ]
    }
   ],
   "source": [
    "slicer.util.loadSegmentation(\"D:\\R01 Projects\\Excised Hemilarynx Design\\Slicer Excised Canine 2022-02-19\\Cartilage segmentation.seg.nrrd\")"
   ]
  },
  {
   "cell_type": "code",
   "execution_count": 47,
   "id": "03a3e64a-d41d-45c0-baac-7c96438fefe7",
   "metadata": {},
   "outputs": [
    {
     "name": "stdout",
     "output_type": "stream",
     "text": [
      "In [47] used 0.0 MiB RAM in 0.11s (system mean cpu 0%, single max cpu 0%), peaked 0.0 MiB above final usage, current RAM usage now 1265.9 MiB\n"
     ]
    }
   ],
   "source": [
    "slicer.util.selectModule('SegmentEditor')"
   ]
  },
  {
   "cell_type": "code",
   "execution_count": 48,
   "id": "00553da3-44c0-445b-a851-2a6ae11d7145",
   "metadata": {},
   "outputs": [
    {
     "name": "stdout",
     "output_type": "stream",
     "text": [
      "In [48] used 1.9 MiB RAM in 0.10s (system mean cpu 0%, single max cpu 0%), peaked 0.0 MiB above final usage, current RAM usage now 1267.8 MiB\n"
     ]
    }
   ],
   "source": [
    "segmentEditorNode = slicer.mrmlScene.GetNodesByClass('vtkMRMLSegmentEditorNode').GetItemAsObject(0)\n",
    "# print(segmentEditorNode)\n",
    "\n",
    "segmentEditorNode.SetOverwriteMode(segmentEditorNode.OverwriteNone) # Modify other segment: Allow overlap"
   ]
  },
  {
   "cell_type": "code",
   "execution_count": 49,
   "id": "d58f576a-3670-4a15-95d4-96bd08d3c1b1",
   "metadata": {},
   "outputs": [
    {
     "name": "stdout",
     "output_type": "stream",
     "text": [
      "In [49] used 0.0 MiB RAM in 0.10s (system mean cpu 0%, single max cpu 0%), peaked 0.0 MiB above final usage, current RAM usage now 1267.8 MiB\n"
     ]
    }
   ],
   "source": [
    "segmentationNode = slicer.mrmlScene.GetNodesByClass('vtkMRMLSegmentationNode').GetItemAsObject(0)\n",
    "# print(segmentationNode)\n",
    "\n",
    "segmentationNode.SetReferenceImageGeometryParameterFromVolumeNode(relaxedvolumenode)\n",
    "\n",
    "segmentationNode.SetName('Cartilage segmentation')"
   ]
  },
  {
   "cell_type": "code",
   "execution_count": 50,
   "id": "c15bab94-e3d3-4482-b3f1-fc2a03621826",
   "metadata": {},
   "outputs": [
    {
     "name": "stdout",
     "output_type": "stream",
     "text": [
      "In [50] used -2.7 MiB RAM in 0.97s (system mean cpu 11%, single max cpu 100%), peaked 0.0 MiB above final usage, current RAM usage now 1265.1 MiB\n"
     ]
    }
   ],
   "source": [
    "# Create segment editor to get access to effects\n",
    "segmentEditorWidget = slicer.qMRMLSegmentEditorWidget()\n",
    "\n",
    "segmentEditorWidget.setMRMLScene(slicer.mrmlScene)\n",
    "\n",
    "segmentEditorWidget.setMRMLSegmentEditorNode(segmentEditorNode)\n",
    "\n",
    "segmentEditorWidget.setSegmentationNode(segmentationNode)\n",
    "\n",
    "# create fixture based on relaxed volume\n",
    "# Problem with LCA suture: We used DOWELS that pushed against the thyroid when the suture was attached\n",
    "# to the muscular process. This is WRONG\n",
    "segmentEditorWidget.setMasterVolumeNode(relaxedvolumenode)\n",
    "# segmentEditorWidget.setMasterVolumeNode(registeredTALCAvolumenode)"
   ]
  },
  {
   "cell_type": "code",
   "execution_count": 63,
   "id": "fbebe795-d8e7-4170-9cc8-c97b2e245260",
   "metadata": {},
   "outputs": [
    {
     "name": "stdout",
     "output_type": "stream",
     "text": [
      "In [63] used 11.6 MiB RAM in 0.10s (system mean cpu 0%, single max cpu 0%), peaked 0.0 MiB above final usage, current RAM usage now 1277.9 MiB\n"
     ]
    }
   ],
   "source": [
    "segmentation = segmentationNode.GetSegmentation()"
   ]
  },
  {
   "cell_type": "code",
   "execution_count": 91,
   "id": "5b8d80cd-7772-4e1f-ae9b-8c91c508623b",
   "metadata": {},
   "outputs": [
    {
     "name": "stdout",
     "output_type": "stream",
     "text": [
      "Segment ID:  thyroid\n",
      "Segment name:  cricoid\n",
      "Segment ID:  thyroid_2\n",
      "Segment name:  thyroid\n",
      "In [91] used 0.1 MiB RAM in 0.10s (system mean cpu 0%, single max cpu 0%), peaked 0.0 MiB above final usage, current RAM usage now 1272.3 MiB\n"
     ]
    }
   ],
   "source": [
    "for nseg in range(segmentation.GetNumberOfSegments()):\n",
    "    print('Segment ID: ', segmentation.GetNthSegmentID(nseg))\n",
    "    print('Segment name: ', segmentation.GetNthSegment(nseg).GetName())"
   ]
  },
  {
   "cell_type": "code",
   "execution_count": null,
   "id": "60c7116e-43aa-4956-ad6e-299d1e18755e",
   "metadata": {
    "scrolled": true
   },
   "outputs": [],
   "source": [
    "if not segmentation.GetSegment(segmentation.GetSegmentIdBySegmentName('cricoid')):\n",
    "    segmentation.AddEmptySegment(\"cricoid\")"
   ]
  },
  {
   "cell_type": "code",
   "execution_count": 92,
   "id": "b794bc20-ce51-4df8-abc7-df2815b59fd3",
   "metadata": {},
   "outputs": [
    {
     "data": {
      "text/plain": [
       "'thyroid'"
      ]
     },
     "execution_count": 92,
     "metadata": {},
     "output_type": "execute_result"
    },
    {
     "name": "stdout",
     "output_type": "stream",
     "text": [
      "In [92] used 0.0 MiB RAM in 0.10s (system mean cpu 0%, single max cpu 0%), peaked 0.0 MiB above final usage, current RAM usage now 1272.3 MiB\n"
     ]
    }
   ],
   "source": [
    "segmentation.GetSegmentIdBySegmentName('cricoid')"
   ]
  },
  {
   "cell_type": "code",
   "execution_count": 96,
   "id": "f80e5fe0-de49-49dc-9ee5-693cfdcb838c",
   "metadata": {
    "scrolled": true
   },
   "outputs": [
    {
     "name": "stdout",
     "output_type": "stream",
     "text": [
      "vtkSegment (000002965DE90400)\n",
      "  Name: cricoid\n",
      "  Color: (0.501961, 0.682353, 0.501961)\n",
      "  NameAutoGenerated: false\n",
      "  ColorAutoGenerated: true\n",
      "  Debug: Off\n",
      "  Modified Time: 68680172\n",
      "  Representations:\n",
      "    Binary labelmap:\n",
      "      ClassName: vtkOrientedImageData\n",
      "      Origin: -29.6484 30.7227 -39.3\n",
      "      Spacing: 0.429688 0.429688 0.6\n",
      "      Extent: 5 115 19 128 46 118\n",
      "      Scalar type: unsigned char\n",
      "      Number of components: 1\n",
      "      IJKToRASDirections:\n",
      "        0 1 0 \n",
      "        -1 0 0 \n",
      "        0 0 1 \n",
      "    Closed surface:\n",
      "      ClassName: vtkPolyData\n",
      "      Number of points: 20764\n",
      "      Number of cells: 41544\n",
      "  Tags:\n",
      "      Segmentation.Status: inprogress\n",
      "      TerminologyEntry: Segmentation category and type - 3D Slicer General Anatomy list~SCT^85756007^Tissue~SCT^85756007^Tissue~^^~Anatomic codes - DICOM master list~^^~^^\n",
      "\n",
      "\n",
      "In [96] used 0.0 MiB RAM in 0.10s (system mean cpu 0%, single max cpu 0%), peaked 0.0 MiB above final usage, current RAM usage now 1277.3 MiB\n"
     ]
    }
   ],
   "source": [
    "cricoidsegment = segmentation.GetSegment(segmentation.GetSegmentIdBySegmentName('cricoid'))\n",
    "\n",
    "print(cricoidsegment)\n",
    "\n",
    "segmentEditorNode.SetSelectedSegmentID(segmentation.GetSegmentIdBySegmentName('cricoid'))"
   ]
  },
  {
   "cell_type": "code",
   "execution_count": 97,
   "id": "865b8382-433b-4065-967a-f80e8f32aafa",
   "metadata": {},
   "outputs": [
    {
     "data": {
      "text/plain": [
       "'thyroid_2'"
      ]
     },
     "execution_count": 97,
     "metadata": {},
     "output_type": "execute_result"
    },
    {
     "name": "stdout",
     "output_type": "stream",
     "text": [
      "In [97] used 0.0 MiB RAM in 0.10s (system mean cpu 0%, single max cpu 0%), peaked 0.0 MiB above final usage, current RAM usage now 1277.3 MiB\n"
     ]
    }
   ],
   "source": [
    "segmentation.GetSegmentIdBySegmentName('thyroid')"
   ]
  },
  {
   "cell_type": "code",
   "execution_count": null,
   "id": "cde46fa0-30cd-41c8-9bc0-a0b17c07d924",
   "metadata": {},
   "outputs": [],
   "source": [
    "thyroidsegment = segmentation.GetSegment(segmentation.GetSegmentIdBySegmentName('thyroid'))\n",
    "\n",
    "print(thyroidsegment)"
   ]
  },
  {
   "cell_type": "code",
   "execution_count": null,
   "id": "ac551c8c-bb77-45e2-8885-83778fc80090",
   "metadata": {},
   "outputs": [],
   "source": [
    "pwd"
   ]
  },
  {
   "cell_type": "code",
   "execution_count": null,
   "id": "3b0df5b3-820d-47bd-9e4f-1789b6a3ef41",
   "metadata": {},
   "outputs": [],
   "source": [
    "_ = segmentationNode.GetStorageNode()"
   ]
  },
  {
   "cell_type": "code",
   "execution_count": null,
   "id": "9eeccea7-dc73-4cad-aff6-bc8e113256fb",
   "metadata": {
    "scrolled": true
   },
   "outputs": [],
   "source": [
    "print(_)"
   ]
  },
  {
   "cell_type": "code",
   "execution_count": null,
   "id": "2a3aadf1-a7d1-4f02-972d-7bfd548ab1d6",
   "metadata": {},
   "outputs": [],
   "source": [
    "_.GetFileName()"
   ]
  },
  {
   "cell_type": "code",
   "execution_count": 20,
   "id": "2a24aab9-a2f5-4c50-943c-f91b69d33673",
   "metadata": {},
   "outputs": [
    {
     "data": {
      "text/plain": [
       "61852"
      ]
     },
     "execution_count": 20,
     "metadata": {},
     "output_type": "execute_result"
    },
    {
     "name": "stdout",
     "output_type": "stream",
     "text": [
      "In [20] used 2.2 MiB RAM in 0.20s (system mean cpu 0%, single max cpu 0%), peaked 0.0 MiB above final usage, current RAM usage now 962.5 MiB\n"
     ]
    }
   ],
   "source": [
    "gc.collect()"
   ]
  },
  {
   "cell_type": "code",
   "execution_count": null,
   "id": "36c11692-d861-43a3-ad6d-6e681a1e846b",
   "metadata": {},
   "outputs": [],
   "source": [
    "slicer.util.exportNode(segmentationNode, \"Cartilage segmentation.seg.nrrd\", world = True)"
   ]
  },
  {
   "cell_type": "code",
   "execution_count": null,
   "id": "cd8a3d0a-da90-41f6-9315-4612c75fb97e",
   "metadata": {},
   "outputs": [],
   "source": [
    "# Local Threshold\n",
    "\n",
    "segmentEditorNode.SetActiveEffectName(\"Local Threshold\")\n",
    "print(segmentEditorNode.GetActiveEffectName())\n",
    "\n",
    "localthreshold = segmentEditorWidget.activeEffect()\n",
    "\n",
    "print(\n",
    "localthreshold.parameter(\"MinimumThreshold\"),\n",
    "\n",
    "localthreshold.parameter(\"MaximumThreshold\"),\n",
    "\n",
    "localthreshold.parameter('MinimumDiameterMm'),\n",
    "\n",
    "localthreshold.parameter('SegmentationAlgorithm'), # GrowCut, WaterShed\n",
    "\n",
    "localthreshold.parameter('FeatureSizeMm')\n",
    ")"
   ]
  },
  {
   "cell_type": "code",
   "execution_count": null,
   "id": "c6118cfb-3a7e-4fb0-879d-5da16f8b5617",
   "metadata": {},
   "outputs": [],
   "source": [
    "localthreshold.pythonSource()"
   ]
  },
  {
   "cell_type": "code",
   "execution_count": null,
   "id": "81ab465d-b84e-4b68-bebb-835ecdfd2bc9",
   "metadata": {},
   "outputs": [],
   "source": [
    "localthreshold.setParameter(\"MinimumThreshold\", \"120\")\n",
    "\n",
    "localthreshold.setParameter('MinimumDiameterMm', '0.5')\n",
    "\n",
    "localthreshold.setParameter('SegmentationAlgorithm', 'WaterShed')\n",
    "localthreshold.setParameter('FeatureSizeMm', '1.0')"
   ]
  },
  {
   "cell_type": "code",
   "execution_count": null,
   "id": "e045a277-3e1b-4076-8101-fb372892d69c",
   "metadata": {},
   "outputs": [],
   "source": [
    "localthreshold.self().onApply()"
   ]
  },
  {
   "cell_type": "markdown",
   "id": "16489e8f-ca01-46ab-9e88-744724d247d8",
   "metadata": {},
   "source": [
    "# Model thyroid as thin shell made as ruled surface model from two ruled surface, inner and outer surface of thyroid"
   ]
  },
  {
   "cell_type": "code",
   "execution_count": null,
   "id": "72997c49-f922-4887-9261-9fdf2621badc",
   "metadata": {},
   "outputs": [],
   "source": [
    "n = slicer.mrmlScene.GetFirstNodeByName('Inner right thyroid margin')\n",
    "slicer.mrmlScene.RemoveNode(n)\n",
    "\n",
    "shapemarkup = slicer.vtkMRMLMarkupsShapeNode()\n",
    "shapemarkup.CreateDefaultDisplayNodes()\n",
    "\n",
    "shapemarkup.SetName('Inner right thyroid margin')\n",
    "\n",
    "shapemarkup.SetShapeName(shapemarkup.Arc)\n",
    "shapemarkup.SetRadiusMode(shapemarkup.Circumferential)\n",
    "\n",
    "shapemarkup.SetResolution(100)\n",
    "\n",
    "shapemarkup.SetDisplayVisibility(True)\n",
    "\n",
    "shapemarkup.SetDrawMode2D(shapemarkup.Projection) # shapemarkup.Intersection\n",
    "\n",
    "shapemarkup.AddControlPoint([-3.8, -4.1, 10.], 'arc center')\n",
    "shapemarkup.AddControlPoint([1.7, 17.8, 10.], 'anterior commisure')\n",
    "shapemarkup.AddControlPoint([17.3, -11.9, 10.], 'posterior end')\n",
    "\n",
    "shapemarkupnode = slicer.mrmlScene.AddNode(shapemarkup)\n",
    "\n",
    "dn = shapemarkup.GetMarkupsDisplayNode()\n",
    "\n",
    "dn.SetVisibility2D(True)\n",
    "dn.SetVisibility3D(True)\n",
    "\n",
    "dn.SetPropertiesLabelVisibility(False)\n",
    "\n",
    "slicer.util.forceRenderAllViews()"
   ]
  },
  {
   "cell_type": "code",
   "execution_count": null,
   "id": "835b1171-0ff1-4c69-8eac-14827d820748",
   "metadata": {},
   "outputs": [],
   "source": [
    "gc.collect()"
   ]
  },
  {
   "cell_type": "code",
   "execution_count": null,
   "id": "ed56c265-548c-41be-8c6a-228f060407b6",
   "metadata": {},
   "outputs": [],
   "source": [
    "extrude = vtk.vtkLinearExtrusionFilter()\n",
    "\n",
    "extrude.SetExtrusionTypeToVectorExtrusion()\n",
    "\n",
    "extrude.SetVector([0, 0, 15])\n",
    "\n",
    "extrude.SetInputData(shapemarkup.GetShapeWorld())\n",
    "\n",
    "extrude.Update()\n",
    "\n",
    "slicer.util.forceRenderAllViews()\n",
    "\n",
    "slicer.mrmlScene.RemoveNode(slicer.mrmlScene.GetFirstNodeByName('Inner thyroid shell model'))\n",
    "\n",
    "innerthyroid = modelsLogic.AddModel(extrude.GetOutputPort())\n",
    "innerthyroid.SetName('Inner thyroid shell model')\n",
    "\n",
    "innerthyroid.GetDisplayNode().SetVisibility2D(True)\n",
    "innerthyroid.GetDisplayNode().SetSliceIntersectionThickness(3)"
   ]
  },
  {
   "cell_type": "code",
   "execution_count": null,
   "id": "606386d2-b503-4688-831c-21b741ba1385",
   "metadata": {},
   "outputs": [],
   "source": [
    "normalextrusion = vtk.vtkLinearExtrusionFilter()\n",
    "\n",
    "# can't specify normal vector field in Python, only in C++\n",
    "normalextrusion.SetExtrusionTypeToNormalExtrusion()\n",
    "\n",
    "# doesn't work\n",
    "normalextrusion.SetScaleFactor(2.0)\n",
    "\n",
    "normalextrusion.SetInputConnection(extrude.GetOutputPort())\n",
    "\n",
    "normalextrusion.Update()\n",
    "\n",
    "modelsLogic.AddModel(normalextrusion.GetOutputPort())"
   ]
  },
  {
   "cell_type": "code",
   "execution_count": null,
   "id": "015c4389-78b6-413d-b6ad-8915dec00601",
   "metadata": {},
   "outputs": [],
   "source": [
    "gc.collect()"
   ]
  },
  {
   "cell_type": "markdown",
   "id": "bab34844-c626-4f5b-b52b-7287a880f662",
   "metadata": {},
   "source": [
    "# Medial Plane: move to location with mouse in GUI"
   ]
  },
  {
   "cell_type": "code",
   "execution_count": 21,
   "id": "023a8816-14d9-4bc7-82bf-bfd745bb6208",
   "metadata": {},
   "outputs": [
    {
     "name": "stdout",
     "output_type": "stream",
     "text": [
      "In [21] used 102.7 MiB RAM in 0.42s (system mean cpu 10%, single max cpu 70%), peaked 0.0 MiB above final usage, current RAM usage now 1065.2 MiB\n"
     ]
    }
   ],
   "source": [
    "# delete object from Slicer\n",
    "m = slicer.mrmlScene.GetFirstNodeByName(\"Medial plane\")\n",
    "\n",
    "slicer.mrmlScene.RemoveNode(m)\n",
    "\n",
    "medialplanenode = slicer.vtkMRMLMarkupsPlaneNode()\n",
    "\n",
    "medialplanenode.SetName('Medial plane')\n",
    "\n",
    "slicer.mrmlScene.AddNode(medialplanenode)\n",
    "\n",
    "medialplanenode.AddControlPoint(0, 0, 0, 'M0')\n",
    "medialplanenode.SetNormalWorld(1, 0, 0)\n",
    "medialplanenode.SetPlaneBounds(-25, 25, -25, 25)\n",
    "\n",
    "Pdn = medialplanenode.GetDisplayNode()\n",
    "\n",
    "Pdn.SetVisibility2D(True)\n",
    "Pdn.SetVisibility3D(True)\n",
    "\n",
    "glyphscale = 'relative'\n",
    "if glyphscale == 'relative':\n",
    "    Pdn.SetUseGlyphScale(True)\n",
    "    Pdn.SetGlyphScale(2.00)\n",
    "\n",
    "Pdn.SetGlyphSize(2.0)\n",
    "\n",
    "Pdn.SetHandlesInteractive(True)\n",
    "\n",
    "# rotation\n",
    "# Pdn.SetHandleVisibility(5, True)\n",
    "Pdn.SetRotationHandleVisibility(False)\n",
    "Pdn.SetRotationHandleComponentVisibility(True, True, True, True)\n",
    "Pdn.SetRotationHandleComponentVisibility(False, False, False, True)\n",
    "\n",
    "# translation\n",
    "# Pdn.SetHandleVisibility(6, True)\n",
    "Pdn.SetTranslationHandleVisibility(True)\n",
    "Pdn.SetTranslationHandleComponentVisibility(False, False, True, True)\n",
    "\n",
    "# scaling\n",
    "Pdn.SetScaleHandleVisibility(False)\n",
    "Pdn.SetScaleHandleComponentVisibility(True, True, False, False)\n",
    "\n",
    "Pdn.SetOutlineVisibility(True)\n",
    "Pdn.SetOccludedVisibility(True)\n",
    "Pdn.SetPointLabelsVisibility(False)\n",
    "\n",
    "# print(medialplanenode)\n",
    "\n",
    "medialplanenode.SetCenterWorld(1.4432801822323436, 0.0, 0.0)"
   ]
  },
  {
   "cell_type": "code",
   "execution_count": 22,
   "id": "369fa1fd-7b09-422e-9b0e-df3786f976ad",
   "metadata": {},
   "outputs": [
    {
     "data": {
      "text/plain": [
       "(1.4432801822323436, 0.0, 0.0)"
      ]
     },
     "execution_count": 22,
     "metadata": {},
     "output_type": "execute_result"
    },
    {
     "name": "stdout",
     "output_type": "stream",
     "text": [
      "In [22] used 22.7 MiB RAM in 0.10s (system mean cpu 0%, single max cpu 0%), peaked 0.0 MiB above final usage, current RAM usage now 1087.9 MiB\n"
     ]
    }
   ],
   "source": [
    "# after moving to correct location\n",
    "medialplanenode.GetCenterWorld()"
   ]
  },
  {
   "cell_type": "code",
   "execution_count": 23,
   "id": "93077929-0cec-424d-9aab-afd9690f871e",
   "metadata": {},
   "outputs": [
    {
     "data": {
      "text/plain": [
       "(1.0, 0.0, 0.0)"
      ]
     },
     "execution_count": 23,
     "metadata": {},
     "output_type": "execute_result"
    },
    {
     "name": "stdout",
     "output_type": "stream",
     "text": [
      "In [23] used -0.1 MiB RAM in 0.10s (system mean cpu 0%, single max cpu 0%), peaked 0.0 MiB above final usage, current RAM usage now 1087.8 MiB\n"
     ]
    }
   ],
   "source": [
    "medialplanenode.GetNormalWorld()"
   ]
  },
  {
   "cell_type": "code",
   "execution_count": 24,
   "id": "da3887db-3ece-4040-b9d5-157626a424aa",
   "metadata": {},
   "outputs": [
    {
     "name": "stdout",
     "output_type": "stream",
     "text": [
      "(1.4432801822323436, 0.0, 0.0)\n",
      "(1.0, 0.0, 0.0)\n",
      "In [24] used -33.4 MiB RAM in 20.14s (system mean cpu 1%, single max cpu 67%), peaked 0.0 MiB above final usage, current RAM usage now 1054.3 MiB\n"
     ]
    }
   ],
   "source": [
    "slicer.util.infoDisplay(\"Position the medial plane correctly\", windowTitle = 'Medial Plane')\n",
    "\n",
    "Pdn = medialplanenode.GetDisplayNode()\n",
    "\n",
    "Pdn.SetHandlesInteractive(True)\n",
    "\n",
    "if slicer.util.confirmYesNoDisplay('Did you position the medial plane correctly?', windowTitle = 'Position medial plane'):\n",
    "    print(medialplanenode.GetCenterWorld())\n",
    "\n",
    "    print(medialplanenode.GetNormalWorld())\n",
    "\n",
    "    Pdn.SetHandlesInteractive(False)"
   ]
  },
  {
   "cell_type": "markdown",
   "id": "8e29036a-f7ed-493f-b368-c6865a6d62eb",
   "metadata": {},
   "source": [
    "# Plane parallel to Cricoid top ridge: Move to correct location with mouse in GUI"
   ]
  },
  {
   "cell_type": "code",
   "execution_count": 25,
   "id": "2a92ff4c-9a67-4bad-b24c-b1571c917829",
   "metadata": {},
   "outputs": [
    {
     "name": "stdout",
     "output_type": "stream",
     "text": [
      "In [25] used 28.7 MiB RAM in 0.53s (system mean cpu 11%, single max cpu 50%), peaked 0.0 MiB above final usage, current RAM usage now 1083.0 MiB\n"
     ]
    }
   ],
   "source": [
    "# delete object from Slicer\n",
    "m = slicer.mrmlScene.GetFirstNodeByName(\"Cricoid top ridge plane\")\n",
    "if m is not None:\n",
    "    slicer.mrmlScene.RemoveNode(m)\n",
    "\n",
    "cricoidparallelplanenode = slicer.vtkMRMLMarkupsPlaneNode()\n",
    "\n",
    "cricoidparallelplanenode.SetName('Cricoid top ridge plane')\n",
    "\n",
    "slicer.mrmlScene.AddNode(cricoidparallelplanenode)\n",
    "\n",
    "cricoidparallelplanenode.AddControlPoint(0, 0, 0, 'M0')\n",
    "cricoidparallelplanenode.SetNormalWorld(0, 1, 1)\n",
    "cricoidparallelplanenode.SetPlaneBounds(-25, 25, -25, 25)\n",
    "\n",
    "Pdn = cricoidparallelplanenode.GetDisplayNode()\n",
    "\n",
    "Pdn.SetVisibility2D(True)\n",
    "Pdn.SetVisibility3D(True)\n",
    "\n",
    "glyphscale = 'relative'\n",
    "if glyphscale == 'relative':\n",
    "    Pdn.SetUseGlyphScale(True)\n",
    "    Pdn.SetGlyphScale(2.00)\n",
    "\n",
    "Pdn.SetGlyphSize(2.0)\n",
    "\n",
    "Pdn.SetHandlesInteractive(True)\n",
    "\n",
    "# rotation\n",
    "# Pdn.SetHandleVisibility(5, True)\n",
    "Pdn.SetRotationHandleVisibility(True)\n",
    "Pdn.SetRotationHandleComponentVisibility(True, False, False, False)\n",
    "\n",
    "# translation\n",
    "# Pdn.SetHandleVisibility(6, True)\n",
    "Pdn.SetTranslationHandleVisibility(True)\n",
    "Pdn.SetTranslationHandleComponentVisibility(False, True, True, True)\n",
    "\n",
    "# scaling\n",
    "Pdn.SetScaleHandleVisibility(False)\n",
    "Pdn.SetScaleHandleComponentVisibility(True, True, False, False)\n",
    "\n",
    "Pdn.SetOutlineVisibility(True)\n",
    "Pdn.SetOccludedVisibility(True)\n",
    "Pdn.SetPointLabelsVisibility(False)\n",
    "\n",
    "cricoidparallelplanenode.SetCenterWorld(0.0, 1.7769770808578187, 8.708584949227117)\n",
    "\n",
    "cricoidparallelplanenode.SetNormalWorld(0.0, 0.41086887634515623, 0.9116944479653635)\n",
    "\n",
    "Pdn.SetHandlesInteractive(False)"
   ]
  },
  {
   "cell_type": "code",
   "execution_count": 26,
   "id": "e454a05d-6f9b-4a5f-8055-6052d2471c9c",
   "metadata": {},
   "outputs": [
    {
     "data": {
      "text/plain": [
       "(0.0, 1.7769770808578187, 8.708584949227117)"
      ]
     },
     "execution_count": 26,
     "metadata": {},
     "output_type": "execute_result"
    },
    {
     "name": "stdout",
     "output_type": "stream",
     "text": [
      "In [26] used -11.4 MiB RAM in 0.10s (system mean cpu 0%, single max cpu 0%), peaked 0.0 MiB above final usage, current RAM usage now 1071.6 MiB\n"
     ]
    }
   ],
   "source": [
    "cricoidparallelplanenode.GetCenterWorld()"
   ]
  },
  {
   "cell_type": "code",
   "execution_count": 27,
   "id": "26ca250a-cb03-41f2-9a36-7dd3148c45c4",
   "metadata": {},
   "outputs": [
    {
     "data": {
      "text/plain": [
       "(0.0, 0.41086887634515623, 0.9116944479653635)"
      ]
     },
     "execution_count": 27,
     "metadata": {},
     "output_type": "execute_result"
    },
    {
     "name": "stdout",
     "output_type": "stream",
     "text": [
      "In [27] used -0.1 MiB RAM in 0.10s (system mean cpu 0%, single max cpu 0%), peaked 0.0 MiB above final usage, current RAM usage now 1071.5 MiB\n"
     ]
    }
   ],
   "source": [
    "cricoidparallelplanenode.GetNormalWorld()"
   ]
  },
  {
   "cell_type": "code",
   "execution_count": 28,
   "id": "4ea765f1-6c51-4833-b997-f950652b4513",
   "metadata": {},
   "outputs": [
    {
     "name": "stdout",
     "output_type": "stream",
     "text": [
      "In [28] used 23.9 MiB RAM in 0.20s (system mean cpu 0%, single max cpu 0%), peaked 0.0 MiB above final usage, current RAM usage now 1095.4 MiB\n"
     ]
    }
   ],
   "source": [
    "cricoidtopridgemodel = slicer.mrmlScene.GetFirstNodeByName('Cricoid top ridge plane')\n",
    "\n",
    "itemIDToClone = shNode.GetItemByDataNode(cricoidtopridgemodel)\n",
    "\n",
    "clonedItemID = slicer.modules.subjecthierarchy.logic().CloneSubjectHierarchyItem(shNode, itemIDToClone)\n",
    "clonedNode = shNode.GetItemDataNode(clonedItemID)\n",
    "\n",
    "clonedNode.SetName('Cricoid top ridge parallel plane')\n",
    "\n",
    "clonedNode.GetDisplayNode().SetSelectedColor(0.4, 1.0, 1.0)\n",
    "\n",
    "# clonedNode.GetDisplayNode().SetSelectedColor(1, 0.9, 0.05)"
   ]
  },
  {
   "cell_type": "markdown",
   "id": "2ac3e238-edfa-4f18-92a2-74d1e45fe1ce",
   "metadata": {},
   "source": [
    "# ROI for top of cricoid"
   ]
  },
  {
   "cell_type": "code",
   "execution_count": null,
   "id": "597cb064-a508-4c6b-baa4-2d130146e1f5",
   "metadata": {},
   "outputs": [],
   "source": [
    "m = slicer.mrmlScene.GetFirstNodeByName(\"ROI top of cricoid\")\n",
    "\n",
    "slicer.mrmlScene.RemoveNode(m)\n",
    "\n",
    "ROItopcricoid = slicer.vtkMRMLMarkupsROINode()\n",
    "\n",
    "ROItopcricoid.SetName('ROI top of cricoid')\n",
    "\n",
    "slicer.mrmlScene.AddNode(ROItopcricoid)\n",
    "\n",
    "ROItopcricoid.SetCenter(10, 0, 0)\n",
    "ROItopcricoid.SetCenter(cricoidparallelplanenode.GetCenterWorld())\n",
    "\n",
    "ROItopcricoid.SetROIType(ROItopcricoid.GetROITypeFromString('Box'))\n",
    "ROItopcricoid.SetSizeWorld(50, 50, 50)\n",
    "\n",
    "Pdn = ROItopcricoid.GetDisplayNode()\n",
    "\n",
    "Pdn.SetVisibility2D(True)\n",
    "Pdn.SetVisibility3D(True)\n",
    "\n",
    "glyphscale = 'relative'\n",
    "if glyphscale == 'relative':\n",
    "    Pdn.SetUseGlyphScale(True)\n",
    "    Pdn.SetGlyphScale(2.00)\n",
    "\n",
    "Pdn.SetGlyphSize(2.0)\n",
    "\n",
    "Pdn.SetHandlesInteractive(True)\n",
    "\n",
    "# translation\n",
    "# Pdn.SetHandleVisibility(6, True)\n",
    "Pdn.SetTranslationHandleVisibility(True)\n",
    "Pdn.SetTranslationHandleComponentVisibility(True, False, False, False)\n",
    "\n",
    "# rotation\n",
    "# Pdn.SetHandleVisibility(5, True)\n",
    "Pdn.SetRotationHandleVisibility(False)\n",
    "Pdn.SetRotationHandleComponentVisibility(True, False, False, False)\n",
    "\n",
    "# scaling\n",
    "Pdn.SetScaleHandleVisibility(True)\n",
    "Pdn.SetScaleHandleComponentVisibility(True, True, True, False)\n",
    "\n",
    "Pdn.SetOutlineVisibility(True)\n",
    "Pdn.SetOccludedVisibility(True)\n",
    "Pdn.SetPointLabelsVisibility(False)\n",
    "\n",
    "Pdn.SetSelectedColor(1, 0.9, 0.05)"
   ]
  },
  {
   "cell_type": "code",
   "execution_count": 38,
   "id": "5a856e36-2120-474b-ae9f-c6d0c024db80",
   "metadata": {},
   "outputs": [
    {
     "name": "stdout",
     "output_type": "stream",
     "text": [
      "In [38] used -1.7 MiB RAM in 0.11s (system mean cpu 0%, single max cpu 0%), peaked 0.0 MiB above final usage, current RAM usage now 1096.6 MiB\n"
     ]
    }
   ],
   "source": [
    "cricoidtoporientation = vtk.vtkMatrix4x4()\n",
    "\n",
    "ROItopcricoid.SetAndObserveObjectToNodeMatrix(cricoidtoporientation)"
   ]
  },
  {
   "cell_type": "code",
   "execution_count": 39,
   "id": "d8bb626e-f3a6-4853-8283-54631a635dc4",
   "metadata": {
    "scrolled": true
   },
   "outputs": [
    {
     "name": "stdout",
     "output_type": "stream",
     "text": [
      "In [39] used 0.0 MiB RAM in 0.10s (system mean cpu 0%, single max cpu 0%), peaked 0.0 MiB above final usage, current RAM usage now 1096.6 MiB\n"
     ]
    }
   ],
   "source": [
    "cricoidparallelplanenode.GetObjectToWorldMatrix(cricoidtoporientation)"
   ]
  },
  {
   "cell_type": "code",
   "execution_count": 40,
   "id": "160e5e98-bbd4-4f9e-8195-a2b7b0dbc037",
   "metadata": {},
   "outputs": [
    {
     "name": "stdout",
     "output_type": "stream",
     "text": [
      "In [40] used 13.5 MiB RAM in 0.11s (system mean cpu 0%, single max cpu 0%), peaked 0.0 MiB above final usage, current RAM usage now 1110.1 MiB\n"
     ]
    }
   ],
   "source": [
    "ROItopcricoid.SetSizeWorld(13.662023680097725, 42.690674317415365, 9.794469963331318)"
   ]
  },
  {
   "cell_type": "code",
   "execution_count": 41,
   "id": "e62f8fd3-7391-4410-b622-b6dc9bcca401",
   "metadata": {},
   "outputs": [
    {
     "data": {
      "text/plain": [
       "(13.662023680097725, 42.690674317415365, 9.794469963331318)"
      ]
     },
     "execution_count": 41,
     "metadata": {},
     "output_type": "execute_result"
    },
    {
     "name": "stdout",
     "output_type": "stream",
     "text": [
      "In [41] used -11.8 MiB RAM in 0.10s (system mean cpu 0%, single max cpu 0%), peaked 0.0 MiB above final usage, current RAM usage now 1098.3 MiB\n"
     ]
    }
   ],
   "source": [
    "ROItopcricoid.GetSize()"
   ]
  },
  {
   "cell_type": "code",
   "execution_count": 42,
   "id": "fc796139-e3b1-436e-b434-9ce680396e40",
   "metadata": {},
   "outputs": [
    {
     "name": "stdout",
     "output_type": "stream",
     "text": [
      "[0.0, 1.776977062225342, 8.708584785461426]\n",
      "In [42] used 0.0 MiB RAM in 0.11s (system mean cpu 0%, single max cpu 0%), peaked 0.0 MiB above final usage, current RAM usage now 1098.3 MiB\n"
     ]
    }
   ],
   "source": [
    "# move ROI to correct location\n",
    "\n",
    "oldcenter = ROItopcricoid.GetCenterWorld()\n",
    "print(oldcenter)\n",
    "\n",
    "# move the ROI cube to line up with the medial plane\n",
    "oldcenter[0] = medialplanenode.GetCenter()[0] + ROItopcricoid.GetSize()[0] / 2.0\n",
    "\n",
    "cricoidparallelplanenode.GetObjectToWorldMatrix(cricoidtoporientation)\n",
    "\n",
    "ROItopcricoid.SetCenterWorld(oldcenter)"
   ]
  },
  {
   "cell_type": "code",
   "execution_count": 43,
   "id": "eff80f34-1905-466e-a50f-0a1dace38489",
   "metadata": {},
   "outputs": [
    {
     "name": "stdout",
     "output_type": "stream",
     "text": [
      "In [43] used 6.3 MiB RAM in 0.11s (system mean cpu 0%, single max cpu 0%), peaked 0.0 MiB above final usage, current RAM usage now 1104.6 MiB\n"
     ]
    }
   ],
   "source": [
    "# move parallel plane to cricoid to line up with ROI\n",
    "clonedNode.SetCenterWorld(np.array(cricoidparallelplanenode.GetCenterWorld()) - ROItopcricoid.GetSize()[2] / 2.0 * np.array(cricoidparallelplanenode.GetNormalWorld()))"
   ]
  },
  {
   "cell_type": "code",
   "execution_count": 44,
   "id": "e6015274-0a30-45df-b317-1935e9e2bb75",
   "metadata": {},
   "outputs": [
    {
     "name": "stdout",
     "output_type": "stream",
     "text": [
      "In [44] used 1.6 MiB RAM in 0.11s (system mean cpu 0%, single max cpu 0%), peaked 0.0 MiB above final usage, current RAM usage now 1106.2 MiB\n"
     ]
    }
   ],
   "source": [
    "vtkpoints = vtk.vtkPoints()\n",
    "\n",
    "# clonedNode.GetPlaneCornerPointsWorld(vtkpoints)\n",
    "cricoidparallelplanenode.GetPlaneCornerPointsWorld(vtkpoints)\n",
    "\n",
    "p = vtk.vtkPlaneSource()\n",
    "\n",
    "p.SetOrigin(vtkpoints.GetPoint(0))\n",
    "\n",
    "p.SetPoint1(vtkpoints.GetPoint(1))\n",
    "\n",
    "p.SetPoint2(vtkpoints.GetPoint(3))\n",
    "\n",
    "p.SetCenter(cricoidparallelplanenode.GetCenterWorld())\n",
    "\n",
    "p.SetNormal(cricoidparallelplanenode.GetNormalWorld())\n",
    "\n",
    "extrude_plane = vtk.vtkLinearExtrusionFilter()\n",
    "\n",
    "extrude_plane.SetInputConnection(p.GetOutputPort())\n",
    "\n",
    "extrude_plane.SetExtrusionTypeToVectorExtrusion()\n",
    "\n",
    "extrude_plane.SetVector(5 * np.array(cricoidparallelplanenode.GetNormalWorld()))\n",
    "\n",
    "extrude_plane.CappingOn()\n",
    "\n",
    "extrude_plane.Update()\n",
    "\n",
    "slabmodel = modelsLogic.AddModel(extrude_plane.GetOutputPort())\n",
    "\n",
    "slabmodel.SetName('Slab')\n",
    "\n",
    "slabmodel.GetDisplayNode().Visibility2DOn()"
   ]
  },
  {
   "cell_type": "code",
   "execution_count": 45,
   "id": "18cd06c0-d1df-423a-b201-dec1072d5c92",
   "metadata": {},
   "outputs": [
    {
     "name": "stdout",
     "output_type": "stream",
     "text": [
      "In [45] used 0.5 MiB RAM in 0.10s (system mean cpu 0%, single max cpu 0%), peaked 0.0 MiB above final usage, current RAM usage now 1106.7 MiB\n"
     ]
    }
   ],
   "source": [
    "extrude_plane.SetVector(5 * np.array(cricoidparallelplanenode.GetNormalWorld()))\n",
    "\n",
    "extrude_plane.Update()"
   ]
  },
  {
   "cell_type": "code",
   "execution_count": 101,
   "id": "c7857039-3635-4d6f-937d-0b80df36dce7",
   "metadata": {
    "scrolled": true
   },
   "outputs": [
    {
     "data": {
      "text/plain": [
       "('AddManyMarkupsFiducialTest',\n",
       " 'AddScalarVolumes',\n",
       " 'SubjectHierarchy',\n",
       " 'Annotations',\n",
       " 'AtlasTests',\n",
       " 'AutoSave',\n",
       " 'BRAINSDWICleanup',\n",
       " 'BRAINSDeface',\n",
       " 'BRAINSFit',\n",
       " 'BRAINSFitRigidRegistrationCrashIssue4139',\n",
       " 'BRAINSIntensityNormalize',\n",
       " 'BRAINSROIAuto',\n",
       " 'BRAINSResample',\n",
       " 'BRAINSResize',\n",
       " 'BRAINSStripRotation',\n",
       " 'BRAINSTransformConvert',\n",
       " 'Colors',\n",
       " 'Units',\n",
       " 'Volumes',\n",
       " 'Isodose',\n",
       " 'PlanarImage',\n",
       " 'Models',\n",
       " 'Terminologies',\n",
       " 'Segmentations',\n",
       " 'Beams',\n",
       " 'DicomRtImportExport',\n",
       " 'BatchStructureSetConversion',\n",
       " 'Cameras',\n",
       " 'CastScalarVolume',\n",
       " 'CharacterizeTransformMatrix',\n",
       " 'CheckerBoardFilter',\n",
       " 'ColorLegendSelfTest',\n",
       " 'ColorizeVolume',\n",
       " 'CombineModels',\n",
       " 'CompareVolumes',\n",
       " 'CreateDICOMSeries',\n",
       " 'ResampleScalarVectorDWIVolume',\n",
       " 'CropVolume',\n",
       " 'CropVolumeSelfTest',\n",
       " 'CropVolumeSequence',\n",
       " 'CurvatureAnisotropicDiffusion',\n",
       " 'CurvedPlanarReformat',\n",
       " 'DICOM',\n",
       " 'DICOMEnhancedUSVolumePlugin',\n",
       " 'DICOMGeAbusPlugin',\n",
       " 'DICOMImageSequencePlugin',\n",
       " 'DICOMPatcher',\n",
       " 'DICOMScalarVolumePlugin',\n",
       " 'DICOMSlicerDataBundlePlugin',\n",
       " 'DICOMVolumeSequencePlugin',\n",
       " 'DMRIInstall',\n",
       " 'DWIConvert',\n",
       " 'DWModeling',\n",
       " 'Data',\n",
       " 'DataProbe',\n",
       " 'Decimation',\n",
       " 'DicomRtImportExportPlugin',\n",
       " 'DicomSroImportExport',\n",
       " 'DicomSroImportExportPlugin',\n",
       " 'SegmentationSmoothing',\n",
       " 'QuadEdgeSurfaceMesher',\n",
       " 'DistanceMapBasedRegistration',\n",
       " 'DocumentationTools',\n",
       " 'DoseAccumulation',\n",
       " 'DoseComparison',\n",
       " 'DoseVolumeHistogram',\n",
       " 'DosxyzNrc3dDoseFileReader',\n",
       " 'plastimatch_slicer_drr',\n",
       " 'DrrImageComputation',\n",
       " 'DvhComparison',\n",
       " 'DynamicModeler',\n",
       " 'EasyClip',\n",
       " 'Elastix',\n",
       " 'Markups',\n",
       " 'Endoscopy',\n",
       " 'EventBroker',\n",
       " 'ExecutionModelTour',\n",
       " 'ExtensionWizard',\n",
       " 'ExternalBeamPlanning',\n",
       " 'ExtractSkeleton',\n",
       " 'FiducialLayoutSwitchBug1914',\n",
       " 'FiducialRegistration',\n",
       " 'GaussianBlurImageFilter',\n",
       " 'GradientAnisotropicDiffusion',\n",
       " 'GrayscaleFillHoleImageFilter',\n",
       " 'GrayscaleGrindPeakImageFilter',\n",
       " 'GrayscaleModelMaker',\n",
       " 'HDRMould',\n",
       " 'HistogramMatching',\n",
       " 'SegmentComparison',\n",
       " 'IGRTWorkflow_SelfTest',\n",
       " 'ImageLabelCombine',\n",
       " 'ImportItkSnapLabel',\n",
       " 'ImportOCT',\n",
       " 'ImportOpenInventor',\n",
       " 'ImportOsirixROI',\n",
       " 'ImportSliceOmatic',\n",
       " 'InflateMedialModel',\n",
       " 'JRC2013Vis',\n",
       " 'JupyterKernel',\n",
       " 'JupyterNotebooks',\n",
       " 'Label',\n",
       " 'LabelMapSmoothing',\n",
       " 'LandmarkRegistration',\n",
       " 'Lights',\n",
       " 'LineProfile',\n",
       " 'LoadRemoteFile',\n",
       " 'MONAIAuto3DSeg',\n",
       " 'MONAILabel',\n",
       " 'MONAILabelReviewer',\n",
       " 'MONAIViz',\n",
       " 'MarkupConstraints',\n",
       " 'MarkupsInCompareViewersSelfTest',\n",
       " 'MarkupsInViewsSelfTest',\n",
       " 'MarkupsToModel',\n",
       " 'MaskScalarVolume',\n",
       " 'MedianImageFilter',\n",
       " 'MergeModels',\n",
       " 'ModelClip',\n",
       " 'ModelMaker',\n",
       " 'ModelToLabelMap',\n",
       " 'ModelToModelDistance',\n",
       " 'MultiVolumeExplorer',\n",
       " 'MultiVolumeImporter',\n",
       " 'MultiVolumeImporterPlugin',\n",
       " 'MultiplyScalarVolumes',\n",
       " 'N4ITKBiasFieldCorrection',\n",
       " 'NeurosurgicalPlanningTutorialMarkupsSelfTest',\n",
       " 'OrientScalarVolume',\n",
       " 'PETStandardUptakeValueComputation',\n",
       " 'PerformMetricTest',\n",
       " 'PerformanceTests',\n",
       " 'PickAndPaint',\n",
       " 'PlastimatchPy',\n",
       " 'PlmProtonDoseEngine',\n",
       " 'PlmRegister',\n",
       " 'Plots',\n",
       " 'PlotsSelfTest',\n",
       " 'PluggableMarkupsSelfTest',\n",
       " 'ProbeVolumeWithModel',\n",
       " 'ProstateMRIUSContourPropagation',\n",
       " 'PyTorchUtils',\n",
       " 'RSNA2012ProstateDemo',\n",
       " 'RSNAQuantTutorial',\n",
       " 'RSNAVisTutorial',\n",
       " 'Reformat',\n",
       " 'RegularizedFastMarching',\n",
       " 'RemoveCtTable',\n",
       " 'ResampleDTIVolume',\n",
       " 'ResampleScalarVolume',\n",
       " 'ResectionVolume',\n",
       " 'RobustStatisticsSegmenter',\n",
       " 'RoomsEyeView',\n",
       " 'SRep',\n",
       " 'SRepCreator',\n",
       " 'SRepRefinement',\n",
       " 'SRepWarper',\n",
       " 'SampleData',\n",
       " 'ScenePerformance',\n",
       " 'SceneRecorder',\n",
       " 'SceneViews',\n",
       " 'ScreenCapture',\n",
       " 'SegmentCrossSectionArea',\n",
       " 'SegmentEditor',\n",
       " 'SegmentEditorDrawTube',\n",
       " 'SegmentEditorEngrave',\n",
       " 'SegmentEditorFastMarching',\n",
       " 'SegmentEditorFloodFilling',\n",
       " 'SegmentEditorLocalThreshold',\n",
       " 'SegmentEditorSplitVolume',\n",
       " 'SegmentEditorSurfaceCut',\n",
       " 'SegmentEditorWatershed',\n",
       " 'SegmentEditorWrapSolidify',\n",
       " 'SegmentRegistration',\n",
       " 'SegmentStatistics',\n",
       " 'SegmentationAidedRegistration',\n",
       " 'SelfTests',\n",
       " 'Sequences',\n",
       " 'SequencesSelfTest',\n",
       " 'ShaderProperties',\n",
       " 'Shape',\n",
       " 'SimpleFilters',\n",
       " 'SimpleRegionGrowingSegmentation',\n",
       " 'SkeletonTool',\n",
       " 'SliceLinkLogic',\n",
       " 'Slicer4Minute',\n",
       " 'SlicerBoundsTest',\n",
       " 'SlicerDisplayNodeSequenceTest',\n",
       " 'SlicerMRBMultipleSaveRestoreLoopTest',\n",
       " 'SlicerMRBMultipleSaveRestoreTest',\n",
       " 'SlicerMRBSaveRestoreCheckPathsTest',\n",
       " 'SlicerOrientationSelectorTest',\n",
       " 'SlicerScriptedFileReaderWriterTest',\n",
       " 'StitchVolumes',\n",
       " 'StyleTester',\n",
       " 'SubjectHierarchyCorePluginsSelfTest',\n",
       " 'SubjectHierarchyGenericSelfTest',\n",
       " 'SubtractScalarVolumes',\n",
       " 'SurfaceToolbox',\n",
       " 'SyntheticSkeleton',\n",
       " 'Tables',\n",
       " 'TablesSelfTest',\n",
       " 'Texts',\n",
       " 'ThresholdScalarVolume',\n",
       " 'Transforms',\n",
       " 'UserStatistics',\n",
       " 'UtilTest',\n",
       " 'VectorToScalarVolume',\n",
       " 'VffFileReader',\n",
       " 'ViewControllers',\n",
       " 'ViewControllersSliceInterpolationBug1926',\n",
       " 'VolumeRendering',\n",
       " 'VolumeRenderingSceneClose',\n",
       " 'VolumeRenderingSpecialEffects',\n",
       " 'VotingBinaryHoleFillingImageFilter',\n",
       " 'WebEngine',\n",
       " 'WebServer',\n",
       " 'Welcome',\n",
       " 'plastimatch_slicer_bspline',\n",
       " 'plastimatch_slicer_landwarp',\n",
       " 'sceneImport2428')"
      ]
     },
     "execution_count": 101,
     "metadata": {},
     "output_type": "execute_result"
    },
    {
     "name": "stdout",
     "output_type": "stream",
     "text": [
      "In [101] used 400.2 MiB RAM in 0.10s (system mean cpu 0%, single max cpu 0%), peaked 0.0 MiB above final usage, current RAM usage now 1685.9 MiB\n"
     ]
    }
   ],
   "source": [
    "slicer.util.moduleNames()"
   ]
  },
  {
   "cell_type": "code",
   "execution_count": 102,
   "id": "18d501ce-cb6c-4a69-a554-478b1cc87f3c",
   "metadata": {},
   "outputs": [
    {
     "name": "stdout",
     "output_type": "stream",
     "text": [
      "In [102] used -9.3 MiB RAM in 0.11s (system mean cpu 0%, single max cpu 0%), peaked 0.0 MiB above final usage, current RAM usage now 1676.7 MiB\n"
     ]
    }
   ],
   "source": [
    "slicer.util.selectModule('CombineModels')"
   ]
  },
  {
   "cell_type": "code",
   "execution_count": null,
   "id": "e20f6c37-97d7-4abc-9294-2893e37e7739",
   "metadata": {},
   "outputs": [],
   "source": [
    "# 1-converting each segmentation into a labelmap\n",
    "segmentationLblmap = slicer.mrmlScene.AddNewNodeByClass(“vtkMRMLLabelMapVolumeNode”)\n",
    "slicer.modules.segmentations.logic().ExportVisibleSegmentsToLabelmapNode(segmentationNode, segmentationLblmap, reference_volume_node)\n",
    "# 2-getting the array of each segmentation\n",
    "array1 = slicer.util.arrayFromVolume(segmentationLblmap)\n",
    "# 3-do a boolean OR operation between two arrays\n",
    "arrayOR = np.logical_or(array1.astype(bool), array2.astype(bool)).astype(int)\n",
    "# 4- update a labelmap volume from the new array\n",
    "slicer.util.updateVolumeFromArray(segmentationLblmap, arrayOR)\n",
    "# 5- save the labelmap node as a segmentation\n",
    "slicer.util.saveNode(segmentationLblmap, “d:/…nii.gz”)"
   ]
  },
  {
   "cell_type": "markdown",
   "id": "854b0061-f362-4a57-a99f-14ac41896ece",
   "metadata": {},
   "source": [
    "# Curve along top ridge of cricoid following curvature"
   ]
  },
  {
   "cell_type": "code",
   "execution_count": null,
   "id": "e850df12-8d8c-411f-ad07-66fcbea8502c",
   "metadata": {},
   "outputs": [],
   "source": [
    "# Extract one side of a closed surface mesh\n",
    "# https://www.youtube.com/watch?v=nLva95ZF4ko\n",
    "\n",
    "# https://discourse.vtk.org/t/get-surface-area-of-region-on-polydata/3738/2\n",
    "# 1. Create a curve by automatically placing points around the of the boundary (closest points to points far away from the model in 4-8 directions)\n",
    "# 2. Compute path between the control points on the surface using vtkSlicerDijkstraGraphGeodesicPath, minimizing using inverse square of curvature computed by vtkCurvatures filter\n",
    "# 3. Extract surface using vtkSelectPolyData\n",
    "\n",
    "m=getNode('Segment_1')\n",
    "c=vtk.vtkCurvatures()\n",
    "c.SetInputData(m.GetPolyData())\n",
    "c.Update()\n",
    "m.SetAndObserveMesh(c.GetOutput())"
   ]
  },
  {
   "cell_type": "code",
   "execution_count": 100,
   "id": "7792cdaa-e38a-4e46-a60d-87f1049e5a37",
   "metadata": {},
   "outputs": [
    {
     "name": "stdout",
     "output_type": "stream",
     "text": [
      "In [100] used 8.4 MiB RAM in 0.24s (system mean cpu 1%, single max cpu 29%), peaked 0.0 MiB above final usage, current RAM usage now 1285.7 MiB\n"
     ]
    },
    {
     "ename": "<class 'slicer.util.MRMLNodeNotFoundException'>",
     "evalue": "could not find nodes in the scene by name or id 'cricoid'",
     "output_type": "error",
     "traceback": [
      "\u001b[1;31m---------------------------------------------------------------------------\u001b[0m",
      "\u001b[1;31mMRMLNodeNotFoundException\u001b[0m                 Traceback (most recent call last)",
      "Cell \u001b[1;32mIn[100], line 1\u001b[0m\n\u001b[1;32m----> 1\u001b[0m \u001b[43mslicer\u001b[49m\u001b[38;5;241;43m.\u001b[39;49m\u001b[43mutil\u001b[49m\u001b[38;5;241;43m.\u001b[39;49m\u001b[43mgetNode\u001b[49m\u001b[43m(\u001b[49m\u001b[38;5;124;43m'\u001b[39;49m\u001b[38;5;124;43mcricoid\u001b[39;49m\u001b[38;5;124;43m'\u001b[39;49m\u001b[43m)\u001b[49m\n",
      "File \u001b[1;32mC:\\ProgramData\\slicer.org\\Slicer 5.7.0-2024-02-08\\bin\\Python\\slicer\\util.py:1606\u001b[0m, in \u001b[0;36mgetNode\u001b[1;34m(pattern, index, scene)\u001b[0m\n\u001b[0;32m   1604\u001b[0m nodes \u001b[38;5;241m=\u001b[39m getNodes(pattern, scene)\n\u001b[0;32m   1605\u001b[0m \u001b[38;5;28;01mif\u001b[39;00m \u001b[38;5;129;01mnot\u001b[39;00m nodes:\n\u001b[1;32m-> 1606\u001b[0m     \u001b[38;5;28;01mraise\u001b[39;00m MRMLNodeNotFoundException(\u001b[38;5;124m\"\u001b[39m\u001b[38;5;124mcould not find nodes in the scene by name or id \u001b[39m\u001b[38;5;124m'\u001b[39m\u001b[38;5;132;01m%s\u001b[39;00m\u001b[38;5;124m'\u001b[39m\u001b[38;5;124m\"\u001b[39m \u001b[38;5;241m%\u001b[39m (pattern \u001b[38;5;28;01mif\u001b[39;00m (\u001b[38;5;28misinstance\u001b[39m(pattern, \u001b[38;5;28mstr\u001b[39m)) \u001b[38;5;28;01melse\u001b[39;00m \u001b[38;5;124m\"\u001b[39m\u001b[38;5;124m\"\u001b[39m))\n\u001b[0;32m   1607\u001b[0m \u001b[38;5;28;01mreturn\u001b[39;00m \u001b[38;5;28mlist\u001b[39m(nodes\u001b[38;5;241m.\u001b[39mvalues())[index]\n",
      "\u001b[1;31mMRMLNodeNotFoundException\u001b[0m: could not find nodes in the scene by name or id 'cricoid'"
     ]
    },
    {
     "name": "stderr",
     "output_type": "stream",
     "text": [
      "Traceback (most recent call last):\n",
      "  File \"C:\\ProgramData\\slicer.org\\Slicer 5.7.0-2024-02-08\\lib\\Python\\Lib\\code.py\", line 90, in runcode\n",
      "    exec(code, self.locals)\n",
      "  File \"<console>\", line 1, in <module>\n",
      "  File \"C:\\ProgramData\\slicer.org\\Slicer 5.7.0-2024-02-08\\bin\\Python\\slicer\\util.py\", line 1606, in getNode\n",
      "    raise MRMLNodeNotFoundException(\"could not find nodes in the scene by name or id '%s'\" % (pattern if (isinstance(pattern, str)) else \"\"))\n",
      "slicer.util.MRMLNodeNotFoundException: could not find nodes in the scene by name or id 'cricoid'\n",
      "\n",
      "If you suspect this is an IPython 8.18.1 bug, please report it at:\n",
      "    https://github.com/ipython/ipython/issues\n",
      "or send an email to the mailing list at ipython-dev@python.org\n",
      "\n",
      "You can print a more detailed traceback right now with \"%tb\", or use \"%debug\"\n",
      "to interactively debug it.\n",
      "\n",
      "Extra-detailed tracebacks for bug-reporting purposes can be enabled via:\n",
      "    %config Application.verbose_crash=True\n",
      "\n",
      "Traceback (most recent call last):\n",
      "  File \"C:\\ProgramData\\slicer.org\\Slicer 5.7.0-2024-02-08\\lib\\Python\\Lib\\code.py\", line 90, in runcode\n",
      "    exec(code, self.locals)\n",
      "  File \"<console>\", line 1, in <module>\n",
      "  File \"C:\\ProgramData\\slicer.org\\Slicer 5.7.0-2024-02-08\\bin\\Python\\slicer\\util.py\", line 1606, in getNode\n",
      "    raise MRMLNodeNotFoundException(\"could not find nodes in the scene by name or id '%s'\" % (pattern if (isinstance(pattern, str)) else \"\"))\n",
      "slicer.util.MRMLNodeNotFoundException: could not find nodes in the scene by name or id 'cricoid'\n",
      "\n",
      "If you suspect this is an IPython 8.18.1 bug, please report it at:\n",
      "    https://github.com/ipython/ipython/issues\n",
      "or send an email to the mailing list at ipython-dev@python.org\n",
      "\n",
      "You can print a more detailed traceback right now with \"%tb\", or use \"%debug\"\n",
      "to interactively debug it.\n",
      "\n",
      "Extra-detailed tracebacks for bug-reporting purposes can be enabled via:\n",
      "    %config Application.verbose_crash=True\n",
      "\n"
     ]
    }
   ],
   "source": [
    "slicer.util.getNode('cricoid')"
   ]
  },
  {
   "cell_type": "markdown",
   "id": "645abf5c-8387-45ee-8e35-07c1e18eb087",
   "metadata": {},
   "source": [
    "# Elliptical Cylinder"
   ]
  },
  {
   "cell_type": "code",
   "execution_count": null,
   "id": "7babd588-a3d1-4754-b733-dc7276d28f89",
   "metadata": {},
   "outputs": [],
   "source": [
    "if 1:\n",
    "    # delete object from Slicer\n",
    "    m = slicer.mrmlScene.GetFirstNodeByName(\"arc\")\n",
    "\n",
    "    if m is not None:\n",
    "        slicer.mrmlScene.RemoveNode(m)\n",
    "\n",
    "    del arcmodel, arctransform, tdn"
   ]
  },
  {
   "cell_type": "raw",
   "id": "d9e0a709-9dfc-46e0-be19-20f72c557482",
   "metadata": {
    "jupyter": {
     "source_hidden": true
    },
    "scrolled": true
   },
   "source": [
    "def makearc_old(minor_radius = 10, major_radius = 20, length_cylinder = 30, major_radius_direction = [-1, 0, 0], arccenter = [0, 0, 0], name = None, resolution = 200):\n",
    "    \"\"\"\n",
    "    name = None: Don't make a Slicer model\n",
    "    \"\"\"\n",
    "    arc = vtk.vtkEllipseArcSource()\n",
    "    \n",
    "    # RAS coordinate system: XYZ: R = X, A = Y, S = Z\n",
    "    \n",
    "    minor_radius = minor_radius\n",
    "    major_radius = major_radius\n",
    "    major_radius_direction = np.array(major_radius_direction)\n",
    "    \n",
    "    length_cylinder = length_cylinder\n",
    "    cylinder_direction = np.array([0, 1, 0])\n",
    "    \n",
    "    arccenter = np.array(arccenter)\n",
    "    arc.SetCenter(arccenter)\n",
    "    \n",
    "    # defines the origin of polar angle and the major radius size\n",
    "    majorRadiusVector = major_radius_direction * major_radius\n",
    "    arc.SetMajorRadiusVector(majorRadiusVector)\n",
    "    \n",
    "    # Set normal vector. Represents the plane in which the ellipse will be drawn.\n",
    "    arcnormal = cylinder_direction\n",
    "    arc.SetNormal(arcnormal)\n",
    "    \n",
    "    # Set the ratio of the ellipse, i.e. the ratio b/a\n",
    "    # b: minor radius; a: major radius\n",
    "    ratio = minor_radius / major_radius\n",
    "    arc.SetRatio(ratio)\n",
    "    \n",
    "    arc.SetStartAngle(0)\n",
    "    arc.SetSegmentAngle(360 // 2)\n",
    "    \n",
    "    # Divide line into resolution number of pieces. Note: if Resolution is set to 1 the arc is a straight line. Default is 100.\n",
    "    arc.SetResolution(resolution)\n",
    "    \n",
    "    # Set/get whether to close the arc with a final line segment connecting the first and last points in the arc.\n",
    "    # arc.CloseOn()\n",
    "    arc.CloseOff()\n",
    "    \n",
    "    arc.Update()\n",
    "    \n",
    "    #########################################\n",
    "    \n",
    "    extrude_arc = vtk.vtkLinearExtrusionFilter()\n",
    "    \n",
    "    extrude_arc.SetInputConnection(arc.GetOutputPort())\n",
    "    \n",
    "    extrude_arc.SetExtrusionTypeToVectorExtrusion()\n",
    "    \n",
    "    extrude_arc.SetVector(arcnormal * length_cylinder)\n",
    "    \n",
    "    extrude_arc.CappingOn()\n",
    "    \n",
    "    extrude_arc.Update()\n",
    "    \n",
    "    #########################################\n",
    "    \n",
    "    if 0:\n",
    "        Lp0 = np.zeros(3)\n",
    "        Lp1 = np.zeros(3)\n",
    "        implantlinenode.GetLineStartPositionWorld(Lp0)\n",
    "        implantlinenode.GetLineEndPositionWorld(Lp1)\n",
    "        \n",
    "        implantlinevector = Lp1 - Lp0\n",
    "        \n",
    "        # implantlinelength = np.linalg.norm(implantline)\n",
    "        implantlinelength = implantlinenode.GetLineLengthWorld()\n",
    "        \n",
    "        implantlinedirection = implantlinevector / implantlinelength\n",
    "        \n",
    "        handlematrix = implantlinenode.GetInteractionHandleToWorldMatrix()\n",
    "        handlerotation = slicer.util.arrayFromVTKMatrix(handlematrix)[:3, :]\n",
    "        \n",
    "        # coordinate system of the interaction handle: local x direction always in direction of the line, from P0 to P1\n",
    "        handleNx = handlerotation[:, 0]\n",
    "        handleNy = handlerotation[:, 1]\n",
    "        handleNz = handlerotation[:, 2]    \n",
    "        handlelocation = handlerotation[:, 3]\n",
    "        \n",
    "        #######\n",
    "        \n",
    "        arc.SetCenter(Lp0)\n",
    "        \n",
    "        # Set normal vector. Represents the plane in which the ellipse will be drawn.\n",
    "        arcnormal = implantlinedirection\n",
    "        arc.SetNormal(arcnormal)\n",
    "        \n",
    "        # defines the origin of polar angle and the major radius size\n",
    "        majorRadiusVector = handleNz * major_radius\n",
    "        arc.SetMajorRadiusVector(majorRadiusVector)\n",
    "        \n",
    "        extrude_arc.SetVector(arcnormal * implantlinelength)\n",
    "        \n",
    "        extrude_arc.Update()\n",
    "    \n",
    "    #######\n",
    "    \n",
    "    if 0:\n",
    "        extrude_arc.SetScaleFactor(1)\n",
    "        extrude_arc.SetVector(arcnormal * implantlinelength)\n",
    "        extrude_arc.Update()\n",
    "        \n",
    "        arctransform = vtk.vtkTransform()\n",
    "        arctransform.Translate(-np.array(arctransform.GetPosition()))\n",
    "        arctransform.Translate(Lp0)\n",
    "        \n",
    "        arctransformfilter = vtk.vtkTransformFilter()\n",
    "        arctransformfilter.SetTransform(arctransform)\n",
    "        arctransformfilter.SetInputData(extrude_arc.GetOutput())\n",
    "    \n",
    "    slicer.util.forceRenderAllViews()\n",
    "    \n",
    "    #########################################\n",
    "\n",
    "    if name is None:\n",
    "        arcmodel = None\n",
    "    else:\n",
    "        # arcmodel = modelsLogic.AddModel(arctransformfilter.GetOutputPort())\n",
    "        arcmodel = modelsLogic.AddModel(extrude_arc.GetOutputPort())\n",
    "        \n",
    "        # arcmodel.GetPolyData().GetBounds()\n",
    "        \n",
    "        arcmodel.SetName(name)\n",
    "        \n",
    "        dn = arcmodel.GetDisplayNode()\n",
    "        dn.SetSliceIntersectionVisibility(True)\n",
    "        dn.SetSliceDisplayModeToIntersection()\n",
    "        dn.SetSliceIntersectionThickness(3)\n",
    "        dn.SetColor(0.902, 0.020, 0.902)\n",
    "        \n",
    "        dn.SetVisibility2D(True)\n",
    "        dn.SetVisibility3D(True)\n",
    "    \n",
    "    slicer.util.forceRenderAllViews()\n",
    "\n",
    "    return arc, extrude_arc, arcmodel"
   ]
  },
  {
   "cell_type": "code",
   "execution_count": null,
   "id": "05705e90-8802-4403-8b0b-eaebd4619103",
   "metadata": {},
   "outputs": [],
   "source": [
    "def makearc(minor_radius = 10, major_radius = 20, length_cylinder = 2, major_radius_direction = [-1, 0, 0], arccenter = [0, 0, 0], name = None, segmentangle = 360 // 2, resolution = 200):\n",
    "    \"\"\"\n",
    "    name = None: Don't make a Sliceqr model\n",
    "    \"\"\"\n",
    "    arc = vtk.vtkEllipseArcSource()\n",
    "    \n",
    "    # RAS coordinate system: XYZ: R = X, A = Y, S = Z\n",
    "    \n",
    "    minor_radius = minor_radius\n",
    "    major_radius = major_radius\n",
    "    major_radius_direction = np.array(major_radius_direction)\n",
    "    \n",
    "    length_cylinder = length_cylinder\n",
    "    cylinder_direction = np.array([0, 1, 0]) # in RAS, so this is in Anterior direction\n",
    "    \n",
    "    arccenter = np.array(arccenter)\n",
    "    arc.SetCenter(arccenter)\n",
    "    \n",
    "    # defines the origin of polar angle and the major radius size\n",
    "    majorRadiusVector = major_radius_direction * major_radius\n",
    "    arc.SetMajorRadiusVector(majorRadiusVector)\n",
    "    \n",
    "    # Set normal vector. Represents the plane in which the ellipse will be drawn.\n",
    "    arcnormal = cylinder_direction\n",
    "    arc.SetNormal(arcnormal)\n",
    "    \n",
    "    # Set the ratio of the ellipse, i.e. the ratio b/a\n",
    "    # b: minor radius; a: major radius\n",
    "    ratio = minor_radius / major_radius\n",
    "    arc.SetRatio(ratio)\n",
    "    \n",
    "    arc.SetStartAngle(0)\n",
    "    arc.SetSegmentAngle(segmentangle)\n",
    "    \n",
    "    # Divide line into resolution number of pieces. Note: if Resolution is set to 1 the arc is a straight line. Default is 100.\n",
    "    arc.SetResolution(resolution)\n",
    "    \n",
    "    # Set/get whether to close the arc with a final line segment connecting the first and last points in the arc.\n",
    "    # arc.CloseOn()\n",
    "    arc.CloseOff()\n",
    "    \n",
    "    arc.Update()\n",
    "    \n",
    "    #########################################\n",
    "    \n",
    "    extrude_arc = vtk.vtkLinearExtrusionFilter()\n",
    "    extrude_arc.SetInputConnection(arc.GetOutputPort())\n",
    "    \n",
    "    extrude_arc.SetExtrusionTypeToVectorExtrusion()\n",
    "    extrude_arc.SetVector(arcnormal * length_cylinder)\n",
    "    \n",
    "    extrude_arc.CappingOn()\n",
    "    \n",
    "    extrude_arc.Update()\n",
    "    \n",
    "    if name is None:\n",
    "        arcmodel = None\n",
    "    else:\n",
    "        # arcmodel = modelsLogic.AddModel(arctransformfilter.GetOutputPort())\n",
    "        arcmodel = modelsLogic.AddModel(extrude_arc.GetOutputPort())\n",
    "        \n",
    "        # arcmodel.GetPolyData().GetBounds()\n",
    "        \n",
    "        arcmodel.SetName(name)\n",
    "        \n",
    "        dn = arcmodel.GetDisplayNode()\n",
    "        dn.SetSliceIntersectionVisibility(True)\n",
    "        dn.SetSliceDisplayModeToIntersection()\n",
    "        dn.SetSliceIntersectionThickness(3)\n",
    "        dn.SetColor(0.902, 0.020, 0.902)\n",
    "        \n",
    "        dn.SetVisibility2D(True)\n",
    "        dn.SetVisibility3D(True)\n",
    "    \n",
    "    slicer.util.forceRenderAllViews()\n",
    "\n",
    "    return arc, extrude_arc, arcmodel"
   ]
  },
  {
   "cell_type": "markdown",
   "id": "5a49e957-d496-444c-8b98-642636b98cc8",
   "metadata": {},
   "source": [
    "# General setup: Kamm ratio, inferior-superior symmetry"
   ]
  },
  {
   "cell_type": "code",
   "execution_count": null,
   "id": "9e891a31-cdeb-4f40-99d8-5bedb51a787c",
   "metadata": {},
   "outputs": [],
   "source": [
    "# Here, we only have half of the structure being exposed to air flow, so the kamm_ratio is equal to the ratio of minor to major axis of the trailing edge half-ellipse\n",
    "# ratio of cut-off length of trailing edge over cross-sectional (perpendicular to flow) diameter\n",
    "kamm_ratio = 0.5\n",
    "\n",
    "# upper and lower arc are the same, no Kamm tail\n",
    "inferior_superior_symmetric = False # True\n",
    "\n",
    "if inferior_superior_symmetric:\n",
    "    print(\"Reminder: inferior_superior_symmetric means that the Kamm ratio equals the ellipse ratio = minor / major\", end = '\\n\\n')\n",
    "\n",
    "upperarc_radiusdirection = [-1, 0, 0] # points to the left in the RAS system\n",
    "lowerarc_radiusdirection = [1, 0, 0] # points to the right in the RAS system"
   ]
  },
  {
   "cell_type": "markdown",
   "id": "d58f71ce-d7e6-49a5-84d5-27587af474ed",
   "metadata": {},
   "source": [
    "# Anterior location"
   ]
  },
  {
   "cell_type": "raw",
   "id": "f79e4531-fef3-495a-b06e-3ed68ef2e6ed",
   "metadata": {},
   "source": [
    "###############################\n",
    "# anterior cross-section: measure vocal fold width versus height. Width is major_radius. Height determines ratio.\n",
    "###############################\n",
    "anterior_major_radius = 7.9 # horizontal width\n",
    "anterior_ratio = 10.6 / anterior_major_radius # vertical height\n",
    "anterior_location = 9.5\n",
    "\n",
    "# extrapolate to location past anterior commissure on the outside of the larynx\n",
    "anterior_extrapolation_location = 20.0"
   ]
  },
  {
   "cell_type": "code",
   "execution_count": null,
   "id": "26f18588-c907-4cca-8cde-e4b68d390f75",
   "metadata": {},
   "outputs": [],
   "source": [
    "anterior_inferior_minor_radius_vector = [9.32221288686966, 12.324609404621611, 3.5491364332075452]\n",
    "anterior_minor_radius_vector = [9.32221288686966, 12.324609404621611, 17.573891590585983]\n",
    "anterior_major_radius_vector = [1.506891310620606, 12.324609404621611, 17.573891590585983]"
   ]
  },
  {
   "cell_type": "code",
   "execution_count": null,
   "id": "ade4d00d-cd65-4e14-a028-c8a01fadfda4",
   "metadata": {},
   "outputs": [],
   "source": [
    "try:\n",
    "    slicer.mrmlScene.RemoveNode(anterior_major_minor)\n",
    "except:\n",
    "    pass\n",
    "\n",
    "anterior_major_minor = slicer.vtkMRMLMarkupsCurveNode()\n",
    "anterior_major_minor.SetName('Anterior major minor')\n",
    "\n",
    "slicer.mrmlScene.AddNode(anterior_major_minor)\n",
    "shNode.SetItemParent(shNode.GetItemByDataNode(anterior_major_minor), AnteriorFolder)\n",
    "\n",
    "anterior_major_minor.SetCurveTypeToLinear()\n",
    "\n",
    "if False:\n",
    "    anterior_major_minor.AddControlPointWorld(9.714, anterior_location, 5.551, 'inferior minor radius') # starting point\n",
    "    anterior_major_minor.AddControlPointWorld(9.714, anterior_location, 5.551 + anterior_ratio * anterior_major_radius, 'minor radius') # minor radius in vertical S direction\n",
    "    anterior_major_minor.AddControlPointWorld(9.714 - anterior_major_radius, anterior_location, 5.551 + anterior_ratio * anterior_major_radius, 'major radius') # major radius in horizontal -R direction\n",
    "else:\n",
    "    anterior_major_minor.AddControlPointWorld(anterior_inferior_minor_radius_vector, 'inferior minor radius (inferior)')\n",
    "    anterior_major_minor.AddControlPointWorld(anterior_minor_radius_vector, 'minor radius (center)')\n",
    "    anterior_major_minor.AddControlPointWorld(anterior_major_radius_vector, 'major radius (medial)')\n",
    "\n",
    "    kamm_diff = np.array(anterior_minor_radius_vector) - np.array(anterior_inferior_minor_radius_vector)\n",
    "    kamm_direction = kamm_diff / np.linalg.norm(kamm_diff)\n",
    "\n",
    "    major_width = np.linalg.norm(np.array(anterior_minor_radius_vector) - np.array(anterior_major_radius_vector))\n",
    "    \n",
    "    if inferior_superior_symmetric:\n",
    "        Kamm_vector = np.array(anterior_minor_radius_vector) + kamm_diff\n",
    "    else:\n",
    "        Kamm_vector = np.array(anterior_minor_radius_vector) + kamm_direction * kamm_ratio * major_width\n",
    "    \n",
    "    anterior_major_minor.AddControlPointWorld(Kamm_vector.tolist(), 'Kamm ratio (superior)')\n",
    "\n",
    "anterior_major_minor.SetFixedNumberOfControlPoints(True)\n",
    "\n",
    "Pdn = anterior_major_minor.GetDisplayNode()\n",
    "\n",
    "Pdn.SetVisibility2D(True)\n",
    "Pdn.SetVisibility3D(True)\n",
    "\n",
    "glyphscale = 'relative'\n",
    "if glyphscale == 'relative':\n",
    "    Pdn.SetUseGlyphScale(True)\n",
    "    Pdn.SetGlyphScale(2.00)\n",
    "\n",
    "Pdn.SetGlyphSize(2.0)\n",
    "\n",
    "if True:\n",
    "    Pdn.SetHandlesInteractive(False)\n",
    "    \n",
    "    # rotation\n",
    "    # Pdn.SetHandleVisibility(5, True)\n",
    "    Pdn.SetRotationHandleVisibility(False)\n",
    "    Pdn.SetRotationHandleComponentVisibility(False, False, False, True)\n",
    "    \n",
    "    # translation\n",
    "    # Pdn.SetHandleVisibility(6, True)\n",
    "    Pdn.SetTranslationHandleVisibility(True)\n",
    "    Pdn.SetTranslationHandleComponentVisibility(True, True, False, True)\n",
    "    \n",
    "    # scaling\n",
    "    Pdn.SetScaleHandleVisibility(False)\n",
    "    Pdn.SetScaleHandleComponentVisibility(True, True, False, False)\n",
    "    \n",
    "    Pdn.SetOutlineVisibility(True)\n",
    "    Pdn.SetOccludedVisibility(True)\n",
    "    Pdn.SetPointLabelsVisibility(False)\n",
    "\n",
    "    Pdn.SetPropertiesLabelVisibility(True)\n",
    "\n",
    "    Pdn.SetSliceProjectionOutlinedBehindSlicePlane(True)\n",
    "\n",
    "    Pdn.SetSliceProjection(True)\n",
    "    Pdn.SetSliceProjectionOpacity(0.5)"
   ]
  },
  {
   "cell_type": "code",
   "execution_count": null,
   "id": "c8357858-0b7e-45d5-bd1a-f5e3763e5b71",
   "metadata": {},
   "outputs": [],
   "source": [
    "inferior_superior_symmetric"
   ]
  },
  {
   "cell_type": "code",
   "execution_count": null,
   "id": "04040e51-7f03-4704-8393-e59cd8d2f96e",
   "metadata": {},
   "outputs": [],
   "source": [
    "print(Kamm_vector)\n",
    "print(kamm_ratio)\n",
    "\n",
    "kamm_ratio = 0.5\n",
    "\n",
    "print(np.array(anterior_minor_radius_vector) + kamm_diff)\n",
    "print(np.array(anterior_minor_radius_vector) + kamm_direction * kamm_ratio * major_width)"
   ]
  },
  {
   "cell_type": "code",
   "execution_count": null,
   "id": "5767ecc5-b3b0-4ef3-a7ac-ad067fa6b529",
   "metadata": {},
   "outputs": [],
   "source": [
    "assert anterior_major_minor.GetNthControlPointLabel(3) == 'Kamm ratio (superior)'\n",
    "\n",
    "new_Kamm_vector = np.array(anterior_minor_radius_vector) + kamm_direction * kamm_ratio * major_width\n",
    "\n",
    "anterior_major_minor.SetNthControlPointPositionWorld(3, new_Kamm_vector)"
   ]
  },
  {
   "cell_type": "code",
   "execution_count": null,
   "id": "71c4aacb-5456-4fd8-a869-18d9f6b699bf",
   "metadata": {},
   "outputs": [],
   "source": []
  },
  {
   "cell_type": "code",
   "execution_count": null,
   "id": "47038108-36d9-4e6e-bea5-e7fccb68e502",
   "metadata": {},
   "outputs": [],
   "source": [
    "vtk.vtkAppendPolyData()"
   ]
  },
  {
   "cell_type": "code",
   "execution_count": null,
   "id": "101916e4-7945-4bac-8b35-227c36e666d7",
   "metadata": {
    "scrolled": true
   },
   "outputs": [],
   "source": [
    "print(anterior_major_minor.GetCurve())"
   ]
  },
  {
   "cell_type": "code",
   "execution_count": null,
   "id": "922597e7-0335-4af0-84ee-4407d92ddd76",
   "metadata": {},
   "outputs": [],
   "source": [
    "def get_major_minor(anterior_major_minor):\n",
    "    \"\"\"\n",
    "    returns: anterior_location, anterior_major_radius, anterior_ratio, anterior_base_R, anterior_base_S\n",
    "    \"\"\"\n",
    "    AMm = dict()\n",
    "    \n",
    "    for ncp in range(anterior_major_minor.GetNumberOfControlPoints()):\n",
    "        print(anterior_major_minor.GetNthControlPointLabel(ncp))\n",
    "        print(anterior_major_minor.GetNthControlPointPositionWorld(ncp))\n",
    "    \n",
    "        AMm[anterior_major_minor.GetNthControlPointLabel(ncp)] = list(anterior_major_minor.GetNthControlPointPositionWorld(ncp))\n",
    "    \n",
    "    # anterior-posterior location\n",
    "    anterior_location = AMm['inferior minor radius (inferior)'][1]\n",
    "    \n",
    "    anterior_major_radius = np.abs(AMm['major radius (medial)'][0] - AMm['minor radius (center)'][0]) # horizontal width\n",
    "    \n",
    "    anterior_ratio =  np.abs(AMm['minor radius (center)'][2] - AMm['inferior minor radius (inferior)'][2]) / anterior_major_radius # vertical height\n",
    "    \n",
    "    anterior_base_R = AMm['inferior minor radius (inferior)'][0]\n",
    "    anterior_base_S = AMm['inferior minor radius (inferior)'][2]\n",
    "\n",
    "    Kamm_distance = np.abs(AMm['Kamm ratio (superior)'][2] - AMm['minor radius (center)'][2])\n",
    "    print(\"Kamm_distance = \", Kamm_distance)\n",
    "    Kamm_ratio = Kamm_distance / anterior_major_radius\n",
    "    print(\"Kamm_ratio = \", Kamm_ratio)\n",
    "\n",
    "    return anterior_location, anterior_major_radius, anterior_ratio, anterior_base_R, anterior_base_S"
   ]
  },
  {
   "cell_type": "code",
   "execution_count": null,
   "id": "ceb61097-b8dc-40c3-ad05-7d4e0c25a8c5",
   "metadata": {},
   "outputs": [],
   "source": [
    "anterior_location, anterior_major_radius, anterior_ratio, anterior_base_R, anterior_base_S = get_major_minor(anterior_major_minor)"
   ]
  },
  {
   "cell_type": "code",
   "execution_count": null,
   "id": "187be325-06ab-489c-9073-9d1cd1aaa787",
   "metadata": {},
   "outputs": [],
   "source": [
    "gc.collect()"
   ]
  },
  {
   "cell_type": "raw",
   "id": "075fe2b0-fdaf-4650-a3df-deb800ee9a69",
   "metadata": {},
   "source": [
    "inferior minor radius\n",
    "[9.32221288686966, 12.324609404621611, 3.5491364332075452]\n",
    "anterior minor radius\n",
    "[9.32221288686966, 12.324609404621611, 17.573891590585983]\n",
    "anterior major radius\n",
    "[1.506891310620606, 12.324609404621611, 17.573891590585983]"
   ]
  },
  {
   "cell_type": "markdown",
   "id": "30e07835-3f28-46ac-8928-679691c54090",
   "metadata": {},
   "source": [
    "# Kochanek spline"
   ]
  },
  {
   "cell_type": "code",
   "execution_count": null,
   "id": "aa739496-a6f4-45c0-b31c-4530e507361b",
   "metadata": {},
   "outputs": [],
   "source": [
    "def makeKspline(base_R, base_A, base_S, major_radius, ratio, inferior_superior_symmetric = False, kamm_ratio = 0.5, name = 'Kochanek spline'):\n",
    "\n",
    "    posterior_base_R = base_R\n",
    "    posterior_location = base_A\n",
    "    posterior_base_S = base_S\n",
    "    \n",
    "    posterior_major_radius = major_radius\n",
    "    posterior_ratio = ratio\n",
    "    \n",
    "    if inferior_superior_symmetric:\n",
    "        kamm_ratio = ratio\n",
    "        print(\"inferior_superior_symmetric: use kamm_ratio = ratio = \", kamm_ratio)\n",
    "    else:\n",
    "        print(\"NOT inferior_superior_symmetric: kamm_ratio: \", kamm_ratio)\n",
    "   \n",
    "    PKspline = slicer.vtkMRMLMarkupsClosedCurveNode()\n",
    "    PKspline.SetName(name)\n",
    "    \n",
    "    # PKspline.SetCurveTypeToCardinalSpline()\n",
    "    PKspline.SetCurveTypeToKochanekSpline()\n",
    "    \n",
    "    # https://github.com/Slicer/vtkAddon/blob/main/vtkCurveGenerator.cxx\n",
    "    \n",
    "    PKspline.AddControlPointWorld([posterior_base_R, posterior_location, posterior_base_S], \"inferior minor radius\")\n",
    "    \n",
    "    PKspline.AddControlPointWorld([posterior_base_R + posterior_major_radius, posterior_location, posterior_base_S + posterior_ratio * posterior_major_radius], \"- (lateral) major radius\")\n",
    "    \n",
    "    PKspline.AddControlPointWorld([posterior_base_R, posterior_location, posterior_base_S + posterior_ratio * posterior_major_radius + kamm_ratio * posterior_major_radius], \"superior Kamm\")\n",
    "    \n",
    "    PKspline.AddControlPointWorld([posterior_base_R - posterior_major_radius, posterior_location, posterior_base_S + posterior_ratio * posterior_major_radius], \"+ (medial) major radius\")\n",
    "    \n",
    "    # lock position so that points can't be moved by mouse\n",
    "    PKspline.SetLocked(True)\n",
    "    \n",
    "    # can't add more control points by mouse\n",
    "    PKspline.SetFixedNumberOfControlPoints(True)\n",
    "\n",
    "    return PKspline"
   ]
  },
  {
   "cell_type": "code",
   "execution_count": null,
   "id": "cfc022d8-111a-4385-98e3-16c9f8582efd",
   "metadata": {},
   "outputs": [],
   "source": [
    "inferior_superior_symmetric and False"
   ]
  },
  {
   "cell_type": "code",
   "execution_count": null,
   "id": "973c0c5b-057c-46c1-ab2b-788dd8c0695b",
   "metadata": {},
   "outputs": [],
   "source": [
    "try:\n",
    "    slicer.mrmlScene.RemoveNode(AKspline)\n",
    "except:\n",
    "    pass\n",
    "\n",
    "AKspline = makeKspline(anterior_base_R, anterior_location, anterior_base_S, anterior_major_radius, anterior_ratio, \n",
    "                       inferior_superior_symmetric and False, \n",
    "                       kamm_ratio = 0.5, \n",
    "                       name = 'Anterior Kochanek spline')\n",
    "\n",
    "AKsplinenode = slicer.mrmlScene.AddNode(AKspline)\n",
    "shNode.SetItemParent(shNode.GetItemByDataNode(AKsplinenode), AnteriorFolder)"
   ]
  },
  {
   "cell_type": "code",
   "execution_count": null,
   "id": "bafb567f-86d5-4c53-af65-a3e5bbbb179a",
   "metadata": {},
   "outputs": [],
   "source": [
    "gc.collect()"
   ]
  },
  {
   "cell_type": "raw",
   "id": "b9f2447a-a164-4d0f-a4f9-bec6987b4d43",
   "metadata": {
    "jupyter": {
     "source_hidden": true
    }
   },
   "source": [
    "AKspline = slicer.vtkMRMLMarkupsClosedCurveNode()\n",
    "AKspline.SetName('Anterior Kochanek spline')\n",
    "\n",
    "# AKspline.SetCurveTypeToCardinalSpline()\n",
    "AKspline.SetCurveTypeToKochanekSpline()\n",
    "\n",
    "# https://github.com/Slicer/vtkAddon/blob/main/vtkCurveGenerator.cxx\n",
    "\n",
    "AKspline.AddControlPointWorld([anterior_base_R, anterior_location, anterior_base_S], \"inferior minor radius\")\n",
    "\n",
    "AKspline.AddControlPointWorld([anterior_base_R + anterior_major_radius, anterior_location, anterior_base_S + anterior_ratio * anterior_major_radius], \"- (lateral) major radius\")\n",
    "\n",
    "if inferior_superior_symmetric:\n",
    "    kamm_ratio = anterior_ratio\n",
    "    print(\"inferior_superior_symmetric: use kamm_ratio = ratio = \", kamm_ratio)\n",
    "else:\n",
    "    kamm_ratio = 0.5\n",
    "    print(\"kamm_ratio: \", kamm_ratio)\n",
    "    \n",
    "AKspline.AddControlPointWorld([anterior_base_R, anterior_location, anterior_base_S + anterior_ratio * anterior_major_radius + kamm_ratio * anterior_major_radius], \"superior Kamm\")\n",
    "\n",
    "AKspline.AddControlPointWorld([anterior_base_R - anterior_major_radius, anterior_location, anterior_base_S + anterior_ratio * anterior_major_radius], \"+ (medial) major radius\")\n",
    "\n",
    "# lock position so that points can't be moved by mouse\n",
    "AKspline.SetLocked(True)\n",
    "\n",
    "# can't add more control points by mouse\n",
    "AKspline.SetFixedNumberOfControlPoints(True)\n",
    "\n",
    "##########################################################\n",
    "\n",
    "AKsplinenode = slicer.mrmlScene.AddNode(AKspline)\n",
    "shNode.SetItemParent(shNode.GetItemByDataNode(AKsplinenode), AnteriorFolder)"
   ]
  },
  {
   "cell_type": "raw",
   "id": "d512d55e-9194-42c9-b5d1-bcff6dbd4b23",
   "metadata": {},
   "source": [
    "# after playing with the upper point with the mouse, put the point back to its original location\n",
    "AKspline.SetNthControlPointPositionWorld(2, [anterior_base_R, anterior_location, anterior_base_S + anterior_ratio * anterior_major_radius + 1 * kamm_ratio * anterior_major_radius])"
   ]
  },
  {
   "cell_type": "code",
   "execution_count": null,
   "id": "fdd614b5-2188-4ba1-b046-accfc99242bb",
   "metadata": {},
   "outputs": [],
   "source": [
    "AKspline.GetCurveWorld()"
   ]
  },
  {
   "cell_type": "code",
   "execution_count": null,
   "id": "5c63c979-aeea-4b10-b3d3-0a3969b2ed32",
   "metadata": {},
   "outputs": [],
   "source": [
    "AKspline.GetCurveWorldConnection()"
   ]
  },
  {
   "cell_type": "code",
   "execution_count": null,
   "id": "c561960a-87e4-4f94-878f-311238ee3fec",
   "metadata": {},
   "outputs": [],
   "source": [
    "kn = slicer.mrmlScene.GetFirstNodeByName('Anterior Kochanek spline')\n",
    "assert kn == AKspline\n",
    "\n",
    "for p in range(AKspline.GetNumberOfControlPoints()):\n",
    "    print(p, ': ', kn.GetNthControlPointLabel(p))\n",
    "    v = np.zeros(3)\n",
    "    kn.GetNthControlPointPositionWorld(p, v)\n",
    "    print(v)"
   ]
  },
  {
   "cell_type": "raw",
   "id": "fb1b151b-93ee-49d5-aa64-d4f0f272ac2e",
   "metadata": {},
   "source": [
    "0 :  inferior minor radius\n",
    "[ 9.32221289 12.3246094   3.54913643]\n",
    "1 :  - (lateral) major radius\n",
    "[17.13753446 12.3246094  17.57389159]\n",
    "2 :  superior Kamm\n",
    "[ 9.32221289 12.3246094  21.48155238]\n",
    "3 :  + (medial) major radius\n",
    "[ 1.50689131 12.3246094  17.57389159]"
   ]
  },
  {
   "cell_type": "code",
   "execution_count": null,
   "id": "57a066ca-54ae-47bd-9283-522b251cdd34",
   "metadata": {},
   "outputs": [],
   "source": [
    "splinefilter = vtk.vtkSplineFilter()\n",
    "# The polylines are uniformly subdivided and produced with the help of a vtkSpline class that the user can specify (by default a vtkCardinalSpline is used).\n",
    "\n",
    "kochanekspline = vtk.vtkKochanekSpline()\n",
    "\n",
    "kochanekspline.SetDefaultBias(0)\n",
    "kochanekspline.SetDefaultTension(0)\n",
    "kochanekspline.SetDefaultContinuity(0)\n",
    "\n",
    "# closed spline\n",
    "kochanekspline.ClosedOn()\n",
    "\n",
    "splinefilter.SetSpline(kochanekspline)\n",
    "\n",
    "splinefilter.SetInputConnection()"
   ]
  },
  {
   "cell_type": "markdown",
   "id": "75a1630a-2b9a-481a-b9d7-205cafe7d0af",
   "metadata": {},
   "source": [
    "# Circular geometry from spline control points"
   ]
  },
  {
   "cell_type": "code",
   "execution_count": null,
   "id": "4370006d-a628-45a6-8db7-8cccbac78a17",
   "metadata": {},
   "outputs": [],
   "source": [
    "def makecircle(spline, circle_symmetric = True):\n",
    "    A = np.zeros(3)\n",
    "    B = np.zeros(3)\n",
    "    C = np.zeros(3)\n",
    "\n",
    "    spline.GetNthControlPointPositionWorld(0, A)\n",
    "    spline.GetNthControlPointPositionWorld(2, B)\n",
    "    spline.GetNthControlPointPositionWorld(3, C)\n",
    "    \n",
    "    # Kamm design: top is half as wide (in flow direction) as compared to bottom (intake versus exhaust, contraction versus expansion, inspiratory flow versus expiratory flow, flow separation and vortex shedding)\n",
    "    \n",
    "    # NO: in a Kamm design, the downstream profile gets cut at a distance of half a width downstream, i.e. the cut-off distance is one RADIUS downstream\n",
    "    \n",
    "    # BUT if I consider the RADIUS as maximum constriction, then the cut-off location is again 1/2 a radius downstream. Is the relevant length scale this maximum projected constriction???\n",
    "    \n",
    "    # symmetric between top and bottom\n",
    "    # This construction assures that the point of maximum constriction (minimum projected area) is exactly at the labeled major radius location in inferior-superior direction\n",
    "    B[2] = C[2] + (C[2] - A[2])\n",
    "    \n",
    "    # https://stackoverflow.com/questions/20314306/find-arc-circle-equation-given-three-points-in-space-3d\n",
    "    \n",
    "    a = np.linalg.norm(C - B)\n",
    "    b = np.linalg.norm(C - A)\n",
    "    c = np.linalg.norm(B - A)\n",
    "    \n",
    "    s = (a + b + c) / 2\n",
    "    \n",
    "    R = a*b*c / 4 / np.sqrt(s * (s - a) * (s - b) * (s - c))\n",
    "    \n",
    "    b1 = a*a * (b*b + c*c - a*a)\n",
    "    b2 = b*b * (a*a + c*c - b*b)\n",
    "    b3 = c*c * (a*a + b*b - c*c)\n",
    "    \n",
    "    P = np.column_stack((A, B, C)).dot(np.hstack((b1, b2, b3)))\n",
    "    \n",
    "    P /= b1 + b2 + b3\n",
    "    \n",
    "    CenterVector = P\n",
    "    Radius = R\n",
    "\n",
    "    circle = vtk.vtkEllipseArcSource()\n",
    "    \n",
    "    circle.SetCenter(P)\n",
    "    circle.SetMajorRadiusVector([R, 0, 0])\n",
    "    circle.SetNormal([0, 1, 0])\n",
    "    \n",
    "    circle.SetRatio(1.0)\n",
    "    \n",
    "    circle.SetStartAngle(0)\n",
    "    circle.SetSegmentAngle(360 // 2)\n",
    "    \n",
    "    circle.SetResolution(100)\n",
    "    \n",
    "    # Set/get whether to close the arc with a final line segment connecting the first and last points in the arc.\n",
    "    # circle.CloseOn()\n",
    "    circle.CloseOff()\n",
    "    \n",
    "    circle.Update()\n",
    "    \n",
    "    circletop = vtk.vtkEllipseArcSource()\n",
    "    \n",
    "    circletop.SetCenter(P)\n",
    "    circletop.SetMajorRadiusVector([-R, 0, 0])\n",
    "    circletop.SetNormal([0, 1, 0])\n",
    "    \n",
    "    # Kamm ratio should be 0.5 in this situation where I'm only considering the major radius as the relevant length scale in cross-flow direction (spanwise direction as opposed to chord-wise direction???)\n",
    "    circletop.SetRatio( 0.5 )\n",
    "\n",
    "    # inferior_superior_symmetric\n",
    "    if circle_symmetric:\n",
    "        circletop.SetRatio( 1.0 )\n",
    "    else:\n",
    "        circletop.SetRatio( 0.5 )\n",
    "    \n",
    "    circletop.SetStartAngle(0)\n",
    "    circletop.SetSegmentAngle(360 // 2)\n",
    "    \n",
    "    circletop.SetResolution(100)\n",
    "    \n",
    "    # Set/get whether to close the arc with a final line segment connecting the first and last points in the arc.\n",
    "    # circletop.CloseOn()\n",
    "    circletop.CloseOff()\n",
    "    \n",
    "    circletop.Update()\n",
    "\n",
    "    return circle, circletop"
   ]
  },
  {
   "cell_type": "code",
   "execution_count": null,
   "id": "9783f3af-d11c-4f31-9559-10449882220a",
   "metadata": {},
   "outputs": [],
   "source": [
    "try:\n",
    "    slicer.mrmlScene.RemoveNode(anteriorcirclemodel)\n",
    "    slicer.mrmlScene.RemoveNode(anteriorcircletopmodel)\n",
    "except:\n",
    "    pass\n",
    "\n",
    "Acircle, Acircletop = makecircle(AKspline, circle_symmetric = True)\n",
    "\n",
    "anteriorcirclemodel = modelsLogic.AddModel(Acircle.GetOutputPort())\n",
    "anteriorcirclemodel.SetName('anterior circle')\n",
    "shNode.SetItemParent(shNode.GetItemByDataNode(anteriorcirclemodel), AnteriorFolder)\n",
    "\n",
    "anteriorcircletopmodel = modelsLogic.AddModel(Acircletop.GetOutputPort())\n",
    "anteriorcircletopmodel.SetName('anterior circletop')\n",
    "shNode.SetItemParent(shNode.GetItemByDataNode(anteriorcircletopmodel), AnteriorFolder)\n",
    "\n",
    "for m in [anteriorcirclemodel, anteriorcircletopmodel]:\n",
    "    adn = m.GetDisplayNode()\n",
    "    \n",
    "    adn.Visibility2DOn()\n",
    "    adn.SetSliceDisplayModeToIntersection()\n",
    "    adn.SetSliceIntersectionThickness(3)\n",
    "    adn.SetSliceDisplayModeToDistanceEncodedProjection()\n"
   ]
  },
  {
   "cell_type": "code",
   "execution_count": null,
   "id": "dc771e28-920a-459a-97b3-7dbdef8f42ba",
   "metadata": {},
   "outputs": [],
   "source": [
    "gc.collect()"
   ]
  },
  {
   "cell_type": "code",
   "execution_count": null,
   "id": "8a4b0695-e484-4e28-acc2-2411a2732a7f",
   "metadata": {},
   "outputs": [],
   "source": [
    "print(inferior_superior_symmetric)\n",
    "print(kamm_ratio)"
   ]
  },
  {
   "cell_type": "code",
   "execution_count": null,
   "id": "918bd00c-1c64-44db-a64c-2fcd20ccfd28",
   "metadata": {},
   "outputs": [],
   "source": [
    "inferior_superior_symmetric = False"
   ]
  },
  {
   "cell_type": "code",
   "execution_count": null,
   "id": "62ca51e8-7e25-4575-93e3-50c11457db87",
   "metadata": {},
   "outputs": [],
   "source": [
    "if True:\n",
    "    # delete object from Slicer\n",
    "    for nodename in ['upperarcposterior', 'lowerarcposterior', 'upperarcanterior', 'lowerarcanterior']:\n",
    "        m = slicer.mrmlScene.GetFirstNodeByName(nodename)\n",
    "        slicer.mrmlScene.RemoveNode(m)\n",
    "    \n",
    "    del upperarcmodel, lowerarcmodel, extrude_upperarc, extrude_lowerarc"
   ]
  },
  {
   "cell_type": "code",
   "execution_count": null,
   "id": "72bb7b07-de24-48c1-9d3d-b7417b15cbdc",
   "metadata": {},
   "outputs": [],
   "source": [
    "gc.collect()"
   ]
  },
  {
   "cell_type": "markdown",
   "id": "cd5d4d8a-32fc-4c4f-8523-19dc577b68dd",
   "metadata": {},
   "source": [
    "# Elliptical geometry from control points"
   ]
  },
  {
   "cell_type": "code",
   "execution_count": null,
   "id": "54bf0000-5b9a-48d6-a292-9bb5fb948d59",
   "metadata": {},
   "outputs": [],
   "source": [
    "anterior_location, anterior_major_radius, anterior_ratio, anterior_base_R, anterior_base_S = get_major_minor(anterior_major_minor)\n",
    "\n",
    "if False:\n",
    "    ###############################\n",
    "    # anterior extrapolation to extend beyond the measured plane\n",
    "    ###############################\n",
    "    major_radius = (anterior_major_radius - posterior_major_radius) / (anterior_location - posterior_location) * (anterior_extrapolation_location - anterior_location) + anterior_major_radius\n",
    "    \n",
    "    ratio = (anterior_ratio - posterior_ratio) / (anterior_location - posterior_location) * (anterior_extrapolation_location - anterior_location) + anterior_ratio\n",
    "\n",
    "if True:\n",
    "    major_radius = anterior_major_radius\n",
    "    ratio = anterior_ratio\n",
    "    anterior_extrapolation_location = anterior_location\n",
    "\n",
    "if inferior_superior_symmetric:\n",
    "    kamm_ratio = ratio\n",
    "\n",
    "# trailing edge\n",
    "upperarcanterior, extrude_upperarc, upperarcmodel = makearc(major_radius = major_radius, minor_radius = kamm_ratio * major_radius, \n",
    "                                                            major_radius_direction = upperarc_radiusdirection, \n",
    "                                                            arccenter = [anterior_base_R, anterior_extrapolation_location, anterior_base_S + anterior_ratio * anterior_major_radius], \n",
    "                                                            name = 'upperarcanterior')\n",
    "# leading edge: circular, in this case a half-circle\n",
    "lowerarcanterior, extrude_lowerarc, lowerarcmodel = makearc(major_radius = major_radius, minor_radius = ratio * major_radius, \n",
    "                                                            major_radius_direction = lowerarc_radiusdirection, \n",
    "                                                            arccenter = [anterior_base_R, anterior_extrapolation_location, anterior_base_S + anterior_ratio * anterior_major_radius], \n",
    "                                                            name = 'lowerarcanterior')\n",
    "\n",
    "shNode.SetItemParent(shNode.GetItemByDataNode(upperarcmodel), AnteriorFolder)\n",
    "shNode.SetItemParent(shNode.GetItemByDataNode(lowerarcmodel), AnteriorFolder)\n",
    "\n",
    "antext_major_radius = major_radius\n",
    "# ratio = minorradius / majorradius\n",
    "# I want to extrapolate/interpolate the radius, but not the ratio. The majorradius also gets interpolated already.\n",
    "antext_minor_radius = ratio * major_radius"
   ]
  },
  {
   "cell_type": "raw",
   "id": "11c285f5-ad67-4480-8f16-42dde629b207",
   "metadata": {},
   "source": [
    "###############################\n",
    "# posterior cross-section: measure vocal fold width versus height. Width is major_radius. Height determines ratio.\n",
    "###############################\n",
    "# trailing edge\n",
    "posterior_major_radius = 8.9 # horizontal width\n",
    "posterior_ratio = 5.2 / posterior_major_radius # vertical height\n",
    "posterior_location = -4.6\n",
    "\n",
    "posterior_extrapolation_location = -18"
   ]
  },
  {
   "cell_type": "markdown",
   "id": "9bd793b2-8a73-46a2-9e99-3824f5442619",
   "metadata": {},
   "source": [
    "# Posterior location"
   ]
  },
  {
   "cell_type": "code",
   "execution_count": null,
   "id": "77553d00-9237-4e52-9a82-ae337b46ec46",
   "metadata": {},
   "outputs": [],
   "source": [
    "posterior_inferior_minor_radius_vector = [12.85516647613293, -0.10145495301497576, 9.758570014336929]\n",
    "posterior_minor_radius_vector = [12.85516647613293, -0.10145495301497576, 16.289181194490247]\n",
    "posterior_major_radius_vector = [1.613950510295254, -0.10145495301497576, 16.289181194490247]"
   ]
  },
  {
   "cell_type": "code",
   "execution_count": null,
   "id": "d2098b45-081f-426f-baf1-47ae53ef799e",
   "metadata": {},
   "outputs": [],
   "source": [
    "try:\n",
    "    slicer.mrmlScene.RemoveNode(posterior_major_minor)\n",
    "except:\n",
    "    pass\n",
    "\n",
    "posterior_major_minor = slicer.vtkMRMLMarkupsCurveNode()\n",
    "posterior_major_minor.SetName('Posterior major minor')\n",
    "slicer.mrmlScene.AddNode(posterior_major_minor)\n",
    "shNode.SetItemParent(shNode.GetItemByDataNode(posterior_major_minor), PosteriorFolder)\n",
    "\n",
    "posterior_major_minor.SetCurveTypeToLinear()\n",
    "\n",
    "if False:\n",
    "    posterior_major_minor.AddControlPointWorld(12.61, posterior_location, 11.12, 'inferior minor radius (inferior)') # starting point\n",
    "    posterior_major_minor.AddControlPointWorld(12.61, posterior_location, 11.12 + posterior_ratio * posterior_major_radius, 'minor radius (center)') # minor radius in vertical S direction\n",
    "    posterior_major_minor.AddControlPointWorld(12.61 - posterior_major_radius, posterior_location, 11.12 + posterior_ratio * posterior_major_radius, 'major radius (medial)') # major radius in horizontal -R direction\n",
    "else:\n",
    "    posterior_major_minor.AddControlPointWorld(posterior_inferior_minor_radius_vector, 'inferior minor radius (inferior)')\n",
    "    posterior_major_minor.AddControlPointWorld(posterior_minor_radius_vector, 'minor radius (center)')\n",
    "    posterior_major_minor.AddControlPointWorld(posterior_major_radius_vector, 'major radius (medial)')\n",
    "\n",
    "kamm_diff = np.array(posterior_minor_radius_vector) - np.array(posterior_inferior_minor_radius_vector)\n",
    "kamm_direction = kamm_diff / np.linalg.norm(kamm_diff)\n",
    "\n",
    "major_width = np.linalg.norm(np.array(posterior_minor_radius_vector) - np.array(posterior_major_radius_vector))\n",
    "\n",
    "if inferior_superior_symmetric:\n",
    "    Kamm_vector = np.array(posterior_minor_radius_vector) + kamm_diff\n",
    "else:\n",
    "    Kamm_vector = np.array(posterior_minor_radius_vector) + kamm_direction * kamm_ratio * major_width\n",
    "\n",
    "posterior_major_minor.AddControlPointWorld(Kamm_vector.tolist(), 'Kamm ratio (superior)')\n",
    "\n",
    "posterior_major_minor.SetFixedNumberOfControlPoints(True)\n",
    "\n",
    "Pdn = posterior_major_minor.GetDisplayNode()\n",
    "\n",
    "Pdn.SetVisibility2D(True)\n",
    "Pdn.SetVisibility3D(True)\n",
    "\n",
    "glyphscale = 'relative'\n",
    "if glyphscale == 'relative':\n",
    "    Pdn.SetUseGlyphScale(True)\n",
    "    Pdn.SetGlyphScale(2.00)\n",
    "\n",
    "Pdn.SetGlyphSize(2.0)\n",
    "\n",
    "if True:\n",
    "    Pdn.SetHandlesInteractive(False)\n",
    "    \n",
    "    # rotation\n",
    "    # Pdn.SetHandleVisibility(5, True)\n",
    "    Pdn.SetRotationHandleVisibility(False)\n",
    "    Pdn.SetRotationHandleComponentVisibility(False, False, False, True)\n",
    "    \n",
    "    # translation\n",
    "    # Pdn.SetHandleVisibility(6, True)\n",
    "    Pdn.SetTranslationHandleVisibility(True)\n",
    "    Pdn.SetTranslationHandleComponentVisibility(True, True, False, True)\n",
    "    \n",
    "    # scaling\n",
    "    Pdn.SetScaleHandleVisibility(False)\n",
    "    Pdn.SetScaleHandleComponentVisibility(True, True, False, False)\n",
    "    \n",
    "    Pdn.SetOutlineVisibility(True)\n",
    "    Pdn.SetOccludedVisibility(True)\n",
    "    Pdn.SetPointLabelsVisibility(False)\n",
    "\n",
    "    Pdn.SetPropertiesLabelVisibility(True)\n",
    "\n",
    "    Pdn.SetSliceProjectionOutlinedBehindSlicePlane(True)\n",
    "\n",
    "    Pdn.SetSliceProjection(True)\n",
    "    Pdn.SetSliceProjectionOpacity(0.5)"
   ]
  },
  {
   "cell_type": "code",
   "execution_count": null,
   "id": "b57c9018-0408-4348-817e-36aabaf2d01f",
   "metadata": {},
   "outputs": [],
   "source": [
    "print(Kamm_vector)\n",
    "print(kamm_ratio)\n",
    "\n",
    "kamm_ratio = 0.5\n",
    "\n",
    "print(np.array(anterior_minor_radius_vector) + kamm_diff)\n",
    "print(np.array(anterior_minor_radius_vector) + kamm_direction * kamm_ratio * major_width)"
   ]
  },
  {
   "cell_type": "code",
   "execution_count": null,
   "id": "4a2132e6-83ba-43ef-a243-58392e077e12",
   "metadata": {},
   "outputs": [],
   "source": [
    "assert posterior_major_minor.GetNthControlPointLabel(3) == 'Kamm ratio (superior)'\n",
    "\n",
    "new_Kamm_vector = np.array(posterior_minor_radius_vector) + kamm_direction * kamm_ratio * major_width\n",
    "\n",
    "posterior_major_minor.SetNthControlPointPositionWorld(3, new_Kamm_vector)"
   ]
  },
  {
   "cell_type": "code",
   "execution_count": null,
   "id": "885df34f-0ba8-48ad-bb86-6db18c2e3a59",
   "metadata": {},
   "outputs": [],
   "source": [
    "for p in range(posterior_major_minor.GetNumberOfControlPoints()):\n",
    "    print(p, ': ', posterior_major_minor.GetNthControlPointLabel(p))\n",
    "    v = np.zeros(3)\n",
    "    posterior_major_minor.GetNthControlPointPositionWorld(p, v)\n",
    "    print(v)"
   ]
  },
  {
   "cell_type": "raw",
   "id": "d6735b4f-8289-4c61-8fec-021e4bf6058c",
   "metadata": {},
   "source": [
    "inferior minor radius\n",
    "[12.85516647613293, -0.10145495301497576, 9.758570014336929]\n",
    "posterior minor radius\n",
    "[12.85516647613293, -0.10145495301497576, 16.289181194490247]\n",
    "posterior major radius\n",
    "[1.613950510295254, -0.10145495301497576, 16.289181194490247]"
   ]
  },
  {
   "cell_type": "raw",
   "id": "ba7f7a03-8c61-4465-9ed5-ff4de3e7e48f",
   "metadata": {
    "jupyter": {
     "source_hidden": true
    }
   },
   "source": [
    "def get_posterior_major_minor():\n",
    "    \"\"\"\n",
    "    returns: posterior_location, posterior_major_radius, posterior_ratio, posterior_base_R, posterior_base_S\n",
    "    \"\"\"\n",
    "    PMm = dict()\n",
    "    \n",
    "    for ncp in range(posterior_major_minor.GetNumberOfControlPoints()):\n",
    "        print(posterior_major_minor.GetNthControlPointLabel(ncp))\n",
    "        print(posterior_major_minor.GetNthControlPointPositionWorld(ncp))\n",
    "    \n",
    "        PMm[posterior_major_minor.GetNthControlPointLabel(ncp)] = list(posterior_major_minor.GetNthControlPointPositionWorld(ncp))\n",
    "    \n",
    "    # anterior-posterior location\n",
    "    posterior_location = PMm['inferior minor radius (inferior)'][1]\n",
    "    \n",
    "    posterior_major_radius = np.abs(PMm['major radius (medial)'][0] - PMm['minor radius (center)'][0]) # horizontal width\n",
    "    \n",
    "    posterior_ratio =  np.abs(PMm['minor radius (center)'][2] - PMm['inferior minor radius (inferior)'][2]) / posterior_major_radius # vertical height\n",
    "    \n",
    "    posterior_base_R = PMm['inferior minor radius (inferior)'][0]\n",
    "    posterior_base_S = PMm['inferior minor radius (inferior)'][2]\n",
    "\n",
    "    return posterior_location, posterior_major_radius, posterior_ratio, posterior_base_R, posterior_base_S"
   ]
  },
  {
   "cell_type": "code",
   "execution_count": null,
   "id": "e071ef4e-cb53-4439-b1c2-a586ae96e712",
   "metadata": {},
   "outputs": [],
   "source": [
    "posterior_location, posterior_major_radius, posterior_ratio, posterior_base_R, posterior_base_S = get_major_minor(posterior_major_minor)"
   ]
  },
  {
   "cell_type": "code",
   "execution_count": null,
   "id": "e8604f74-9b4d-47bc-9fb4-370af051460f",
   "metadata": {},
   "outputs": [],
   "source": [
    "gc.collect()"
   ]
  },
  {
   "cell_type": "markdown",
   "id": "67494aa9-1338-4edf-ab6a-7ffbd722813c",
   "metadata": {},
   "source": [
    "## posterior Kochanek spline"
   ]
  },
  {
   "cell_type": "code",
   "execution_count": null,
   "id": "59c63eed-a984-40b1-8f40-8b203b8a80c3",
   "metadata": {},
   "outputs": [],
   "source": [
    "try:\n",
    "    slicer.mrmlScene.RemoveNode(PKspline)\n",
    "except:\n",
    "    pass\n",
    "\n",
    "PKspline = makeKspline(posterior_base_R, posterior_location, posterior_base_S, posterior_major_radius, posterior_ratio, inferior_superior_symmetric and False, kamm_ratio = 0.5, name = 'Posterior Kochanek spline')\n",
    "\n",
    "PKsplinenode = slicer.mrmlScene.AddNode(PKspline)\n",
    "shNode.SetItemParent(shNode.GetItemByDataNode(PKsplinenode), PosteriorFolder)"
   ]
  },
  {
   "cell_type": "raw",
   "id": "07500bcc-740b-4a33-b663-72519c369782",
   "metadata": {},
   "source": [
    "# after playing with the upper point with the mouse, put the point back to its original location\n",
    "PKspline.SetNthControlPointPosition(2, [posterior_base_R, posterior_location, posterior_base_S + posterior_ratio * posterior_major_radius + 1 * kamm_ratio * posterior_major_radius])"
   ]
  },
  {
   "cell_type": "code",
   "execution_count": null,
   "id": "5818c25b-fc84-4180-a621-83ca6efbcf00",
   "metadata": {},
   "outputs": [],
   "source": []
  },
  {
   "cell_type": "markdown",
   "id": "ab3ea716-84f8-4709-9bc1-980158fd8a97",
   "metadata": {},
   "source": [
    "## posterior circular geometry"
   ]
  },
  {
   "cell_type": "code",
   "execution_count": null,
   "id": "0866bc82-1e17-4b98-abb9-8ebded80782e",
   "metadata": {},
   "outputs": [],
   "source": [
    "try:\n",
    "    slicer.mrmlScene.RemoveNode(Pcircle)\n",
    "    slicer.mrmlScene.RemoveNode(Pcircletop)\n",
    "except:\n",
    "    pass\n",
    "\n",
    "Pcircle, Pcircletop = makecircle(PKspline, circle_symmetric = True)\n",
    "\n",
    "posteriorcirclemodel = modelsLogic.AddModel(Pcircle.GetOutputPort())\n",
    "posteriorcirclemodel.SetName('posterior circle')\n",
    "shNode.SetItemParent(shNode.GetItemByDataNode(posteriorcirclemodel), PosteriorFolder)\n",
    "\n",
    "posteriorcircletopmodel = modelsLogic.AddModel(Pcircletop.GetOutputPort())\n",
    "posteriorcircletopmodel.SetName('posterior circletop')\n",
    "shNode.SetItemParent(shNode.GetItemByDataNode(posteriorcircletopmodel), PosteriorFolder)\n",
    "\n",
    "for m in [posteriorcirclemodel, posteriorcircletopmodel]:\n",
    "    adn = m.GetDisplayNode()\n",
    "    \n",
    "    adn.Visibility2DOn()\n",
    "    adn.SetSliceDisplayModeToDistanceEncodedProjection()\n",
    "    adn.SetSliceIntersectionThickness(3)"
   ]
  },
  {
   "cell_type": "code",
   "execution_count": null,
   "id": "5063b277-c1b9-4f21-b30c-7d06c9a4628c",
   "metadata": {},
   "outputs": [],
   "source": []
  },
  {
   "cell_type": "code",
   "execution_count": null,
   "id": "d759034e-3d9d-4a27-9088-4b70ba8613de",
   "metadata": {},
   "outputs": [],
   "source": [
    "Pcirclemodel.GetPolyData()"
   ]
  },
  {
   "cell_type": "markdown",
   "id": "3e32b92c-9ab3-44fb-8df3-1a08bb6d3023",
   "metadata": {},
   "source": [
    "## posterior elliptical geometry"
   ]
  },
  {
   "cell_type": "code",
   "execution_count": null,
   "id": "8154083c-6cc7-48b3-8716-85e31ead53e3",
   "metadata": {},
   "outputs": [],
   "source": [
    "posterior_location, posterior_major_radius, posterior_ratio, posterior_base_R, posterior_base_S = get_major_minor(posterior_major_minor)\n",
    "\n",
    "if False:\n",
    "    ###############################\n",
    "    # posterior extrapolation to extend beyond the measured plane\n",
    "    ###############################\n",
    "    major_radius = (posterior_major_radius - anterior_major_radius) / (posterior_location - anterior_location) * (posterior_extrapolation_location - posterior_location) + posterior_major_radius\n",
    "    \n",
    "    ratio = (posterior_ratio - anterior_ratio) / (posterior_location - anterior_location) * (posterior_extrapolation_location - posterior_location) + posterior_ratio\n",
    "    \n",
    "    if ratio < 0.1:\n",
    "        ratio = 0.1\n",
    "        posterior_extrapolation_location = (ratio - posterior_ratio) * (posterior_location - anterior_location) / (posterior_ratio - anterior_ratio) + posterior_location\n",
    "        major_radius = (posterior_major_radius - anterior_major_radius) / (posterior_location - anterior_location) * (posterior_extrapolation_location - posterior_location) + posterior_major_radius\n",
    "\n",
    "if True:\n",
    "    major_radius = posterior_major_radius\n",
    "    ratio = posterior_ratio\n",
    "    posterior_extrapolation_location = posterior_location\n",
    "\n",
    "if inferior_superior_symmetric:\n",
    "    kamm_ratio = ratio\n",
    "\n",
    "# trailing edge\n",
    "upperarcposterior, extrude_upperarc, upperarcmodel = makearc(major_radius = major_radius, minor_radius = kamm_ratio * major_radius, \n",
    "                                                             major_radius_direction = upperarc_radiusdirection, \n",
    "                                                             arccenter = [posterior_base_R, posterior_extrapolation_location, posterior_base_S + posterior_ratio * posterior_major_radius], \n",
    "                                                             name = 'upperarcposterior')\n",
    "\n",
    "# leading edge: circular, in this case a half-circle\n",
    "lowerarcposterior, extrude_lowerarc, lowerarcmodel = makearc(major_radius = major_radius, minor_radius = ratio * major_radius, \n",
    "                                                             major_radius_direction = lowerarc_radiusdirection, \n",
    "                                                             arccenter = [posterior_base_R, posterior_extrapolation_location, posterior_base_S + posterior_ratio * posterior_major_radius], \n",
    "                                                             name = 'lowerarcposterior')\n",
    "\n",
    "shNode.SetItemParent(shNode.GetItemByDataNode(upperarcmodel), PosteriorFolder)\n",
    "shNode.SetItemParent(shNode.GetItemByDataNode(lowerarcmodel), PosteriorFolder)\n",
    "\n",
    "postext_major_radius = major_radius\n",
    "# ratio = minorradius / majorradius\n",
    "# I want to extrapolate/interpolate the radius, but not the ratio. The majorradius also gets interpolated already.\n",
    "postext_minor_radius = ratio * major_radius"
   ]
  },
  {
   "cell_type": "code",
   "execution_count": null,
   "id": "6ac23f0e-74b5-4dd2-95e1-77e330998efd",
   "metadata": {},
   "outputs": [],
   "source": []
  },
  {
   "cell_type": "markdown",
   "id": "d087eac9-b2fd-416c-8f80-beda31086281",
   "metadata": {},
   "source": [
    "## posterior plane"
   ]
  },
  {
   "cell_type": "code",
   "execution_count": null,
   "id": "b0628749-cd35-4fbb-ac1a-dfd614066f8d",
   "metadata": {
    "scrolled": true
   },
   "outputs": [],
   "source": [
    "posteriorplanenode = slicer.vtkMRMLMarkupsPlaneNode()\n",
    "posteriorplanenode.SetName('Posterior plane')\n",
    "slicer.mrmlScene.AddNode(posteriorplanenode)\n",
    "\n",
    "posteriorplanenode.AddControlPoint(0, posterior_location, 0, 'Posterior') # in RAS\n",
    "posteriorplanenode.SetNormal(0, 1, 0) # pointing in Anterior direction\n",
    "posteriorplanenode.SetPlaneBounds(-25, 25, -25, 25)\n",
    "\n",
    "Pdn = posteriorplanenode.GetDisplayNode()\n",
    "\n",
    "Pdn.SetVisibility2D(True)\n",
    "Pdn.SetVisibility3D(True)\n",
    "\n",
    "glyphscale = 'relative'\n",
    "if glyphscale == 'relative':\n",
    "    Pdn.SetUseGlyphScale(True)\n",
    "    Pdn.SetGlyphScale(2.00)\n",
    "\n",
    "Pdn.SetGlyphSize(2.0)\n",
    "\n",
    "if False:\n",
    "    Pdn.SetHandlesInteractive(True)\n",
    "    \n",
    "    # rotation\n",
    "    # Pdn.SetHandleVisibility(5, True)\n",
    "    Pdn.SetRotationHandleVisibility(False)\n",
    "    Pdn.SetRotationHandleComponentVisibility(False, False, False, True)\n",
    "    \n",
    "    # translation\n",
    "    # Pdn.SetHandleVisibility(6, True)\n",
    "    Pdn.SetTranslationHandleVisibility(True)\n",
    "    Pdn.SetTranslationHandleComponentVisibility(True, True, False, False)\n",
    "    \n",
    "    # scaling\n",
    "    Pdn.SetScaleHandleVisibility(False)\n",
    "    Pdn.SetScaleHandleComponentVisibility(True, True, False, False)\n",
    "    \n",
    "    Pdn.SetOutlineVisibility(True)\n",
    "    Pdn.SetOccludedVisibility(True)\n",
    "    Pdn.SetPointLabelsVisibility(True)\n"
   ]
  },
  {
   "cell_type": "code",
   "execution_count": null,
   "id": "44303c89-a0c5-414b-98d3-4245f89e5b68",
   "metadata": {},
   "outputs": [],
   "source": [
    "gc.collect()"
   ]
  },
  {
   "cell_type": "markdown",
   "id": "c7c80e3f-93a6-4e85-a95c-2f22b5a83791",
   "metadata": {},
   "source": [
    "# Make intermediate geometries for smoother ruled surface without artifacts"
   ]
  },
  {
   "cell_type": "code",
   "execution_count": null,
   "id": "ae5190a2-ce27-4161-9091-0f636ce2f719",
   "metadata": {},
   "outputs": [],
   "source": [
    "posterior_location, posterior_major_radius, posterior_ratio, posterior_base_R, posterior_base_S = get_major_minor(posterior_major_minor)\n",
    "\n",
    "anterior_location, anterior_major_radius, anterior_ratio, anterior_base_R, anterior_base_S = get_major_minor(anterior_major_minor)\n",
    "\n",
    "###############################\n",
    "# intermediate sections, interpolated, from posterior to anterior\n",
    "###############################\n",
    "\n",
    "Nmidpoints = 10 # 10\n",
    "\n",
    "# start at posterior location\n",
    "upperarclist = [upperarcposterior]\n",
    "lowerarclist = [lowerarcposterior]\n",
    "\n",
    "Ksplinelist = [PKspline]\n",
    "\n",
    "circlelist = [Pcircle]\n",
    "circletoplist = [Pcircletop]\n",
    "\n",
    "# arccenter = [9.714, anterior_extrapolation_location, 5.551 + anterior_ratio * anterior_major_radius]\n",
    "# arccenter = [12.61, posterior_extrapolation_location, 11.12 + posterior_ratio * posterior_major_radius]\n",
    "\n",
    "posterior_R_location = posterior_base_R\n",
    "anterior_R_location = anterior_base_R\n",
    "\n",
    "posterior_S_location = posterior_base_S + posterior_ratio * posterior_major_radius\n",
    "anterior_S_location = anterior_base_S + anterior_ratio * anterior_major_radius\n",
    "\n",
    "# start from posterior\n",
    "for midpointID in range(1, Nmidpoints + 1):\n",
    "    mid_R_location = (anterior_R_location - posterior_R_location) / (Nmidpoints + 1) * midpointID + posterior_R_location\n",
    "    \n",
    "    mid_location = (anterior_extrapolation_location - posterior_extrapolation_location) / (Nmidpoints + 1) * midpointID + posterior_extrapolation_location\n",
    "\n",
    "    mid_S_location = (anterior_S_location - posterior_S_location) / (Nmidpoints + 1) * midpointID + posterior_S_location\n",
    "    \n",
    "    mid_major_radius = (antext_major_radius - postext_major_radius) / (Nmidpoints + 1) * midpointID + postext_major_radius\n",
    "    mid_minor_radius = (antext_minor_radius - postext_minor_radius) / (Nmidpoints + 1) * midpointID + postext_minor_radius\n",
    "\n",
    "    mid_ratio = mid_minor_radius / mid_major_radius\n",
    "\n",
    "    if inferior_superior_symmetric:\n",
    "        kamm_ratio = mid_ratio\n",
    "    \n",
    "    upperarcmid, _, _ = makearc(major_radius = mid_major_radius , minor_radius = kamm_ratio * mid_major_radius, \n",
    "                                major_radius_direction = upperarc_radiusdirection, \n",
    "                                arccenter = [mid_R_location, mid_location, mid_S_location], \n",
    "                                name = None)\n",
    "    \n",
    "    lowerarcmid, _, _ = makearc(major_radius = mid_major_radius, minor_radius = mid_ratio * mid_major_radius, \n",
    "                                major_radius_direction = lowerarc_radiusdirection, \n",
    "                                arccenter = [mid_R_location, mid_location, mid_S_location], \n",
    "                                name = None)\n",
    "    \n",
    "    upperarclist.append(upperarcmid)\n",
    "    lowerarclist.append(lowerarcmid)\n",
    "\n",
    "    midKspline = makeKspline(mid_R_location, mid_location, mid_S_location - mid_minor_radius, mid_major_radius, mid_ratio, inferior_superior_symmetric, name = 'mid %d' % (midpointID - 1))\n",
    "\n",
    "    Ksplinelist.append(midKspline)\n",
    "\n",
    "    midcircle, midcircletop = makecircle(midKspline)\n",
    "\n",
    "    circlelist.append(midcircle)\n",
    "    circletoplist.append(midcircletop)\n",
    "\n",
    "upperarclist.append(upperarcanterior)\n",
    "lowerarclist.append(lowerarcanterior)\n",
    "\n",
    "Ksplinelist.append(AKspline)\n",
    "\n",
    "circlelist.append(Acircle)\n",
    "circletoplist.append(Acircletop)"
   ]
  },
  {
   "cell_type": "code",
   "execution_count": null,
   "id": "f868ee65-2260-4c87-a33a-e31913de4e39",
   "metadata": {},
   "outputs": [],
   "source": [
    "# delete object from Slicer\n",
    "for nodename in ['upperarcposterior', 'lowerarcposterior', 'upperarcanterior', 'lowerarcanterior']:\n",
    "    m = slicer.mrmlScene.GetFirstNodeByName(nodename)\n",
    "    slicer.mrmlScene.RemoveNode(m)\n",
    "\n",
    "del upperarcmodel, lowerarcmodel, extrude_upperarc, extrude_lowerarc\n",
    "\n",
    "gc.collect()"
   ]
  },
  {
   "cell_type": "code",
   "execution_count": null,
   "id": "18642a19-94c4-4cc1-bf0c-707d810d6c3f",
   "metadata": {},
   "outputs": [],
   "source": [
    "for n in slicer.mrmlScene.GetNodesByClass('vtkMRMLModelNode'):\n",
    "    print(n.GetName())"
   ]
  },
  {
   "cell_type": "markdown",
   "id": "04497cf4-e061-4d6d-ae40-a0c2b03e00fb",
   "metadata": {},
   "source": [
    "# Combine all elliptical geometries"
   ]
  },
  {
   "cell_type": "code",
   "execution_count": null,
   "id": "6ccf4b0b-8a85-4a23-b9fa-6524ebfbf5b0",
   "metadata": {},
   "outputs": [],
   "source": [
    "def combinearcs(upperarc = None, lowerarc = None, remove_duplicates = False):\n",
    "    \n",
    "    comboarc = vtk.vtkPolyData()\n",
    "    comboarcpoints = vtk.vtkPoints()\n",
    "    comboarcline = vtk.vtkCellArray()\n",
    "    \n",
    "    comboarc.SetPoints(comboarcpoints)\n",
    "    comboarc.SetLines(comboarcline)\n",
    "    \n",
    "    assert upperarc.GetOutput().GetNumberOfCells() == 1\n",
    "    assert lowerarc.GetOutput().GetNumberOfCells() == 1\n",
    "    \n",
    "    upperallpoints = upperarc.GetOutput().GetCell(0).GetPoints()\n",
    "    upperNpoints = upperallpoints.GetNumberOfPoints()\n",
    "    pointslist = [upperallpoints.GetPoint(num) for num in range(upperNpoints)]\n",
    "    \n",
    "    lowerallpoints = lowerarc.GetOutput().GetCell(0).GetPoints()\n",
    "    lowerNpoints = lowerallpoints.GetNumberOfPoints()\n",
    "    \n",
    "    pointslist.extend([lowerallpoints.GetPoint(num) for num in range(lowerNpoints)])\n",
    "    \n",
    "    if remove_duplicates:\n",
    "        # remove points very close to each other\n",
    "        pointsdistances = np.array([np.nan] + list(np.linalg.norm(np.diff(pointslist, axis = 0), axis = 1)))\n",
    "\n",
    "        # np.nan in comparison to larger or smaller of machine resolution is always False\n",
    "        cleanpointslist = [pointslist[index] for index in np.nonzero(~(pointsdistances < np.finfo(np.float64).resolution))[0]]\n",
    "    else:\n",
    "        # TESTING TESTING TESTING\n",
    "        cleanpointslist = pointslist\n",
    "    \n",
    "    comboarcline.InsertNextCell(len(cleanpointslist))\n",
    "    \n",
    "    for num, point in enumerate(cleanpointslist):        \n",
    "        comboarcpoints.InsertPoint(num, point)\n",
    "        comboarcline.InsertCellPoint(num)\n",
    "\n",
    "    comboarc.Modified()\n",
    "    return comboarc"
   ]
  },
  {
   "cell_type": "code",
   "execution_count": null,
   "id": "e21ee111-d8e8-48e6-91e2-05b148c4de06",
   "metadata": {},
   "outputs": [],
   "source": [
    "combinationarclist = [combinearcs(upperarc = upperarc, lowerarc = lowerarc) for upperarc, lowerarc in zip(upperarclist, lowerarclist)]\n",
    "\n",
    "appendarcs = vtk.vtkAppendPolyData()\n",
    "\n",
    "appendarcs.SetInputData(combinationarclist[0])\n",
    "\n",
    "for midarc in combinationarclist[1:]:\n",
    "    appendarcs.AddInputData(midarc)\n",
    "\n",
    "appendarcs.Update()\n",
    "\n",
    "arc = vtk.vtkRuledSurfaceFilter()\n",
    "arc.SetInputConnection(appendarcs.GetOutputPort())\n",
    "\n",
    "arc.SetDistanceFactor(100.0)\n",
    "# orient loops such that the 0th points are always connected, default: not oriented (i.e. 0th point connected???)\n",
    "arc.SetOrientLoops(False)\n",
    "\n",
    "if False:\n",
    "    arc.SetResolution(800, 40)\n",
    "    arc.SetRuledModeToResample()\n",
    "else:\n",
    "    arc.SetRuledModeToPointWalk()\n",
    "\n",
    "arc.Update()"
   ]
  },
  {
   "cell_type": "markdown",
   "id": "2f1abcab-bf74-46b0-9b87-6f0e10a0aafa",
   "metadata": {},
   "source": [
    "# Make caps at the ends of the elliptical geometry"
   ]
  },
  {
   "cell_type": "code",
   "execution_count": null,
   "id": "f9ee9af6-a2cc-4aa9-a2b5-13c4a1d84f60",
   "metadata": {},
   "outputs": [],
   "source": [
    "arcposterior = vtk.vtkAppendPolyData()\n",
    "arcposterior.SetInputData(upperarcposterior.GetOutput())\n",
    "arcposterior.AddInputData(lowerarcposterior.GetOutput())\n",
    "arcposterior.Update()\n",
    "\n",
    "# Change the polylines into polygons\n",
    "capposterior = vtk.vtkPolyData()\n",
    "\n",
    "capposterior.SetPoints(arcposterior.GetOutput().GetPoints())\n",
    "capposterior.SetPolys(arcposterior.GetOutput().GetLines())\n",
    "\n",
    "arcanterior = vtk.vtkAppendPolyData()\n",
    "arcanterior.AddInputData(upperarcanterior.GetOutput())\n",
    "arcanterior.AddInputData(lowerarcanterior.GetOutput())\n",
    "arcanterior.Update()\n",
    "\n",
    "capanterior = vtk.vtkPolyData()\n",
    "capanterior.SetPoints(arcanterior.GetOutput().GetPoints())\n",
    "capanterior.SetPolys(arcanterior.GetOutput().GetLines())\n",
    "\n",
    "modelsLogic.AddModel(capanterior).SetName('anterior cap')\n",
    "modelsLogic.AddModel(capposterior).SetName('posterior cap')"
   ]
  },
  {
   "cell_type": "code",
   "execution_count": null,
   "id": "92de9050-fcc7-429f-a47d-051a19eb96df",
   "metadata": {},
   "outputs": [],
   "source": [
    "gc.collect()"
   ]
  },
  {
   "cell_type": "markdown",
   "id": "526e2323-c1ee-4d86-8edd-66be188f6d9c",
   "metadata": {},
   "source": [
    "# Make surface model of elliptical geometry"
   ]
  },
  {
   "cell_type": "code",
   "execution_count": null,
   "id": "54169507-f3b7-41ec-8d79-3e343cba1968",
   "metadata": {},
   "outputs": [],
   "source": [
    "arcmodel = modelsLogic.AddModel(arc.GetOutput())\n",
    "\n",
    "arcmodel.SetName('arc')\n",
    "\n",
    "arcmodel.GetDisplayNode().Visibility2DOn()\n",
    "arcmodel.GetDisplayNode().SetSliceDisplayModeToIntersection()\n",
    "arcmodel.GetDisplayNode().SetSliceIntersectionThickness(3)\n",
    "arcmodel.GetDisplayNode().SetColor(0.902, 0.02, 0.902)\n",
    "\n",
    "for nodename in ['upperarcposterior', 'lowerarcposterior', 'upperarcanterior', 'lowerarcanterior']:\n",
    "    m = slicer.mrmlScene.GetFirstNodeByName(nodename).GetDisplayNode()\n",
    "    m.SetVisibility(False)"
   ]
  },
  {
   "cell_type": "markdown",
   "id": "65fa929a-e71b-4686-84ec-70dca4b60171",
   "metadata": {},
   "source": [
    "# Append spline geometries"
   ]
  },
  {
   "cell_type": "code",
   "execution_count": null,
   "id": "c5b19517-a953-41d7-a221-e9f57f4fdfc8",
   "metadata": {},
   "outputs": [],
   "source": [
    "# bad results: need more intermediate spline profiles for a better ruled surface, surface points don't align well, makes surface appear twisted and cut lines curved instead of straight\n",
    "\n",
    "appendsplines = vtk.vtkAppendPolyData()\n",
    "\n",
    "# appendsplines.SetInputData(PKspline.GetCurveWorld())\n",
    "# appendsplines.AddInputData(AKspline.GetCurveWorld())\n",
    "\n",
    "appendsplines.SetInputData(Ksplinelist[0].GetCurveWorld())\n",
    "\n",
    "for midspline in Ksplinelist[1:]:\n",
    "    appendsplines.AddInputData(midspline.GetCurveWorld())\n",
    "\n",
    "appendsplines.Update()\n",
    "\n",
    "spline = vtk.vtkRuledSurfaceFilter()\n",
    "spline.SetInputConnection(appendsplines.GetOutputPort())\n",
    "\n",
    "spline.SetOrientLoops(False)\n",
    "\n",
    "spline.SetResolution(1000, 100)\n",
    "spline.SetRuledModeToResample()\n",
    "\n",
    "# spline.SetRuledModeToPointWalk()\n",
    "\n",
    "spline.Update()\n",
    "\n",
    "Ksplinemodel = modelsLogic.AddModel(spline.GetOutput())\n",
    "\n",
    "Ksplinemodel.SetName('spline')\n",
    "\n",
    "# Ksplinemodel = slicer.mrmlScene.GetFirstNodeByName('spline')\n",
    "\n",
    "kdn = Ksplinemodel.GetDisplayNode()\n",
    "\n",
    "kdn.Visibility2DOn()\n",
    "kdn.SetSliceDisplayModeToIntersection()\n",
    "kdn.SetSliceIntersectionThickness(3)\n",
    "kdn.SetColor(0.4, 1.0, 1.0)\n",
    "\n",
    "for m in [AKsplinenode, PKsplinenode]:\n",
    "    m.GetDisplayNode().SetVisibility(False)"
   ]
  },
  {
   "cell_type": "markdown",
   "id": "22a6363c-ef36-4b49-a900-bbad9be65d2e",
   "metadata": {},
   "source": [
    "# Combine all circular geometries"
   ]
  },
  {
   "cell_type": "code",
   "execution_count": null,
   "id": "928c2a78-8cc4-4d12-9f4f-104dde5a76ad",
   "metadata": {},
   "outputs": [],
   "source": [
    "Afullcircle = combinearcs(upperarc = Acircletop, lowerarc = Acircle)\n",
    "\n",
    "Pfullcircle = combinearcs(upperarc = Pcircletop, lowerarc = Pcircle)\n",
    "\n",
    "appendcircles = vtk.vtkAppendPolyData()\n",
    "\n",
    "appendcircles.SetInputData(Pfullcircle)\n",
    "appendcircles.AddInputData(Afullcircle)\n",
    "\n",
    "appendcircles.Update()\n",
    "\n",
    "circle = vtk.vtkRuledSurfaceFilter()\n",
    "circle.SetInputConnection(appendcircles.GetOutputPort())\n",
    "\n",
    "circle.SetOrientLoops(False)\n",
    "\n",
    "circle.SetResolution(1000, 100)\n",
    "circle.SetRuledModeToResample()\n",
    "\n",
    "# circle.SetRuledModeToPointWalk()\n",
    "\n",
    "circle.Update()\n",
    "\n",
    "circlemodel = modelsLogic.AddModel(circle.GetOutput())\n",
    "\n",
    "circlemodel.SetName('circle')\n",
    "\n",
    "circlemodel.GetDisplayNode().Visibility2DOn()\n",
    "circlemodel.GetDisplayNode().SetSliceDisplayModeToIntersection()\n",
    "circlemodel.GetDisplayNode().SetSliceIntersectionThickness(3)\n",
    "\n",
    "for m in [anteriorcirclemodel, anteriorcircletopmodel, posteriorcirclemodel, posteriorcircletopmodel]:\n",
    "    m.GetDisplayNode().Visibility2DOn()\n",
    "    m.GetDisplayNode().SetVisibility(False)"
   ]
  },
  {
   "cell_type": "code",
   "execution_count": null,
   "id": "14ead3e8-6ada-410d-9bb6-7fa8f463b039",
   "metadata": {},
   "outputs": [],
   "source": [
    "def updateCurve(vtkobject, Poriginal):\n",
    "    if False:\n",
    "        for p in range(vtkobject.GetNumberOfControlPoints()):\n",
    "            print(p, ': ', vtkobject.GetNthControlPointLabel(p))\n",
    "            v = np.zeros(3)\n",
    "            vtkobject.GetNthControlPointPositionWorld(p, v)\n",
    "            print(v)\n",
    "    \n",
    "    Pnew = slicer.util.arrayFromMarkupsControlPoints(vtkobject)\n",
    "\n",
    "    changearray, changecoord = np.where(Poriginal != Pnew)\n",
    "\n",
    "    # which point was changed?\n",
    "    if np.all(changearray == 0):\n",
    "        changeindex = 0\n",
    "    elif np.all(changearray == 1):\n",
    "        changeindex = 1\n",
    "    elif np.all(changearray == 2):\n",
    "        changeindex = 2\n",
    "    elif np.all(changearray == 3):\n",
    "        changeindex = 3\n",
    "    else:\n",
    "        print(\"ERROR: changearray doesn't match single index requirement: \", changearray)\n",
    "    \n",
    "    newarray = Pnew\n",
    "    \n",
    "    # moving in RA or AS plane: rearrange into single plane parallel to RS plane, i.e. change their A values to the same (in RAS coordinates)\n",
    "    if 1 in changecoord:\n",
    "        newAcoord = Pnew[changeindex, 1]\n",
    "\n",
    "        newarray[:, 1] = newAcoord\n",
    "\n",
    "    # moving point 0, base point\n",
    "    elif changeindex == 0:\n",
    "        if 0 in changecoord:\n",
    "            # only change the center point\n",
    "            newarray[1, 0] = Pnew[changeindex, 0]\n",
    "            # newarray[2, 0] += Pnew[changeindex, 0] - Poriginal[changeindex, 0]\n",
    "            # change the Kamm point\n",
    "            newarray[3, 0] = Pnew[changeindex, 0]\n",
    "\n",
    "        if inferior_superior_symmetric:\n",
    "            if 2 in changecoord:\n",
    "                newarray[3, 2] -= Pnew[changeindex, 2] - Poriginal[changeindex, 2]\n",
    "\n",
    "    # moving point 2, at the medial superior edge of the vocal folds\n",
    "    elif changeindex == 2:\n",
    "        major = np.abs(Poriginal[2, 0] - Poriginal[1, 0]) # medial-lateral width\n",
    "        newmajor = np.abs(Pnew[2, 0] - Pnew[1, 0]) # new medial-lateral width\n",
    "        \n",
    "        minor = np.abs(Poriginal[0, 2] - Poriginal[1, 2]) # inferior-superior height\n",
    "        newminor = np.abs(Pnew[0, 2] - Poriginal[1, 2]) # new inferior-superior height\n",
    "        \n",
    "        ratio = minor / major\n",
    "        newratio = newminor / newmajor\n",
    "        \n",
    "        kamm = np.abs(Poriginal[3, 2] - Poriginal[1, 2]) # inferior-superior distance\n",
    "        \n",
    "        if inferior_superior_symmetric:\n",
    "            ratioKamm = newratio\n",
    "        else:\n",
    "            ratioKamm = kamm / major\n",
    "        \n",
    "        if 0 in changecoord:\n",
    "            # change Kamm point as the major radius changes\n",
    "            newarray[3, 2] = Poriginal[1, 2] + ratioKamm * newmajor\n",
    "        if 2 in changecoord:\n",
    "            # only change the center point\n",
    "            newarray[1, 2] = Pnew[changeindex, 2]\n",
    "            # newarray[0, 2] += Pnew[changeindex, 2] - Poriginal[changeindex, 2]\n",
    "            # change Kamm point\n",
    "            if inferior_superior_symmetric:\n",
    "                newarray[3, 2] = Poriginal[1, 2] + ratioKamm * newmajor\n",
    "            else:\n",
    "                newarray[3, 2] += Pnew[changeindex, 2] - Poriginal[changeindex, 2]\n",
    "\n",
    "    # moving point 3, the Kamm point\n",
    "    elif changeindex == 3:\n",
    "        if inferior_superior_symmetric:\n",
    "            # do not change at all\n",
    "            newarray[changeindex, :] = Poriginal[changeindex, :]\n",
    "        elif 0 in changecoord:\n",
    "            # do not change when moving in R kamm_direction, keep aligned to center point\n",
    "            newarray[changeindex, 0] = Poriginal[1, 0]\n",
    "\n",
    "    # moving the center point moves ALL others\n",
    "    if changeindex == 1: # moved only in RS plane, keep lines perpendicular to each other\n",
    "        if 0 in changecoord:\n",
    "            newarray[0, 0] = Pnew[changeindex, 0]\n",
    "            newarray[2, 0] += Pnew[changeindex, 0] - Poriginal[changeindex, 0]\n",
    "            newarray[3, 0] = Pnew[changeindex, 0]\n",
    "        if 2 in changecoord:\n",
    "            newarray[0, 2] += Pnew[changeindex, 2] - Poriginal[changeindex, 2]\n",
    "            newarray[2, 2] = Pnew[changeindex, 2]\n",
    "            newarray[3, 2] += Pnew[changeindex, 2] - Poriginal[changeindex, 2]\n",
    "    \n",
    "    slicer.util.updateMarkupsControlPointsFromArray(vtkobject, newarray, world = True)\n",
    "\n",
    "    slicer.util.forceRenderAllViews()\n",
    "\n",
    "    Poriginal = slicer.util.arrayFromMarkupsControlPoints(vtkobject)\n",
    "\n",
    "    return Poriginal"
   ]
  },
  {
   "cell_type": "code",
   "execution_count": null,
   "id": "636ce09e-8ecf-443c-bbdf-bdefcfa5ad9f",
   "metadata": {},
   "outputs": [],
   "source": [
    "inferior_superior_symmetric = False"
   ]
  },
  {
   "cell_type": "code",
   "execution_count": null,
   "id": "5ede1a93-4ab3-4a0c-908a-6f9a4699f326",
   "metadata": {},
   "outputs": [],
   "source": [
    "def updatespline(vtkobject, AKspline):\n",
    "    # also works for posterior!!!\n",
    "\n",
    "    global appendsplines, spline\n",
    "    \n",
    "    anterior_major_minor = vtkobject\n",
    "    \n",
    "    AMm = dict()\n",
    "\n",
    "    for ncp in range(anterior_major_minor.GetNumberOfControlPoints()):\n",
    "        # print(anterior_major_minor.GetNthControlPointLabel(ncp))\n",
    "        # print(anterior_major_minor.GetNthControlPointPositionWorld(ncp))\n",
    "    \n",
    "        AMm[anterior_major_minor.GetNthControlPointLabel(ncp)] = list(anterior_major_minor.GetNthControlPointPositionWorld(ncp))\n",
    "    \n",
    "    # anterior-posterior location\n",
    "    anterior_location = AMm['inferior minor radius'][1]\n",
    "    \n",
    "    anterior_major_radius = np.abs(AMm['major radius'][0] - AMm['minor radius'][0]) # horizontal width\n",
    "    \n",
    "    anterior_ratio =  np.abs(AMm['minor radius'][2] - AMm['inferior minor radius'][2]) / anterior_major_radius # vertical height\n",
    "    \n",
    "    anterior_base_R = AMm['inferior minor radius'][0]\n",
    "    anterior_base_S = AMm['inferior minor radius'][2]\n",
    "\n",
    "    if inferior_superior_symmetric:\n",
    "        kamm_ratio = anterior_ratio\n",
    "\n",
    "    AKspline.SetNthControlPointPosition(0, [anterior_base_R, anterior_location, anterior_base_S])\n",
    "    # AKspline.AddControlPointWorld([anterior_base_R, anterior_location, anterior_base_S], \"inferior minor radius\")\n",
    "\n",
    "    AKspline.SetNthControlPointPosition(1, [anterior_base_R + anterior_major_radius, anterior_location, anterior_base_S + anterior_ratio * anterior_major_radius])\n",
    "    # AKspline.AddControlPointWorld([anterior_base_R + anterior_major_radius, anterior_location, anterior_base_S + anterior_ratio * anterior_major_radius], \"- (lateral) major radius\")\n",
    "\n",
    "    AKspline.SetNthControlPointPosition(2, [anterior_base_R, anterior_location, anterior_base_S + anterior_ratio * anterior_major_radius + kamm_ratio * anterior_major_radius])\n",
    "    # AKspline.AddControlPointWorld([anterior_base_R, anterior_location, anterior_base_S + anterior_ratio * anterior_major_radius + kamm_ratio * anterior_major_radius], \"superior Kamm\")\n",
    "    \n",
    "    AKspline.SetNthControlPointPosition(3, [anterior_base_R - anterior_major_radius, anterior_location, anterior_base_S + anterior_ratio * anterior_major_radius])\n",
    "    # AKspline.AddControlPointWorld([anterior_base_R - anterior_major_radius, anterior_location, anterior_base_S + anterior_ratio * anterior_major_radius], \"+ (medial) major radius\")\n",
    "\n",
    "    appendsplines.Update()\n",
    "    spline.Update()\n",
    "    slicer.util.forceRenderAllViews()\n",
    "\n",
    "    return AKspline"
   ]
  },
  {
   "cell_type": "code",
   "execution_count": null,
   "id": "46d99a6b-143c-41e0-b2c0-029ef77cab6c",
   "metadata": {},
   "outputs": [],
   "source": [
    "def updateFromAnteriorMajorMinor(param1 = None, param2 = None):\n",
    "    # param1: vtkobject\n",
    "    # param2: event ID\n",
    "\n",
    "    vtkobject = param1\n",
    "    eventID = param2\n",
    "    \n",
    "    global anterior_handle, Aoriginal, AKspline, appendsplines, spline\n",
    "\n",
    "    vtkobject.RemoveObserver(anterior_handle)\n",
    "    \n",
    "    Aoriginal = updateCurve(vtkobject, Aoriginal)\n",
    "\n",
    "    anterior_handle = vtkobject.AddObserver(slicer.vtkMRMLMarkupsCurveNode.PointModifiedEvent, updateFromAnteriorMajorMinor, 1)"
   ]
  },
  {
   "cell_type": "code",
   "execution_count": null,
   "id": "a03df9d3-ec53-40d0-94cf-cc6214af125f",
   "metadata": {},
   "outputs": [],
   "source": [
    "def onAnteriorEndInteraction(vtkobject, eventID):\n",
    "    global AKspline\n",
    "\n",
    "    AKspline = updatespline(vtkobject, AKspline)\n",
    "\n",
    "    kdn = slicer.mrmlScene.GetFirstNodeByName('spline').GetDisplayNode()\n",
    "    kdn.Visibility2DOff()\n",
    "    kdn.Visibility2DOn()    "
   ]
  },
  {
   "cell_type": "code",
   "execution_count": null,
   "id": "73ab91cd-3be5-4d37-9f5c-81ca0ed77810",
   "metadata": {},
   "outputs": [],
   "source": [
    "def updateFromPosteriorMajorMinor(param1 = None, param2 = None):\n",
    "    # param1: vtkobject\n",
    "    # param2: event ID\n",
    "\n",
    "    vtkobject = param1\n",
    "    eventID = param2\n",
    "\n",
    "    global posterior_handle, Poriginal, PKspline, appendsplines, spline\n",
    "    \n",
    "    vtkobject.RemoveObserver(posterior_handle)\n",
    "    \n",
    "    Poriginal = updateCurve(vtkobject, Poriginal)\n",
    "\n",
    "    if False:\n",
    "        PKspline = updatespline(vtkobject, PKspline)\n",
    "        \n",
    "        kdn = slicer.mrmlScene.GetFirstNodeByName('spline').GetDisplayNode()\n",
    "        kdn.Visibility2DOff()\n",
    "        kdn.Visibility2DOn()\n",
    "\n",
    "    posterior_handle = vtkobject.AddObserver(slicer.vtkMRMLMarkupsCurveNode.PointModifiedEvent, updateFromPosteriorMajorMinor, 1)"
   ]
  },
  {
   "cell_type": "code",
   "execution_count": null,
   "id": "46d59ce7-008b-46f4-bc04-8e7615d75cf3",
   "metadata": {},
   "outputs": [],
   "source": [
    "Aoriginal = slicer.util.arrayFromMarkupsControlPoints(anterior_major_minor)\n",
    "\n",
    "anterior_handle = anterior_major_minor.AddObserver(slicer.vtkMRMLMarkupsCurveNode.PointModifiedEvent, updateFromAnteriorMajorMinor, 1)"
   ]
  },
  {
   "cell_type": "code",
   "execution_count": null,
   "id": "58579111-e1e1-485c-a3d9-c7e831be965e",
   "metadata": {},
   "outputs": [],
   "source": [
    "anterior_end_handle = anterior_major_minor.AddObserver(slicer.vtkMRMLMarkupsCurveNode.PointEndInteractionEvent, onAnteriorEndInteraction, 1)\n",
    "\n",
    "Poriginal = slicer.util.arrayFromMarkupsControlPoints(posterior_major_minor)\n",
    "\n",
    "posterior_handle = posterior_major_minor.AddObserver(slicer.vtkMRMLMarkupsCurveNode.PointModifiedEvent, updateFromPosteriorMajorMinor, 1)"
   ]
  },
  {
   "cell_type": "code",
   "execution_count": null,
   "id": "d1c9fcc7-1ee1-4966-a92e-7c2877a56820",
   "metadata": {},
   "outputs": [],
   "source": [
    "anterior_major_minor.RemoveObserver(anterior_handle)"
   ]
  },
  {
   "cell_type": "code",
   "execution_count": null,
   "id": "2c9e9648-db74-48a1-9501-1cdf75dc904d",
   "metadata": {},
   "outputs": [],
   "source": [
    "posterior_major_minor.RemoveObserver(posterior_handle)\n",
    "\n",
    "anterior_major_minor.RemoveObserver(anterior_end_handle)"
   ]
  },
  {
   "cell_type": "code",
   "execution_count": null,
   "id": "f9c0ae22-9e38-4d1e-ad4b-b939ec4924f4",
   "metadata": {},
   "outputs": [],
   "source": [
    "gc.collect()"
   ]
  },
  {
   "cell_type": "code",
   "execution_count": null,
   "id": "5bc45a21-8159-434d-8cdb-1434c2d92f03",
   "metadata": {},
   "outputs": [],
   "source": [
    "assert arcmodel == slicer.mrmlScene.GetFirstNodeByName('arc')\n",
    "assert slabmodel == slicer.mrmlScene.GetFirstNodeByName('Slab')"
   ]
  },
  {
   "cell_type": "code",
   "execution_count": null,
   "id": "cbfb24e9-f808-4b76-975f-6c2effca30d2",
   "metadata": {},
   "outputs": [],
   "source": []
  },
  {
   "cell_type": "code",
   "execution_count": null,
   "id": "0a7ffe77-f5a9-4e9b-b26b-53e5794248f6",
   "metadata": {},
   "outputs": [],
   "source": [
    "b = vtk.vtkBooleanOperationPolyDataFilter()"
   ]
  },
  {
   "cell_type": "code",
   "execution_count": null,
   "id": "9e0963b3-1f4a-4eeb-b75e-c5feb22a1a74",
   "metadata": {},
   "outputs": [],
   "source": [
    "vtk.vtkTriangleFilter()"
   ]
  },
  {
   "cell_type": "code",
   "execution_count": null,
   "id": "1f1fad43-f955-48be-94b6-c77bf7662ef5",
   "metadata": {},
   "outputs": [],
   "source": [
    "vtk.vtkCleanPolyData()"
   ]
  },
  {
   "cell_type": "code",
   "execution_count": null,
   "id": "4fb62d3a-e008-4694-9642-121781a74138",
   "metadata": {},
   "outputs": [],
   "source": [
    "b.SetOperationToDifference()"
   ]
  },
  {
   "cell_type": "code",
   "execution_count": null,
   "id": "980981f7-07fb-4c3c-97bc-e2ad024b72f8",
   "metadata": {},
   "outputs": [],
   "source": [
    "b.SetOperationToUnion()"
   ]
  },
  {
   "cell_type": "code",
   "execution_count": null,
   "id": "4059a70f-9e01-466d-bae9-9a3e175f022c",
   "metadata": {},
   "outputs": [],
   "source": [
    "b.SetOperationToIntersection()"
   ]
  },
  {
   "cell_type": "code",
   "execution_count": null,
   "id": "04f7fbd5-fdef-4e40-aa2a-ec9694ef97a2",
   "metadata": {},
   "outputs": [],
   "source": [
    "closedarc = slicer.mrmlScene.GetFirstNodeByName('closedarc')\n",
    "\n",
    "slabthyroid = slicer.mrmlScene.GetFirstNodeByName('slab thyroid')"
   ]
  },
  {
   "cell_type": "code",
   "execution_count": null,
   "id": "d1192e4e-148d-43a7-b502-8dc3e1e44541",
   "metadata": {},
   "outputs": [],
   "source": [
    "b.SetInputConnection(0, slabthyroid.GetPolyDataConnection())\n",
    "\n",
    "b.SetInputConnection(1, closedarc.GetPolyDataConnection())\n",
    "\n",
    "b.Update()"
   ]
  },
  {
   "cell_type": "code",
   "execution_count": null,
   "id": "2965e73d-712e-46d2-93f9-d46ed30ab547",
   "metadata": {},
   "outputs": [],
   "source": [
    "b.GetOutput().GetNumberOfPoints()"
   ]
  },
  {
   "cell_type": "code",
   "execution_count": null,
   "id": "c91bcc1a-eeeb-4238-86f1-e17d7cbfa753",
   "metadata": {},
   "outputs": [],
   "source": [
    "modelsLogic.AddModel(b.GetOutputPort())"
   ]
  },
  {
   "cell_type": "code",
   "execution_count": null,
   "id": "7cd2979d-5802-42bc-944c-49e15e05e8e8",
   "metadata": {},
   "outputs": [],
   "source": []
  },
  {
   "cell_type": "code",
   "execution_count": null,
   "id": "bd01f6d4-6934-42e5-a190-c2c9fc8fcfd4",
   "metadata": {},
   "outputs": [],
   "source": [
    "b.SetInputConnection()"
   ]
  },
  {
   "cell_type": "code",
   "execution_count": null,
   "id": "c1d5d770-bfc6-4fe8-b12b-a15ca8a0e2c3",
   "metadata": {},
   "outputs": [],
   "source": [
    "segmentationGeometryLogic = slicer.vtkSlicerSegmentationGeometryLogic()"
   ]
  },
  {
   "cell_type": "code",
   "execution_count": null,
   "id": "e7bdd944-9541-4d72-8cea-1ef8379a2316",
   "metadata": {},
   "outputs": [],
   "source": [
    "# Create segmentation node\n",
    "\n",
    "segmentationNode = slicer.mrmlScene.AddNewNodeByClass(\"vtkMRMLSegmentationNode\")\n",
    "segmentationNode.CreateDefaultDisplayNodes() \n",
    "\n",
    "# Set segmentation resolution (for closed surface to binary labelmap conversion)\n",
    "geometryImageData = slicer.vtkOrientedImageData()\n",
    "geometryImageData.SetSpacing(0.15, 0.15, 0.15)\n",
    "\n",
    "geometryString = slicer.vtkSegmentationConverter.SerializeImageGeometry(geometryImageData)\n",
    "\n",
    "segmentationNode.GetSegmentation().SetConversionParameter(slicer.vtkSegmentationConverter.GetReferenceImageGeometryParameterName(), geometryString)\n",
    "\n",
    "# Add segment from polydata\n",
    "\n",
    "cyl = vtk.vtkCylinderSource()\n",
    "cyl.SetRadius(20.0)\n",
    "cyl.SetHeight(60.0)\n",
    "cyl.SetResolution(60)\n",
    "cyl.CappingOff()\n",
    "\n",
    "modeller = vtk.vtkImplicitModeller()\n",
    "modeller.SetInputConnection(cyl.GetOutputPort())\n",
    "modeller.SetAdjustDistance(0.20) # make sure the thickened model fits in output bounds\n",
    "\n",
    "thickness = 5.0\n",
    "contourFilter = vtk.vtkContourFilter()\n",
    "contourFilter.SetInputConnection(modeller.GetOutputPort())\n",
    "contourFilter.SetValue(0, thickness/2.0)\n",
    "contourFilter.Update()\n",
    "\n",
    "segmentationNode.AddSegmentFromClosedSurfaceRepresentation(contourFilter.GetOutput(), \"Cylinder\", [0.0, 1.0, 0.0])"
   ]
  },
  {
   "cell_type": "code",
   "execution_count": null,
   "id": "07d49181-59e0-4f03-9384-69c06fd46fad",
   "metadata": {},
   "outputs": [],
   "source": []
  },
  {
   "cell_type": "code",
   "execution_count": null,
   "id": "92117bbd-81a9-48d7-bfef-9d9d400d1d94",
   "metadata": {},
   "outputs": [],
   "source": [
    "print(slicer.mrmlScene.GetFirstNodeByName('Segmentation'))"
   ]
  },
  {
   "cell_type": "code",
   "execution_count": null,
   "id": "b9df7532-bad2-4e75-a165-e7dff6de9d07",
   "metadata": {},
   "outputs": [],
   "source": []
  },
  {
   "cell_type": "code",
   "execution_count": null,
   "id": "3b4a9741-ffc7-45df-80f0-7e7f8fcbf3c4",
   "metadata": {},
   "outputs": [],
   "source": [
    "upperarc = vtk.vtkAppendPolyData()\n",
    "\n",
    "upperarc.SetInputConnection(upperarcposterior.GetOutputPort())\n",
    "upperarc.AddInputConnection(upperarcanterior.GetOutputPort())\n",
    "\n",
    "upperarc.AddInputData(upperarcposterior.GetOutput())\n",
    "upperarc.AddInputData(upperarcanterior.GetOutput())\n",
    "upperarc.Update()\n",
    "\n",
    "upperarcsurface = vtk.vtkRuledSurfaceFilter()\n",
    "upperarcsurface.SetInputData(upperarc.GetOutput())\n",
    "if 1:\n",
    "    upperarcsurface.SetResolution(201, 41)\n",
    "    upperarcsurface.SetRuledModeToResample()\n",
    "else:\n",
    "    upperarcsurface.SetRuledModeToPointWalk()\n",
    "upperarcsurface.Update()\n",
    "\n",
    "lowerarc = vtk.vtkAppendPolyData()\n",
    "lowerarc.AddInputData(lowerarcposterior.GetOutput())\n",
    "lowerarc.AddInputData(lowerarcanterior.GetOutput())\n",
    "lowerarc.Update()\n",
    "\n",
    "lowerarcsurface = vtk.vtkRuledSurfaceFilter()\n",
    "lowerarcsurface.SetInputData(lowerarc.GetOutput())\n",
    "if 1:\n",
    "    lowerarcsurface.SetResolution(101, 41)\n",
    "    lowerarcsurface.SetRuledModeToResample()\n",
    "else:\n",
    "    lowerarcsurface.SetRuledModeToPointWalk()\n",
    "lowerarcsurface.Update()\n",
    "\n",
    "appendarcs = vtk.vtkAppendPolyData()\n",
    "appendarcs.AddInputData(upperarcsurface.GetOutput())\n",
    "appendarcs.AddInputData(lowerarcsurface.GetOutput())\n",
    "appendarcs.Update()\n",
    "\n",
    "ruledsurfacemodel = modelsLogic.AddModel(appendarcs.GetOutput())\n",
    "\n",
    "comment = 'Kamm %.1f' % kamm_ratio\n",
    "if symmetric:\n",
    "    comment = 'symmetric'\n",
    "\n",
    "ruledsurfacemodel.SetName('test ruled arcs' + ' ' + comment)\n",
    "\n",
    "dn = ruledsurfacemodel.GetDisplayNode()\n",
    "dn.SetSliceIntersectionVisibility(True)\n",
    "dn.SetSliceDisplayModeToIntersection()\n",
    "dn.SetSliceIntersectionThickness(3)\n",
    "# dn.SetColor(0.902, 0.020, 0.902)\n",
    "\n",
    "dn.SetVisibility2D(True)\n",
    "dn.SetVisibility3D(True)\n",
    "\n",
    "slicer.util.forceRenderAllViews()"
   ]
  },
  {
   "cell_type": "code",
   "execution_count": null,
   "id": "2ba90846-651d-4c1d-aa27-7e9d767bbc66",
   "metadata": {},
   "outputs": [],
   "source": []
  },
  {
   "cell_type": "code",
   "execution_count": null,
   "id": "383945f6-c207-4def-9b36-005cfd7c48a0",
   "metadata": {},
   "outputs": [],
   "source": [
    "arctransform = slicer.vtkMRMLTransformNode()\n",
    "arctransform.SetName('Transform arc')\n",
    "\n",
    "slicer.mrmlScene.AddNode(arctransform)\n",
    "\n",
    "arcmodel.SetAndObserveTransformNodeID(arctransform.GetID())\n",
    "\n",
    "arctransform.CreateDefaultDisplayNodes()\n",
    "\n",
    "# manually right click on arcmodel node and set \"Interaction in 3D view\" to create an Interaction_arc transformation node\n",
    "# manually expand the Display sub-menu in Edit Properties of the transformation node\n",
    "# OBSOLETE: arctransform.CreateDefaultDisplayNodes()\n",
    "\n",
    "arctransform == arcmodel.GetParentTransformNode()\n",
    "\n",
    "tdn = arctransform.GetDisplayNode()\n",
    "\n",
    "tdn.SetVisibility(False)\n",
    "\n",
    "tdn.SetVisibility2D(False)\n",
    "tdn.SetVisibility3D(False)\n",
    "\n",
    "tdn.SetEditorVisibility(True)\n",
    "tdn.SetEditorSliceIntersectionVisibility(True)\n",
    "\n",
    "tdn.SetEditorTranslationEnabled(True)\n",
    "tdn.SetTranslationHandleComponentVisibility(True, True, True, True)\n",
    "tdn.SetEditorRotationEnabled(True)\n",
    "tdn.SetRotationHandleComponentVisibility(True, True, True, True)\n",
    "tdn.SetEditorScalingEnabled(True)\n",
    "tdn.SetScaleHandleComponentVisibility(True, True, True, True)\n",
    "\n",
    "tdn.SetEditorVisibility(False)"
   ]
  },
  {
   "cell_type": "code",
   "execution_count": null,
   "id": "69eed0e2-a09b-4bdf-9e36-cdd17c1fc9bf",
   "metadata": {},
   "outputs": [],
   "source": [
    "\n",
    "handlecenter = np.array(arctransform.GetCenterOfTransformation())\n",
    "\n",
    "handlematrix = vtk.vtkMatrix4x4()\n",
    "arctransform.GetMatrixTransformToWorld(handlematrix)\n",
    "\n",
    "handlerotation = slicer.util.arrayFromVTKMatrix(handlematrix)[:3, :]\n",
    "\n",
    "# coordinate system of the interaction handle: local x direction in direction of R of RAS, so XYZ correspond to RAS\n",
    "handleNx = handlerotation[:, 0]\n",
    "handleNy = handlerotation[:, 1]\n",
    "handleNz = handlerotation[:, 2]    \n",
    "handlelocation = handlerotation[:, 3]\n",
    " "
   ]
  },
  {
   "cell_type": "code",
   "execution_count": null,
   "id": "6503afc7-a2b2-49e9-8801-079fec8c9ded",
   "metadata": {},
   "outputs": [],
   "source": [
    "np.linalg.norm(handleNx)"
   ]
  },
  {
   "cell_type": "code",
   "execution_count": null,
   "id": "dc09d036-b01e-43ea-90ce-7202bd983163",
   "metadata": {},
   "outputs": [],
   "source": [
    "np.linalg.norm(handleNy)"
   ]
  },
  {
   "cell_type": "code",
   "execution_count": null,
   "id": "32011200-5fde-43b6-b6a5-b8a00cd24bd9",
   "metadata": {},
   "outputs": [],
   "source": [
    "np.linalg.norm(handleNz)"
   ]
  },
  {
   "cell_type": "code",
   "execution_count": null,
   "id": "f24d66bf-41a7-4aba-8eb8-ea25969cc344",
   "metadata": {},
   "outputs": [],
   "source": [
    "newtransform = np.identity(4)\n",
    "\n",
    "newtransform[:3, 0] = handleNx\n",
    "newtransform[:3, 1] = handleNy\n",
    "newtransform[:3, 2] = handleNz\n",
    "\n",
    "newtransform[:3, 3] = handlelocation + np.array([0, -10, 0])\n",
    "\n",
    "arctransform.SetMatrixTransformToParent(slicer.util.vtkMatrixFromArray(newtransform))"
   ]
  },
  {
   "cell_type": "code",
   "execution_count": null,
   "id": "63e62229-277c-4ff8-b8a4-8b15bf6a914c",
   "metadata": {},
   "outputs": [],
   "source": [
    "print(arctransform.GetMatrixTransformToParent())"
   ]
  },
  {
   "cell_type": "code",
   "execution_count": null,
   "id": "701db67c-e55b-4a2c-b5e7-4a3ae3f6def9",
   "metadata": {},
   "outputs": [],
   "source": [
    "toworld = vtk.vtkMatrix4x4()\n",
    "arctransform.GetMatrixTransformToWorld(toworld)\n",
    "print(toworld)"
   ]
  },
  {
   "cell_type": "code",
   "execution_count": null,
   "id": "2b36213c-14a9-4924-be32-8e1aacc9c976",
   "metadata": {},
   "outputs": [],
   "source": [
    "print(arctransform.GetMatrixTransformToParent())"
   ]
  },
  {
   "cell_type": "code",
   "execution_count": null,
   "id": "f69cd025-092d-47a3-a002-003a7d1fda73",
   "metadata": {},
   "outputs": [],
   "source": [
    "def updateFromImplantLine(param1 = None, param2 = None):\n",
    "    Lp0 = np.zeros(3)\n",
    "    Lp1 = np.zeros(3)\n",
    "    implantlinenode.GetLineStartPositionWorld(Lp0)\n",
    "    implantlinenode.GetLineEndPositionWorld(Lp1)\n",
    "    \n",
    "    implantlinevector = Lp1 - Lp0\n",
    "    \n",
    "    # implantlinelength = np.linalg.norm(implantline)\n",
    "    implantlinelength = implantlinenode.GetLineLengthWorld()\n",
    "\n",
    "    implantlinedirection = implantlinevector / implantlinelength\n",
    "    \n",
    "    handlematrix = implantlinenode.GetInteractionHandleToWorldMatrix()\n",
    "    handlerotation = slicer.util.arrayFromVTKMatrix(handlematrix)[:3, :]\n",
    "\n",
    "    # coordinate system of the interaction handle: local x direction always in direction of the line, from P0 to P1\n",
    "    handleNx = handlerotation[:, 0]\n",
    "    handleNy = handlerotation[:, 1]\n",
    "    handleNz = handlerotation[:, 2]    \n",
    "    handlelocation = handlerotation[:, 3]\n",
    "    \n",
    "    #######\n",
    "    # arc.SetCenter(Lp0)\n",
    "    \n",
    "    # Set normal vector. Represents the plane in which the ellipse will be drawn.\n",
    "    arcnormal = implantlinedirection\n",
    "    # arc.SetNormal(arcnormal)\n",
    "    arcnormal = np.array(arc.GetNormal())\n",
    "    \n",
    "    # defines the origin of polar angle and the major radius size\n",
    "    majorRadiusVector = np.array(arc.GetMajorRadiusVector())\n",
    "    major_radius = np.linalg.norm(majorRadiusVector)\n",
    "    # majorRadiusVector = handleNz * major_radius\n",
    "    # arc.SetMajorRadiusVector(majorRadiusVector)\n",
    "    \n",
    "    extrude_arc.SetVector(arcnormal * implantlinelength)\n",
    "    \n",
    "    extrude_arc.Update()\n",
    "    #######\n",
    "\n",
    "    # arctransform.SetCenterOfTransformation(Lp0)\n",
    "    arctransform.SetCenterOfTransformation(0, 0, 0)\n",
    "\n",
    "    newtransform = np.identity(4)\n",
    "\n",
    "    newtransform[:3, 0] = -handleNy\n",
    "    newtransform[:3, 1] = handleNx\n",
    "    newtransform[:3, 2] = handleNz\n",
    "    \n",
    "    newtransform[:3, 3] = Lp0 # handlelocation + np.array([0, -10, 0])\n",
    "    \n",
    "    arctransform.SetMatrixTransformToParent(slicer.util.vtkMatrixFromArray(newtransform))\n",
    "\n",
    "    #######\n",
    "\n",
    "    if 0:\n",
    "        extrude_arc.SetScaleFactor(1)\n",
    "        extrude_arc.SetVector(arcnormal * implantlinelength)\n",
    "        extrude_arc.Update()\n",
    "    \n",
    "        sx, sy, sz = t.GetScale()\n",
    "        \n",
    "        arctransform.Identity()\n",
    "        \n",
    "        arctransform.Translate(Lp0)\n",
    "        \n",
    "        cylinderrotation = np.identity(4)\n",
    "    \n",
    "        # Set normal vector. Represents the plane in which the ellipse will be drawn.\n",
    "        # arcnormal = np.array([0, LzSI, 0]) / LzSI\n",
    "    \n",
    "        # z axis of cylinder points in implant line direction handleNx\n",
    "        cylinderrotation[:3, 2] = handleNx\n",
    "        \n",
    "        # x and y direction: cyclical permutation\n",
    "        cylinderrotation[:3, 0] = handleNy\n",
    "        cylinderrotation[:3, 1] = handleNz\n",
    "        \n",
    "        t.Concatenate(slicer.util.vtkMatrixFromArray(cylinderrotation))\n",
    "        \n",
    "        extrude_arc.Update()\n",
    "\n",
    "    ############################\n",
    "\n",
    "    try:\n",
    "        medialplanenode.SetNormal(handleNy.tolist())\n",
    "    except:\n",
    "        pass\n",
    "    else:\n",
    "        # ratio = minor_radius / major_radius\n",
    "        minor_radius = np.linalg.norm(arc.GetMajorRadiusVector()) * arc.GetRatio()\n",
    "        \n",
    "        tangentlocation = handlelocation + minor_radius * handleNy\n",
    "        medialplanenode.SetCenter(tangentlocation.tolist())\n",
    "        \n",
    "        # plane x axis in direction of implant line\n",
    "        medialplanenode.SetAxes(handleNx.tolist(), (-handleNz).tolist(), handleNy.tolist())\n",
    "        \n",
    "        implantlinelength = implantlinenode.GetLineLengthWorld()\n",
    "        # medialplanenode.SetSize(implantlinelength, 2 * rzSI)\n",
    "    \n",
    "        medialplanenode.SetPlaneBounds(-implantlinelength / 2.0, implantlinelength / 2.0, -major_radius, major_radius)\n",
    "\n",
    "    slicer.util.forceRenderAllViews()"
   ]
  },
  {
   "cell_type": "code",
   "execution_count": null,
   "id": "9b5ee397-8b00-4509-b911-7ad2cf633398",
   "metadata": {},
   "outputs": [],
   "source": [
    "def followImplantLine(param1 = None, param2 = None):\n",
    "    # param1: vtkobject\n",
    "    # param2: event ID\n",
    "\n",
    "    # print(param1)\n",
    "    # print(param2)\n",
    "    \n",
    "    global medialplaneobserver\n",
    "\n",
    "    medialplanenode.RemoveObserver(medialplaneobserver)\n",
    "\n",
    "    updateFromImplantLine()\n",
    "\n",
    "    medialplaneobserver = medialplanenode.AddObserver(slicer.vtkMRMLMarkupsPlaneNode.PointModifiedEvent, followmedialplane, 1)"
   ]
  },
  {
   "cell_type": "code",
   "execution_count": null,
   "id": "29859770-141e-489a-afaa-5124c88da086",
   "metadata": {},
   "outputs": [],
   "source": [
    "updateFromImplantLine()"
   ]
  },
  {
   "cell_type": "code",
   "execution_count": null,
   "id": "bae07670-b4a3-44f1-9119-0e3cae426c69",
   "metadata": {},
   "outputs": [],
   "source": [
    "implantupdatehandle = implantlinenode.AddObserver(slicer.vtkMRMLMarkupsLineNode.PointModifiedEvent, updateFromImplantLine, 1)"
   ]
  },
  {
   "cell_type": "code",
   "execution_count": null,
   "id": "01420818-2801-4ae5-957f-2bf322836d9e",
   "metadata": {},
   "outputs": [],
   "source": [
    "implantlinenode.RemoveObserver(implantupdatehandle)"
   ]
  },
  {
   "cell_type": "markdown",
   "id": "9f5e407d-74e9-4c0d-be76-e69f0a940fa5",
   "metadata": {},
   "source": [
    "# Segmentation"
   ]
  },
  {
   "cell_type": "code",
   "execution_count": null,
   "id": "b77527d9-5331-443c-8d43-0e8133750ec1",
   "metadata": {},
   "outputs": [],
   "source": [
    "slicer.util.selectModule('SegmentEditor')"
   ]
  },
  {
   "cell_type": "code",
   "execution_count": null,
   "id": "69c72465-def7-42da-bd29-b493905b6fcd",
   "metadata": {},
   "outputs": [],
   "source": [
    "segmentEditorNode = slicer.mrmlScene.GetNodesByClass('vtkMRMLSegmentEditorNode').GetItemAsObject(0)\n",
    "# print(segmentEditorNode)\n",
    "\n",
    "segmentEditorNode.SetOverwriteMode(segmentEditorNode.OverwriteNone) # Modify other segment: Allow overlap\n",
    "#######################################\n",
    "segmentationNode = slicer.mrmlScene.GetNodesByClass('vtkMRMLSegmentationNode').GetItemAsObject(0)\n",
    "# print(segmentationNode)\n",
    "\n",
    "segmentationNode.SetReferenceImageGeometryParameterFromVolumeNode(relaxedvolumenode)"
   ]
  },
  {
   "cell_type": "code",
   "execution_count": null,
   "id": "64e00ce0-5855-4f8c-9b23-8551bd2980d6",
   "metadata": {},
   "outputs": [],
   "source": [
    "# Create segment editor to get access to effects\n",
    "segmentEditorWidget = slicer.qMRMLSegmentEditorWidget()\n",
    "\n",
    "segmentEditorWidget.setMRMLScene(slicer.mrmlScene)\n",
    "\n",
    "segmentEditorWidget.setMRMLSegmentEditorNode(segmentEditorNode)\n",
    "\n",
    "segmentEditorWidget.setSegmentationNode(segmentationNode)\n",
    "\n",
    "# create fixture based on relaxed volume\n",
    "# Problem with LCA suture: We used DOWELS that pushed against the thyroid when the suture was attached\n",
    "# to the muscular process. This is WRONG\n",
    "segmentEditorWidget.setMasterVolumeNode(relaxedvolumenode)\n",
    "# segmentEditorWidget.setMasterVolumeNode(registeredTALCAvolumenode)"
   ]
  },
  {
   "cell_type": "code",
   "execution_count": null,
   "id": "ea207eae-0e40-4d59-b83a-449968964112",
   "metadata": {},
   "outputs": [],
   "source": [
    "try:\n",
    "    segmentation.RemoveSegment('cricoid')\n",
    "except:\n",
    "    pass"
   ]
  },
  {
   "cell_type": "code",
   "execution_count": null,
   "id": "66f349de-edf3-42f6-81a7-c9a626cbd72b",
   "metadata": {},
   "outputs": [],
   "source": [
    "segmentation = segmentationNode.GetSegmentation()\n",
    "\n",
    "segmentation.AddEmptySegment(\"cricoid\")\n",
    "\n",
    "cricoidsegment = segmentation.GetSegment('cricoid')\n",
    "\n",
    "print(cricoidsegment)\n",
    "\n",
    "segmentEditorNode.SetSelectedSegmentID('cricoid')"
   ]
  },
  {
   "cell_type": "code",
   "execution_count": null,
   "id": "eec4a93e-1acf-4ea5-9d16-87fa1138158d",
   "metadata": {},
   "outputs": [],
   "source": [
    "# Local Threshold\n",
    "\n",
    "segmentEditorNode.SetActiveEffectName(\"Local Threshold\")\n",
    "print(segmentEditorNode.GetActiveEffectName())\n",
    "localthreshold.pythonSource()\n",
    "\n",
    "localthreshold = segmentEditorWidget.activeEffect()\n",
    "\n",
    "localthreshold.parameter(\"MinimumThreshold\")\n",
    "\n",
    "localthreshold.parameter(\"MaximumThreshold\")\n",
    "\n",
    "localthreshold.parameter('MinimumDiameterMm')\n",
    "\n",
    "localthreshold.parameter('SegmentationAlgorithm') # GrowCut, WaterShed\n",
    "\n",
    "localthreshold.parameter('FeatureSizeMm')"
   ]
  },
  {
   "cell_type": "code",
   "execution_count": null,
   "id": "c7031530-f43f-4a20-aa42-d175ad56af08",
   "metadata": {},
   "outputs": [],
   "source": [
    "localthreshold.setParameter(\"MinimumThreshold\", \"100\")\n",
    "\n",
    "localthreshold.setParameter('MinimumDiameterMm', '1.0')\n",
    "\n",
    "localthreshold.setParameter('SegmentationAlgorithm', 'WaterShed')\n",
    "localthreshold.setParameter('FeatureSizeMm', '1.0')"
   ]
  },
  {
   "cell_type": "code",
   "execution_count": null,
   "id": "06c269fd-0dc1-4f7e-bd07-a6080d832171",
   "metadata": {},
   "outputs": [],
   "source": [
    "localthreshold.self().onApply()"
   ]
  },
  {
   "cell_type": "code",
   "execution_count": null,
   "id": "40a180da-3990-4148-ae2e-5db5214fbc22",
   "metadata": {},
   "outputs": [],
   "source": []
  },
  {
   "cell_type": "code",
   "execution_count": null,
   "id": "2e528a27-23ae-42bd-ae35-acbebeffeffe",
   "metadata": {},
   "outputs": [],
   "source": [
    "segmentEditorNode.SetActiveEffectName(\"Islands\")\n",
    "\n",
    "islands = segmentEditorWidget.activeEffect()\n",
    "\n",
    "islands.pythonSource()"
   ]
  },
  {
   "cell_type": "code",
   "execution_count": null,
   "id": "244c2085-1ef3-4748-b563-0ddd39f101b7",
   "metadata": {},
   "outputs": [],
   "source": [
    "KEEP_LARGEST_ISLAND = \"KEEP_LARGEST_ISLAND\"\n",
    "KEEP_SELECTED_ISLAND = \"KEEP_SELECTED_ISLAND\"\n",
    "REMOVE_SMALL_ISLANDS = \"REMOVE_SMALL_ISLANDS\"\n",
    "REMOVE_SELECTED_ISLAND = \"REMOVE_SELECTED_ISLAND\"\n",
    "ADD_SELECTED_ISLAND = \"ADD_SELECTED_ISLAND\"\n",
    "SPLIT_ISLANDS_TO_SEGMENTS = \"SPLIT_ISLANDS_TO_SEGMENTS\""
   ]
  },
  {
   "cell_type": "code",
   "execution_count": null,
   "id": "913f0c5e-b987-4a85-9971-2c093096ae66",
   "metadata": {},
   "outputs": [],
   "source": [
    "islands.parameter('Operation')"
   ]
  },
  {
   "cell_type": "code",
   "execution_count": null,
   "id": "a6221e10-0533-4b20-8c58-ef9314258ab6",
   "metadata": {},
   "outputs": [],
   "source": [
    "islands.integerParameter('MinimumSize')"
   ]
  },
  {
   "cell_type": "code",
   "execution_count": null,
   "id": "c56f91d6-d3df-4ad8-8213-ae9bde6adad1",
   "metadata": {},
   "outputs": [],
   "source": [
    "islands.self().onApply()"
   ]
  },
  {
   "cell_type": "code",
   "execution_count": null,
   "id": "9c93ad70-c56f-4534-9254-de4b227f6f19",
   "metadata": {},
   "outputs": [],
   "source": []
  },
  {
   "cell_type": "code",
   "execution_count": null,
   "id": "bd14a2de-f996-499f-bb39-9628034cabb2",
   "metadata": {},
   "outputs": [],
   "source": [
    "segmentation.AddEmptySegment(\"larynx\")\n",
    "\n",
    "cricoidsegment = segmentation.GetSegment('larynx')\n",
    "\n",
    "segmentEditorNode.SetSelectedSegmentID('larynx')"
   ]
  },
  {
   "cell_type": "code",
   "execution_count": null,
   "id": "8c00cacf-878f-4d35-a790-028d02d322b3",
   "metadata": {},
   "outputs": [],
   "source": [
    "# Local Threshold\n",
    "\n",
    "segmentEditorNode.SetActiveEffectName(\"Local Threshold\")\n",
    "\n",
    "localthreshold = segmentEditorWidget.activeEffect()\n"
   ]
  },
  {
   "cell_type": "code",
   "execution_count": null,
   "id": "55c6ecd0-92e4-4aab-ab75-41b3f7d099dd",
   "metadata": {},
   "outputs": [],
   "source": [
    "localthreshold.setParameter(\"MinimumThreshold\", \"1\")\n",
    "\n",
    "localthreshold.setParameter('MinimumDiameterMm', '1.0')\n",
    "\n",
    "localthreshold.setParameter('SegmentationAlgorithm', 'WaterShed')\n",
    "localthreshold.setParameter('FeatureSizeMm', '1.0')"
   ]
  },
  {
   "cell_type": "code",
   "execution_count": null,
   "id": "c7048b2a-0bbb-4389-8be0-a411c23d7254",
   "metadata": {},
   "outputs": [],
   "source": [
    "localthreshold.self().onApply()"
   ]
  },
  {
   "cell_type": "code",
   "execution_count": null,
   "id": "8eef096d-b994-473a-b6a1-7d61ac8cfd4c",
   "metadata": {},
   "outputs": [],
   "source": []
  },
  {
   "cell_type": "code",
   "execution_count": null,
   "id": "10c562ee-394a-4d65-a154-9696510988f6",
   "metadata": {},
   "outputs": [],
   "source": [
    "# create a model from the ssegmentation\n",
    "# can use the slice views to control the clipping plane of the models\n",
    "# ATTENTION: if I use the built-in Interaction controller to modify the location and scale of the elliptical implant, then I have to first 'Harden Transform' so that the clipping algorithm works correctly. \n",
    "# Otherwise clipping will occur at the original location of the elliptical model"
   ]
  },
  {
   "cell_type": "code",
   "execution_count": null,
   "id": "d9f6a394-2fb5-46f1-aca3-5329108188a3",
   "metadata": {
    "scrolled": true
   },
   "outputs": [],
   "source": [
    "updateFromImplantLine()"
   ]
  },
  {
   "cell_type": "code",
   "execution_count": null,
   "id": "d0fe4b37-55bc-482a-a68e-8b3d933ac27a",
   "metadata": {},
   "outputs": [],
   "source": [
    "def updateFromMedialPlane():\n",
    "    \n",
    "    linestart = np.zeros(3)\n",
    "    lineend = np.zeros(3)\n",
    "    implantlinenode.GetLineStartPosition(linestart)\n",
    "    implantlinenode.GetLineEndPosition(lineend)\n",
    "    implantlinelength = implantlinenode.GetLineLengthWorld()\n",
    "    implantlinevector = lineend - linestart\n",
    "    implantlinedirection = implantlinevector / implantlinelength\n",
    "\n",
    "    handlematrix = implantlinenode.GetInteractionHandleToWorldMatrix()\n",
    "    handlerotation = slicer.util.arrayFromVTKMatrix(handlematrix)[:3, :]\n",
    "\n",
    "    handleNx = handlerotation[:, 0]\n",
    "    handleNy = handlerotation[:, 1]\n",
    "    handleNz = handlerotation[:, 2]\n",
    "    linecenter = handlerotation[:, 3]\n",
    "\n",
    "    ################\n",
    "    \n",
    "    planecenter = np.zeros(3)\n",
    "    medialplanenode.GetCenter(planecenter)\n",
    "\n",
    "    planeNx = np.zeros(3)\n",
    "    planeNy = np.zeros(3)\n",
    "    planeNz = np.zeros(3) # plane normal like arc.GetNormal()\n",
    "    medialplanenode.GetAxes(planeNx, planeNy, planeNz)\n",
    "\n",
    "    ################\n",
    "\n",
    "    major_radius = np.linalg.norm(arc.GetMajorRadiusVector())\n",
    "    majorRadiusVector = -planeNy * major_radius\n",
    "\n",
    "    new_minorRadiusVector = planecenter - linecenter\n",
    "    minor_radius = np.linalg.norm(new_minorRadiusVector)\n",
    "    ratio = minor_radius / major_radius\n",
    "    arc.SetRatio(ratio)\n",
    "\n",
    "    # arc.Update()\n",
    "    # extrude_arc.Update()\n",
    "    \n",
    "    # tangentlocation = linecenter +  handleNy * minor_radius\n",
    "\n",
    "    new_linecenter = planecenter - planeNz * minor_radius\n",
    "    new_implantlinevector = planeNx * implantlinelength\n",
    "    Lp0 = new_linecenter - new_implantlinevector / 2.0\n",
    "    Lp1 = new_linecenter + new_implantlinevector / 2.0\n",
    "\n",
    "    implantlinenode.SetLineStartPosition(Lp0)\n",
    "    implantlinenode.SetLineEndPosition(Lp1)\n",
    "\n",
    "    arc.SetCenter(Lp0)\n",
    "    arcnormal = planeNx\n",
    "    arc.SetNormal(arcnormal)\n",
    "\n",
    "    major_radius = np.linalg.norm(arc.GetMajorRadiusVector())\n",
    "    majorRadiusVector = - planeNy * major_radius\n",
    "    arc.SetMajorRadiusVector(majorRadiusVector)\n",
    "    \n",
    "    extrude_arc.SetVector(arcnormal * implantlinelength)\n",
    "\n",
    "    extrude_arc.Update()\n",
    "\n",
    "    xmin, xmax, ymin, ymax = medialplanenode.GetPlaneBounds()\n",
    "\n",
    "    new_ymin = None\n",
    "    new_ymax = None\n",
    "    \n",
    "    if 1:\n",
    "        minor_radius = np.linalg.norm(arc.GetMajorRadiusVector()) * arc.GetRatio()\n",
    "        \n",
    "        if np.abs(ymin) != major_radius:\n",
    "            print(\"changed ymin\")\n",
    "            new_ymin = ymin\n",
    "            \n",
    "            major_radius = np.abs(ymin)\n",
    "            ratio = minor_radius / major_radius\n",
    "            \n",
    "            majorRadiusVector = - planeNy * major_radius\n",
    "            arc.SetMajorRadiusVector(majorRadiusVector)\n",
    "            arc.SetRatio(ratio)\n",
    "            \n",
    "        elif np.abs(ymax) != major_radius:\n",
    "            print(\"changed ymax\")\n",
    "            new_ymax = ymax\n",
    "            \n",
    "            major_radius = np.abs(ymax)\n",
    "            ratio = minor_radius / major_radius\n",
    "            \n",
    "            majorRadiusVector = - planeNy * major_radius\n",
    "            arc.SetMajorRadiusVector(majorRadiusVector)\n",
    "            arc.SetRatio(ratio)\n",
    "\n",
    "        if new_ymin is not None:\n",
    "            medialplanenode.SetPlaneBounds(xmin, xmax, ymin, np.abs(ymin))\n",
    "        if new_ymax is not None:\n",
    "            medialplanenode.SetPlaneBounds(xmin, xmax, -np.abs(ymax), ymax)            \n",
    "\n",
    "    arc.Update()\n",
    "    extrude_arc.Update()\n",
    "    \n",
    "    # How to change the orientation of the InteractionHandle???\n",
    "    \n",
    "    slicer.util.forceRenderAllViews()"
   ]
  },
  {
   "cell_type": "code",
   "execution_count": null,
   "id": "9aa8fc57-bbd4-4207-9b05-3d5b38f8d528",
   "metadata": {},
   "outputs": [],
   "source": [
    "def updateSizeFromMedialPlane(param1 = None, param2 = None):\n",
    "\n",
    "    global sizeupdatehandle\n",
    "    try:\n",
    "        medialplanenode.RemoveObserver(sizeupdatehandle)\n",
    "    except:\n",
    "        sizeupdatehandle = None\n",
    "    \n",
    "    arccenter = np.array(arc.GetCenter())\n",
    "    \n",
    "    majorRadiusVector = arc.GetMajorRadiusVector()\n",
    "    major_radius = np.linalg.norm(majorRadiusVector)\n",
    "    majorRadiusDirection = majorRadiusVector / major_radius\n",
    "    \n",
    "    minor_radius = major_radius * arc.GetRatio()\n",
    "\n",
    "    xc, yc, zc = medialplanenode.GetCenter()\n",
    "    xmin, xmax, ymin, ymax = medialplanenode.GetPlaneBounds()\n",
    "    xsize = xmax - xmin\n",
    "    ysize = ymax - ymin\n",
    "\n",
    "    new_ymin = None\n",
    "    new_ymax = None\n",
    "\n",
    "    if np.abs(ymin) != major_radius:\n",
    "        print(\"changed ymin\")\n",
    "        new_ymin = ymin\n",
    "        \n",
    "        major_radius = 0.5 * (np.abs(ymin) + ymax)\n",
    "        ratio = minor_radius / major_radius\n",
    "        \n",
    "        majorRadiusVector = majorRadiusDirection * major_radius\n",
    "        arc.SetMajorRadiusVector(majorRadiusVector)\n",
    "        arc.SetRatio(ratio)\n",
    "\n",
    "        # arctransform.SetMatrixTransformToParent(slicer.util.vtkMatrixFromArray(newtransform))\n",
    "\n",
    "        ## arc.SetCenter(arccenter + np.array([0, 0, 0.5 * (np.abs(ymin) - major_radius)]))\n",
    "\n",
    "        medialplanenode.SetCenter(xc, yc, zc + 0.5 * (np.abs(ymin) - ymax))\n",
    "        \n",
    "    elif ymax != major_radius:\n",
    "        print(\"changed ymax\")\n",
    "        new_ymax = ymax\n",
    "        \n",
    "        major_radius = 0.5 * (np.abs(ymin) + ymax)\n",
    "        ratio = minor_radius / major_radius\n",
    "        \n",
    "        majorRadiusVector = majorRadiusDirection * major_radius\n",
    "        arc.SetMajorRadiusVector(majorRadiusVector)\n",
    "        arc.SetRatio(ratio)\n",
    "\n",
    "        medialplanenode.SetCenter(xc, yc, zc - 0.5 * (ymax - np.abs(ymin)))\n",
    "\n",
    "    if new_ymin is not None:\n",
    "        new_ymin = -0.5 * (np.abs(ymin) + ymax)\n",
    "        new_ymax = np.abs(new_ymin)\n",
    "        medialplanenode.SetPlaneBounds(xmin, xmax, new_ymin, new_ymax)\n",
    "    if new_ymax is not None:\n",
    "        new_ymin = -0.5 * (np.abs(ymin) + ymax)\n",
    "        new_ymax = np.abs(new_ymin)\n",
    "        medialplanenode.SetPlaneBounds(xmin, xmax, new_ymin, new_ymax)\n",
    "    \n",
    "    arc.Update()\n",
    "    extrude_arc.Update()\n",
    "\n",
    "    slicer.util.forceRenderAllViews()\n",
    "\n",
    "    if sizeupdatehandle is not None:\n",
    "        sizeupdatehandle = medialplanenode.AddObserver(slicer.vtkMRMLMarkupsPlaneNode.PointModifiedEvent, updateSizeFromMedialPlane, 2)"
   ]
  },
  {
   "cell_type": "code",
   "execution_count": null,
   "id": "e0b79f04-079a-423e-a5f8-a8af73eb69c9",
   "metadata": {},
   "outputs": [],
   "source": [
    "updateSizeFromMedialPlane()"
   ]
  },
  {
   "cell_type": "code",
   "execution_count": null,
   "id": "de34a651-687b-46ed-a6f1-66dfb755fa4d",
   "metadata": {
    "scrolled": true
   },
   "outputs": [],
   "source": [
    "sizeupdatehandle = medialplanenode.AddObserver(slicer.vtkMRMLMarkupsPlaneNode.PointModifiedEvent, updateSizeFromMedialPlane, 2)"
   ]
  },
  {
   "cell_type": "code",
   "execution_count": null,
   "id": "a2f44106-19dd-4fd4-97ba-75faa9214f5e",
   "metadata": {},
   "outputs": [],
   "source": [
    "medialplanenode.RemoveObserver(sizeupdatehandle)"
   ]
  },
  {
   "cell_type": "code",
   "execution_count": null,
   "id": "ee79e9ae-9bd4-4a5d-bc41-952d0bf882e8",
   "metadata": {},
   "outputs": [],
   "source": [
    "updateFromImplantLine()"
   ]
  },
  {
   "cell_type": "code",
   "execution_count": null,
   "id": "45515d16-dcaa-4dfb-a768-c910d7968b7a",
   "metadata": {},
   "outputs": [],
   "source": [
    "updateFromMedialPlane()"
   ]
  },
  {
   "cell_type": "code",
   "execution_count": null,
   "id": "55a93c04-ed29-4369-a1c0-3e7cfcf85f6f",
   "metadata": {},
   "outputs": [],
   "source": [
    "arc.SetRatio(1)\n",
    "arc.Update()"
   ]
  },
  {
   "cell_type": "code",
   "execution_count": null,
   "id": "f457eb8b-9953-424f-a6fb-af61bda44d25",
   "metadata": {},
   "outputs": [],
   "source": [
    "def followmedialplane(param1 = None, param2 = None):\n",
    "    # param1: vtkobject\n",
    "    # param2: event ID\n",
    "    \n",
    "    global implantobserverhandle\n",
    "\n",
    "    # prevent loop between callbacks\n",
    "    implantlinenode.RemoveObserver(implantobserverhandle)\n",
    "\n",
    "    updateFromMedialPlane()\n",
    "    \n",
    "    implantobserverhandle = implantlinenode.AddObserver(slicer.vtkMRMLMarkupsLineNode.PointModifiedEvent, followImplantLine, 2)"
   ]
  },
  {
   "cell_type": "code",
   "execution_count": null,
   "id": "ec37a473-1f0d-4143-a2db-e2fba577fe42",
   "metadata": {
    "scrolled": true
   },
   "outputs": [],
   "source": [
    "implantobserverhandle = implantlinenode.AddObserver(slicer.vtkMRMLMarkupsLineNode.PointModifiedEvent, followImplantLine, 1)"
   ]
  },
  {
   "cell_type": "code",
   "execution_count": null,
   "id": "0b2aaf7d-df90-4cf3-b25e-389d1b932020",
   "metadata": {},
   "outputs": [],
   "source": [
    "medialplaneobserver = medialplanenode.AddObserver(slicer.vtkMRMLMarkupsPlaneNode.PointModifiedEvent, followmedialplane, 2)"
   ]
  },
  {
   "cell_type": "code",
   "execution_count": null,
   "id": "485c6ac9-c2d4-47b2-9a2b-514998d89468",
   "metadata": {},
   "outputs": [],
   "source": [
    "followImplantline()"
   ]
  },
  {
   "cell_type": "code",
   "execution_count": null,
   "id": "0d23788a-13ca-46fb-87cb-7131291db5fb",
   "metadata": {
    "scrolled": true
   },
   "outputs": [],
   "source": [
    "implantlinenode.RemoveObserver(implantobserverhandle)"
   ]
  },
  {
   "cell_type": "code",
   "execution_count": null,
   "id": "ce642f88-5624-43b4-be37-b45ec3339493",
   "metadata": {},
   "outputs": [],
   "source": [
    "medialplanenode.RemoveObserver(medialplaneobserver)"
   ]
  },
  {
   "cell_type": "markdown",
   "id": "7d1e8b4c-3fbd-4e72-9a56-1f8332ca5eb9",
   "metadata": {},
   "source": [
    "# Experimentation Zone"
   ]
  },
  {
   "cell_type": "raw",
   "id": "ce959d1b-9880-418f-8e02-718d3b58b7c6",
   "metadata": {},
   "source": [
    "cylindertransform = slicer.vtkMRMLTransformNode()\n",
    "cylindertransform.SetName('Transform Elliptical Cylinder')\n",
    "\n",
    "slicer.mrmlScene.AddNode(cylindertransform)\n",
    "\n",
    "modelEllipticalCylinder.SetAndObserveTransformNodeID(cylindertransform.GetID())\n",
    "\n",
    "implantlinenode.SetAndObserveTransformNodeID(cylindertransform.GetID())"
   ]
  },
  {
   "cell_type": "raw",
   "id": "3d410cab-7038-419b-87be-313e98a96e2e",
   "metadata": {},
   "source": [
    "def followcylindertransform(p1 = None, p2 = None):\n",
    "    vtkmatrix = vtk.vtkMatrix4x4()\n",
    "    cylindertransform.GetMatrixTransformToParent(vtkmatrix)\n",
    "    t.Concatenate(vtkmatrix)"
   ]
  },
  {
   "cell_type": "raw",
   "id": "e63f7d26-34b9-453c-b7ed-a97e2705e2dd",
   "metadata": {},
   "source": [
    "cylindertransform.AddObserver(slicer.vtkMRMLTransformNode.TransformModifiedEvent, followcylindertransform, 2)"
   ]
  },
  {
   "cell_type": "code",
   "execution_count": null,
   "id": "6507c531-9b30-4782-9c2b-bec8bbba2b0a",
   "metadata": {},
   "outputs": [],
   "source": [
    "cylindertransform.GetTransformToParent().GetOrientationWXYZ()"
   ]
  },
  {
   "cell_type": "raw",
   "id": "cf778dda-d4d2-4505-a2d5-d6a182d9492e",
   "metadata": {},
   "source": [
    "matrix = vtk.vtkMatrix4x4()\n",
    "\n",
    "transform.SetMatrixTransformFromParent(matrix)\n",
    "model = slicer.util.getNode('model')\n",
    "\n",
    "model.SetAndObserveTransformNodeID(transform.GetName())\n",
    "model.SetAndObserveTransformNodeID(transform.GetID())"
   ]
  },
  {
   "cell_type": "code",
   "execution_count": null,
   "id": "b76c580d-1590-4a00-b71a-49728ad0963c",
   "metadata": {},
   "outputs": [],
   "source": [
    "t.GetOrientationWXYZ()"
   ]
  },
  {
   "cell_type": "code",
   "execution_count": null,
   "id": "749dc8f5-54ab-4a85-a637-1e5475d32e16",
   "metadata": {},
   "outputs": [],
   "source": [
    "print(t.GetMatrix())"
   ]
  },
  {
   "cell_type": "code",
   "execution_count": null,
   "id": "bfc9813e-a39e-40d5-87b4-9f79d2c0c0c9",
   "metadata": {},
   "outputs": [],
   "source": [
    "print(t)"
   ]
  },
  {
   "cell_type": "code",
   "execution_count": null,
   "id": "b74d31eb-2968-484d-9854-5d482327acea",
   "metadata": {},
   "outputs": [],
   "source": [
    "Ralpha, Rx, Ry, Rz = t.GetOrientationWXYZ()\n",
    "\n",
    "t.RotateWXYZ(-Ralpha, Rx, Ry, Rz)\n",
    "# t.RotateX(-45)\n",
    "\n",
    "slicer.util.forceRenderAllViews()"
   ]
  },
  {
   "cell_type": "code",
   "execution_count": null,
   "id": "dae1e11c-327b-4917-947e-3e53e0479fc1",
   "metadata": {},
   "outputs": [],
   "source": [
    "t.GetOrientationWXYZ()"
   ]
  },
  {
   "cell_type": "code",
   "execution_count": null,
   "id": "ea10458b-5a5b-4a97-97ca-982e3156699d",
   "metadata": {},
   "outputs": [],
   "source": [
    "modelEllipticalCylinder == list(slicer.mrmlScene.GetNodesByName(\"Elliptical Cylinder\"))[0]"
   ]
  },
  {
   "cell_type": "code",
   "execution_count": null,
   "id": "971a575d-4fd1-4c02-817d-970ba8c61d0b",
   "metadata": {},
   "outputs": [],
   "source": [
    "modelEllipticalCylinder == slicer.mrmlScene.GetFirstNodeByName(\"Elliptical Cylinder\")"
   ]
  },
  {
   "cell_type": "code",
   "execution_count": null,
   "id": "4ecf4a97-05ef-4ce6-a8fc-d4e82a5437aa",
   "metadata": {},
   "outputs": [],
   "source": [
    "# delete object from Slicer\n",
    "m = slicer.mrmlScene.GetFirstNodeByName(\"Elliptical Cylinder\")\n",
    "\n",
    "slicer.mrmlScene.RemoveNode(m)"
   ]
  },
  {
   "cell_type": "code",
   "execution_count": null,
   "id": "b761bbad-44ae-4315-a048-502a6efa2f4e",
   "metadata": {},
   "outputs": [],
   "source": []
  }
 ],
 "metadata": {
  "kernelspec": {
   "display_name": "Slicer 5.7",
   "language": "python",
   "name": "slicer-5.7"
  },
  "language_info": {
   "file_extension": ".py",
   "mimetype": "text/x-python",
   "name": "python",
   "version": "3.9.10"
  }
 },
 "nbformat": 4,
 "nbformat_minor": 5
}
