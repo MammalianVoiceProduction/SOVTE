{
 "cells": [
  {
   "cell_type": "code",
   "execution_count": null,
   "id": "3c02ac46-a8e9-44d2-8074-e6dd9871c0b1",
   "metadata": {
    "editable": true,
    "slideshow": {
     "slide_type": ""
    },
    "tags": []
   },
   "outputs": [],
   "source": [
    "%autocall 2"
   ]
  },
  {
   "cell_type": "code",
   "execution_count": null,
   "id": "653a245b-af08-4827-87a7-1708f48b8101",
   "metadata": {
    "editable": true,
    "slideshow": {
     "slide_type": ""
    },
    "tags": []
   },
   "outputs": [],
   "source": [
    "from importlib import reload\n",
    "\n",
    "import numpy as np\n",
    "\n",
    "import time, pprint\n",
    "\n",
    "import librosa, xmltodict, io, audiotsm, sounddevice, soundfile\n",
    "\n",
    "from skimage import exposure\n",
    "\n",
    "from scipy import ndimage\n",
    "\n",
    "import glob, csv\n",
    "\n",
    "import os\n",
    "\n",
    "import gc"
   ]
  },
  {
   "cell_type": "code",
   "execution_count": null,
   "id": "f81a88e8-4497-4215-b42a-d0bcb108fab9",
   "metadata": {},
   "outputs": [],
   "source": []
  },
  {
   "cell_type": "code",
   "execution_count": null,
   "id": "076cc0ea-b6e0-485a-95bf-c742a8ea39b4",
   "metadata": {},
   "outputs": [],
   "source": [
    "import nptdms, tempfile"
   ]
  },
  {
   "cell_type": "code",
   "execution_count": null,
   "id": "3f560456-f4b2-4544-909e-06dc8b53f181",
   "metadata": {},
   "outputs": [],
   "source": [
    "from ipywidgets import interact, interactive, FloatSlider, IntSlider, Layout, HBox, VBox\n",
    "\n",
    "from ipywidgets import Audio as audiowidget\n",
    "\n",
    "from IPython.display import Audio"
   ]
  },
  {
   "cell_type": "code",
   "execution_count": null,
   "id": "15349ecb-f202-46bc-ac04-2603063f21e1",
   "metadata": {},
   "outputs": [],
   "source": [
    "%matplotlib ipympl"
   ]
  },
  {
   "cell_type": "code",
   "execution_count": null,
   "id": "cede8744-24a9-4f0e-ac42-dc5195afac15",
   "metadata": {},
   "outputs": [],
   "source": [
    "import matplotlib as mpl\n",
    "import matplotlib.pyplot as plt\n",
    "\n",
    "from matplotlib.widgets import Cursor, MultiCursor"
   ]
  },
  {
   "cell_type": "code",
   "execution_count": null,
   "id": "c71758a2-e65a-444c-88a8-c2fe9b218c1e",
   "metadata": {},
   "outputs": [],
   "source": [
    "print(mpl.get_backend())\n",
    "print(plt.isinteractive())\n",
    "print(mpl.is_interactive())\n",
    "\n",
    "mpl.interactive(False)\n",
    "plt.ioff()\n",
    "\n",
    "print(mpl.is_interactive())\n",
    "print(plt.isinteractive())\n",
    "\n",
    "mpl.rcParams['figure.figsize']"
   ]
  },
  {
   "cell_type": "code",
   "execution_count": null,
   "id": "c6efca25-6eae-4ef2-9fd7-aee923fe6ab9",
   "metadata": {},
   "outputs": [],
   "source": [
    "import matplotlib.style as mplstyle\n",
    "print(mplstyle.available)\n",
    "\n",
    "# mplstyle.use('classic')\n",
    "mplstyle.use('fast')\n",
    "\n",
    "mpl.rcParams['path.simplify'] = True\n",
    "\n",
    "mpl.rcParams['path.simplify_threshold'] = 1.0\n",
    "\n",
    "mpl.rcParams['agg.path.chunksize'] = 10000"
   ]
  },
  {
   "cell_type": "code",
   "execution_count": null,
   "id": "c9727690-ebac-4421-8e55-7805aa2e39fa",
   "metadata": {},
   "outputs": [],
   "source": [
    "import sys\n",
    "\n",
    "mylibrarypaths = [\"C:/Users/m142519/python\", \"H:/python\"]\n",
    "\n",
    "for p in mylibrarypaths:\n",
    "    if os.path.isdir(p):\n",
    "        if p not in sys.path:\n",
    "            sys.path.append(p)\n",
    "\n",
    "pprint.pprint(sys.path)"
   ]
  },
  {
   "cell_type": "code",
   "execution_count": null,
   "id": "f8cf3a18-272f-46b6-95ec-128ee435119f",
   "metadata": {},
   "outputs": [],
   "source": [
    "# import ipython_memory_usage"
   ]
  },
  {
   "cell_type": "code",
   "execution_count": null,
   "id": "661a27ec-3638-4bd5-a245-44720b8e1145",
   "metadata": {},
   "outputs": [],
   "source": [
    "%load_ext ipython_memory_usage"
   ]
  },
  {
   "cell_type": "code",
   "execution_count": null,
   "id": "f2d934e8-48d2-42c7-a3ec-105d6799e76a",
   "metadata": {},
   "outputs": [],
   "source": [
    "%imu_start"
   ]
  },
  {
   "cell_type": "code",
   "execution_count": null,
   "id": "36653d39-76c0-4b0e-aa0d-a3ff37227714",
   "metadata": {},
   "outputs": [],
   "source": [
    "import pyMRAW as photron\n",
    "photron = reload(photron)"
   ]
  },
  {
   "cell_type": "code",
   "execution_count": null,
   "id": "3438d89f-fc34-4ba0-b28a-3118eeed7d4b",
   "metadata": {},
   "outputs": [],
   "source": [
    "pwd"
   ]
  },
  {
   "cell_type": "code",
   "execution_count": null,
   "id": "78118f3d-a71d-4ceb-9f4b-b75409c3f346",
   "metadata": {},
   "outputs": [],
   "source": [
    "cd \"C:/Users/m142519/Desktop/JN_SOVTE/JN_AnalogDataRecordings/2023-09-21/\""
   ]
  },
  {
   "cell_type": "code",
   "execution_count": null,
   "id": "b3ef18f7-a0e4-49fb-a139-0679bb0f562e",
   "metadata": {},
   "outputs": [],
   "source": [
    "cd \"../Stef_Tee/\""
   ]
  },
  {
   "cell_type": "code",
   "execution_count": null,
   "id": "d76f1bc0-7a12-4c92-a03d-744d7acf4398",
   "metadata": {
    "scrolled": true
   },
   "outputs": [],
   "source": [
    "ls"
   ]
  },
  {
   "cell_type": "code",
   "execution_count": null,
   "id": "cb913832-83a8-4615-9b2f-4b40662d97c1",
   "metadata": {},
   "outputs": [],
   "source": [
    "alltdmsfiles = sorted(glob.glob('*.tdms'))"
   ]
  },
  {
   "cell_type": "raw",
   "id": "afb8edf8-f146-4308-af27-511be6e98ef7",
   "metadata": {
    "scrolled": true
   },
   "source": [
    "for tdmsfilename in alltdmsfiles:\n",
    "    print(tdmsfilename)\n",
    "    tdmsfile = nptdms.TdmsFile(tdmsfilename, memmap_dir = tempfile.gettempdir())\n",
    "    \n",
    "    with open(tdmsfilename.replace('.tdms', '.info.txt'), 'wt') as infofile:\n",
    "        for k, v in tdmsfile.properties.items():\n",
    "            print(k, ': ', v, file = infofile)\n",
    "    \n",
    "    SOVTEdata = tdmsfile['SOVTEdata']\n",
    "    \n",
    "    for channel in SOVTEdata:\n",
    "        print(\"channel name: \", channel)\n",
    "    \n",
    "        fsanalog = int(1 / SOVTEdata[channel].properties['wf_increment'])\n",
    "        \n",
    "        wavfilename = tdmsfilename.replace('.tdms', '-%s.wav' %channel)\n",
    "        soundfile.write(wavfilename, SOVTEdata[channel].raw_data, fsanalog)\n",
    "        \n",
    "        print(wavfilename, end = '\\n\\n')\n",
    "\n",
    "    tdmsfile.close()"
   ]
  },
  {
   "cell_type": "code",
   "execution_count": null,
   "id": "ee753f6e-8ea3-4250-aabf-691d7d263e8a",
   "metadata": {},
   "outputs": [],
   "source": [
    "tdmsfilename = \"SOVTEdata20230921-140507.tdms\"\n",
    "\n",
    "print(\"Stef's recordings:\")\n",
    "tdmsfilename = \"SOVTEdata20231030-110829.tdms\"\n",
    "\n",
    "tdmsfile = nptdms.TdmsFile(tdmsfilename, memmap_dir = tempfile.gettempdir())"
   ]
  },
  {
   "cell_type": "code",
   "execution_count": null,
   "id": "51cb76dd-75da-4abf-9cb9-d87f90d93eb0",
   "metadata": {},
   "outputs": [],
   "source": [
    "tdmsfile.__dict__"
   ]
  },
  {
   "cell_type": "code",
   "execution_count": null,
   "id": "2df95420-7216-4065-97c6-3429896d690a",
   "metadata": {},
   "outputs": [],
   "source": [
    "tdmsfile.properties"
   ]
  },
  {
   "cell_type": "code",
   "execution_count": null,
   "id": "ebe21948-c282-4559-9238-59a55222378c",
   "metadata": {},
   "outputs": [],
   "source": [
    "pprint.pprint(tdmsfile.properties['Comments'])"
   ]
  },
  {
   "cell_type": "code",
   "execution_count": null,
   "id": "bcbb0ec1-5b4c-45e8-aef4-ced48d486297",
   "metadata": {
    "editable": true,
    "slideshow": {
     "slide_type": ""
    },
    "tags": []
   },
   "outputs": [],
   "source": [
    "tdmsfile.groups()"
   ]
  },
  {
   "cell_type": "code",
   "execution_count": null,
   "id": "677545a5-9e33-41de-85be-84e6ff0c7bce",
   "metadata": {},
   "outputs": [],
   "source": [
    "SOVTEdata = tdmsfile['SOVTEdata']"
   ]
  },
  {
   "cell_type": "code",
   "execution_count": null,
   "id": "68a673f8-c68a-46e3-a6b6-0f4bbe34d0b4",
   "metadata": {},
   "outputs": [],
   "source": [
    "SOVTEdata.channels()"
   ]
  },
  {
   "cell_type": "code",
   "execution_count": null,
   "id": "7833374a-3bce-450e-8fc0-de81fc1bdf24",
   "metadata": {},
   "outputs": [],
   "source": [
    "egga = SOVTEdata['EGG_A']\n",
    "eggb = SOVTEdata['EGG_B']\n",
    "\n",
    "egglt = SOVTEdata['EGG_LT']\n",
    "egglt.data.dtype"
   ]
  },
  {
   "cell_type": "code",
   "execution_count": null,
   "id": "3e2b70b5-a750-4adb-88f8-f686004f0085",
   "metadata": {},
   "outputs": [],
   "source": [
    "pmouth = SOVTEdata['micprobe_mouth']\n",
    "pout = SOVTEdata['mic_outside']"
   ]
  },
  {
   "cell_type": "code",
   "execution_count": null,
   "id": "1beb5155-18f7-482d-b9c2-3d08c3d677f2",
   "metadata": {},
   "outputs": [],
   "source": []
  },
  {
   "cell_type": "code",
   "execution_count": null,
   "id": "8fde961f-80d2-4d44-8629-37446726a82d",
   "metadata": {},
   "outputs": [],
   "source": [
    "egglt.properties"
   ]
  },
  {
   "cell_type": "code",
   "execution_count": null,
   "id": "e5736900-c168-4071-8e7f-d2c87d1ef612",
   "metadata": {},
   "outputs": [],
   "source": [
    "egglt.time_track(accuracy = 'ms')"
   ]
  },
  {
   "cell_type": "code",
   "execution_count": null,
   "id": "a3df4b5f-3404-4ecd-9d40-ef1a3d00ddb6",
   "metadata": {},
   "outputs": [],
   "source": [
    "fsanalog = int(1 / egglt.properties['wf_increment'])\n",
    "print(\"analog data sampling frequency: \", fsanalog)"
   ]
  },
  {
   "cell_type": "code",
   "execution_count": null,
   "id": "5543a1af-dff7-47e7-9f0e-34ca3830e576",
   "metadata": {},
   "outputs": [],
   "source": [
    "audio = Audio(egga.data, rate = fsanalog)"
   ]
  },
  {
   "cell_type": "code",
   "execution_count": null,
   "id": "530fcdf8-bad8-4480-947f-6bbe92614376",
   "metadata": {},
   "outputs": [],
   "source": [
    "audio"
   ]
  },
  {
   "cell_type": "code",
   "execution_count": null,
   "id": "c2fe0562-5a9d-4cde-8bf1-08115b8bb201",
   "metadata": {},
   "outputs": [],
   "source": [
    "plt.close('all')\n",
    "\n",
    "gc.collect()"
   ]
  },
  {
   "cell_type": "code",
   "execution_count": null,
   "id": "0ff93541-e2a0-4f03-87ab-153f4f402563",
   "metadata": {},
   "outputs": [],
   "source": []
  },
  {
   "cell_type": "code",
   "execution_count": null,
   "id": "e764defa-c2c0-4aa0-8937-74e0c076bd88",
   "metadata": {},
   "outputs": [],
   "source": [
    "fmax = 600\n",
    "\n",
    "Tmin = 1 / fmax\n",
    "\n",
    "print(int(Tmin * fsanalog))\n",
    "\n",
    "pmic = pout\n",
    "\n",
    "peakloc, mad = find_peaks_fast(pmic.data, neighbors = int(Tmin * fsanalog))\n",
    "\n",
    "f0peaks_index = peakloc[:-1]\n",
    "f0peaks = 1 / (pmic.time_track()[peakloc[1:]] - pmic.time_track()[peakloc[:-1]])"
   ]
  },
  {
   "cell_type": "code",
   "execution_count": null,
   "id": "cc73bde3-5fe8-43f5-8847-d0bfd6064749",
   "metadata": {},
   "outputs": [],
   "source": [
    "f0, voicedflag, voicedprobs = librosa.pyin(pout.data, fmin = 100, fmax = 600, sr = fsanalog, hop_length = 2048 // 8, frame_length = 2048)"
   ]
  },
  {
   "cell_type": "code",
   "execution_count": null,
   "id": "ea69d5fe-7d3b-4ade-b3af-5e33607045ca",
   "metadata": {},
   "outputs": [],
   "source": [
    "f0.shape"
   ]
  },
  {
   "cell_type": "code",
   "execution_count": null,
   "id": "40fca8ea-d109-4548-8909-5b1f83cdfb13",
   "metadata": {},
   "outputs": [],
   "source": [
    "f0times = librosa.times_like(f0, sr = fsanalog, hop_length = 2048 // 8)"
   ]
  },
  {
   "cell_type": "code",
   "execution_count": null,
   "id": "12bf9faf-1bc1-4931-91b8-aafbbdc94d49",
   "metadata": {},
   "outputs": [],
   "source": [
    "f0samples = librosa.samples_like(f0, hop_length = 2048 // 8)"
   ]
  },
  {
   "cell_type": "code",
   "execution_count": null,
   "id": "2dcb1511-f553-48c4-9bc5-96dae960d57f",
   "metadata": {},
   "outputs": [],
   "source": [
    "try:\n",
    "    ax.clear()\n",
    "    fig.clear()\n",
    "    plt.close(fig = fig)\n",
    "    del fig, ax\n",
    "except Exception as e:\n",
    "    print(e)\n",
    "    plt.close('all')\n",
    "\n",
    "gc.collect()\n",
    "\n",
    "plt.ioff()\n",
    "# plt.ion()\n",
    "\n",
    "fig = plt.figure(figsize = (18, 13), clear = True)\n",
    "fig.canvas.header_visible = False\n",
    "\n",
    "ax, ax1 = fig.subplots(nrows = 2, ncols = 1, sharex = True, height_ratios = [0.49] * 2)\n",
    "\n",
    "t0 = 50 * 3000\n",
    "t1 = 50 * 5000\n",
    "\n",
    "if False:\n",
    "    ax.plot((egga.time_track() * 1000), egga.data, 'r-', label = 'EGG_A')\n",
    "\n",
    "    ax.plot(smootha[:, 0] * 1000, smootha[:, 1], 'g.-', label = 'LOWESS EGG_A')\n",
    "\n",
    "    ax1.plot(egga.time_track() * 1000, egga.data - smootha[:, 1], 'r-', label = 'EGG_A - LOWESS EGG_A')\n",
    "\n",
    "if False:\n",
    "    ax.plot(egglt.time_track() * 1000, egglt.data, 'b-', label = 'EGG_LT', zorder = 100)\n",
    "    \n",
    "    ax.plot(smoothLT[:, 0] * 1000, smoothLT[:, 1], 'k.-', label = 'LOWESS EGG_LT')\n",
    "\n",
    "    ax1.plot(egglt.time_track() * 1000, egglt.data - smoothLT[:, 1], 'b-', label = 'EGG_LT - LOWESS EGG_LT')\n",
    "\n",
    "if True:\n",
    "    pmic = pmouth\n",
    "    pmic = pout\n",
    "    \n",
    "    ax.plot(# pmic.time_track() * 1000, \n",
    "            pmic.data, 'b-', label = 'mic')\n",
    "    \n",
    "    ax.plot(peakloc, # pmic.time_track()[peakloc] * 1000, \n",
    "            pmic.data[peakloc], 'ro', label = 'peaks')\n",
    "\n",
    "    ax1.plot(peakloc[:-1], # pmic.time_track()[peakloc[:-1]] * 1000,\n",
    "             1 / (pmic.time_track()[peakloc[1:]] - pmic.time_track()[peakloc[:-1]]), 'b.', label = 'pitch')\n",
    "\n",
    "    # ax1.plot(f0times * 1000, f0, 'r.', label = 'pyin')\n",
    "\n",
    "    ax1.scatter(f0samples, # f0times * 1000, \n",
    "                f0, s = voicedprobs * 50, color = 'red', marker = '.', label = 'pyin', zorder = 100)\n",
    "\n",
    "# ax1.set_xlabel('time [milliseconds]')\n",
    "\n",
    "ax.grid(which = 'both')\n",
    "ax1.grid(which = 'both')\n",
    "\n",
    "ax.legend()\n",
    "ax1.legend()\n",
    "\n",
    "# multicursor = MultiCursor(canvas = fig.canvas, axes = [ax, ax1], useblit = True, horizOn = False, vertOn = True, color = 'red', linewidth = 1)\n",
    "\n",
    "# ax.set_ylim(bottom = pmouth.data.min(), top = pmouth.data.max())\n"
   ]
  },
  {
   "cell_type": "code",
   "execution_count": null,
   "id": "1d0b20b0-fd88-4c7f-877e-3215ff4a3017",
   "metadata": {},
   "outputs": [],
   "source": [
    "display(fig.canvas)"
   ]
  },
  {
   "cell_type": "code",
   "execution_count": null,
   "id": "7accabc0-1d97-4d31-937a-e54b6571a473",
   "metadata": {},
   "outputs": [],
   "source": [
    "x0, x1 = ax1.get_xlim()\n",
    "\n",
    "print(int(x0), int(x1))"
   ]
  },
  {
   "cell_type": "code",
   "execution_count": null,
   "id": "2bf8afcf-1fb5-41b3-9c83-251afe727f20",
   "metadata": {},
   "outputs": [],
   "source": [
    "f0peaks_indexselected = (np.array(f0peaks_index) > int(x0)) & (np.array(f0peaks_index) < int(x1))\n",
    "\n",
    "f0peaks_selected = np.ma.masked_array(f0peaks, mask = ~f0peaks_indexselected)\n",
    "f0peaks_selected.fill_value = np.nan\n",
    "\n",
    "f0peaks_selected.compressed()"
   ]
  },
  {
   "cell_type": "code",
   "execution_count": null,
   "id": "6927d853-6fea-428c-8d1d-2ad4fce0feb3",
   "metadata": {},
   "outputs": [],
   "source": [
    "f0samples_selected = (f0samples > int(x0)) & (f0samples < int(x1))\n",
    "\n",
    "f0_selected = np.ma.masked_invalid(f0)\n",
    "f0_selected.fill_value = np.nan\n",
    "\n",
    "f0_selected.mask = np.logical_or(f0_selected.mask, ~f0samples_selected)\n",
    "\n",
    "# f0_selected.compressed()"
   ]
  },
  {
   "cell_type": "code",
   "execution_count": null,
   "id": "530e5a8d-065b-47a3-bb58-2d2714f65db9",
   "metadata": {},
   "outputs": [],
   "source": [
    "np.savez_compressed(\"C:/Users/m142519/Desktop/Jupyter Notebooks/selectedf0s.npz\", f0_selected = f0_selected.compressed(), f0peaks_selected = f0peaks_selected.compressed())"
   ]
  },
  {
   "cell_type": "code",
   "execution_count": null,
   "id": "08dd6def-7247-4035-8ae4-3ba0ccad708c",
   "metadata": {},
   "outputs": [],
   "source": []
  },
  {
   "cell_type": "code",
   "execution_count": null,
   "id": "e30982e6-c634-4b97-b57c-6772888d5d61",
   "metadata": {},
   "outputs": [],
   "source": [
    "smoothegga = egga.data - smootha[:, 1]"
   ]
  },
  {
   "cell_type": "code",
   "execution_count": null,
   "id": "6f35dfd1-f843-40a2-945b-39ab4f1072a5",
   "metadata": {},
   "outputs": [],
   "source": [
    "opened = smoothegga[int(x0):int(x1)]"
   ]
  },
  {
   "cell_type": "code",
   "execution_count": null,
   "id": "0564859d-f389-4e2b-afc9-5095cf489297",
   "metadata": {},
   "outputs": [],
   "source": [
    "closed = smoothegga[int(x0):int(x1)]"
   ]
  },
  {
   "cell_type": "code",
   "execution_count": null,
   "id": "9076e4e7-d7df-406d-9eb5-00c491c737f2",
   "metadata": {},
   "outputs": [],
   "source": [
    "openglide = smoothegga[int(x0):int(x1)]"
   ]
  },
  {
   "cell_type": "code",
   "execution_count": null,
   "id": "e078e837-958e-46f1-99f1-f7e6fc7ed9ed",
   "metadata": {},
   "outputs": [],
   "source": [
    "closedglide = smoothegga[int(x0):int(x1)]"
   ]
  },
  {
   "cell_type": "code",
   "execution_count": null,
   "id": "c802a3f6-846d-4efa-8ded-bcf0ce40b51a",
   "metadata": {},
   "outputs": [],
   "source": [
    "peakclosedglide, mad = find_peaks_fast(closedglide, neighbors = int(Tmin * fsanalog))"
   ]
  },
  {
   "cell_type": "code",
   "execution_count": null,
   "id": "45374771-d644-4b02-a3ed-969f88aa2eaa",
   "metadata": {},
   "outputs": [],
   "source": [
    "eggperiods = [-closedglide[p1:p2] for p1, p2 in zip(peakclosedglide[:-1], peakclosedglide[1:])]"
   ]
  },
  {
   "cell_type": "code",
   "execution_count": null,
   "id": "e7a85112-1bcc-41cf-8275-1eb1973c5f8f",
   "metadata": {
    "scrolled": true
   },
   "outputs": [],
   "source": [
    "[(e - e.min()) / (e.max() - e.min()) for e in eggperiods]"
   ]
  },
  {
   "cell_type": "code",
   "execution_count": null,
   "id": "bf202962-e74c-4f86-a628-4f975a22fbe1",
   "metadata": {},
   "outputs": [],
   "source": [
    "mpl.collections.QuadMesh(facecolors = , edgecolors = 'face')"
   ]
  },
  {
   "cell_type": "code",
   "execution_count": null,
   "id": "8212681c-aa6c-4d19-a081-52c6719d1eac",
   "metadata": {},
   "outputs": [],
   "source": [
    "try:\n",
    "    figegg.clear()\n",
    "    axegg.clear()\n",
    "    plt.close(fig = figegg)\n",
    "    del figph, axegg\n",
    "except Exception as e:\n",
    "    print(\"Exception: \", e)\n",
    "\n",
    "figegg, axegg = plt.subplots(figsize = (15, 8))\n",
    "figegg.canvas.header_visible = False\n",
    "\n",
    "axegg.plot(-openglide, 'b-', label = 'opened')\n",
    "axegg.plot(-closedglide, 'r-', label = 'closed')\n",
    "\n",
    "axegg.plot(peakclosedglide, -closedglide[peakclosedglide], 'ko')\n",
    "\n",
    "axegg.grid(which = 'both')\n",
    "axegg.legend()\n",
    "\n",
    "figegg.canvas.draw()"
   ]
  },
  {
   "cell_type": "code",
   "execution_count": null,
   "id": "a5069117-dfe2-4b7e-892e-a2ec881c9b02",
   "metadata": {},
   "outputs": [],
   "source": [
    "display(figegg.canvas)"
   ]
  },
  {
   "cell_type": "code",
   "execution_count": null,
   "id": "7bb61690-d252-4809-80c0-5b0fea3390dd",
   "metadata": {},
   "outputs": [],
   "source": [
    "try:\n",
    "    fig2d.clear()\n",
    "    ax2d.clear()\n",
    "    ax2d.clear()\n",
    "    plt.close(fig = fig2d)\n",
    "    del fig2d, ax2d\n",
    "except Exception as e:\n",
    "    print(\"Exception: \", e)\n",
    "\n",
    "fig2d, ax2d = plt.subplots(figsize = (15, 8))\n",
    "fig2d.canvas.header_visible = False\n",
    "\n",
    "wclosedglide = np.reshape(np.diff(-closedglide[:180001]), (-1, 1000)).T\n",
    "\n",
    "ax2d.imshow((wclosedglide - wclosedglide.min(axis = 0)) / (wclosedglide.max(axis = 0) - wclosedglide.min(axis = 0)), aspect = 'auto', origin = 'lower')\n",
    "\n",
    "fig2d.colorbar(ax2d.images[0])\n",
    "\n",
    "fig2d.canvas.draw()"
   ]
  },
  {
   "cell_type": "code",
   "execution_count": null,
   "id": "9f603aef-e6cd-41dd-a961-d34f09a94306",
   "metadata": {},
   "outputs": [],
   "source": [
    "display(fig2d.canvas)"
   ]
  },
  {
   "cell_type": "code",
   "execution_count": null,
   "id": "4ab4c563-f9d3-4ef3-8eb8-c75a2499dd0a",
   "metadata": {},
   "outputs": [],
   "source": [
    "try:\n",
    "    figph.clear()\n",
    "    axph1.clear()\n",
    "    axph2.clear()\n",
    "    plt.close(fig = figph)\n",
    "    del figph, axph1, axph2\n",
    "except Exception as e:\n",
    "    print(\"Exception: \", e)\n",
    "\n",
    "figph, [axph1, axph2] = plt.subplots(nrows = 2, figsize = (15, 12), sharex = True, sharey = True)\n",
    "figph.canvas.header_visible = False\n",
    "\n",
    "axph1.plot(-openglide[:-1], np.diff(-openglide), 'b-', label = 'opened')\n",
    "axph2.plot(-closedglide[:-1], np.diff(-closedglide), 'r-', label = 'closed')\n",
    "\n",
    "axph1.grid(which = 'both')\n",
    "axph2.grid(which = 'both')\n",
    "\n",
    "axph1.legend()\n",
    "axph2.legend()\n",
    "\n",
    "figph.canvas.draw()"
   ]
  },
  {
   "cell_type": "code",
   "execution_count": null,
   "id": "0566eb60-282f-4d0e-a8ef-71195ee0d6b4",
   "metadata": {},
   "outputs": [],
   "source": [
    "display(figph.canvas)"
   ]
  },
  {
   "cell_type": "code",
   "execution_count": null,
   "id": "482990c9-08c5-47a4-8677-cc536568c7fc",
   "metadata": {},
   "outputs": [],
   "source": [
    "try:\n",
    "    fighist.clear()\n",
    "    axhist.clear()\n",
    "    plt.close(fig = fighist)\n",
    "    del fighist, axhist\n",
    "except Exception as e:\n",
    "    print(\"Exception: \", e)\n",
    "\n",
    "fighist, axhist = plt.subplots(figsize = (15, 8))\n",
    "\n",
    "axhist.hist(f0[:3500], bins = 320 // 2, range = (180, 500))\n",
    "\n",
    "axhist.grid(which = 'both')\n",
    "\n",
    "axhist.set_xlabel('pitch frequency [Hz]')\n",
    "\n",
    "fighist.canvas.draw()"
   ]
  },
  {
   "cell_type": "code",
   "execution_count": null,
   "id": "92fb4f36-1bf5-4d1b-a46c-36a471454af4",
   "metadata": {},
   "outputs": [],
   "source": [
    "display(fighist.canvas)"
   ]
  },
  {
   "cell_type": "code",
   "execution_count": null,
   "id": "7fa6b58a-929d-40ab-838f-660789f55b3e",
   "metadata": {},
   "outputs": [],
   "source": [
    "import statsmodels.api as sm"
   ]
  },
  {
   "cell_type": "code",
   "execution_count": null,
   "id": "e0178db2-dc58-4712-8fb8-11296e41c4d4",
   "metadata": {},
   "outputs": [],
   "source": [
    "egglt.time_track().shape"
   ]
  },
  {
   "cell_type": "code",
   "execution_count": null,
   "id": "eeb7eb8c-d15e-4d81-9ea8-af498fbd8f89",
   "metadata": {},
   "outputs": [],
   "source": []
  },
  {
   "cell_type": "code",
   "execution_count": null,
   "id": "954221b2-f2f2-467e-a000-ab1ab6deef16",
   "metadata": {},
   "outputs": [],
   "source": [
    "from scipy import signal"
   ]
  },
  {
   "cell_type": "code",
   "execution_count": null,
   "id": "235c95af-a6c3-43fe-a41a-a177dd536c5a",
   "metadata": {},
   "outputs": [],
   "source": [
    "sosbandpass = signal.iirfilter(N = 7, Wn = [80, 10000], btype = 'bandpass', ftype = 'butter', output = 'sos', analog = False, fs = fsanalog)\n",
    "\n",
    "w, h = signal.sosfreqz(sosbandpass, worN = 8 * 1024, fs = fsanalog)\n",
    "\n",
    "plt.close('all')\n",
    "\n",
    "plt.semilogx(w, 20 * np.log10(abs(h)))\n",
    "\n",
    "plt.title('Butterworth filter frequency response')\n",
    "plt.xlabel('Frequency [Hz]')\n",
    "plt.ylabel('Amplitude [dB]')\n",
    "\n",
    "plt.margins(0, 0.1)\n",
    "\n",
    "plt.grid(which = 'both', axis = 'both')\n",
    "\n",
    "plt.axvline(80, color = 'green') # cutoff frequency\n",
    "plt.axvline(10000, color = 'green')\n",
    "\n",
    "plt.gca().set_xlim(left = 60, right = 15000)\n",
    "\n",
    "plt.gca().set_ylim(bottom = -10, top = 3)\n"
   ]
  },
  {
   "cell_type": "code",
   "execution_count": null,
   "id": "3acb0dd0-ba97-4ba0-8904-e1735156352c",
   "metadata": {},
   "outputs": [],
   "source": [
    "display(plt.gcf().canvas)"
   ]
  },
  {
   "cell_type": "code",
   "execution_count": null,
   "id": "5632fb06-85dc-4d64-9f64-e1e1e4f15995",
   "metadata": {},
   "outputs": [],
   "source": [
    "sosbandpass = signal.iirfilter(N = 7, Wn = [80, 10000], btype = 'bandpass', ftype = 'butter', output = 'sos', analog = False, fs = fsanalog)\n",
    "\n",
    "bandpass_egga = signal.sosfiltfilt(sosbandpass, egga)\n",
    "\n",
    "bandpass_egga = bandpass_egga[:3204037]\n",
    "\n",
    "bandpass_egga /= np.abs(bandpass_egga).max()"
   ]
  },
  {
   "cell_type": "code",
   "execution_count": null,
   "id": "8c991891-6363-4885-bf6d-86f19cc134e0",
   "metadata": {},
   "outputs": [],
   "source": [
    "fmax = 600\n",
    "\n",
    "Tmin = 1 / fmax\n",
    "\n",
    "p, _ = signal.find_peaks(bandpass_egga, distance = int(Tmin * fsanalog))\n",
    "\n",
    "f0p_index = p[:-1]\n",
    "\n",
    "f0p = 1 / (egga.time_track()[p[1:]] - egga.time_track()[p[:-1]])"
   ]
  },
  {
   "cell_type": "code",
   "execution_count": null,
   "id": "574ea467-e6cf-418f-aec2-b796299efdeb",
   "metadata": {},
   "outputs": [],
   "source": [
    "peakloc, _ = find_peaks_fast(bandpass_egga, neighbors = int(Tmin * fsanalog))\n",
    "\n",
    "f0peaks_index = peakloc[:-1]\n",
    "\n",
    "f0peaks = 1 / (egga.time_track()[peakloc[1:]] - egga.time_track()[peakloc[:-1]])"
   ]
  },
  {
   "cell_type": "code",
   "execution_count": null,
   "id": "5f227fcd-1c8a-4e72-9f96-1bb57efa8b7e",
   "metadata": {},
   "outputs": [],
   "source": [
    "bandpassaudio = Audio(bandpass_egga, rate = fsanalog)"
   ]
  },
  {
   "cell_type": "code",
   "execution_count": null,
   "id": "80ee47cd-ea9d-4373-be7d-217ab31858f3",
   "metadata": {},
   "outputs": [],
   "source": [
    "audio"
   ]
  },
  {
   "cell_type": "code",
   "execution_count": null,
   "id": "f1b87192-3392-406e-a16d-38c56898d88f",
   "metadata": {},
   "outputs": [],
   "source": [
    "bandpassaudio"
   ]
  },
  {
   "cell_type": "code",
   "execution_count": null,
   "id": "d09df348-d104-49ad-95ca-1fb9f8bdce96",
   "metadata": {},
   "outputs": [],
   "source": []
  },
  {
   "cell_type": "code",
   "execution_count": null,
   "id": "0f1de26a-d0ef-4b22-bec9-ea9e54d80139",
   "metadata": {},
   "outputs": [],
   "source": [
    "gc.collect()"
   ]
  },
  {
   "cell_type": "code",
   "execution_count": null,
   "id": "4ea8041f-63f4-40df-830d-d1c7fe73442b",
   "metadata": {},
   "outputs": [],
   "source": [
    "lowess_egga, _ = soundfile.read(tdmsfilename.replace('.tdms', '-LOWESS_EGG_A.wav'))\n",
    "\n",
    "lowess_egga = lowess_egga[:3204037]\n",
    "\n",
    "lowess_egga /= np.abs(lowess_egga).max()"
   ]
  },
  {
   "cell_type": "code",
   "execution_count": null,
   "id": "b5129573-1fa5-4c17-9be1-d1c232523b7f",
   "metadata": {},
   "outputs": [],
   "source": [
    "sosbandpass = signal.iirfilter(N = 7, Wn = [80, 10000], btype = 'bandpass', ftype = 'butter', output = 'sos', analog = False, fs = fsanalog)\n",
    "\n",
    "bandpasslowess_egga = signal.sosfiltfilt(sosbandpass, lowess_egga)\n",
    "\n",
    "bandpasslowess_egga /= np.abs(bandpasslowess_egga).max()"
   ]
  },
  {
   "cell_type": "code",
   "execution_count": null,
   "id": "57000688-dd7f-4ef2-a15e-63d4501571ba",
   "metadata": {},
   "outputs": [],
   "source": []
  },
  {
   "cell_type": "code",
   "execution_count": 1,
   "id": "551f80ae-ab97-48de-814f-51eb72ec9aa5",
   "metadata": {},
   "outputs": [
    {
     "ename": "NameError",
     "evalue": "name 'librosa' is not defined",
     "output_type": "error",
     "traceback": [
      "\u001b[1;31m---------------------------------------------------------------------------\u001b[0m",
      "\u001b[1;31mNameError\u001b[0m                                 Traceback (most recent call last)",
      "Cell \u001b[1;32mIn[1], line 1\u001b[0m\n\u001b[1;32m----> 1\u001b[0m f0, voicedflag, voicedprobs \u001b[38;5;241m=\u001b[39m \u001b[43mlibrosa\u001b[49m\u001b[38;5;241m.\u001b[39mpyin(bandpasslowess_egga, fmin \u001b[38;5;241m=\u001b[39m \u001b[38;5;241m100\u001b[39m, fmax \u001b[38;5;241m=\u001b[39m \u001b[38;5;241m600\u001b[39m, sr \u001b[38;5;241m=\u001b[39m fsanalog, hop_length \u001b[38;5;241m=\u001b[39m \u001b[38;5;241m2048\u001b[39m \u001b[38;5;241m/\u001b[39m\u001b[38;5;241m/\u001b[39m \u001b[38;5;241m16\u001b[39m, frame_length \u001b[38;5;241m=\u001b[39m \u001b[38;5;241m2048\u001b[39m, resolution \u001b[38;5;241m=\u001b[39m \u001b[38;5;241m0.1\u001b[39m, )\n",
      "\u001b[1;31mNameError\u001b[0m: name 'librosa' is not defined"
     ]
    }
   ],
   "source": [
    "f0, voicedflag, voicedprobs = librosa.pyin(bandpasslowess_egga, fmin = 100, fmax = 600, sr = fsanalog, hop_length = 2048 // 16, frame_length = 2048, resolution = 0.1, )"
   ]
  },
  {
   "cell_type": "code",
   "execution_count": null,
   "id": "16ee447b-eb5b-4ad8-a1fe-b23b11b2114c",
   "metadata": {},
   "outputs": [],
   "source": []
  },
  {
   "cell_type": "code",
   "execution_count": null,
   "id": "5e402363-9949-4412-a088-20e9488e6c57",
   "metadata": {},
   "outputs": [],
   "source": [
    "plt.close('all')\n",
    "\n",
    "gc.collect()\n",
    "\n",
    "# plt.plot(egga.time_track() * 1000, egga.data / np.abs(egga.data).max(), label = 'raw EGG_A', zorder = 100)\n",
    "\n",
    "# plt.plot(bandpass_egga, label = 'bandpass filtered')\n",
    "\n",
    "plt.plot(bandpasslowess_egga - bandpass_egga, label = 'lowess')\n",
    "\n",
    "# plt.plot(egga.time_track() * 1000, bandpass_egga / np.abs(bandpass_egga).max(), label = 'bandpass EGG_A')\n",
    "\n",
    "# plt.plot(egga.time_track() * 1000, bandpasslowess_egga / np.abs(bandpasslowess_egga).max(), label = 'bandpass lowess')\n",
    "\n",
    "# plt.plot(egga.time_track()[p] * 1000, bandpass_egga[p] / np.abs(bandpass_egga).max(), 'r.', label = 'signal.find_peaks')\n",
    "\n",
    "# plt.plot(egga.time_track()[peakloc] * 1000, bandpass_egga[peakloc] / np.abs(bandpass_egga).max(), 'ko', mfc = 'None', label = 'find_peaks_fast')\n",
    "\n",
    "plt.legend()\n",
    "\n",
    "plt.gcf().set_size_inches((15, 8))\n",
    "\n",
    "plt.gcf().canvas.header_visible = False"
   ]
  },
  {
   "cell_type": "code",
   "execution_count": null,
   "id": "4f983b25-caae-4e70-8509-23843c241aec",
   "metadata": {},
   "outputs": [],
   "source": [
    "display(plt.gcf().canvas)"
   ]
  },
  {
   "cell_type": "code",
   "execution_count": null,
   "id": "2e024f77-54d2-427c-b4cd-744c786188a3",
   "metadata": {},
   "outputs": [],
   "source": [
    "plt.gca().get_xlim()"
   ]
  },
  {
   "cell_type": "code",
   "execution_count": null,
   "id": "c2e617b4-791c-437e-acac-4c6ff531c552",
   "metadata": {},
   "outputs": [],
   "source": [
    "# communicate with a running Audacity application\n",
    "\n",
    "TONAME = '\\\\\\\\.\\\\pipe\\\\ToSrvPipe'\n",
    "FROMNAME = '\\\\\\\\.\\\\pipe\\\\FromSrvPipe'\n",
    "EOL = '\\r\\n\\0'\n",
    "\n",
    "try:\n",
    "    TOFILE.close()\n",
    "    del TOFILE\n",
    "except:\n",
    "    pass\n",
    "\n",
    "try:\n",
    "    FROMFILE.close()\n",
    "    del FROMFILE\n",
    "except:\n",
    "    pass\n",
    "\n",
    "print(\"Write to  \\\"\" + TONAME + \"\\\"\", end = '')\n",
    "if not os.path.exists(TONAME):\n",
    "    print(\" ... does not exist.  Ensure Audacity is running with mod-script-pipe.\")\n",
    "else:\n",
    "    print()\n",
    "\n",
    "print(\"Read from \\\"\" + FROMNAME +\"\\\"\", end = '')\n",
    "if not os.path.exists(FROMNAME):\n",
    "    print(\" ... does not exist.  Ensure Audacity is running with mod-script-pipe.\")\n",
    "else:\n",
    "    print()\n",
    "\n",
    "try:\n",
    "    assert TOFILE\n",
    "except:\n",
    "    TOFILE = open(TONAME, 'w')\n",
    "    print(\"-- Pipe to write to has been opened\")\n",
    "try:\n",
    "    assert FROMFILE\n",
    "except:\n",
    "    FROMFILE = open(FROMNAME, 'rt')\n",
    "    print(\"-- Pipe to read from has been opened\")\n",
    "\n",
    "def send_command(command, debug = False):\n",
    "    \"\"\"Send command.\"\"\"\n",
    "    if debug:\n",
    "        print(\"Send: \" + command)\n",
    "    TOFILE.write(command + EOL)\n",
    "    TOFILE.flush()\n",
    "\n",
    "def get_response():\n",
    "    \"\"\"Return the command response.\"\"\"\n",
    "    result = ''\n",
    "    line = ''\n",
    "    while True:\n",
    "        result += line\n",
    "        line = FROMFILE.readline()\n",
    "        if line == '\\n' and len(result) > 0:\n",
    "            break\n",
    "    return result\n",
    "\n",
    "def audacity(command, debug = False):\n",
    "    \"\"\"Send one command, and return the response.\"\"\"\n",
    "    send_command(command)\n",
    "    response = get_response()\n",
    "    if debug:\n",
    "        print(\"Rcvd: \" + response)\n",
    "    return response"
   ]
  },
  {
   "cell_type": "code",
   "execution_count": null,
   "id": "debf87a9-87f5-4507-9910-6b82ab7761e3",
   "metadata": {},
   "outputs": [],
   "source": [
    "audacity('NewMonoTrack')\n",
    "audacity('SetTrack: Name=\"pitch\"')\n",
    "audacity('SetTrackStatus: Name=\"pitch\" Selected=1 Focused=1')"
   ]
  },
  {
   "cell_type": "code",
   "execution_count": null,
   "id": "dbbe8dfd-030c-4092-892b-40ce8cc64a87",
   "metadata": {},
   "outputs": [],
   "source": [
    "trackinfo = audacity('GetInfo: Type=Tracks Format=JSON')\n",
    "trackinfo"
   ]
  },
  {
   "cell_type": "code",
   "execution_count": null,
   "id": "24955ae3-6495-4f87-a1ad-9889c31632be",
   "metadata": {},
   "outputs": [],
   "source": [
    "exec(\"dict = \" + trackinfo.splitlines()[2])"
   ]
  },
  {
   "cell_type": "code",
   "execution_count": null,
   "id": "376c0909-5a90-4f8d-aff7-f3c9a87c25a8",
   "metadata": {},
   "outputs": [],
   "source": [
    "dict[0]"
   ]
  },
  {
   "cell_type": "code",
   "execution_count": null,
   "id": "88fa473f-d90d-4589-9da6-a6ac8c93ae94",
   "metadata": {},
   "outputs": [],
   "source": [
    "f0steps = 5\n",
    "\n",
    "for ind in range(600, 800, f0steps):\n",
    "\n",
    "    audacity('Select: Track=3 Start=%f End=%f RelativeTo=ProjectStart' % (peakloc[ind] / fsanalog, peakloc[ind+f0steps] / fsanalog))\n",
    "\n",
    "    audacity('Chirp: StartFreq=%f EndFreq=%f StartAmp=0.9 EndAmp=0.9' % (f0peaks[ind], f0peaks[ind+f0steps]))"
   ]
  },
  {
   "cell_type": "code",
   "execution_count": null,
   "id": "cd5bf9ab-8d40-458d-9d63-15bce1eb811e",
   "metadata": {},
   "outputs": [],
   "source": [
    "bandpassfilename = tdmsfilename.replace('.tdms', '-bandpass_EGG_A.wav')\n",
    "\n",
    "soundfile.write(bandpassfilename, bandpass_egga / np.abs(bandpass_egga).max(), fsanalog)"
   ]
  },
  {
   "cell_type": "code",
   "execution_count": null,
   "id": "16c8f172-d157-49ee-8ede-0d4d1c68ea48",
   "metadata": {},
   "outputs": [],
   "source": [
    "eggafilename = tdmsfilename.replace('.tdms', '-EGG_A.wav')\n",
    "\n",
    "audacity('Import2: Filename=%s' % os.path.abspath(eggafilename))\n",
    "audacity('FitInWindow')\n",
    "audacity('SetTrack: Name=\"EGG_A\"')"
   ]
  },
  {
   "cell_type": "code",
   "execution_count": null,
   "id": "ac22ff71-7ba5-4321-864c-9a4a57b3b302",
   "metadata": {},
   "outputs": [],
   "source": [
    "audacity('Import2: Filename=%s' % os.path.abspath(bandpassfilename))\n",
    "audacity('FitInWindow')\n",
    "audacity('SetTrack: Name=\"bandpass_EGG_A\"')"
   ]
  },
  {
   "cell_type": "code",
   "execution_count": null,
   "id": "66c874ba-3a2e-4236-be3f-d580cd82874f",
   "metadata": {},
   "outputs": [],
   "source": [
    "lowess_eggafilename = tdmsfilename.replace('.tdms', '-LOWESS_EGG_A.wav')\n",
    "\n",
    "audacity('Import2: Filename=%s' % os.path.abspath(lowess_eggafilename))\n",
    "audacity('FitInWindow')\n",
    "audacity('SetTrack: Name=\"lowess_EGG_A\"')"
   ]
  },
  {
   "cell_type": "code",
   "execution_count": null,
   "id": "a210e22d-a046-4ef4-b3b9-59bf7fa8b404",
   "metadata": {},
   "outputs": [],
   "source": [
    "audacity('Select: Track=1')\n",
    "audacity('SetTrack: Selected=1 Focused=1')\n",
    "\n",
    "# audacity('Normalize: PeakLevel=0')"
   ]
  },
  {
   "cell_type": "code",
   "execution_count": null,
   "id": "b8eebd65-4b2d-4b9e-a5d9-b1101a5dcdb4",
   "metadata": {},
   "outputs": [],
   "source": [
    "diffsignal = bandpasslowess_egga\n",
    "\n",
    "diffsignal /= np.abs(diffsignal).max()\n",
    "\n",
    "soundfile.write('diffsignal.wav', diffsignal, fsanalog)"
   ]
  },
  {
   "cell_type": "code",
   "execution_count": null,
   "id": "c04f97d8-8d5b-4bd6-aae8-02b328c6d7c6",
   "metadata": {},
   "outputs": [],
   "source": [
    "audacity('Import2: Filename=%s' % os.path.abspath('diffsignal.wav'))\n",
    "audacity('FitInWindow')\n",
    "audacity('SetTrack: Name=\"diff\"')"
   ]
  },
  {
   "cell_type": "code",
   "execution_count": null,
   "id": "a363b951-0a56-43ec-8ec6-011f216268c8",
   "metadata": {},
   "outputs": [],
   "source": [
    "dt = 1 / fsanalog\n",
    "dt"
   ]
  },
  {
   "cell_type": "code",
   "execution_count": null,
   "id": "c4d38008-1919-4fc0-a1a7-b6257274387b",
   "metadata": {},
   "outputs": [],
   "source": [
    "frac = 5 * 10000 / len(egglt.data)\n",
    "print(frac)\n",
    "\n",
    "smoothLT = sm.nonparametric.lowess(exog = egglt.time_track(), endog = egglt.data, frac = frac, is_sorted = True, delta = 5e-3, it = 1)"
   ]
  },
  {
   "cell_type": "code",
   "execution_count": null,
   "id": "d4bfc40d-5759-4f78-815f-2f328a6ccd7e",
   "metadata": {},
   "outputs": [],
   "source": [
    "channel = 'LOWESS_EGG_LT'\n",
    "\n",
    "wavfilename = tdmsfilename.replace('.tdms', '-%s.wav' %channel)\n",
    "\n",
    "print(wavfilename)"
   ]
  },
  {
   "cell_type": "code",
   "execution_count": null,
   "id": "155c1faa-25b1-41bc-accf-6d53f1770a81",
   "metadata": {},
   "outputs": [],
   "source": [
    "soundfile.write(wavfilename, egglt.data - smoothLT[:, 1], fsanalog)"
   ]
  },
  {
   "cell_type": "code",
   "execution_count": null,
   "id": "07817763-891e-4309-bfc9-c162835f6bd6",
   "metadata": {},
   "outputs": [],
   "source": [
    "frac = 1000 / len(egga.data)\n",
    "print(frac)\n",
    "\n",
    "smootha = sm.nonparametric.lowess(exog = egga.time_track(), endog = egga.data, frac = frac, is_sorted = True, delta = 1e-3, it = 1)"
   ]
  },
  {
   "cell_type": "code",
   "execution_count": null,
   "id": "8d51c100-8014-4602-8597-9a6a48acd96b",
   "metadata": {},
   "outputs": [],
   "source": [
    "channel = 'LOWESS_EGG_A'\n",
    "\n",
    "wavfilename = tdmsfilename.replace('.tdms', '-%s.wav' %channel)\n",
    "\n",
    "print(wavfilename)"
   ]
  },
  {
   "cell_type": "code",
   "execution_count": null,
   "id": "486f686e-5e71-4109-9524-0a8d19fc6e95",
   "metadata": {},
   "outputs": [],
   "source": [
    "soundfile.write(wavfilename, egga.data - smootha[:, 1], fsanalog)"
   ]
  },
  {
   "cell_type": "code",
   "execution_count": null,
   "id": "af71ac5f-0da4-48c5-aae4-4fa68f7a5ba5",
   "metadata": {},
   "outputs": [],
   "source": [
    "frac = 1000 / len(eggb.data)\n",
    "print(frac)\n",
    "\n",
    "smoothb = sm.nonparametric.lowess(exog = eggb.time_track(), endog = eggb.data, frac = frac, is_sorted = True, delta = 1e-3, it = 1)"
   ]
  },
  {
   "cell_type": "code",
   "execution_count": null,
   "id": "e0020f77-1a70-4c21-b906-68105df902d9",
   "metadata": {},
   "outputs": [],
   "source": [
    "channel = 'LOWESS_EGG_B'\n",
    "\n",
    "wavfilename = tdmsfilename.replace('.tdms', '-%s.wav' %channel)\n",
    "\n",
    "print(wavfilename)"
   ]
  },
  {
   "cell_type": "code",
   "execution_count": null,
   "id": "a693b281-d255-4cfb-8597-8c88b20a9043",
   "metadata": {},
   "outputs": [],
   "source": [
    "soundfile.write(wavfilename, eggb.data - smoothb[:, 1], fsanalog)"
   ]
  },
  {
   "cell_type": "code",
   "execution_count": null,
   "id": "c3155b77-cfd1-491a-9e84-5da8e25c4eaa",
   "metadata": {},
   "outputs": [],
   "source": [
    "gc.collect()"
   ]
  },
  {
   "cell_type": "code",
   "execution_count": null,
   "id": "44578f75-055c-4eb6-bd1e-bbf35d9a7a56",
   "metadata": {},
   "outputs": [],
   "source": []
  },
  {
   "cell_type": "code",
   "execution_count": null,
   "id": "eff1f22d-0d0f-41e7-aabb-8ce841034b53",
   "metadata": {},
   "outputs": [],
   "source": []
  },
  {
   "cell_type": "code",
   "execution_count": null,
   "id": "ca4c1b69-2b82-4b5e-ac53-9526d2c9d3b6",
   "metadata": {
    "editable": true,
    "slideshow": {
     "slide_type": ""
    },
    "tags": []
   },
   "outputs": [],
   "source": [
    "cd \"C:\\Users\\m142519\\Desktop\\JN_SOVTE\\JN_Experiment01_Cross\\HSV_20230818_133111\""
   ]
  },
  {
   "cell_type": "code",
   "execution_count": null,
   "id": "e69453b5-8bd6-455f-9f8d-5d865f567483",
   "metadata": {},
   "outputs": [],
   "source": [
    "ls"
   ]
  },
  {
   "cell_type": "code",
   "execution_count": null,
   "id": "e845f7f1-592d-49c5-b02c-6b4b19e5130a",
   "metadata": {},
   "outputs": [],
   "source": [
    "camerafile = \"HSV_20230818_133111.cihx\""
   ]
  },
  {
   "cell_type": "code",
   "execution_count": null,
   "id": "e5df01f9-d874-4a9a-ab28-8d79b18c4c57",
   "metadata": {},
   "outputs": [],
   "source": [
    "cih = photron.get_cih(camerafile)"
   ]
  },
  {
   "cell_type": "code",
   "execution_count": null,
   "id": "0e28c220-3b5c-46e7-8c79-829a8d83aebf",
   "metadata": {},
   "outputs": [],
   "source": [
    "f = open(camerafile, 'rb')\n",
    "\n",
    "a = f.read()\n",
    "\n",
    "f.close()\n",
    "\n",
    "cihstart = a.find(b'<cih>')\n",
    "\n",
    "cihend = a.find(b'</cih>') + 6"
   ]
  },
  {
   "cell_type": "code",
   "execution_count": null,
   "id": "13e7515c-036b-4ffc-81b4-359e683f731b",
   "metadata": {},
   "outputs": [],
   "source": [
    "cih = xmltodict.parse(a[cihstart:cihend], dict_constructor = dict)['cih']"
   ]
  },
  {
   "cell_type": "code",
   "execution_count": null,
   "id": "72626f4e-86bd-4800-962d-ed4ce552b081",
   "metadata": {},
   "outputs": [],
   "source": [
    "fileformat = cih['imageFileInfo']['fileFormat']\n",
    "colorbit = int(cih['imageDataInfo']['colorInfo']['bit'])\n",
    "effectivebitdepth = int(cih['imageDataInfo']['effectiveBit']['depth'])\n",
    "ebs = cih['imageDataInfo']['effectiveBit']['side']\n",
    "orgtotalframe = int(cih['frameInfo']['recordedFrame'])\n",
    "totalframe = int(cih['frameInfo']['totalFrame'])"
   ]
  },
  {
   "cell_type": "code",
   "execution_count": null,
   "id": "23a9f231-f4e2-495b-9785-a9ebfdde54d7",
   "metadata": {},
   "outputs": [],
   "source": [
    "print(fileformat,\n",
    "      colorbit,\n",
    "      effectivebitdepth,\n",
    "      ebs,\n",
    "      orgtotalframe,\n",
    "      totalframe)"
   ]
  },
  {
   "cell_type": "code",
   "execution_count": null,
   "id": "cc1ef3a8-acc7-4740-9faa-d07c54c47b29",
   "metadata": {},
   "outputs": [],
   "source": [
    "rawimages = photron.load_images(''.join([os.path.splitext(camerafile)[0], '.mraw']), cih = cih)"
   ]
  },
  {
   "cell_type": "code",
   "execution_count": null,
   "id": "fc30bf07-1974-490a-bd57-116820a8115e",
   "metadata": {},
   "outputs": [],
   "source": [
    "print()\n",
    "print(\"shape: \", rawimages.shape)\n",
    "print(\"dtype: \", rawimages.dtype)\n",
    "\n",
    "print(\"rawimages: \", rawimages.__repr__())\n",
    "\n",
    "try:\n",
    "    height = cih[\"Image Height\"]\n",
    "    width = cih[\"Image Width\"]\n",
    "    Nframes = cih[\"Total Frame\"]\n",
    "    fps = cih[\"Record Rate(fps)\"]\n",
    "except:\n",
    "    height = int(cih['imageDataInfo']['resolution']['height'])\n",
    "    width = int(cih['imageDataInfo']['resolution']['width'])\n",
    "    Nframes = int(cih['frameInfo']['totalFrame'])\n",
    "    fps = int(cih['recordInfo']['recordRate'])\n",
    "\n",
    "print()\n",
    "print(\"height: \", height)\n",
    "print(\"width: \", width)\n",
    "print(\"Nframes: \", Nframes)\n",
    "print(\"fps: \", fps)"
   ]
  },
  {
   "cell_type": "code",
   "execution_count": null,
   "id": "4cfc6019-a5b8-4007-a197-6c123d135a49",
   "metadata": {},
   "outputs": [],
   "source": [
    "import pprint"
   ]
  },
  {
   "cell_type": "code",
   "execution_count": null,
   "id": "8faf2869-7bef-4651-8faf-b11658f0c4c8",
   "metadata": {
    "scrolled": true
   },
   "outputs": [],
   "source": [
    "pprint.pprint(cih)"
   ]
  },
  {
   "cell_type": "code",
   "execution_count": null,
   "id": "a9047720-d556-4b8d-b47e-31845b4c06ad",
   "metadata": {},
   "outputs": [],
   "source": [
    "import mediapy as media"
   ]
  },
  {
   "cell_type": "code",
   "execution_count": null,
   "id": "5647d3ae-5e80-473b-a564-9ecb32b6e8b7",
   "metadata": {},
   "outputs": [],
   "source": [
    "media.set_ffmpeg(\"C:\\\\Users\\\\m142519\\\\Programs\\\\ffmpeg-master-latest-win64-gpl\\\\bin\\\\ffmpeg.exe\")"
   ]
  },
  {
   "cell_type": "code",
   "execution_count": null,
   "id": "30e78793-d9c0-4d6b-864a-467f6b1f1538",
   "metadata": {},
   "outputs": [],
   "source": [
    "if \"C:/Users/m142519/Programs\" not in sys.path:\n",
    "    sys.path.append(\"C:/Users/m142519/Programs\")"
   ]
  },
  {
   "cell_type": "code",
   "execution_count": null,
   "id": "057bbdb5-71f3-48db-8e4a-28a50e169447",
   "metadata": {},
   "outputs": [],
   "source": [
    "def convertrawimage(rawimages, cih = cih, Nstart = 0, Nconvert = 1):\n",
    "    r = rawimages\n",
    "\n",
    "    try:\n",
    "        height = np.int64(cih[\"Image Height\"])\n",
    "        width = np.int64(cih[\"Image Width\"])\n",
    "        Nframes = np.int64(cih[\"Total Frame\"])\n",
    "    except:\n",
    "        height = np.int64(cih['imageDataInfo']['resolution']['height'])\n",
    "        width = np.int64(cih['imageDataInfo']['resolution']['width'])\n",
    "        Nframes = np.int64(cih['frameInfo']['totalFrame'])\n",
    "\n",
    "    if Nstart < 0:\n",
    "        Nstart = 0\n",
    "    \n",
    "    if Nstart >= Nframes:\n",
    "        Nstart = Nframes - 1\n",
    "        \n",
    "    if Nstart + Nconvert > Nframes:\n",
    "        Nconvert = Nframes - Nstart\n",
    "    \n",
    "    Na = np.int64(Nstart) * height * width // 2 * 3\n",
    "    Nb = np.int64(Nstart + Nconvert) * height * width // 2 * 3\n",
    "\n",
    "    t0 = time.perf_counter()\n",
    "    byte01 = r[Na + 0:Nb:3].astype(np.uint16)\n",
    "    t1 = time.perf_counter()\n",
    "    byte02 = r[Na + 1:Nb:3].astype(np.uint16)\n",
    "    t2 = time.perf_counter()\n",
    "    byte03 = r[Na + 2:Nb:3].astype(np.uint16)\n",
    "    t3 = time.perf_counter()\n",
    "\n",
    "    # bitside = cih['EffectiveBit Side'].lower() # 'lower'\n",
    "\n",
    "    # if bitside == 'lower':\n",
    "    uint12_01 = np.left_shift(byte01, 4)\n",
    "    t4 = time.perf_counter()\n",
    "    uint12_01 += np.right_shift(byte02, 4)\n",
    "    t5 = time.perf_counter()\n",
    "    \n",
    "    uint12_02 = byte03\n",
    "    t6 = time.perf_counter()\n",
    "    uint12_02 += np.left_shift(np.bitwise_and(byte02, 0x0F), 8)\n",
    "    t7 = time.perf_counter()\n",
    "    # else:\n",
    "    #    raise NotImplementedError()\n",
    "\n",
    "    frame = np.stack((uint12_01, uint12_02), axis = 1)\n",
    "    t8 = time.perf_counter()\n",
    "    \n",
    "    timings = [t0, t1, t2, t3, t4, t5, t6, t7, t8]\n",
    "    \n",
    "    return frame.reshape((-1, height, width)), timings"
   ]
  },
  {
   "cell_type": "code",
   "execution_count": null,
   "id": "405c28ae-76ca-40c9-a541-2d6f3d511453",
   "metadata": {},
   "outputs": [],
   "source": [
    "gc.collect()"
   ]
  },
  {
   "cell_type": "code",
   "execution_count": null,
   "id": "4813fafa-3530-413e-9375-73d11f57594a",
   "metadata": {},
   "outputs": [],
   "source": [
    "np.seterr(all = 'raise', over = 'raise', invalid = 'raise', under = 'raise')"
   ]
  },
  {
   "cell_type": "code",
   "execution_count": null,
   "id": "231c1348-10f8-4f11-80f5-1b225171da19",
   "metadata": {},
   "outputs": [],
   "source": [
    "# demonstrate some error with overflow of long_scalars, np.int32\n",
    "\n",
    "Nblock = 4000\n",
    "\n",
    "for framenum in np.arange(16000, Nframes, Nblock, dtype = np.int32):\n",
    "    Nstart = framenum\n",
    "    Nconvert = Nblock\n",
    "    Nb = np.int32(Nstart + Nconvert) * height * width // 2 * 3"
   ]
  },
  {
   "cell_type": "code",
   "execution_count": null,
   "id": "df040c5b-851b-4b01-a4a5-6e6e9852554f",
   "metadata": {},
   "outputs": [],
   "source": [
    "%%timeit Nstart = np.random.randint(0, Nframes)\n",
    "image, timings = convertrawimage(rawimages, Nstart = Nstart, Nconvert = 1)"
   ]
  },
  {
   "cell_type": "code",
   "execution_count": null,
   "id": "136d64c0-27d9-4f41-9e79-1afc9b15d8b3",
   "metadata": {},
   "outputs": [],
   "source": [
    "# %%timeit -n1 -r1\n",
    "# 1.59 s ± 0 ns per loop (mean ± std. dev. of 1 run, 1 loop each)\n",
    "\n",
    "triggertimems = 9041\n",
    "# triggertimems = 0\n",
    "\n",
    "starttimems, endtimems = [26500, 27800]\n",
    "\n",
    "starttimems, endtimems = [32500, 33700]\n",
    "\n",
    "# starttimems, endtimems = [54904, 55770]\n",
    "\n",
    "# starttimems, endtimems = [56317, 56796]\n",
    "\n",
    "Nstart = fps / 1000 * (starttimems - triggertimems)\n",
    "Nend = fps / 1000 * (endtimems - triggertimems)\n",
    "Nconvert = Nend - Nstart\n",
    "\n",
    "print(starttimems, Nstart)\n",
    "print(endtimems, Nend)\n",
    "print(Nconvert)\n",
    "\n",
    "highspeedvideo, _ = convertrawimage(rawimages, Nstart = Nstart, Nconvert = Nconvert)"
   ]
  },
  {
   "cell_type": "code",
   "execution_count": null,
   "id": "424e6122-ab52-416f-854a-5fa4d047d32b",
   "metadata": {},
   "outputs": [],
   "source": [
    "gc.collect()"
   ]
  },
  {
   "cell_type": "code",
   "execution_count": null,
   "id": "b5c03770-a230-4e55-a2fa-7191ee2d4244",
   "metadata": {},
   "outputs": [],
   "source": [
    "equalize_highspeed = exposure.equalize_adapthist(highspeedvideo, \n",
    "                                                 kernel_size = width / 10, \n",
    "                                                 clip_limit = 0.05,\n",
    "                                                 nbins = 256)"
   ]
  },
  {
   "cell_type": "code",
   "execution_count": null,
   "id": "3e24d98a-a089-499e-898c-bfaebc569c22",
   "metadata": {},
   "outputs": [],
   "source": [
    "del highspeedvideo\n",
    "gc.collect()"
   ]
  },
  {
   "cell_type": "code",
   "execution_count": null,
   "id": "022178bf-e2ae-40b6-874f-9990ea30118b",
   "metadata": {},
   "outputs": [],
   "source": [
    "o = exposure.adjust_gamma(equalize_highspeed, gamma = 1 / 2.2)"
   ]
  },
  {
   "cell_type": "code",
   "execution_count": null,
   "id": "44e9c499-e6cc-4417-baa1-f1eef12b6d48",
   "metadata": {},
   "outputs": [],
   "source": [
    "del equalize_highspeed\n",
    "gc.collect()"
   ]
  },
  {
   "cell_type": "markdown",
   "id": "5ce479bb-654a-4d57-9d9e-04481f079625",
   "metadata": {},
   "source": [
    "import tempfile\n",
    "\n",
    "tempvideofilename = os.path.join(tempfile.gettempdir(), 'tempvideo.mp4')\n",
    "\n",
    "with media.VideoWriter(tempvideofilename, (height, width), codec = 'h264', fps = 30, input_format = 'gray') as writer:\n",
    "    for image in highspeedvideo:\n",
    "        equalize_image = exposure.equalize_adapthist(image, \n",
    "                                                 kernel_size = width / 10, \n",
    "                                                 clip_limit = 0.05,\n",
    "                                                 nbins = 256)\n",
    "        writer.add_image(equalize_image)\n",
    "\n",
    "media.show_video(media.read_video(tempvideofilename))\n",
    "\n",
    "del image, writer"
   ]
  },
  {
   "cell_type": "code",
   "execution_count": null,
   "id": "aa03c287-43b6-4fde-961c-3840619c683c",
   "metadata": {},
   "outputs": [],
   "source": [
    "pwd"
   ]
  },
  {
   "cell_type": "code",
   "execution_count": null,
   "id": "c25f0153-ea63-42a9-8802-888e175e33bc",
   "metadata": {},
   "outputs": [],
   "source": [
    "media.set_show_save_dir('C:/Users/m142519/Desktop/Jupyter Notebooks')"
   ]
  },
  {
   "cell_type": "code",
   "execution_count": null,
   "id": "bb649cb2-b3e9-4ae7-9d58-b53461c0bdf5",
   "metadata": {},
   "outputs": [],
   "source": [
    "media._config.show_save_dir"
   ]
  },
  {
   "cell_type": "code",
   "execution_count": null,
   "id": "add7f3c1-8f9e-4459-bafc-f92bdf0b070f",
   "metadata": {},
   "outputs": [],
   "source": [
    "videotitle = camerafile.replace('.cihx', '.%d-%d' % (Nstart, Nstart + Nconvert))\n",
    "\n",
    "media.show_video(o, title = videotitle, codec = 'h264', fps = 10, height = 2 * height)"
   ]
  },
  {
   "cell_type": "code",
   "execution_count": null,
   "id": "2a148999-660d-4578-96b7-ffcc43fd508c",
   "metadata": {},
   "outputs": [],
   "source": [
    "media.show_video(media.read_video(os.path.join(media._config.show_save_dir, videotitle + '.mp4')))"
   ]
  },
  {
   "cell_type": "code",
   "execution_count": null,
   "id": "116e589e-96de-4118-95f1-ebc38a4b9cdd",
   "metadata": {},
   "outputs": [],
   "source": [
    "plt.close(fig = fig)\n",
    "del fig\n",
    "gc.collect()"
   ]
  },
  {
   "cell_type": "code",
   "execution_count": null,
   "id": "bf0caa39-0991-4eb6-bce8-733aa17d4702",
   "metadata": {},
   "outputs": [],
   "source": [
    "try:\n",
    "    [ax.clear() for a in ax]\n",
    "    fig.clear()\n",
    "    plt.close(fig = fig)\n",
    "    del ax\n",
    "    del fig\n",
    "except:\n",
    "    pass\n",
    "\n",
    "fig, ax = plt.subplots(ncols = 3, figsize = (17.3, 6.2), sharex = True, sharey = True)\n",
    "fig.canvas.header_visible = False\n",
    "\n",
    "plt.subplots_adjust(left = 0.05, bottom = 0.05, top = 0.95, hspace = 0.01, wspace = 0.01)\n",
    "\n",
    "im1 = ax[0].imshow((o[0, :, :]), cmap = plt.cm.gray, aspect = 'auto', interpolation = 'none')\n",
    "im1title = ax[0].set_title('framenr: %4d' % 0)\n",
    "\n",
    "im2 = ax[1].imshow(ndimage.grey_opening(o[0, :, :], size = (3, 3)), cmap = plt.cm.gray, aspect = 'auto', interpolation = 'none')\n",
    "im2title = ax[1].set_title('grey_opening')\n",
    "\n",
    "im3 = ax[2].imshow(ndimage.grey_closing(o[0, :, :], size = (3, 3)), cmap = plt.cm.gray, aspect = 'auto', interpolation = 'none')\n",
    "im3title = ax[2].set_title('grey_closing')\n",
    "\n",
    "# im4 = ax[3].imshow(ndimage.morphological_gradient(o[0, :, :], size = (3, 3)), cmap = plt.cm.gray, aspect = 'auto', interpolation = 'none')\n",
    "# im4title = ax[3].set_title('morphological_gradient')\n",
    "\n",
    "# kymoline\n",
    "xdata = []\n",
    "ydata = []\n",
    "\n",
    "# kymoline, = ax[0].plot(xdata, ydata, 'gx-', markersize = 10, linewidth = 2, zorder = 10, visible = True)\n",
    "kymolinesG = [a.plot(xdata, ydata, 'gx-', markersize = 10, linewidth = 2, zorder = 10, visible = True)[0] for a in ax]\n",
    "kymolinesB = [a.plot(xdata, ydata, 'bx-', markersize = 10, linewidth = 2, zorder = 10, visible = True)[0] for a in ax]\n",
    "\n",
    "if 0:\n",
    "    cursor1 = Cursor(ax1, horizOn = True, vertOn = True, useblit = True, color = 'red', linewidth = 1)\n",
    "    cursor2 = Cursor(ax2, horizOn = True, vertOn = True, useblit = True, color = 'red', linewidth = 1)\n",
    "    cursor3 = Cursor(ax3, horizOn = True, vertOn = True, useblit = True, color = 'red', linewidth = 1)\n",
    "\n",
    "cursor = MultiCursor(fig.canvas, (ax[0], ax[1], ax[2]), color = 'red', lw = 1, horizOn = True, vertOn = True, useblit = True)\n",
    "\n",
    "fig.canvas.draw_idle()\n",
    "\n",
    "def onclick(event):\n",
    "    if fig.canvas.widgetlock.locked():\n",
    "        return\n",
    "        \n",
    "    if event.inaxes in ax:\n",
    "        xdata.append(event.xdata)\n",
    "        ydata.append(event.ydata)\n",
    "        \n",
    "        [k.set_xdata(xdata[-4:-2]) for k in kymolinesG]\n",
    "        [k.set_ydata(ydata[-4:-2]) for k in kymolinesG]\n",
    "        [k.set_xdata(xdata[-2:]) for k in kymolinesB]\n",
    "        [k.set_ydata(ydata[-2:]) for k in kymolinesB]\n",
    "        \n",
    "    fig.canvas.draw_idle()\n",
    "\n",
    "try:\n",
    "    fig.canvas.mpl_disconnect(ka)\n",
    "except:\n",
    "    pass\n",
    "ka = fig.canvas.mpl_connect('button_press_event', onclick)\n",
    "        \n",
    "def show_frame(framenr = 0):\n",
    "    global o\n",
    "    \n",
    "    im1.set_data((o[framenr, :, :]))\n",
    "    im1title.set_text('framenr: %4d' % framenr)\n",
    "    \n",
    "    im2.set_data(ndimage.grey_opening(o[framenr, :, :], size = (3, 3)))\n",
    "    im3.set_data(ndimage.grey_closing(o[framenr, :, :], size = (3, 3)))\n",
    "    # im4.set_data((ndimage.morphological_gradient(o[framenr, :, :], size = (3, 3))))\n",
    "    \n",
    "    fig.canvas.draw_idle()\n",
    "\n",
    "framenrSlider = IntSlider(max = len(o) - 1, description = 'Frame', continuous_update = True, layout = Layout(width = '99%'))\n",
    "\n",
    "w = interactive(show_frame, \n",
    "                framenr = framenrSlider)\n",
    "\n",
    "display(fig.canvas)\n",
    "display(w)\n"
   ]
  },
  {
   "cell_type": "code",
   "execution_count": null,
   "id": "08a6b39c-8831-46c2-ac5f-9f35a8865e95",
   "metadata": {},
   "outputs": [],
   "source": [
    "fig.get_size_inches"
   ]
  },
  {
   "cell_type": "code",
   "execution_count": null,
   "id": "ac6978a4-f33f-46e7-9d02-023a88e0fad0",
   "metadata": {},
   "outputs": [],
   "source": [
    "import matplotlib.animation as animation"
   ]
  },
  {
   "cell_type": "code",
   "execution_count": null,
   "id": "b338e724-1a0f-4eb8-8660-84db297bffb5",
   "metadata": {},
   "outputs": [],
   "source": [
    "def animate(framenr):\n",
    "    if 0:\n",
    "        im.set_data(o[framenr, :, :])\n",
    "        imtitle.set_text('framenr: %4d' % framenr)\n",
    "\n",
    "        return im, imtitle\n",
    "    \n",
    "    framenrSlider.value = framenr\n",
    "    return framenrSlider,"
   ]
  },
  {
   "cell_type": "code",
   "execution_count": null,
   "id": "a0635c05-63c0-4d30-9f45-a0de8fe76b6e",
   "metadata": {},
   "outputs": [],
   "source": [
    "anim = animation.FuncAnimation(fig, animate, frames = range(1100, 1400), interval = 100, blit = True, cache_frame_data = True)"
   ]
  },
  {
   "cell_type": "code",
   "execution_count": null,
   "id": "fd02a74e-49e1-4328-8f1c-ca741ee705bb",
   "metadata": {},
   "outputs": [],
   "source": [
    "anim.pause()\n",
    "\n",
    "del anim\n",
    "gc.collect()"
   ]
  },
  {
   "cell_type": "code",
   "execution_count": null,
   "id": "a2a8a18a-3124-4177-b15c-b268b2e66565",
   "metadata": {},
   "outputs": [],
   "source": [
    "kymotopG = int(np.rint(ydata[-4]))\n",
    "kymobottomG = int(np.rint(ydata[-3]))\n",
    "\n",
    "kymolineG = kymobottomG\n",
    "\n",
    "kymoleftG = int(np.rint(xdata[-4]))\n",
    "kymorightG = int(np.rint(xdata[-3]))\n",
    "##################################################\n",
    "kymotopB = int(np.rint(ydata[-2]))\n",
    "kymobottomB = int(np.rint(ydata[-1]))\n",
    "\n",
    "kymolineB = kymobottomB\n",
    "\n",
    "kymoleftB = int(np.rint(xdata[-2]))\n",
    "kymorightB = int(np.rint(xdata[-1]))"
   ]
  },
  {
   "cell_type": "code",
   "execution_count": null,
   "id": "df277d97-4f58-4c58-b785-1db3c841e79c",
   "metadata": {},
   "outputs": [],
   "source": [
    "def getkymo(movie, kymotop, kymobottom, kymoleft, kymoright):\n",
    "    columns = np.linspace(kymoright, kymoleft, num = kymoright - kymoleft + 1).astype(int)\n",
    "    \n",
    "    rows = np.rint(np.linspace(kymobottom, kymotop, num = kymoright - kymoleft + 1)).astype(int)\n",
    "\n",
    "    kymo = movie[:, rows, columns]\n",
    "    return kymo\n",
    "\n",
    "kymo1 = getkymo(o, kymotopG, kymobottomG, kymoleftG, kymorightG)\n",
    "kymo2 = getkymo(o, kymotopB, kymobottomB, kymoleftB, kymorightB)"
   ]
  },
  {
   "cell_type": "markdown",
   "id": "4ba084e8-8756-4ef0-bf59-4108cf30c472",
   "metadata": {},
   "source": [
    "kymo1 = o[:, int(np.rint(ydata[-2])), kymoright:kymoleft:-1]\n",
    "\n",
    "kymo2 = o[:, kymoline, kymoright:kymoleft:-1]"
   ]
  },
  {
   "cell_type": "code",
   "execution_count": null,
   "id": "ba2be3fe-5bca-40ba-aa92-13d2a4e1339c",
   "metadata": {},
   "outputs": [],
   "source": [
    "kymo = np.hstack((kymo1, kymo2))\n",
    "print(kymo.shape)"
   ]
  },
  {
   "cell_type": "code",
   "execution_count": null,
   "id": "f85ca2fe-f48d-420b-a21f-c25198f33dee",
   "metadata": {},
   "outputs": [],
   "source": [
    "pwd"
   ]
  },
  {
   "cell_type": "code",
   "execution_count": null,
   "id": "ce48bcea-0af6-4372-90bd-86d9f1edf8b1",
   "metadata": {},
   "outputs": [],
   "source": [
    "[hsvaudio, hsvtrigger], fsaudio = librosa.load('../hsv.WAV', sr = None, mono = False)"
   ]
  },
  {
   "cell_type": "code",
   "execution_count": null,
   "id": "3f4d9adc-4cc8-4b4e-a939-bcaebbc04fc9",
   "metadata": {},
   "outputs": [],
   "source": [
    "starttimesamples = starttimems * fsaudio // 1000\n",
    "endtimesamples = endtimems * fsaudio // 1000\n",
    "\n",
    "audiokymo = hsvaudio[starttimesamples - fsaudio//2 * 0 : endtimesamples + fsaudio//2 * 0]"
   ]
  },
  {
   "cell_type": "code",
   "execution_count": null,
   "id": "4a2f675e-3eee-4a52-83c3-5f17c46138dd",
   "metadata": {},
   "outputs": [],
   "source": [
    "f0max = 600 # maximum peak frequency in Hz\n",
    "\n",
    "[peakloc, mad] = find_peaks_fast(audiokymo, neighbors = fsaudio // f0max)"
   ]
  },
  {
   "cell_type": "code",
   "execution_count": null,
   "id": "d52b128f-8d74-43c1-9ba4-531006eeec52",
   "metadata": {},
   "outputs": [],
   "source": [
    "plt.close(fig = figk)\n",
    "del figk\n",
    "gc.collect()"
   ]
  },
  {
   "cell_type": "code",
   "execution_count": null,
   "id": "d748f3d8-0722-46c9-9160-ee99cbe2946c",
   "metadata": {},
   "outputs": [],
   "source": [
    "try:\n",
    "    [a.clear() for a in axk]\n",
    "    axaudio.clear()\n",
    "    del axk, axaudio\n",
    "    figk.clear()\n",
    "    plt.close(fig = figk)\n",
    "    del figk\n",
    "    del cursoraudio\n",
    "except:\n",
    "    pass\n",
    "\n",
    "figk, axk = plt.subplots(nrows = 4, figsize = (16.5, 8.5), height_ratios = [1, 1, 2, 2], sharex = True, sharey = False)\n",
    "figk.canvas.header_visible = False\n",
    "plt.subplots_adjust(left = 0.05, bottom = 0.07, top = 0.95, wspace = 0.05, hspace = 0.05)\n",
    "\n",
    "# axaudio = axk.twinx()\n",
    "axaudio = axk[0]\n",
    "\n",
    "audioframetime = np.arange(0, endtimesamples - starttimesamples) / fsaudio * fps\n",
    "\n",
    "audiodelayfromglottis = 0.17 / 344 * fps # in highspeed frames\n",
    "\n",
    "audiokymotime = audioframetime + audiodelayfromglottis\n",
    "\n",
    "axaudio.plot(audiokymotime, audiokymo, 'r-', zorder = 10, alpha = 1.0)\n",
    "\n",
    "axaudio.plot(audiokymotime[peakloc], audiokymo[peakloc], 'go')\n",
    "axaudio.grid(visible = True, which = 'both')\n",
    "\n",
    "axaudio.set_ylim(bottom = audiokymo.min() * 1.1, top = audiokymo.max() * 1.1) # minimum should be negative\n",
    "\n",
    "axfrequ = axk[1]\n",
    "localfrequ = fsaudio / np.diff(peakloc)\n",
    "axfrequ.plot(audiokymotime[peakloc[1:]], localfrequ, 'bo-')\n",
    "axfrequ.set_ylim(bottom = localfrequ.min() * 0.9, top = localfrequ.max() * 1.1)\n",
    "axfrequ.grid(visible = True, which = 'both')\n",
    "\n",
    "axfrequ.set_ylabel('local frequency [Hz]')\n",
    "\n",
    "# imk = axk.imshow(ndimage.grey_opening(kymo.T, size = (3, 3)), cmap = plt.cm.gray, aspect = 'auto')\n",
    "imk1 = axk[2].imshow(ndimage.grey_opening(kymo1.T, size = (3, 3)), cmap = plt.cm.gray, aspect = 'auto')\n",
    "imk2 = axk[3].imshow(ndimage.grey_opening(kymo2.T, size = (3, 3)), cmap = plt.cm.gray, aspect = 'auto')\n",
    "\n",
    "axk[3].set_xlabel(f'time [frames wrt {fps} fps]')\n",
    "axk[3].set_ylabel('right vocal fold at top, left vocal fold at bottom')\n",
    "\n",
    "# axk.plot(coords[:, 1], coords[:, 0], color='cyan', marker='x', linestyle='None', markersize=6)\n",
    "\n",
    "# plt.sca(axk)\n",
    "# figk.sca(axk)\n",
    "\n",
    "# cursoraudio = Cursor(axaudio, horizOn = True, vertOn = True, useblit = True, color = 'green', linewidth = 1, zorder = 10)\n",
    "\n",
    "cursoraudio = MultiCursor(figk.canvas, (axk[0], axk[1], axk[2], axk[3]), useblit = True, horizOn = True, vertOn = True, color = 'red', linewidth = 1)\n",
    "\n",
    "figk.canvas.draw_idle()\n",
    "\n",
    "display(figk.canvas)"
   ]
  },
  {
   "cell_type": "markdown",
   "id": "7a0c5def-9279-4f3a-93fd-e2107e40bd7b",
   "metadata": {},
   "source": [
    "%reset array"
   ]
  },
  {
   "cell_type": "code",
   "execution_count": null,
   "id": "ee3d01d3-9e92-4566-af24-09c8b23e6298",
   "metadata": {},
   "outputs": [],
   "source": [
    "figf.clear()\n",
    "axf.clear()\n",
    "\n",
    "del figf, axf\n",
    "\n",
    "figf, axf = plt.subplots(num = 4, figsize = (16.7, 6.2))\n",
    "figf.canvas.header_visible = False\n",
    "\n",
    "axf.plot(audiokymotime[peakloc[1:]], fsaudio / np.diff(peakloc), 'ro-')\n",
    "\n",
    "# axf.plot(audiokymotime, audiokymo, 'g.-')\n",
    "\n",
    "axf.grid(visible = True, which = 'both')\n",
    "\n",
    "axf.set_xlabel(f'time [frames wrt {fps} fps]')\n",
    "axf.set_ylabel('local frequency [Hz]')\n",
    "\n",
    "figf.canvas.draw_idle()\n",
    "\n",
    "display(figf.canvas)"
   ]
  },
  {
   "cell_type": "code",
   "execution_count": null,
   "id": "65b5d51a-332a-4327-9d17-f63f636d8658",
   "metadata": {},
   "outputs": [],
   "source": [
    "from skimage import feature, filters, morphology"
   ]
  },
  {
   "cell_type": "code",
   "execution_count": null,
   "id": "c2e2d1cd-255b-4c42-aae6-1a5e36dfe043",
   "metadata": {},
   "outputs": [],
   "source": [
    "morphology.black_tophat()"
   ]
  },
  {
   "cell_type": "code",
   "execution_count": null,
   "id": "da262d11-abb2-40b2-9e32-c95a9b8859dc",
   "metadata": {},
   "outputs": [],
   "source": [
    "feature.peak_local_max()"
   ]
  },
  {
   "cell_type": "code",
   "execution_count": null,
   "id": "ffadba4e-7c14-47c2-9e23-a93e8dfc49a0",
   "metadata": {},
   "outputs": [],
   "source": [
    "coords = feature.corner_peaks(feature.corner_harris(kymo.T, sigma = 0.5), min_distance = 20)"
   ]
  },
  {
   "cell_type": "code",
   "execution_count": null,
   "id": "9b323bea-b157-418b-8214-a027c2177bfc",
   "metadata": {},
   "outputs": [],
   "source": [
    "from skimage import filters"
   ]
  },
  {
   "cell_type": "code",
   "execution_count": null,
   "id": "9f21081b-fc83-4e0d-9aad-32f63027bd05",
   "metadata": {},
   "outputs": [],
   "source": [
    "elevation_map = filters.sobel(kymo.T)"
   ]
  },
  {
   "cell_type": "code",
   "execution_count": null,
   "id": "ecf2facc-5945-4923-b60d-6bd511241339",
   "metadata": {},
   "outputs": [],
   "source": [
    "del fige, axe\n",
    "\n",
    "fige, axe = plt.subplots(num = 3, figsize = (4, 3))\n",
    "\n",
    "axe.imshow(elevation_map, cmap = plt.cm.gray, aspect = 'auto')\n",
    "\n",
    "display(fige.canvas)"
   ]
  },
  {
   "cell_type": "code",
   "execution_count": null,
   "id": "0c6129b7-82da-4043-b8b5-4167705c9508",
   "metadata": {},
   "outputs": [],
   "source": [
    "def find_peaks_fast(xin, neighbors = 1):\n",
    "    \"\"\"\n",
    "    find_peaks_fast(xin, neighbors = 1)\n",
    "    \n",
    "    neighbors: search for maxima outside of the immediate neighborhood of total size 2*neighbors\n",
    "    i.e. minimum period corresponds to neighbors * samplingrate\n",
    "    \n",
    "    return [peakloc, mad]\n",
    "    \"\"\"\n",
    "    \n",
    "    if isinstance(xin, list):\n",
    "        x = np.array(xin)\n",
    "    else:\n",
    "        x = xin\n",
    "\n",
    "    Nx = x.size\n",
    "\n",
    "    if neighbors == 0:\n",
    "        neighbors = 1\n",
    "\n",
    "    # always an odd number larger or equal to 3\n",
    "    Nsearch = 2 * neighbors + 1\n",
    "\n",
    "    if Nsearch > Nx:\n",
    "        raise ValueError(\"searchwindow Nsearch is larger than number of samples: reduce neighbors\")\n",
    "\n",
    "    # 1. find maximum\n",
    "    # 2. is maximum at center? \n",
    "    # if no, center searchwindow at maximum, \n",
    "    #         search max\n",
    "    #         test again for center\n",
    "    # if yes: move search window so that it just does not include the found maximum\n",
    "    # make sure that the search window does not go backwards and gets stuck on the first-found maximum\n",
    "\n",
    "    def MAD(samples):\n",
    "        \"\"\"\n",
    "        calculate the median absolute deviation: median(abs(x - median(x)))\n",
    "        \"\"\"\n",
    "        return np.median(np.abs(samples - np.median(samples)))\n",
    "\n",
    "    def borders(center, neighbors = neighbors):\n",
    "        left = center - neighbors\n",
    "        right = center + neighbors + 1\n",
    "        return left, right\n",
    "\n",
    "    center = neighbors\n",
    "    left, right = borders(center)\n",
    "\n",
    "    searchdata = x[left:right]\n",
    "    searchdata_zeros = np.zeros_like(searchdata)\n",
    "\n",
    "    peakloc = []\n",
    "    mad = []\n",
    "\n",
    "    # initial step to find first maximum\n",
    "    while True:\n",
    "        if left < 0:\n",
    "            if right < 0:\n",
    "                print(\"left: \", left)\n",
    "                print(\"center: \", center)\n",
    "                print(\"right: \", right)\n",
    "            searchdata = searchdata_zeros[:]\n",
    "            searchdata[-left : ] = x[0:right]\n",
    "            minx = np.min( x[0:right] )\n",
    "            searchdata[ : -left] = minx\n",
    "            del minx\n",
    "        else:\n",
    "            searchdata = x[left:right]\n",
    "\n",
    "        maxind = np.argmax(searchdata)\n",
    "        # maximum at center?\n",
    "        if maxind == neighbors:\n",
    "            # found one local maximum: stop this loop\n",
    "            peakloc.append(center)\n",
    "            mad.append(MAD(searchdata))\n",
    "            break\n",
    "        else:\n",
    "            # re-center search window and test again\n",
    "            # work in absolut sample indices, not just relative search window indices\n",
    "            center = left + maxind\n",
    "            left, right = borders(center)\n",
    "\n",
    "    # next step to find more maxima to the RIGHT of the first-found maximum\n",
    "    #\n",
    "    # move search window and repeat local search (are we doing mean-shift)\n",
    "    center = right\n",
    "    left, right = borders(center)\n",
    "\n",
    "    # to move forward: discard maximum found at border which is just next to the previously found maximum\n",
    "\n",
    "    while True:\n",
    "        if center >= Nx:\n",
    "            break\n",
    "\n",
    "        if right > Nx:\n",
    "            searchdata = searchdata_zeros[:]\n",
    "            searchdata[0 : Nx - left] = x[left:Nx]\n",
    "            minx = np.min( x[left:Nx] )\n",
    "            searchdata[Nx - left : ] = minx\n",
    "            del minx\n",
    "        else:\n",
    "            searchdata = x[left:right]\n",
    "\n",
    "        maxind = np.argmax(searchdata)\n",
    "\n",
    "        # 1. is the maximum in the center: done\n",
    "        # 2. is the maximum to the right of the center: move the center there\n",
    "        # 3. none of the above: move the entire search window over: center at previous right side\n",
    "\n",
    "        if maxind == neighbors:\n",
    "            peakloc.append(center)\n",
    "            # print \"peakloc: \", peakloc\n",
    "            mad.append(MAD(searchdata))\n",
    "\n",
    "            # done: move the search window over: center is at previous right side\n",
    "            center = right\n",
    "            left, right = borders(center)\n",
    "            continue\n",
    "        # this case is not necessary because the next case controls the behavior\n",
    "        # elif maxind == 0:\n",
    "        #     # discard border maxima: move forward by half the search window\n",
    "        #     center = right\n",
    "        #     left, right = borders(center)\n",
    "\n",
    "        if maxind > neighbors:\n",
    "            # re-center search window and test again\n",
    "            center = left + maxind\n",
    "            left, right = borders(center)\n",
    "        else:\n",
    "            # maxind < neighbors: no candidates for maxima here, move on\n",
    "            center += 1\n",
    "            left, right = borders(center)\n",
    "\n",
    "    return [peakloc, mad]"
   ]
  },
  {
   "cell_type": "code",
   "execution_count": null,
   "id": "d6d3b476-2acf-4a30-9540-dd8c56365ea0",
   "metadata": {},
   "outputs": [],
   "source": [
    "def find_peaks(xin, neighbors):\n",
    "    \"\"\"\n",
    "    find_peaks(xin, neighbors)\n",
    "    \"\"\"\n",
    "    # peaks = []\n",
    "\n",
    "    if isinstance(xin, list):\n",
    "        x = np.array(xin)\n",
    "    else:\n",
    "        x = xin\n",
    "\n",
    "    nxin = x.size\n",
    "\n",
    "    # can we know this better based on the max frequency to be detected???\n",
    "    Ntmp = 10000\n",
    "\n",
    "    tmp = np.zeros(Ntmp, dtype = np.int64)\n",
    "    pcount = 0\n",
    "\n",
    "    assert 2 * neighbors + 1 <= nxin\n",
    "\n",
    "    if nxin == 1:\n",
    "        # peaks.append(0)\n",
    "        tmp[pcount] = 0\n",
    "        peaks = tmp[pcount]\n",
    "        return peaks\n",
    "    elif nxin == 2:\n",
    "        if x[0] > x[1]:\n",
    "            # peaks.append(0)\n",
    "            tmp[pcount] = 0\n",
    "        else:\n",
    "            # peaks.append(1)\n",
    "            tmp[pcount] = 1\n",
    "        \n",
    "        peaks = tmp[pcount]\n",
    "        return peaks\n",
    "\n",
    "    # pad at the ends of the time series\n",
    "    minx = x.min()\n",
    "\n",
    "    padstart = minx * np.ones(neighbors)\n",
    "    x = np.append(padstart, x)\n",
    "    \n",
    "    padend = minx * np.ones(neighbors - 1)\n",
    "    x = np.append(x, padend)\n",
    "    \n",
    "    nx = x.size\n",
    "\n",
    "    # see mplab.py and the indexing in the spectral_helper function for\n",
    "    # the sliced time series for the spectrogram\n",
    "    Nwindow = 2 * neighbors + 1\n",
    "    step = 1\n",
    "    ind = np.arange(0, nx - Nwindow + 1, step)\n",
    "    n = ind.size\n",
    "    \n",
    "    # check whether the central point is the maximum\n",
    "    for i in np.arange(n):\n",
    "        xsel = x[ind[i]: ind[i] + Nwindow]\n",
    "        \n",
    "        # don't need to check in Nwindow after a local maximum was found\n",
    "        # not implemented yet!\n",
    "        delta_i = xsel.argmax()\n",
    "\n",
    "        if xsel.argmax() == neighbors:\n",
    "            tmp[pcount] = ind[i] + neighbors\n",
    "            pcount += 1\n",
    "            delta_i = 1\n",
    "\n",
    "        new_i = ind[i] + delta_i\n",
    "\n",
    "        # enlarge the array that holds the extrema location\n",
    "        if pcount == tmp.size:\n",
    "            tmp = np.resize(tmp, (pcount + Ntmp,))\n",
    "            tmp[pcount:] = 0\n",
    "\n",
    "    # subtract the amount of padded data points at the start\n",
    "    peaks = tmp[:pcount] - neighbors\n",
    "    \n",
    "    if peaks[-1] == (nxin - 1):\n",
    "        peaks = np.delete(peaks, -1)\n",
    "        \n",
    "    if peaks[0] == 0:\n",
    "        peaks = np.delete(peaks, 0)\n",
    "\n",
    "    # print \"peaks[-1] = \", peaks[-1]\n",
    "    # print \"nxin = \", nxin\n",
    "    \n",
    "    return peaks\n",
    "\n",
    "#######################################\n",
    "\n",
    "if __name__ == '__main__':\n",
    "    Nperiods = 20\n",
    "    period = 3\n",
    "\n",
    "    x = np.arange(Nperiods * period) % period\n",
    "\n",
    "    peaks, _ = find_peaks_fast(x, period - 1)\n",
    "\n",
    "    assert len(peaks) == Nperiods\n",
    "    pass\n",
    "\n",
    "# %timeit find_peaks(x, 2)\n",
    "# 1000 loops, best of 3: 233 us per loop\n",
    "\n",
    "# %timeit find_peaks_fast(x, 2)\n",
    "# 10000 loops, best of 3: 38.1 us per loop"
   ]
  },
  {
   "cell_type": "code",
   "execution_count": null,
   "id": "3359c338-2857-4cd3-9b7e-5f8c48111e39",
   "metadata": {},
   "outputs": [],
   "source": []
  }
 ],
 "metadata": {
  "kernelspec": {
   "display_name": "Python 3 (ipykernel)",
   "language": "python",
   "name": "python3"
  },
  "language_info": {
   "codemirror_mode": {
    "name": "ipython",
    "version": 3
   },
   "file_extension": ".py",
   "mimetype": "text/x-python",
   "name": "python",
   "nbconvert_exporter": "python",
   "pygments_lexer": "ipython3",
   "version": "3.11.6"
  }
 },
 "nbformat": 4,
 "nbformat_minor": 5
}
